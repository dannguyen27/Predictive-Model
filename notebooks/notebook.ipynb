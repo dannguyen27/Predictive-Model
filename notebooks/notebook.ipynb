{
 "cells": [
  {
   "cell_type": "code",
   "execution_count": 237,
   "metadata": {},
   "outputs": [],
   "source": [
    "import pandas as pd\n",
    "import numpy as np\n",
    "from sklearn.model_selection import train_test_split\n",
    "from sklearn.linear_model import LinearRegression\n",
    "from sklearn.metrics import mean_squared_error, r2_score\n",
    "import seaborn as sns\n",
    "import matplotlib.pyplot as plt\n",
    "from sklearn.ensemble import RandomForestRegressor\n",
    "from sklearn.inspection import PartialDependenceDisplay\n",
    "\n",
    "\n",
    "\n"
   ]
  },
  {
   "cell_type": "code",
   "execution_count": 238,
   "metadata": {},
   "outputs": [],
   "source": [
    "#importing data\n",
    "housing_data = pd.read_csv('../data/price_index.csv')\n",
    "interest_rate_data = pd.read_csv('../data/canadian_interest_rates.csv')\n",
    "income_data = pd.read_csv('../data/income_data.csv')\n",
    "population_data = pd.read_csv('../data/calgary_population.csv')\n",
    "median_house_price_data = pd.read_csv('../data/median_assessed_value.csv')\n"
   ]
  },
  {
   "cell_type": "code",
   "execution_count": 239,
   "metadata": {},
   "outputs": [
    {
     "name": "stdout",
     "output_type": "stream",
     "text": [
      "  REF_DATE              GEO           DGUID New housing price indexes  \\\n",
      "0  1981-01           Canada  2016A000011124    Total (house and land)   \n",
      "1  1981-01           Canada  2016A000011124                House only   \n",
      "2  1981-01           Canada  2016A000011124                 Land only   \n",
      "3  1981-01  Atlantic Region      2016A00011    Total (house and land)   \n",
      "4  1981-01  Atlantic Region      2016A00011                House only   \n",
      "\n",
      "                 UOM  UOM_ID SCALAR_FACTOR  SCALAR_ID      VECTOR  COORDINATE  \\\n",
      "0  Index, 201612=100     347         units          0  v111955442         1.1   \n",
      "1  Index, 201612=100     347         units          0  v111955443         1.2   \n",
      "2  Index, 201612=100     347         units          0  v111955444         1.3   \n",
      "3  Index, 201612=100     347         units          0  v111955445         2.1   \n",
      "4  Index, 201612=100     347         units          0  v111955446         2.2   \n",
      "\n",
      "   VALUE STATUS  SYMBOL  TERMINATED  DECIMALS  \n",
      "0   38.2    NaN     NaN         NaN         1  \n",
      "1   36.1    NaN     NaN         NaN         1  \n",
      "2   40.6      E     NaN         NaN         1  \n",
      "3    NaN     ..     NaN         NaN         1  \n",
      "4    NaN     ..     NaN         NaN         1  \n",
      "     REF_DATE     GEO           DGUID      Rates      UOM  UOM_ID  \\\n",
      "0  1981-01-07  Canada  2016A000011124  Bank rate  Percent     239   \n",
      "1  1981-01-14  Canada  2016A000011124  Bank rate  Percent     239   \n",
      "2  1981-01-21  Canada  2016A000011124  Bank rate  Percent     239   \n",
      "3  1981-01-28  Canada  2016A000011124  Bank rate  Percent     239   \n",
      "4  1981-02-04  Canada  2016A000011124  Bank rate  Percent     239   \n",
      "\n",
      "  SCALAR_FACTOR  SCALAR_ID     VECTOR  COORDINATE  VALUE  STATUS  SYMBOL  \\\n",
      "0         units          0  v80691310         1.2  17.26     NaN     NaN   \n",
      "1         units          0  v80691310         1.2  17.00     NaN     NaN   \n",
      "2         units          0  v80691310         1.2  16.97     NaN     NaN   \n",
      "3         units          0  v80691310         1.2  17.00     NaN     NaN   \n",
      "4         units          0  v80691310         1.2  17.11     NaN     NaN   \n",
      "\n",
      "   TERMINATED  DECIMALS  \n",
      "0         NaN         2  \n",
      "1         NaN         2  \n",
      "2         NaN         2  \n",
      "3         NaN         2  \n",
      "4         NaN         2  \n",
      "   REF_DATE               GEO         DGUID          Age group         Sex  \\\n",
      "0      1981  Calgary, Alberta  2021S0503825  15 years and over  Both sexes   \n",
      "1      1982  Calgary, Alberta  2021S0503825  15 years and over  Both sexes   \n",
      "2      1983  Calgary, Alberta  2021S0503825  15 years and over  Both sexes   \n",
      "3      1984  Calgary, Alberta  2021S0503825  15 years and over  Both sexes   \n",
      "4      1985  Calgary, Alberta  2021S0503825  15 years and over  Both sexes   \n",
      "\n",
      "  Income source         Statistics     UOM  UOM_ID SCALAR_FACTOR  SCALAR_ID  \\\n",
      "0  Total income  Number of persons  Number     223     thousands          3   \n",
      "1  Total income  Number of persons  Number     223     thousands          3   \n",
      "2  Total income  Number of persons  Number     223     thousands          3   \n",
      "3  Total income  Number of persons  Number     223     thousands          3   \n",
      "4  Total income  Number of persons  Number     223     thousands          3   \n",
      "\n",
      "       VECTOR  COORDINATE  VALUE STATUS  SYMBOL  TERMINATED  DECIMALS  \n",
      "0  v107693254  19.1.1.1.1    425    NaN     NaN         NaN         0  \n",
      "1  v107693254  19.1.1.1.1    460    NaN     NaN         NaN         0  \n",
      "2  v107693254  19.1.1.1.1    442    NaN     NaN         NaN         0  \n",
      "3  v107693254  19.1.1.1.1    476    NaN     NaN         NaN         0  \n",
      "4  v107693254  19.1.1.1.1    513    NaN     NaN         NaN         0  \n",
      "         date   Population   Annual Change\n",
      "0  1950-12-31       132000             NaN\n",
      "1  1951-12-31       141000            6.82\n",
      "2  1952-12-31       151000            7.09\n",
      "3  1953-12-31       162000            7.28\n",
      "4  1954-12-31       174000            7.41\n"
     ]
    }
   ],
   "source": [
    "# Take a quick look at the data\n",
    "print(housing_data.head())\n",
    "print(interest_rate_data.head())\n",
    "print(income_data.head())\n",
    "print(population_data.head())"
   ]
  },
  {
   "cell_type": "code",
   "execution_count": 240,
   "metadata": {},
   "outputs": [
    {
     "name": "stdout",
     "output_type": "stream",
     "text": [
      "Index(['REF_DATE', 'GEO', 'DGUID', 'New housing price indexes', 'UOM',\n",
      "       'UOM_ID', 'SCALAR_FACTOR', 'SCALAR_ID', 'VECTOR', 'COORDINATE', 'VALUE',\n",
      "       'STATUS', 'SYMBOL', 'TERMINATED', 'DECIMALS'],\n",
      "      dtype='object')\n",
      "Index(['REF_DATE', 'GEO', 'DGUID', 'Rates', 'UOM', 'UOM_ID', 'SCALAR_FACTOR',\n",
      "       'SCALAR_ID', 'VECTOR', 'COORDINATE', 'VALUE', 'STATUS', 'SYMBOL',\n",
      "       'TERMINATED', 'DECIMALS'],\n",
      "      dtype='object')\n",
      "Index(['REF_DATE', 'GEO', 'DGUID', 'Age group', 'Sex', 'Income source',\n",
      "       'Statistics', 'UOM', 'UOM_ID', 'SCALAR_FACTOR', 'SCALAR_ID', 'VECTOR',\n",
      "       'COORDINATE', 'VALUE', 'STATUS', 'SYMBOL', 'TERMINATED', 'DECIMALS'],\n",
      "      dtype='object')\n",
      "Index(['date', ' Population', ' Annual Change'], dtype='object')\n"
     ]
    }
   ],
   "source": [
    "#Viewing Columns Names\n",
    "print(housing_data.columns)\n",
    "print(interest_rate_data.columns)\n",
    "print(income_data.columns)\n",
    "print(population_data.columns)"
   ]
  },
  {
   "cell_type": "code",
   "execution_count": 241,
   "metadata": {},
   "outputs": [],
   "source": [
    "#Dropping other provinces\n",
    "housing_data = housing_data[housing_data.GEO == 'Calgary, Alberta']\n",
    "#Filter for \"Total (house and land)\" category\n",
    "housing_data = housing_data[housing_data['New housing price indexes'] == 'Total (house and land)']\n",
    "\n",
    "\n",
    "#Dropping unused columns, axis=1 means dropping rows, inplace=True changes the original dataframe\n",
    "housing_data.drop(['DGUID', 'New housing price indexes', 'UOM',\n",
    "       'UOM_ID', 'SCALAR_FACTOR', 'SCALAR_ID', 'VECTOR', 'COORDINATE',\n",
    "       'STATUS', 'SYMBOL', 'TERMINATED', 'DECIMALS', 'GEO'], axis=1, inplace=True)\n",
    "\n",
    "\n",
    "interest_rate_data.drop(['DGUID', 'Rates', 'UOM', 'UOM_ID', 'SCALAR_FACTOR',\n",
    "                         'SCALAR_ID', 'VECTOR', 'COORDINATE', 'STATUS', \n",
    "                         'SYMBOL', 'TERMINATED', 'DECIMALS', 'GEO'], axis=1, inplace=True)\n",
    "\n",
    "\n",
    "\n",
    "#Filtering data by Median Income, Better than average as high earnings skew data\n",
    "income_data = income_data[income_data['Statistics'] == 'Median income (excluding zeros)']\n",
    "\n",
    "#Dropping Unused Columns\n",
    "income_data.drop(['DGUID', 'Age group', 'Sex', 'Income source',\n",
    "        'UOM', 'UOM_ID', 'SCALAR_FACTOR', 'SCALAR_ID', 'VECTOR',\n",
    "       'COORDINATE', 'STATUS', 'SYMBOL', 'TERMINATED', 'DECIMALS','Statistics', 'GEO'], axis=1, inplace=True)\n"
   ]
  },
  {
   "cell_type": "code",
   "execution_count": 242,
   "metadata": {},
   "outputs": [],
   "source": [
    "#Converting ref_date to datetime format\n",
    "housing_data.REF_DATE = pd.to_datetime(housing_data.REF_DATE)\n",
    "interest_rate_data.REF_DATE = pd.to_datetime(interest_rate_data.REF_DATE)\n",
    "population_data.date = pd.to_datetime(population_data.date)\n",
    "income_data.REF_DATE = pd.to_datetime(income_data.REF_DATE)\n",
    "\n"
   ]
  },
  {
   "cell_type": "code",
   "execution_count": 243,
   "metadata": {},
   "outputs": [],
   "source": [
    "housing_data.set_index('REF_DATE', inplace=True)\n",
    "interest_rate_data.set_index('REF_DATE', inplace=True)\n",
    "income_data.set_index('REF_DATE', inplace=True)\n",
    "population_data.set_index('date', inplace=True)"
   ]
  },
  {
   "cell_type": "code",
   "execution_count": 244,
   "metadata": {},
   "outputs": [
    {
     "data": {
      "text/plain": [
       "True"
      ]
     },
     "execution_count": 244,
     "metadata": {},
     "output_type": "execute_result"
    }
   ],
   "source": [
    "#Checking for NAN values\n",
    "housing_data.isna().values.any()\n",
    "interest_rate_data.isna().values.any()\n",
    "income_data.isna().values.any()\n",
    "population_data.isna().values.any()"
   ]
  },
  {
   "cell_type": "code",
   "execution_count": 245,
   "metadata": {},
   "outputs": [
    {
     "name": "stdout",
     "output_type": "stream",
     "text": [
      "REF_DATE\n",
      "1981-01-01    False\n",
      "1981-02-01    False\n",
      "1981-03-01    False\n",
      "1981-04-01    False\n",
      "1981-05-01     True\n",
      "              ...  \n",
      "2024-04-01    False\n",
      "2024-05-01    False\n",
      "2024-06-01    False\n",
      "2024-07-01    False\n",
      "2024-08-01    False\n",
      "Length: 524, dtype: bool\n",
      "REF_DATE\n",
      "1981-01-07    False\n",
      "1981-01-14    False\n",
      "1981-01-21    False\n",
      "1981-01-28     True\n",
      "1981-02-04    False\n",
      "              ...  \n",
      "2024-09-04     True\n",
      "2024-09-11     True\n",
      "2024-09-18     True\n",
      "2024-09-25     True\n",
      "2024-10-02     True\n",
      "Length: 2283, dtype: bool\n",
      "REF_DATE\n",
      "1970-01-01 00:00:00.000001981    False\n",
      "1970-01-01 00:00:00.000001982    False\n",
      "1970-01-01 00:00:00.000001983    False\n",
      "1970-01-01 00:00:00.000001984    False\n",
      "1970-01-01 00:00:00.000001985    False\n",
      "1970-01-01 00:00:00.000001986    False\n",
      "1970-01-01 00:00:00.000001987    False\n",
      "1970-01-01 00:00:00.000001988     True\n",
      "1970-01-01 00:00:00.000001989    False\n",
      "1970-01-01 00:00:00.000001990    False\n",
      "1970-01-01 00:00:00.000001991    False\n",
      "1970-01-01 00:00:00.000001992    False\n",
      "1970-01-01 00:00:00.000001993    False\n",
      "1970-01-01 00:00:00.000001994    False\n",
      "1970-01-01 00:00:00.000001995    False\n",
      "1970-01-01 00:00:00.000001996    False\n",
      "1970-01-01 00:00:00.000001997    False\n",
      "1970-01-01 00:00:00.000001998    False\n",
      "1970-01-01 00:00:00.000001999    False\n",
      "1970-01-01 00:00:00.000002000    False\n",
      "1970-01-01 00:00:00.000002001    False\n",
      "1970-01-01 00:00:00.000002002    False\n",
      "1970-01-01 00:00:00.000002003    False\n",
      "1970-01-01 00:00:00.000002004    False\n",
      "1970-01-01 00:00:00.000002005    False\n",
      "1970-01-01 00:00:00.000002006    False\n",
      "1970-01-01 00:00:00.000002007    False\n",
      "1970-01-01 00:00:00.000002008    False\n",
      "1970-01-01 00:00:00.000002009    False\n",
      "1970-01-01 00:00:00.000002010    False\n",
      "1970-01-01 00:00:00.000002011    False\n",
      "1970-01-01 00:00:00.000002012    False\n",
      "1970-01-01 00:00:00.000002013    False\n",
      "1970-01-01 00:00:00.000002014    False\n",
      "1970-01-01 00:00:00.000002015    False\n",
      "1970-01-01 00:00:00.000002016     True\n",
      "1970-01-01 00:00:00.000002017    False\n",
      "1970-01-01 00:00:00.000002018    False\n",
      "1970-01-01 00:00:00.000002019    False\n",
      "1970-01-01 00:00:00.000002020    False\n",
      "1970-01-01 00:00:00.000002021     True\n",
      "1970-01-01 00:00:00.000002022    False\n",
      "dtype: bool\n",
      "date\n",
      "1950-12-31    False\n",
      "1951-12-31    False\n",
      "1952-12-31    False\n",
      "1953-12-31    False\n",
      "1954-12-31    False\n",
      "              ...  \n",
      "2031-12-31    False\n",
      "2032-12-31    False\n",
      "2033-12-31    False\n",
      "2034-12-31    False\n",
      "2035-12-31    False\n",
      "Length: 86, dtype: bool\n"
     ]
    }
   ],
   "source": [
    "#Checking for dupliactes\n",
    "print(housing_data.duplicated())\n",
    "print(interest_rate_data.duplicated())\n",
    "print(income_data.duplicated())\n",
    "print(population_data.duplicated())"
   ]
  },
  {
   "cell_type": "code",
   "execution_count": 246,
   "metadata": {},
   "outputs": [
    {
     "name": "stdout",
     "output_type": "stream",
     "text": [
      "            VALUE\n",
      "REF_DATE         \n",
      "1981-01-01   25.3\n",
      "1981-02-01   25.5\n",
      "1981-03-01   25.8\n",
      "1981-04-01   26.7\n",
      "1981-05-01   26.7\n",
      "      REF_DATE   Population   Annual Change\n",
      "649 2005-01-01    1030000.0            2.59\n",
      "650 2005-02-01    1030000.0            2.59\n",
      "651 2005-03-01    1030000.0            2.59\n",
      "652 2005-04-01    1030000.0            2.59\n",
      "653 2005-05-01    1030000.0            2.59\n",
      "      REF_DATE  VALUE\n",
      "288 2005-01-01   2.75\n",
      "289 2005-02-01   2.75\n",
      "290 2005-03-01   2.75\n",
      "291 2005-04-01   2.75\n",
      "292 2005-05-01   2.75\n",
      "Empty DataFrame\n",
      "Columns: [REF_DATE, VALUE]\n",
      "Index: []\n"
     ]
    }
   ],
   "source": [
    "# View the result\n",
    "print(housing_data.head())\n",
    "print(population_monthly.head())\n",
    "print(interest_rate_monthly.head())\n",
    "print(income_monthly.head())\n"
   ]
  },
  {
   "cell_type": "code",
   "execution_count": 247,
   "metadata": {},
   "outputs": [
    {
     "name": "stdout",
     "output_type": "stream",
     "text": [
      "            median_re_assessed_value\n",
      "REF_DATE                            \n",
      "2005-01-01                    206500\n",
      "2005-02-01                    206500\n",
      "2005-03-01                    206500\n",
      "2005-04-01                    206500\n",
      "2005-05-01                    206500\n",
      "2005-06-01                    206500\n",
      "2005-07-01                    206500\n",
      "2005-08-01                    206500\n",
      "2005-09-01                    206500\n",
      "2005-10-01                    206500\n",
      "2005-11-01                    206500\n",
      "2005-12-01                    206500\n",
      "2006-01-01                    221000\n",
      "2006-02-01                    221000\n",
      "2006-03-01                    221000\n",
      "2006-04-01                    221000\n",
      "2006-05-01                    221000\n",
      "2006-06-01                    221000\n",
      "2006-07-01                    221000\n",
      "2006-08-01                    221000\n",
      "2006-09-01                    221000\n",
      "2006-10-01                    221000\n",
      "2006-11-01                    221000\n",
      "2006-12-01                    221000\n"
     ]
    }
   ],
   "source": [
    "median_house_price_data = pd.read_csv('../data/median_assessed_value.csv')\n",
    "median_house_price_data.rename(columns={'ROLL_YEAR': 'REF_DATE'}, inplace=True)\n",
    "median_house_price_data['REF_DATE'] = pd.to_datetime(median_house_price_data['REF_DATE'], format='%Y')\n",
    "median_house_price_data = median_house_price_data.set_index('REF_DATE').resample('MS').ffill()\n",
    "print(median_house_price_data.head(24))  # Shows first year of monthly data\n"
   ]
  },
  {
   "cell_type": "code",
   "execution_count": 248,
   "metadata": {},
   "outputs": [
    {
     "name": "stdout",
     "output_type": "stream",
     "text": [
      "            VALUE\n",
      "REF_DATE         \n",
      "1981-01-01   25.3\n",
      "1981-02-01   25.5\n",
      "1981-03-01   25.8\n",
      "1981-04-01   26.7\n",
      "1981-05-01   26.7\n",
      "            VALUE\n",
      "REF_DATE         \n",
      "1981-01-07  17.26\n",
      "1981-01-14  17.00\n",
      "1981-01-21  16.97\n",
      "1981-01-28  17.00\n",
      "1981-02-04  17.11\n",
      "                               VALUE\n",
      "REF_DATE                            \n",
      "1970-01-01 00:00:00.000001981  45000\n",
      "1970-01-01 00:00:00.000001982  46700\n",
      "1970-01-01 00:00:00.000001983  39100\n",
      "1970-01-01 00:00:00.000001984  37800\n",
      "1970-01-01 00:00:00.000001985  42600\n",
      "            Population  Annual Change\n",
      "date                                 \n",
      "1950-12-31      132000            NaN\n",
      "1951-12-31      141000           6.82\n",
      "1952-12-31      151000           7.09\n",
      "1953-12-31      162000           7.28\n",
      "1954-12-31      174000           7.41\n"
     ]
    }
   ],
   "source": [
    "# Take a quick look at the data\n",
    "print(housing_data.head())\n",
    "print(interest_rate_data.head())\n",
    "print(income_data.head())\n",
    "print(population_data.head())"
   ]
  },
  {
   "cell_type": "code",
   "execution_count": 249,
   "metadata": {},
   "outputs": [
    {
     "name": "stdout",
     "output_type": "stream",
     "text": [
      "Index(['VALUE'], dtype='object')\n",
      "Index(['VALUE'], dtype='object')\n",
      "Index(['VALUE'], dtype='object')\n",
      "Index([' Population', ' Annual Change'], dtype='object')\n"
     ]
    }
   ],
   "source": [
    "#Viewing Columns Names\n",
    "print(housing_data.columns)\n",
    "print(interest_rate_data.columns)\n",
    "print(income_data.columns)\n",
    "print(population_data.columns)"
   ]
  },
  {
   "cell_type": "code",
   "execution_count": 250,
   "metadata": {},
   "outputs": [
    {
     "data": {
      "text/plain": [
       "Index(['VALUE'], dtype='object')"
      ]
     },
     "execution_count": 250,
     "metadata": {},
     "output_type": "execute_result"
    }
   ],
   "source": [
    "housing_data.columns\n",
    "interest_rate_data.columns\n",
    "population_data.columns\n",
    "income_data.columns"
   ]
  },
  {
   "cell_type": "code",
   "execution_count": 251,
   "metadata": {},
   "outputs": [
    {
     "data": {
      "text/plain": [
       "True"
      ]
     },
     "execution_count": 251,
     "metadata": {},
     "output_type": "execute_result"
    }
   ],
   "source": [
    "#Checking for NAN values\n",
    "housing_data.isna().values.any()\n",
    "interest_rate_data.isna().values.any()\n",
    "income_data.isna().values.any()\n",
    "population_data.isna().values.any()"
   ]
  },
  {
   "cell_type": "code",
   "execution_count": 252,
   "metadata": {},
   "outputs": [
    {
     "name": "stdout",
     "output_type": "stream",
     "text": [
      "REF_DATE\n",
      "1981-01-01    False\n",
      "1981-02-01    False\n",
      "1981-03-01    False\n",
      "1981-04-01    False\n",
      "1981-05-01     True\n",
      "              ...  \n",
      "2024-04-01    False\n",
      "2024-05-01    False\n",
      "2024-06-01    False\n",
      "2024-07-01    False\n",
      "2024-08-01    False\n",
      "Length: 524, dtype: bool\n",
      "REF_DATE\n",
      "1981-01-07    False\n",
      "1981-01-14    False\n",
      "1981-01-21    False\n",
      "1981-01-28     True\n",
      "1981-02-04    False\n",
      "              ...  \n",
      "2024-09-04     True\n",
      "2024-09-11     True\n",
      "2024-09-18     True\n",
      "2024-09-25     True\n",
      "2024-10-02     True\n",
      "Length: 2283, dtype: bool\n",
      "REF_DATE\n",
      "1970-01-01 00:00:00.000001981    False\n",
      "1970-01-01 00:00:00.000001982    False\n",
      "1970-01-01 00:00:00.000001983    False\n",
      "1970-01-01 00:00:00.000001984    False\n",
      "1970-01-01 00:00:00.000001985    False\n",
      "1970-01-01 00:00:00.000001986    False\n",
      "1970-01-01 00:00:00.000001987    False\n",
      "1970-01-01 00:00:00.000001988     True\n",
      "1970-01-01 00:00:00.000001989    False\n",
      "1970-01-01 00:00:00.000001990    False\n",
      "1970-01-01 00:00:00.000001991    False\n",
      "1970-01-01 00:00:00.000001992    False\n",
      "1970-01-01 00:00:00.000001993    False\n",
      "1970-01-01 00:00:00.000001994    False\n",
      "1970-01-01 00:00:00.000001995    False\n",
      "1970-01-01 00:00:00.000001996    False\n",
      "1970-01-01 00:00:00.000001997    False\n",
      "1970-01-01 00:00:00.000001998    False\n",
      "1970-01-01 00:00:00.000001999    False\n",
      "1970-01-01 00:00:00.000002000    False\n",
      "1970-01-01 00:00:00.000002001    False\n",
      "1970-01-01 00:00:00.000002002    False\n",
      "1970-01-01 00:00:00.000002003    False\n",
      "1970-01-01 00:00:00.000002004    False\n",
      "1970-01-01 00:00:00.000002005    False\n",
      "1970-01-01 00:00:00.000002006    False\n",
      "1970-01-01 00:00:00.000002007    False\n",
      "1970-01-01 00:00:00.000002008    False\n",
      "1970-01-01 00:00:00.000002009    False\n",
      "1970-01-01 00:00:00.000002010    False\n",
      "1970-01-01 00:00:00.000002011    False\n",
      "1970-01-01 00:00:00.000002012    False\n",
      "1970-01-01 00:00:00.000002013    False\n",
      "1970-01-01 00:00:00.000002014    False\n",
      "1970-01-01 00:00:00.000002015    False\n",
      "1970-01-01 00:00:00.000002016     True\n",
      "1970-01-01 00:00:00.000002017    False\n",
      "1970-01-01 00:00:00.000002018    False\n",
      "1970-01-01 00:00:00.000002019    False\n",
      "1970-01-01 00:00:00.000002020    False\n",
      "1970-01-01 00:00:00.000002021     True\n",
      "1970-01-01 00:00:00.000002022    False\n",
      "dtype: bool\n",
      "date\n",
      "1950-12-31    False\n",
      "1951-12-31    False\n",
      "1952-12-31    False\n",
      "1953-12-31    False\n",
      "1954-12-31    False\n",
      "              ...  \n",
      "2031-12-31    False\n",
      "2032-12-31    False\n",
      "2033-12-31    False\n",
      "2034-12-31    False\n",
      "2035-12-31    False\n",
      "Length: 86, dtype: bool\n"
     ]
    }
   ],
   "source": [
    "#Checking for dupliactes\n",
    "print(housing_data.duplicated())\n",
    "print(interest_rate_data.duplicated())\n",
    "print(income_data.duplicated())\n",
    "print(population_data.duplicated())"
   ]
  },
  {
   "cell_type": "code",
   "execution_count": 253,
   "metadata": {},
   "outputs": [],
   "source": [
    "# Resample to monthly frequency using forward-fill to fill the year for each month, 'MS' is month start frequency\n",
    "population_monthly = population_data.resample('MS').ffill()\n",
    "interest_rate_monthly = interest_rate_data.resample('MS').mean()\n",
    "income_monthly = income_data.resample('MS').ffill()  \n",
    "\n",
    "\n",
    "# Reset index to make 'date' a column again\n",
    "population_monthly.reset_index(inplace=True)\n",
    "interest_rate_monthly.reset_index(inplace=True)\n",
    "income_monthly.reset_index(inplace=True)\n",
    "\n",
    "\n",
    "# Rename 'date' to 'REF_DATE'\n",
    "population_monthly.rename(columns={'date': 'REF_DATE'}, inplace=True)\n",
    "\n",
    "# Ensure 'REF_DATE' is in monthly format\n",
    "population_monthly['REF_DATE'] = pd.to_datetime(population_monthly['REF_DATE'])\n",
    "population_monthly['REF_DATE'] = population_monthly['REF_DATE'].dt.to_period('M').dt.to_timestamp()\n",
    "\n",
    "population_monthly.dropna(inplace=True)\n",
    "\n",
    "\n",
    "# Filter population data to include only records from 2005 onwards\n",
    "population_monthly = population_monthly[(population_monthly['REF_DATE'] >= '2005-01-01') & (population_monthly['REF_DATE'] <= '2024-12-31')]\n",
    "\n",
    "# Filter other datasets similarly to match the timeframe of the median house price data\n",
    "interest_rate_monthly = interest_rate_monthly[(interest_rate_monthly['REF_DATE'] >= '2005-01-01') & (interest_rate_monthly['REF_DATE'] <= '2024-12-31')]\n",
    "income_monthly = income_monthly[(income_monthly['REF_DATE'] >= '2005-01-01') & (income_monthly['REF_DATE'] <= '2024-12-31')]\n",
    "housing_data = housing_data[(housing_data.index >= '2005-01-01') & (housing_data.index <= '2024-12-31')]\n",
    "median_house_price_data = median_house_price_data[(median_house_price_data.index >= '2005-01-01') & (median_house_price_data.index <= '2024-12-31')]\n"
   ]
  },
  {
   "cell_type": "code",
   "execution_count": 254,
   "metadata": {},
   "outputs": [
    {
     "name": "stdout",
     "output_type": "stream",
     "text": [
      "            VALUE\n",
      "REF_DATE         \n",
      "2005-01-01   52.0\n",
      "2005-02-01   52.3\n",
      "2005-03-01   52.4\n",
      "2005-04-01   52.8\n",
      "2005-05-01   53.1\n",
      "      REF_DATE   Population   Annual Change\n",
      "649 2005-01-01    1030000.0            2.59\n",
      "650 2005-02-01    1030000.0            2.59\n",
      "651 2005-03-01    1030000.0            2.59\n",
      "652 2005-04-01    1030000.0            2.59\n",
      "653 2005-05-01    1030000.0            2.59\n",
      "      REF_DATE  VALUE\n",
      "288 2005-01-01   2.75\n",
      "289 2005-02-01   2.75\n",
      "290 2005-03-01   2.75\n",
      "291 2005-04-01   2.75\n",
      "292 2005-05-01   2.75\n",
      "Empty DataFrame\n",
      "Columns: [REF_DATE, VALUE]\n",
      "Index: []\n"
     ]
    }
   ],
   "source": [
    "# View the result\n",
    "print(housing_data.head())\n",
    "print(population_monthly.head())\n",
    "print(interest_rate_monthly.head())\n",
    "print(income_monthly.head())\n"
   ]
  },
  {
   "cell_type": "code",
   "execution_count": 255,
   "metadata": {},
   "outputs": [],
   "source": [
    "\n",
    "# Now merge the filtered datasets\n",
    "merged_data = housing_data.merge(interest_rate_monthly, on='REF_DATE', how='left', suffixes=('_housing', '_interest'))\n",
    "merged_data = merged_data.merge(income_monthly, on='REF_DATE', how='left')\n",
    "merged_data = merged_data.merge(population_monthly, on='REF_DATE', how='left')\n",
    "merged_data = merged_data.merge(median_house_price_data, on='REF_DATE', how='left')\n",
    "\n",
    "# Forward fill missing values for Median_House_Price after 2005\n",
    "merged_data['median_re_assessed_value'] = merged_data['median_re_assessed_value'].ffill()\n",
    "\n",
    "merged_data['Median_Income'].fillna(method='ffill', inplace=True)\n",
    "\n",
    "\n",
    "merged_data.set_index('REF_DATE', inplace=True)"
   ]
  },
  {
   "cell_type": "code",
   "execution_count": 256,
   "metadata": {},
   "outputs": [
    {
     "name": "stdout",
     "output_type": "stream",
     "text": [
      "            Housing_Price_Index  Interest_Rate  Median_Income  \\\n",
      "REF_DATE                                                        \n",
      "2005-01-01                 52.0           2.75            NaN   \n",
      "2005-02-01                 52.3           2.75            NaN   \n",
      "2005-03-01                 52.4           2.75            NaN   \n",
      "2005-04-01                 52.8           2.75            NaN   \n",
      "2005-05-01                 53.1           2.75            NaN   \n",
      "\n",
      "            Calgary_Population  Annual_Population_Change  Median_House_Price  \n",
      "REF_DATE                                                                      \n",
      "2005-01-01           1030000.0                      2.59            206500.0  \n",
      "2005-02-01           1030000.0                      2.59            206500.0  \n",
      "2005-03-01           1030000.0                      2.59            206500.0  \n",
      "2005-04-01           1030000.0                      2.59            206500.0  \n",
      "2005-05-01           1030000.0                      2.59            206500.0  \n"
     ]
    }
   ],
   "source": [
    "# Renaming columns for more clarity\n",
    "merged_data.rename(columns={\n",
    "    'VALUE_housing': 'Housing_Price_Index',\n",
    "    'VALUE_interest': 'Interest_Rate',\n",
    "    'VALUE': 'Median_Income',\n",
    "    ' Population': 'Calgary_Population',\n",
    "    ' Annual Change': 'Annual_Population_Change',\n",
    "    'median_re_assessed_value': 'Median_House_Price'\n",
    "}, inplace=True)\n",
    "\n",
    "# View the updated DataFrame\n",
    "print(merged_data.head())\n"
   ]
  },
  {
   "cell_type": "code",
   "execution_count": 257,
   "metadata": {},
   "outputs": [
    {
     "data": {
      "image/png": "[encoded data removed]",
      "text/plain": [
       "<Figure size 1000x600 with 1 Axes>"
      ]
     },
     "metadata": {},
     "output_type": "display_data"
    }
   ],
   "source": [
    "\n",
    "# Plotting actual vs predicted values\n",
    "plt.figure(figsize=(10, 6))\n",
    "plt.scatter(y_test, y_pred, alpha=0.5)\n",
    "plt.plot([y_test.min(), y_test.max()], [y_test.min(), y_test.max()], 'r--', lw=2)\n",
    "plt.xlabel('Actual House Prices')\n",
    "plt.ylabel('Predicted House Prices')\n",
    "plt.title('Actual vs Predicted House Prices')\n",
    "plt.show()\n"
   ]
  },
  {
   "cell_type": "code",
   "execution_count": 258,
   "metadata": {},
   "outputs": [
    {
     "name": "stdout",
     "output_type": "stream",
     "text": [
      "Mean Squared Error: 12467556.770833334\n",
      "R-squared: 0.9971168962356679\n"
     ]
    },
    {
     "name": "stderr",
     "output_type": "stream",
     "text": [
      "/var/folders/c8/wgg214m53kj69jc41gfrvs3w0000gn/T/ipykernel_12865/2137424354.py:9: SettingWithCopyWarning:\n",
      "\n",
      "\n",
      "A value is trying to be set on a copy of a slice from a DataFrame\n",
      "\n",
      "See the caveats in the documentation: https://pandas.pydata.org/pandas-docs/stable/user_guide/indexing.html#returning-a-view-versus-a-copy\n",
      "\n"
     ]
    }
   ],
   "source": [
    "# Ensure merged_data only contains data from 2005 onwards\n",
    "merged_data = merged_data[merged_data.index >= '2005-01-01']\n",
    "\n",
    "# Define features (X) and target (y)\n",
    "X = merged_data[['Housing_Price_Index', 'Interest_Rate', 'Median_Income', 'Calgary_Population', 'Annual_Population_Change']]  # Features\n",
    "y = merged_data['Median_House_Price']  # Target (what you are predicting)\n",
    "\n",
    "# Handle NaNs (e.g., filling with the mean)\n",
    "X.fillna(X.mean(), inplace=True)\n",
    "y.fillna(y.mean(), inplace=True)\n",
    "\n",
    "# Split the data (80% training, 20% testing)\n",
    "X_train, X_test, y_train, y_test = train_test_split(X, y, test_size=0.2, random_state=42)\n",
    "\n",
    "# Initialize the Random Forest model\n",
    "rf_model = RandomForestRegressor(n_estimators=100, random_state=42)\n",
    "\n",
    "# Train the model\n",
    "rf_model.fit(X_train, y_train)\n",
    "\n",
    "# Predict on the test set\n",
    "y_pred = rf_model.predict(X_test)\n",
    "\n",
    "# Evaluate performance\n",
    "mse = mean_squared_error(y_test, y_pred)\n",
    "r2 = r2_score(y_test, y_pred)\n",
    "\n",
    "print(f\"Mean Squared Error: {mse}\")\n",
    "print(f\"R-squared: {r2}\")\n"
   ]
  },
  {
   "cell_type": "code",
   "execution_count": 259,
   "metadata": {},
   "outputs": [
    {
     "name": "stdout",
     "output_type": "stream",
     "text": [
      "                    Feature  Importance\n",
      "3        Calgary_Population    0.782558\n",
      "0       Housing_Price_Index    0.098853\n",
      "4  Annual_Population_Change    0.063857\n",
      "1             Interest_Rate    0.054733\n",
      "2             Median_Income    0.000000\n"
     ]
    }
   ],
   "source": [
    "# Get feature importances\n",
    "importances = rf_model.feature_importances_\n",
    "\n",
    "# Create a DataFrame to organize feature importances\n",
    "feature_importances = pd.DataFrame({\n",
    "    'Feature': X.columns,\n",
    "    'Importance': importances\n",
    "})\n",
    "\n",
    "# Sort by importance (descending)\n",
    "feature_importances = feature_importances.sort_values(by='Importance', ascending=False)\n",
    "\n",
    "# Display the feature importances\n",
    "print(feature_importances)\n"
   ]
  },
  {
   "cell_type": "code",
   "execution_count": 260,
   "metadata": {},
   "outputs": [
    {
     "data": {
      "application/vnd.plotly.v1+json": {
       "config": {
        "plotlyServerURL": "https://plot.ly"
       },
       "data": [
        {
         "mode": "lines",
         "name": "Historical Median House Price",
         "type": "scatter",
         "x": [
          "2005-01-01T00:00:00",
          "2005-02-01T00:00:00",
          "2005-03-01T00:00:00",
          "2005-04-01T00:00:00",
          "2005-05-01T00:00:00",
          "2005-06-01T00:00:00",
          "2005-07-01T00:00:00",
          "2005-08-01T00:00:00",
          "2005-09-01T00:00:00",
          "2005-10-01T00:00:00",
          "2005-11-01T00:00:00",
          "2005-12-01T00:00:00",
          "2006-01-01T00:00:00",
          "2006-02-01T00:00:00",
          "2006-03-01T00:00:00",
          "2006-04-01T00:00:00",
          "2006-05-01T00:00:00",
          "2006-06-01T00:00:00",
          "2006-07-01T00:00:00",
          "2006-08-01T00:00:00",
          "2006-09-01T00:00:00",
          "2006-10-01T00:00:00",
          "2006-11-01T00:00:00",
          "2006-12-01T00:00:00",
          "2007-01-01T00:00:00",
          "2007-02-01T00:00:00",
          "2007-03-01T00:00:00",
          "2007-04-01T00:00:00",
          "2007-05-01T00:00:00",
          "2007-06-01T00:00:00",
          "2007-07-01T00:00:00",
          "2007-08-01T00:00:00",
          "2007-09-01T00:00:00",
          "2007-10-01T00:00:00",
          "2007-11-01T00:00:00",
          "2007-12-01T00:00:00",
          "2008-01-01T00:00:00",
          "2008-02-01T00:00:00",
          "2008-03-01T00:00:00",
          "2008-04-01T00:00:00",
          "2008-05-01T00:00:00",
          "2008-06-01T00:00:00",
          "2008-07-01T00:00:00",
          "2008-08-01T00:00:00",
          "2008-09-01T00:00:00",
          "2008-10-01T00:00:00",
          "2008-11-01T00:00:00",
          "2008-12-01T00:00:00",
          "2009-01-01T00:00:00",
          "2009-02-01T00:00:00",
          "2009-03-01T00:00:00",
          "2009-04-01T00:00:00",
          "2009-05-01T00:00:00",
          "2009-06-01T00:00:00",
          "2009-07-01T00:00:00",
          "2009-08-01T00:00:00",
          "2009-09-01T00:00:00",
          "2009-10-01T00:00:00",
          "2009-11-01T00:00:00",
          "2009-12-01T00:00:00",
          "2010-01-01T00:00:00",
          "2010-02-01T00:00:00",
          "2010-03-01T00:00:00",
          "2010-04-01T00:00:00",
          "2010-05-01T00:00:00",
          "2010-06-01T00:00:00",
          "2010-07-01T00:00:00",
          "2010-08-01T00:00:00",
          "2010-09-01T00:00:00",
          "2010-10-01T00:00:00",
          "2010-11-01T00:00:00",
          "2010-12-01T00:00:00",
          "2011-01-01T00:00:00",
          "2011-02-01T00:00:00",
          "2011-03-01T00:00:00",
          "2011-04-01T00:00:00",
          "2011-05-01T00:00:00",
          "2011-06-01T00:00:00",
          "2011-07-01T00:00:00",
          "2011-08-01T00:00:00",
          "2011-09-01T00:00:00",
          "2011-10-01T00:00:00",
          "2011-11-01T00:00:00",
          "2011-12-01T00:00:00",
          "2012-01-01T00:00:00",
          "2012-02-01T00:00:00",
          "2012-03-01T00:00:00",
          "2012-04-01T00:00:00",
          "2012-05-01T00:00:00",
          "2012-06-01T00:00:00",
          "2012-07-01T00:00:00",
          "2012-08-01T00:00:00",
          "2012-09-01T00:00:00",
          "2012-10-01T00:00:00",
          "2012-11-01T00:00:00",
          "2012-12-01T00:00:00",
          "2013-01-01T00:00:00",
          "2013-02-01T00:00:00",
          "2013-03-01T00:00:00",
          "2013-04-01T00:00:00",
          "2013-05-01T00:00:00",
          "2013-06-01T00:00:00",
          "2013-07-01T00:00:00",
          "2013-08-01T00:00:00",
          "2013-09-01T00:00:00",
          "2013-10-01T00:00:00",
          "2013-11-01T00:00:00",
          "2013-12-01T00:00:00",
          "2014-01-01T00:00:00",
          "2014-02-01T00:00:00",
          "2014-03-01T00:00:00",
          "2014-04-01T00:00:00",
          "2014-05-01T00:00:00",
          "2014-06-01T00:00:00",
          "2014-07-01T00:00:00",
          "2014-08-01T00:00:00",
          "2014-09-01T00:00:00",
          "2014-10-01T00:00:00",
          "2014-11-01T00:00:00",
          "2014-12-01T00:00:00",
          "2015-01-01T00:00:00",
          "2015-02-01T00:00:00",
          "2015-03-01T00:00:00",
          "2015-04-01T00:00:00",
          "2015-05-01T00:00:00",
          "2015-06-01T00:00:00",
          "2015-07-01T00:00:00",
          "2015-08-01T00:00:00",
          "2015-09-01T00:00:00",
          "2015-10-01T00:00:00",
          "2015-11-01T00:00:00",
          "2015-12-01T00:00:00",
          "2016-01-01T00:00:00",
          "2016-02-01T00:00:00",
          "2016-03-01T00:00:00",
          "2016-04-01T00:00:00",
          "2016-05-01T00:00:00",
          "2016-06-01T00:00:00",
          "2016-07-01T00:00:00",
          "2016-08-01T00:00:00",
          "2016-09-01T00:00:00",
          "2016-10-01T00:00:00",
          "2016-11-01T00:00:00",
          "2016-12-01T00:00:00",
          "2017-01-01T00:00:00",
          "2017-02-01T00:00:00",
          "2017-03-01T00:00:00",
          "2017-04-01T00:00:00",
          "2017-05-01T00:00:00",
          "2017-06-01T00:00:00",
          "2017-07-01T00:00:00",
          "2017-08-01T00:00:00",
          "2017-09-01T00:00:00",
          "2017-10-01T00:00:00",
          "2017-11-01T00:00:00",
          "2017-12-01T00:00:00",
          "2018-01-01T00:00:00",
          "2018-02-01T00:00:00",
          "2018-03-01T00:00:00",
          "2018-04-01T00:00:00",
          "2018-05-01T00:00:00",
          "2018-06-01T00:00:00",
          "2018-07-01T00:00:00",
          "2018-08-01T00:00:00",
          "2018-09-01T00:00:00",
          "2018-10-01T00:00:00",
          "2018-11-01T00:00:00",
          "2018-12-01T00:00:00",
          "2019-01-01T00:00:00",
          "2019-02-01T00:00:00",
          "2019-03-01T00:00:00",
          "2019-04-01T00:00:00",
          "2019-05-01T00:00:00",
          "2019-06-01T00:00:00",
          "2019-07-01T00:00:00",
          "2019-08-01T00:00:00",
          "2019-09-01T00:00:00",
          "2019-10-01T00:00:00",
          "2019-11-01T00:00:00",
          "2019-12-01T00:00:00",
          "2020-01-01T00:00:00",
          "2020-02-01T00:00:00",
          "2020-03-01T00:00:00",
          "2020-04-01T00:00:00",
          "2020-05-01T00:00:00",
          "2020-06-01T00:00:00",
          "2020-07-01T00:00:00",
          "2020-08-01T00:00:00",
          "2020-09-01T00:00:00",
          "2020-10-01T00:00:00",
          "2020-11-01T00:00:00",
          "2020-12-01T00:00:00",
          "2021-01-01T00:00:00",
          "2021-02-01T00:00:00",
          "2021-03-01T00:00:00",
          "2021-04-01T00:00:00",
          "2021-05-01T00:00:00",
          "2021-06-01T00:00:00",
          "2021-07-01T00:00:00",
          "2021-08-01T00:00:00",
          "2021-09-01T00:00:00",
          "2021-10-01T00:00:00",
          "2021-11-01T00:00:00",
          "2021-12-01T00:00:00",
          "2022-01-01T00:00:00",
          "2022-02-01T00:00:00",
          "2022-03-01T00:00:00",
          "2022-04-01T00:00:00",
          "2022-05-01T00:00:00",
          "2022-06-01T00:00:00",
          "2022-07-01T00:00:00",
          "2022-08-01T00:00:00",
          "2022-09-01T00:00:00",
          "2022-10-01T00:00:00",
          "2022-11-01T00:00:00",
          "2022-12-01T00:00:00",
          "2023-01-01T00:00:00",
          "2023-02-01T00:00:00",
          "2023-03-01T00:00:00",
          "2023-04-01T00:00:00",
          "2023-05-01T00:00:00",
          "2023-06-01T00:00:00",
          "2023-07-01T00:00:00",
          "2023-08-01T00:00:00",
          "2023-09-01T00:00:00",
          "2023-10-01T00:00:00",
          "2023-11-01T00:00:00",
          "2023-12-01T00:00:00",
          "2024-01-01T00:00:00",
          "2024-02-01T00:00:00",
          "2024-03-01T00:00:00",
          "2024-04-01T00:00:00",
          "2024-05-01T00:00:00",
          "2024-06-01T00:00:00",
          "2024-07-01T00:00:00",
          "2024-08-01T00:00:00"
         ],
         "y": [
          206500,
          206500,
          206500,
          206500,
          206500,
          206500,
          206500,
          206500,
          206500,
          206500,
          206500,
          206500,
          221000,
          221000,
          221000,
          221000,
          221000,
          221000,
          221000,
          221000,
          221000,
          221000,
          221000,
          221000,
          318000,
          318000,
          318000,
          318000,
          318000,
          318000,
          318000,
          318000,
          318000,
          318000,
          318000,
          318000,
          399000,
          399000,
          399000,
          399000,
          399000,
          399000,
          399000,
          399000,
          399000,
          399000,
          399000,
          399000,
          376500,
          376500,
          376500,
          376500,
          376500,
          376500,
          376500,
          376500,
          376500,
          376500,
          376500,
          376500,
          325500,
          325500,
          325500,
          325500,
          325500,
          325500,
          325500,
          325500,
          325500,
          325500,
          325500,
          325500,
          357000,
          357000,
          357000,
          357000,
          357000,
          357000,
          357000,
          357000,
          357000,
          357000,
          357000,
          357000,
          343500,
          343500,
          343500,
          343500,
          343500,
          343500,
          343500,
          343500,
          343500,
          343500,
          343500,
          343500,
          349500,
          349500,
          349500,
          349500,
          349500,
          349500,
          349500,
          349500,
          349500,
          349500,
          349500,
          349500,
          375000,
          375000,
          375000,
          375000,
          375000,
          375000,
          375000,
          375000,
          375000,
          375000,
          375000,
          375000,
          412500,
          412500,
          412500,
          412500,
          412500,
          412500,
          412500,
          412500,
          412500,
          412500,
          412500,
          412500,
          404500,
          404500,
          404500,
          404500,
          404500,
          404500,
          404500,
          404500,
          404500,
          404500,
          404500,
          404500,
          388000,
          388000,
          388000,
          388000,
          388000,
          388000,
          388000,
          388000,
          388000,
          388000,
          388000,
          388000,
          396000,
          396000,
          396000,
          396000,
          396000,
          396000,
          396000,
          396000,
          396000,
          396000,
          396000,
          396000,
          388500,
          388500,
          388500,
          388500,
          388500,
          388500,
          388500,
          388500,
          388500,
          388500,
          388500,
          388500,
          368000,
          368000,
          368000,
          368000,
          368000,
          368000,
          368000,
          368000,
          368000,
          368000,
          368000,
          368000,
          358000,
          358000,
          358000,
          358000,
          358000,
          358000,
          358000,
          358000,
          358000,
          358000,
          358000,
          358000,
          396000,
          396000,
          396000,
          396000,
          396000,
          396000,
          396000,
          396000,
          396000,
          396000,
          396000,
          396000,
          450000,
          450000,
          450000,
          450000,
          450000,
          450000,
          450000,
          450000,
          450000,
          450000,
          450000,
          450000,
          450000,
          450000,
          450000,
          450000,
          450000,
          450000,
          450000,
          450000
         ]
        },
        {
         "line": {
          "dash": "dash"
         },
         "mode": "lines",
         "name": "Predicted Median House Price",
         "type": "scatter",
         "x": [
          "2025-01-01T00:00:00",
          "2025-02-01T00:00:00",
          "2025-03-01T00:00:00",
          "2025-04-01T00:00:00",
          "2025-05-01T00:00:00",
          "2025-06-01T00:00:00",
          "2025-07-01T00:00:00",
          "2025-08-01T00:00:00",
          "2025-09-01T00:00:00",
          "2025-10-01T00:00:00",
          "2025-11-01T00:00:00",
          "2025-12-01T00:00:00",
          "2026-01-01T00:00:00",
          "2026-02-01T00:00:00",
          "2026-03-01T00:00:00",
          "2026-04-01T00:00:00",
          "2026-05-01T00:00:00",
          "2026-06-01T00:00:00",
          "2026-07-01T00:00:00",
          "2026-08-01T00:00:00",
          "2026-09-01T00:00:00",
          "2026-10-01T00:00:00",
          "2026-11-01T00:00:00",
          "2026-12-01T00:00:00",
          "2027-01-01T00:00:00",
          "2027-02-01T00:00:00",
          "2027-03-01T00:00:00",
          "2027-04-01T00:00:00",
          "2027-05-01T00:00:00",
          "2027-06-01T00:00:00",
          "2027-07-01T00:00:00",
          "2027-08-01T00:00:00",
          "2027-09-01T00:00:00",
          "2027-10-01T00:00:00",
          "2027-11-01T00:00:00",
          "2027-12-01T00:00:00",
          "2028-01-01T00:00:00",
          "2028-02-01T00:00:00",
          "2028-03-01T00:00:00",
          "2028-04-01T00:00:00",
          "2028-05-01T00:00:00",
          "2028-06-01T00:00:00",
          "2028-07-01T00:00:00",
          "2028-08-01T00:00:00",
          "2028-09-01T00:00:00",
          "2028-10-01T00:00:00",
          "2028-11-01T00:00:00",
          "2028-12-01T00:00:00",
          "2029-01-01T00:00:00",
          "2029-02-01T00:00:00",
          "2029-03-01T00:00:00",
          "2029-04-01T00:00:00",
          "2029-05-01T00:00:00",
          "2029-06-01T00:00:00",
          "2029-07-01T00:00:00",
          "2029-08-01T00:00:00",
          "2029-09-01T00:00:00",
          "2029-10-01T00:00:00",
          "2029-11-01T00:00:00",
          "2029-12-01T00:00:00",
          "2030-01-01T00:00:00",
          "2030-02-01T00:00:00",
          "2030-03-01T00:00:00",
          "2030-04-01T00:00:00",
          "2030-05-01T00:00:00",
          "2030-06-01T00:00:00",
          "2030-07-01T00:00:00",
          "2030-08-01T00:00:00",
          "2030-09-01T00:00:00",
          "2030-10-01T00:00:00",
          "2030-11-01T00:00:00",
          "2030-12-01T00:00:00"
         ],
         "y": [
          450000,
          450000,
          450000,
          450000,
          450000,
          450000,
          450000,
          450000,
          450000,
          450000,
          450000,
          450000,
          450000,
          450000,
          450000,
          450000,
          450000,
          450000,
          449460,
          449460,
          449460,
          449460,
          449460,
          449460,
          449460,
          448920,
          448920,
          444600,
          444600,
          444600,
          444600,
          444600,
          444600,
          444600,
          444600,
          444600,
          444600,
          444600,
          444600,
          444600,
          444600,
          444600,
          444600,
          444600,
          444600,
          440820,
          440820,
          440820,
          440820,
          440820,
          440820,
          440820,
          440820,
          440820,
          439740,
          439740,
          439740,
          439740,
          439740,
          439740,
          439740,
          439740,
          439740,
          439740,
          439740,
          439740,
          439740,
          439740,
          439740,
          439740,
          439740,
          438660
         ]
        }
       ],
       "layout": {
        "hovermode": "x unified",
        "template": {
         "data": {
          "bar": [
           {
            "error_x": {
             "color": "#2a3f5f"
            },
            "error_y": {
             "color": "#2a3f5f"
            },
            "marker": {
             "line": {
              "color": "#E5ECF6",
              "width": 0.5
             },
             "pattern": {
              "fillmode": "overlay",
              "size": 10,
              "solidity": 0.2
             }
            },
            "type": "bar"
           }
          ],
          "barpolar": [
           {
            "marker": {
             "line": {
              "color": "#E5ECF6",
              "width": 0.5
             },
             "pattern": {
              "fillmode": "overlay",
              "size": 10,
              "solidity": 0.2
             }
            },
            "type": "barpolar"
           }
          ],
          "carpet": [
           {
            "aaxis": {
             "endlinecolor": "#2a3f5f",
             "gridcolor": "white",
             "linecolor": "white",
             "minorgridcolor": "white",
             "startlinecolor": "#2a3f5f"
            },
            "baxis": {
             "endlinecolor": "#2a3f5f",
             "gridcolor": "white",
             "linecolor": "white",
             "minorgridcolor": "white",
             "startlinecolor": "#2a3f5f"
            },
            "type": "carpet"
           }
          ],
          "choropleth": [
           {
            "colorbar": {
             "outlinewidth": 0,
             "ticks": ""
            },
            "type": "choropleth"
           }
          ],
          "contour": [
           {
            "colorbar": {
             "outlinewidth": 0,
             "ticks": ""
            },
            "colorscale": [
             [
              0,
              "#0d0887"
             ],
             [
              0.1111111111111111,
              "#46039f"
             ],
             [
              0.2222222222222222,
              "#7201a8"
             ],
             [
              0.3333333333333333,
              "#9c179e"
             ],
             [
              0.4444444444444444,
              "#bd3786"
             ],
             [
              0.5555555555555556,
              "#d8576b"
             ],
             [
              0.6666666666666666,
              "#ed7953"
             ],
             [
              0.7777777777777778,
              "#fb9f3a"
             ],
             [
              0.8888888888888888,
              "#fdca26"
             ],
             [
              1,
              "#f0f921"
             ]
            ],
            "type": "contour"
           }
          ],
          "contourcarpet": [
           {
            "colorbar": {
             "outlinewidth": 0,
             "ticks": ""
            },
            "type": "contourcarpet"
           }
          ],
          "heatmap": [
           {
            "colorbar": {
             "outlinewidth": 0,
             "ticks": ""
            },
            "colorscale": [
             [
              0,
              "#0d0887"
             ],
             [
              0.1111111111111111,
              "#46039f"
             ],
             [
              0.2222222222222222,
              "#7201a8"
             ],
             [
              0.3333333333333333,
              "#9c179e"
             ],
             [
              0.4444444444444444,
              "#bd3786"
             ],
             [
              0.5555555555555556,
              "#d8576b"
             ],
             [
              0.6666666666666666,
              "#ed7953"
             ],
             [
              0.7777777777777778,
              "#fb9f3a"
             ],
             [
              0.8888888888888888,
              "#fdca26"
             ],
             [
              1,
              "#f0f921"
             ]
            ],
            "type": "heatmap"
           }
          ],
          "heatmapgl": [
           {
            "colorbar": {
             "outlinewidth": 0,
             "ticks": ""
            },
            "colorscale": [
             [
              0,
              "#0d0887"
             ],
             [
              0.1111111111111111,
              "#46039f"
             ],
             [
              0.2222222222222222,
              "#7201a8"
             ],
             [
              0.3333333333333333,
              "#9c179e"
             ],
             [
              0.4444444444444444,
              "#bd3786"
             ],
             [
              0.5555555555555556,
              "#d8576b"
             ],
             [
              0.6666666666666666,
              "#ed7953"
             ],
             [
              0.7777777777777778,
              "#fb9f3a"
             ],
             [
              0.8888888888888888,
              "#fdca26"
             ],
             [
              1,
              "#f0f921"
             ]
            ],
            "type": "heatmapgl"
           }
          ],
          "histogram": [
           {
            "marker": {
             "pattern": {
              "fillmode": "overlay",
              "size": 10,
              "solidity": 0.2
             }
            },
            "type": "histogram"
           }
          ],
          "histogram2d": [
           {
            "colorbar": {
             "outlinewidth": 0,
             "ticks": ""
            },
            "colorscale": [
             [
              0,
              "#0d0887"
             ],
             [
              0.1111111111111111,
              "#46039f"
             ],
             [
              0.2222222222222222,
              "#7201a8"
             ],
             [
              0.3333333333333333,
              "#9c179e"
             ],
             [
              0.4444444444444444,
              "#bd3786"
             ],
             [
              0.5555555555555556,
              "#d8576b"
             ],
             [
              0.6666666666666666,
              "#ed7953"
             ],
             [
              0.7777777777777778,
              "#fb9f3a"
             ],
             [
              0.8888888888888888,
              "#fdca26"
             ],
             [
              1,
              "#f0f921"
             ]
            ],
            "type": "histogram2d"
           }
          ],
          "histogram2dcontour": [
           {
            "colorbar": {
             "outlinewidth": 0,
             "ticks": ""
            },
            "colorscale": [
             [
              0,
              "#0d0887"
             ],
             [
              0.1111111111111111,
              "#46039f"
             ],
             [
              0.2222222222222222,
              "#7201a8"
             ],
             [
              0.3333333333333333,
              "#9c179e"
             ],
             [
              0.4444444444444444,
              "#bd3786"
             ],
             [
              0.5555555555555556,
              "#d8576b"
             ],
             [
              0.6666666666666666,
              "#ed7953"
             ],
             [
              0.7777777777777778,
              "#fb9f3a"
             ],
             [
              0.8888888888888888,
              "#fdca26"
             ],
             [
              1,
              "#f0f921"
             ]
            ],
            "type": "histogram2dcontour"
           }
          ],
          "mesh3d": [
           {
            "colorbar": {
             "outlinewidth": 0,
             "ticks": ""
            },
            "type": "mesh3d"
           }
          ],
          "parcoords": [
           {
            "line": {
             "colorbar": {
              "outlinewidth": 0,
              "ticks": ""
             }
            },
            "type": "parcoords"
           }
          ],
          "pie": [
           {
            "automargin": true,
            "type": "pie"
           }
          ],
          "scatter": [
           {
            "fillpattern": {
             "fillmode": "overlay",
             "size": 10,
             "solidity": 0.2
            },
            "type": "scatter"
           }
          ],
          "scatter3d": [
           {
            "line": {
             "colorbar": {
              "outlinewidth": 0,
              "ticks": ""
             }
            },
            "marker": {
             "colorbar": {
              "outlinewidth": 0,
              "ticks": ""
             }
            },
            "type": "scatter3d"
           }
          ],
          "scattercarpet": [
           {
            "marker": {
             "colorbar": {
              "outlinewidth": 0,
              "ticks": ""
             }
            },
            "type": "scattercarpet"
           }
          ],
          "scattergeo": [
           {
            "marker": {
             "colorbar": {
              "outlinewidth": 0,
              "ticks": ""
             }
            },
            "type": "scattergeo"
           }
          ],
          "scattergl": [
           {
            "marker": {
             "colorbar": {
              "outlinewidth": 0,
              "ticks": ""
             }
            },
            "type": "scattergl"
           }
          ],
          "scattermapbox": [
           {
            "marker": {
             "colorbar": {
              "outlinewidth": 0,
              "ticks": ""
             }
            },
            "type": "scattermapbox"
           }
          ],
          "scatterpolar": [
           {
            "marker": {
             "colorbar": {
              "outlinewidth": 0,
              "ticks": ""
             }
            },
            "type": "scatterpolar"
           }
          ],
          "scatterpolargl": [
           {
            "marker": {
             "colorbar": {
              "outlinewidth": 0,
              "ticks": ""
             }
            },
            "type": "scatterpolargl"
           }
          ],
          "scatterternary": [
           {
            "marker": {
             "colorbar": {
              "outlinewidth": 0,
              "ticks": ""
             }
            },
            "type": "scatterternary"
           }
          ],
          "surface": [
           {
            "colorbar": {
             "outlinewidth": 0,
             "ticks": ""
            },
            "colorscale": [
             [
              0,
              "#0d0887"
             ],
             [
              0.1111111111111111,
              "#46039f"
             ],
             [
              0.2222222222222222,
              "#7201a8"
             ],
             [
              0.3333333333333333,
              "#9c179e"
             ],
             [
              0.4444444444444444,
              "#bd3786"
             ],
             [
              0.5555555555555556,
              "#d8576b"
             ],
             [
              0.6666666666666666,
              "#ed7953"
             ],
             [
              0.7777777777777778,
              "#fb9f3a"
             ],
             [
              0.8888888888888888,
              "#fdca26"
             ],
             [
              1,
              "#f0f921"
             ]
            ],
            "type": "surface"
           }
          ],
          "table": [
           {
            "cells": {
             "fill": {
              "color": "#EBF0F8"
             },
             "line": {
              "color": "white"
             }
            },
            "header": {
             "fill": {
              "color": "#C8D4E3"
             },
             "line": {
              "color": "white"
             }
            },
            "type": "table"
           }
          ]
         },
         "layout": {
          "annotationdefaults": {
           "arrowcolor": "#2a3f5f",
           "arrowhead": 0,
           "arrowwidth": 1
          },
          "autotypenumbers": "strict",
          "coloraxis": {
           "colorbar": {
            "outlinewidth": 0,
            "ticks": ""
           }
          },
          "colorscale": {
           "diverging": [
            [
             0,
             "#8e0152"
            ],
            [
             0.1,
             "#c51b7d"
            ],
            [
             0.2,
             "#de77ae"
            ],
            [
             0.3,
             "#f1b6da"
            ],
            [
             0.4,
             "#fde0ef"
            ],
            [
             0.5,
             "#f7f7f7"
            ],
            [
             0.6,
             "#e6f5d0"
            ],
            [
             0.7,
             "#b8e186"
            ],
            [
             0.8,
             "#7fbc41"
            ],
            [
             0.9,
             "#4d9221"
            ],
            [
             1,
             "#276419"
            ]
           ],
           "sequential": [
            [
             0,
             "#0d0887"
            ],
            [
             0.1111111111111111,
             "#46039f"
            ],
            [
             0.2222222222222222,
             "#7201a8"
            ],
            [
             0.3333333333333333,
             "#9c179e"
            ],
            [
             0.4444444444444444,
             "#bd3786"
            ],
            [
             0.5555555555555556,
             "#d8576b"
            ],
            [
             0.6666666666666666,
             "#ed7953"
            ],
            [
             0.7777777777777778,
             "#fb9f3a"
            ],
            [
             0.8888888888888888,
             "#fdca26"
            ],
            [
             1,
             "#f0f921"
            ]
           ],
           "sequentialminus": [
            [
             0,
             "#0d0887"
            ],
            [
             0.1111111111111111,
             "#46039f"
            ],
            [
             0.2222222222222222,
             "#7201a8"
            ],
            [
             0.3333333333333333,
             "#9c179e"
            ],
            [
             0.4444444444444444,
             "#bd3786"
            ],
            [
             0.5555555555555556,
             "#d8576b"
            ],
            [
             0.6666666666666666,
             "#ed7953"
            ],
            [
             0.7777777777777778,
             "#fb9f3a"
            ],
            [
             0.8888888888888888,
             "#fdca26"
            ],
            [
             1,
             "#f0f921"
            ]
           ]
          },
          "colorway": [
           "#636efa",
           "#EF553B",
           "#00cc96",
           "#ab63fa",
           "#FFA15A",
           "#19d3f3",
           "#FF6692",
           "#B6E880",
           "#FF97FF",
           "#FECB52"
          ],
          "font": {
           "color": "#2a3f5f"
          },
          "geo": {
           "bgcolor": "white",
           "lakecolor": "white",
           "landcolor": "#E5ECF6",
           "showlakes": true,
           "showland": true,
           "subunitcolor": "white"
          },
          "hoverlabel": {
           "align": "left"
          },
          "hovermode": "closest",
          "mapbox": {
           "style": "light"
          },
          "paper_bgcolor": "white",
          "plot_bgcolor": "#E5ECF6",
          "polar": {
           "angularaxis": {
            "gridcolor": "white",
            "linecolor": "white",
            "ticks": ""
           },
           "bgcolor": "#E5ECF6",
           "radialaxis": {
            "gridcolor": "white",
            "linecolor": "white",
            "ticks": ""
           }
          },
          "scene": {
           "xaxis": {
            "backgroundcolor": "#E5ECF6",
            "gridcolor": "white",
            "gridwidth": 2,
            "linecolor": "white",
            "showbackground": true,
            "ticks": "",
            "zerolinecolor": "white"
           },
           "yaxis": {
            "backgroundcolor": "#E5ECF6",
            "gridcolor": "white",
            "gridwidth": 2,
            "linecolor": "white",
            "showbackground": true,
            "ticks": "",
            "zerolinecolor": "white"
           },
           "zaxis": {
            "backgroundcolor": "#E5ECF6",
            "gridcolor": "white",
            "gridwidth": 2,
            "linecolor": "white",
            "showbackground": true,
            "ticks": "",
            "zerolinecolor": "white"
           }
          },
          "shapedefaults": {
           "line": {
            "color": "#2a3f5f"
           }
          },
          "ternary": {
           "aaxis": {
            "gridcolor": "white",
            "linecolor": "white",
            "ticks": ""
           },
           "baxis": {
            "gridcolor": "white",
            "linecolor": "white",
            "ticks": ""
           },
           "bgcolor": "#E5ECF6",
           "caxis": {
            "gridcolor": "white",
            "linecolor": "white",
            "ticks": ""
           }
          },
          "title": {
           "x": 0.05
          },
          "xaxis": {
           "automargin": true,
           "gridcolor": "white",
           "linecolor": "white",
           "ticks": "",
           "title": {
            "standoff": 15
           },
           "zerolinecolor": "white",
           "zerolinewidth": 2
          },
          "yaxis": {
           "automargin": true,
           "gridcolor": "white",
           "linecolor": "white",
           "ticks": "",
           "title": {
            "standoff": 15
           },
           "zerolinecolor": "white",
           "zerolinewidth": 2
          }
         }
        },
        "title": {
         "text": "Historical and Predicted Median House Prices (2025-2030)"
        },
        "xaxis": {
         "title": {
          "text": "Year"
         }
        },
        "yaxis": {
         "title": {
          "text": "House Prices"
         }
        }
       }
      }
     },
     "metadata": {},
     "output_type": "display_data"
    }
   ],
   "source": [
    "# Step 1: Create Future Dataset (2025–2030)\n",
    "# Creating a future date range for monthly data from 2025 to 2030\n",
    "future_dates = pd.date_range(start='2025-01-01', end='2030-12-01', freq='MS')\n",
    "\n",
    "# Create a DataFrame for future data\n",
    "future_data = pd.DataFrame(future_dates, columns=['REF_DATE'])\n",
    "\n",
    "# Project future values for each feature (use linear projections or assumptions)\n",
    "future_data['Housing_Price_Index'] = np.linspace(merged_data['Housing_Price_Index'].iloc[-1], merged_data['Housing_Price_Index'].iloc[-1] * 1.05, len(future_dates))\n",
    "future_data['Interest_Rate'] = np.linspace(merged_data['Interest_Rate'].iloc[-1], merged_data['Interest_Rate'].iloc[-1] - 0.5, len(future_dates))  # Assume a slight drop\n",
    "future_data['Median_Income'] = np.linspace(merged_data['Median_Income'].iloc[-1], merged_data['Median_Income'].iloc[-1] * 1.1, len(future_dates))  # Assume income growth\n",
    "future_data['Calgary_Population'] = np.linspace(merged_data['Calgary_Population'].iloc[-1], merged_data['Calgary_Population'].iloc[-1] * 1.1, len(future_dates))  # Assume population growth\n",
    "future_data['Annual_Population_Change'] = np.linspace(merged_data['Annual_Population_Change'].iloc[-1], merged_data['Annual_Population_Change'].iloc[-1], len(future_dates))  # Keep constant\n",
    "\n",
    "# Step 2: Predict Future House Prices Using Trained Model\n",
    "# Extract the features from the future data\n",
    "X_future = future_data[['Housing_Price_Index', 'Interest_Rate', 'Median_Income', 'Calgary_Population', 'Annual_Population_Change']]\n",
    "\n",
    "# Predict future house prices\n",
    "future_data['Predicted_Median_House_Price'] = rf_model.predict(X_future)\n",
    "\n",
    "# Step 3: Plot Historical and Predicted House Prices\n",
    "import plotly.graph_objects as go\n",
    "\n",
    "# Create a new line chart with historical and future predictions\n",
    "fig = go.Figure()\n",
    "\n",
    "# Plot historical median house prices\n",
    "fig.add_trace(go.Scatter(x=merged_data.index, y=merged_data['Median_House_Price'],\n",
    "                         mode='lines', name='Historical Median House Price'))\n",
    "\n",
    "# Plot future predicted house prices\n",
    "fig.add_trace(go.Scatter(x=future_data['REF_DATE'], y=future_data['Predicted_Median_House_Price'],\n",
    "                         mode='lines', name='Predicted Median House Price', line=dict(dash='dash')))\n",
    "\n",
    "# Customize the layout\n",
    "fig.update_layout(\n",
    "    title='Historical and Predicted Median House Prices (2025-2030)',\n",
    "    xaxis_title='Year',\n",
    "    yaxis_title='House Prices',\n",
    "    hovermode='x unified'\n",
    ")\n",
    "\n",
    "# Show the plot\n",
    "fig.show()\n",
    "\n",
    "\n",
    "\n"
   ]
  },
  {
   "cell_type": "code",
   "execution_count": 261,
   "metadata": {},
   "outputs": [
    {
     "data": {
      "application/vnd.plotly.v1+json": {
       "config": {
        "plotlyServerURL": "https://plot.ly"
       },
       "data": [
        {
         "hovertemplate": "Feature=Interest_Rate<br>Future Dates=%{x}<br>Feature Importance=%{y}<extra></extra>",
         "legendgroup": "Interest_Rate",
         "line": {
          "color": "#636efa",
          "dash": "solid"
         },
         "marker": {
          "symbol": "circle"
         },
         "mode": "lines",
         "name": "Interest_Rate",
         "orientation": "v",
         "showlegend": true,
         "type": "scatter",
         "x": [
          "2025-01-01T00:00:00",
          "2025-02-01T00:00:00",
          "2025-03-01T00:00:00",
          "2025-04-01T00:00:00",
          "2025-05-01T00:00:00",
          "2025-06-01T00:00:00",
          "2025-07-01T00:00:00",
          "2025-08-01T00:00:00",
          "2025-09-01T00:00:00",
          "2025-10-01T00:00:00",
          "2025-11-01T00:00:00",
          "2025-12-01T00:00:00",
          "2026-01-01T00:00:00",
          "2026-02-01T00:00:00",
          "2026-03-01T00:00:00",
          "2026-04-01T00:00:00",
          "2026-05-01T00:00:00",
          "2026-06-01T00:00:00",
          "2026-07-01T00:00:00",
          "2026-08-01T00:00:00",
          "2026-09-01T00:00:00",
          "2026-10-01T00:00:00",
          "2026-11-01T00:00:00",
          "2026-12-01T00:00:00",
          "2027-01-01T00:00:00",
          "2027-02-01T00:00:00",
          "2027-03-01T00:00:00",
          "2027-04-01T00:00:00",
          "2027-05-01T00:00:00",
          "2027-06-01T00:00:00",
          "2027-07-01T00:00:00",
          "2027-08-01T00:00:00",
          "2027-09-01T00:00:00",
          "2027-10-01T00:00:00",
          "2027-11-01T00:00:00",
          "2027-12-01T00:00:00",
          "2028-01-01T00:00:00",
          "2028-02-01T00:00:00",
          "2028-03-01T00:00:00",
          "2028-04-01T00:00:00",
          "2028-05-01T00:00:00",
          "2028-06-01T00:00:00",
          "2028-07-01T00:00:00",
          "2028-08-01T00:00:00",
          "2028-09-01T00:00:00",
          "2028-10-01T00:00:00",
          "2028-11-01T00:00:00",
          "2028-12-01T00:00:00",
          "2029-01-01T00:00:00",
          "2029-02-01T00:00:00",
          "2029-03-01T00:00:00",
          "2029-04-01T00:00:00",
          "2029-05-01T00:00:00",
          "2029-06-01T00:00:00",
          "2029-07-01T00:00:00",
          "2029-08-01T00:00:00",
          "2029-09-01T00:00:00",
          "2029-10-01T00:00:00",
          "2029-11-01T00:00:00",
          "2029-12-01T00:00:00",
          "2030-01-01T00:00:00",
          "2030-02-01T00:00:00",
          "2030-03-01T00:00:00",
          "2030-04-01T00:00:00",
          "2030-05-01T00:00:00",
          "2030-06-01T00:00:00",
          "2030-07-01T00:00:00",
          "2030-08-01T00:00:00",
          "2030-09-01T00:00:00",
          "2030-10-01T00:00:00",
          "2030-11-01T00:00:00",
          "2030-12-01T00:00:00"
         ],
         "xaxis": "x",
         "y": [
          0.3527963653939695,
          0.28066546961049166,
          0.3939864937098012,
          0.22750525589872156,
          0.3861726090290748,
          0.253005962175671,
          0.3408794351637723,
          0.4398080146974817,
          0.26443774638297957,
          0.47320955271132303,
          0.40395547707021906,
          0.20321932482941674,
          0.37284494851507377,
          0.44140596079209604,
          0.38130222045264306,
          0.4914339819894511,
          0.21616277307952808,
          0.2577623623487636,
          0.3936451874787056,
          0.48066523402459416,
          0.39621746383793743,
          0.20463961619240975,
          0.36897403114405697,
          0.31144883564614656,
          0.25547457749369423,
          0.3378925153699128,
          0.2354577576510038,
          0.3457090254138209,
          0.3538003018617538,
          0.3592724890965263,
          0.4003198824172158,
          0.42070770118093037,
          0.2772124352885301,
          0.3332610217832861,
          0.2548144152907115,
          0.42525581942444823,
          0.45008768462931936,
          0.23777673869485372,
          0.4207524842134726,
          0.28845824518789603,
          0.4867045384466908,
          0.28240320940904684,
          0.3196387554136965,
          0.24826809046745113,
          0.48311690296202486,
          0.20706993760585318,
          0.4192153895343176,
          0.46743086367039194,
          0.46288620302474526,
          0.4974907150377482,
          0.26156860127661286,
          0.42204339797580015,
          0.33161037511304176,
          0.35238319473489793,
          0.37776799550247375,
          0.24050275775623778,
          0.4746313179840859,
          0.23812130104086668,
          0.3495028664225032,
          0.24583985209271578,
          0.38892727471334243,
          0.4163466302348706,
          0.3575646113540847,
          0.4554399479564866,
          0.37626866038928986,
          0.28963044323235515,
          0.3920487355850827,
          0.4344237817870586,
          0.3991806799775025,
          0.38523267929685356,
          0.2824785711302392,
          0.4883013070727437
         ],
         "yaxis": "y"
        },
        {
         "hovertemplate": "Feature=Median_Income<br>Future Dates=%{x}<br>Feature Importance=%{y}<extra></extra>",
         "legendgroup": "Median_Income",
         "line": {
          "color": "#EF553B",
          "dash": "solid"
         },
         "marker": {
          "symbol": "circle"
         },
         "mode": "lines",
         "name": "Median_Income",
         "orientation": "v",
         "showlegend": true,
         "type": "scatter",
         "x": [
          "2025-01-01T00:00:00",
          "2025-02-01T00:00:00",
          "2025-03-01T00:00:00",
          "2025-04-01T00:00:00",
          "2025-05-01T00:00:00",
          "2025-06-01T00:00:00",
          "2025-07-01T00:00:00",
          "2025-08-01T00:00:00",
          "2025-09-01T00:00:00",
          "2025-10-01T00:00:00",
          "2025-11-01T00:00:00",
          "2025-12-01T00:00:00",
          "2026-01-01T00:00:00",
          "2026-02-01T00:00:00",
          "2026-03-01T00:00:00",
          "2026-04-01T00:00:00",
          "2026-05-01T00:00:00",
          "2026-06-01T00:00:00",
          "2026-07-01T00:00:00",
          "2026-08-01T00:00:00",
          "2026-09-01T00:00:00",
          "2026-10-01T00:00:00",
          "2026-11-01T00:00:00",
          "2026-12-01T00:00:00",
          "2027-01-01T00:00:00",
          "2027-02-01T00:00:00",
          "2027-03-01T00:00:00",
          "2027-04-01T00:00:00",
          "2027-05-01T00:00:00",
          "2027-06-01T00:00:00",
          "2027-07-01T00:00:00",
          "2027-08-01T00:00:00",
          "2027-09-01T00:00:00",
          "2027-10-01T00:00:00",
          "2027-11-01T00:00:00",
          "2027-12-01T00:00:00",
          "2028-01-01T00:00:00",
          "2028-02-01T00:00:00",
          "2028-03-01T00:00:00",
          "2028-04-01T00:00:00",
          "2028-05-01T00:00:00",
          "2028-06-01T00:00:00",
          "2028-07-01T00:00:00",
          "2028-08-01T00:00:00",
          "2028-09-01T00:00:00",
          "2028-10-01T00:00:00",
          "2028-11-01T00:00:00",
          "2028-12-01T00:00:00",
          "2029-01-01T00:00:00",
          "2029-02-01T00:00:00",
          "2029-03-01T00:00:00",
          "2029-04-01T00:00:00",
          "2029-05-01T00:00:00",
          "2029-06-01T00:00:00",
          "2029-07-01T00:00:00",
          "2029-08-01T00:00:00",
          "2029-09-01T00:00:00",
          "2029-10-01T00:00:00",
          "2029-11-01T00:00:00",
          "2029-12-01T00:00:00",
          "2030-01-01T00:00:00",
          "2030-02-01T00:00:00",
          "2030-03-01T00:00:00",
          "2030-04-01T00:00:00",
          "2030-05-01T00:00:00",
          "2030-06-01T00:00:00",
          "2030-07-01T00:00:00",
          "2030-08-01T00:00:00",
          "2030-09-01T00:00:00",
          "2030-10-01T00:00:00",
          "2030-11-01T00:00:00",
          "2030-12-01T00:00:00"
         ],
         "xaxis": "x",
         "y": [
          0.5901233845188171,
          0.5334294029245663,
          0.4511907728999439,
          0.5234129073825713,
          0.36458145834063904,
          0.5597652175227016,
          0.3395844565566434,
          0.30885235501324376,
          0.5716007978425371,
          0.355160751947719,
          0.43432767587922594,
          0.5194321417354495,
          0.391873367282921,
          0.4797826898651805,
          0.48242476382941846,
          0.4592104697744269,
          0.489135565967717,
          0.34678549371866507,
          0.5257127391989609,
          0.4325966635572538,
          0.39747999557160285,
          0.5112730625893208,
          0.3484999452629554,
          0.3398462771226755,
          0.31433837232048834,
          0.5169170660547029,
          0.35137606826251605,
          0.5747123336419808,
          0.48449318336297614,
          0.35182120670012035,
          0.42828078067457903,
          0.3853907407647602,
          0.5026981956639942,
          0.30998019013994493,
          0.42448112363543744,
          0.4792415849950866,
          0.5104993433913108,
          0.5737887383942342,
          0.4572881573286999,
          0.5331553832021381,
          0.49384213127881593,
          0.5650861287622997,
          0.4829160201863339,
          0.3947190807999661,
          0.37948922215093805,
          0.5300920638885498,
          0.5366656285873106,
          0.3461692844565332,
          0.48332271036323804,
          0.5584525619356838,
          0.5361076335287152,
          0.5805708956026249,
          0.4996713561010714,
          0.4921464886514637,
          0.31604951121707664,
          0.30649104904569413,
          0.3328665485243718,
          0.4471417462537663,
          0.3804118678463158,
          0.5873357513831556,
          0.3536937865059679,
          0.5923401780349483,
          0.45075526026783225,
          0.5680949239594011,
          0.41224943259592967,
          0.41265893441200807,
          0.4981962507419328,
          0.37367962815158723,
          0.379362388940046,
          0.5392946765363347,
          0.5961999001460117,
          0.39472658017677825
         ],
         "yaxis": "y"
        },
        {
         "hovertemplate": "Feature=Calgary_Population<br>Future Dates=%{x}<br>Feature Importance=%{y}<extra></extra>",
         "legendgroup": "Calgary_Population",
         "line": {
          "color": "#00cc96",
          "dash": "solid"
         },
         "marker": {
          "symbol": "circle"
         },
         "mode": "lines",
         "name": "Calgary_Population",
         "orientation": "v",
         "showlegend": true,
         "type": "scatter",
         "x": [
          "2025-01-01T00:00:00",
          "2025-02-01T00:00:00",
          "2025-03-01T00:00:00",
          "2025-04-01T00:00:00",
          "2025-05-01T00:00:00",
          "2025-06-01T00:00:00",
          "2025-07-01T00:00:00",
          "2025-08-01T00:00:00",
          "2025-09-01T00:00:00",
          "2025-10-01T00:00:00",
          "2025-11-01T00:00:00",
          "2025-12-01T00:00:00",
          "2026-01-01T00:00:00",
          "2026-02-01T00:00:00",
          "2026-03-01T00:00:00",
          "2026-04-01T00:00:00",
          "2026-05-01T00:00:00",
          "2026-06-01T00:00:00",
          "2026-07-01T00:00:00",
          "2026-08-01T00:00:00",
          "2026-09-01T00:00:00",
          "2026-10-01T00:00:00",
          "2026-11-01T00:00:00",
          "2026-12-01T00:00:00",
          "2027-01-01T00:00:00",
          "2027-02-01T00:00:00",
          "2027-03-01T00:00:00",
          "2027-04-01T00:00:00",
          "2027-05-01T00:00:00",
          "2027-06-01T00:00:00",
          "2027-07-01T00:00:00",
          "2027-08-01T00:00:00",
          "2027-09-01T00:00:00",
          "2027-10-01T00:00:00",
          "2027-11-01T00:00:00",
          "2027-12-01T00:00:00",
          "2028-01-01T00:00:00",
          "2028-02-01T00:00:00",
          "2028-03-01T00:00:00",
          "2028-04-01T00:00:00",
          "2028-05-01T00:00:00",
          "2028-06-01T00:00:00",
          "2028-07-01T00:00:00",
          "2028-08-01T00:00:00",
          "2028-09-01T00:00:00",
          "2028-10-01T00:00:00",
          "2028-11-01T00:00:00",
          "2028-12-01T00:00:00",
          "2029-01-01T00:00:00",
          "2029-02-01T00:00:00",
          "2029-03-01T00:00:00",
          "2029-04-01T00:00:00",
          "2029-05-01T00:00:00",
          "2029-06-01T00:00:00",
          "2029-07-01T00:00:00",
          "2029-08-01T00:00:00",
          "2029-09-01T00:00:00",
          "2029-10-01T00:00:00",
          "2029-11-01T00:00:00",
          "2029-12-01T00:00:00",
          "2030-01-01T00:00:00",
          "2030-02-01T00:00:00",
          "2030-03-01T00:00:00",
          "2030-04-01T00:00:00",
          "2030-05-01T00:00:00",
          "2030-06-01T00:00:00",
          "2030-07-01T00:00:00",
          "2030-08-01T00:00:00",
          "2030-09-01T00:00:00",
          "2030-10-01T00:00:00",
          "2030-11-01T00:00:00",
          "2030-12-01T00:00:00"
         ],
         "xaxis": "x",
         "y": [
          0.7292214971003202,
          0.7771456913521329,
          0.6739487076611136,
          0.5045382165573298,
          0.762166836173577,
          0.5538407903791043,
          0.6883740085767929,
          0.6236039600208647,
          0.5345691449430937,
          0.5893634711209449,
          0.7345773428274696,
          0.7175983851820755,
          0.7258210833724745,
          0.6006748930017499,
          0.6843984840393345,
          0.5521569274981798,
          0.598217477069309,
          0.616812803288362,
          0.7105486722662492,
          0.5860902487791677,
          0.544473722240437,
          0.6212479095036064,
          0.5413488270686566,
          0.78129230772616,
          0.7066949011038575,
          0.7725166927889858,
          0.7968636490176515,
          0.7405228552466107,
          0.7910661850549197,
          0.6136832436826918,
          0.7020317234861582,
          0.6362806371275361,
          0.7467467508625387,
          0.6530487000088729,
          0.7947172457054095,
          0.6576896981895703,
          0.7423327515339,
          0.7096294701874313,
          0.6687639132987847,
          0.6947083305649204,
          0.7772709430980054,
          0.6080027278982285,
          0.7211403678949779,
          0.5653298292431441,
          0.6241992754050089,
          0.7221983772612154,
          0.6763471528165083,
          0.5987916943186349,
          0.6828233045938946,
          0.7937376590555261,
          0.7234956118730128,
          0.6061941003268952,
          0.7464586936337131,
          0.5750592047591265,
          0.7006382858541687,
          0.5551505779017503,
          0.6084417533041067,
          0.6582803984238144,
          0.6600790169730193,
          0.6462569987925337,
          0.7681809133732593,
          0.6236475882493329,
          0.6551668138037077,
          0.6558595436721005,
          0.5825249642075548,
          0.7574438897659925,
          0.5467482586982946,
          0.7574451287705188,
          0.5476425289476331,
          0.5242302590140209,
          0.5426720850213994,
          0.5694691970527193
         ],
         "yaxis": "y"
        }
       ],
       "layout": {
        "legend": {
         "title": {
          "text": "Feature"
         },
         "tracegroupgap": 0
        },
        "template": {
         "data": {
          "bar": [
           {
            "error_x": {
             "color": "#2a3f5f"
            },
            "error_y": {
             "color": "#2a3f5f"
            },
            "marker": {
             "line": {
              "color": "#E5ECF6",
              "width": 0.5
             },
             "pattern": {
              "fillmode": "overlay",
              "size": 10,
              "solidity": 0.2
             }
            },
            "type": "bar"
           }
          ],
          "barpolar": [
           {
            "marker": {
             "line": {
              "color": "#E5ECF6",
              "width": 0.5
             },
             "pattern": {
              "fillmode": "overlay",
              "size": 10,
              "solidity": 0.2
             }
            },
            "type": "barpolar"
           }
          ],
          "carpet": [
           {
            "aaxis": {
             "endlinecolor": "#2a3f5f",
             "gridcolor": "white",
             "linecolor": "white",
             "minorgridcolor": "white",
             "startlinecolor": "#2a3f5f"
            },
            "baxis": {
             "endlinecolor": "#2a3f5f",
             "gridcolor": "white",
             "linecolor": "white",
             "minorgridcolor": "white",
             "startlinecolor": "#2a3f5f"
            },
            "type": "carpet"
           }
          ],
          "choropleth": [
           {
            "colorbar": {
             "outlinewidth": 0,
             "ticks": ""
            },
            "type": "choropleth"
           }
          ],
          "contour": [
           {
            "colorbar": {
             "outlinewidth": 0,
             "ticks": ""
            },
            "colorscale": [
             [
              0,
              "#0d0887"
             ],
             [
              0.1111111111111111,
              "#46039f"
             ],
             [
              0.2222222222222222,
              "#7201a8"
             ],
             [
              0.3333333333333333,
              "#9c179e"
             ],
             [
              0.4444444444444444,
              "#bd3786"
             ],
             [
              0.5555555555555556,
              "#d8576b"
             ],
             [
              0.6666666666666666,
              "#ed7953"
             ],
             [
              0.7777777777777778,
              "#fb9f3a"
             ],
             [
              0.8888888888888888,
              "#fdca26"
             ],
             [
              1,
              "#f0f921"
             ]
            ],
            "type": "contour"
           }
          ],
          "contourcarpet": [
           {
            "colorbar": {
             "outlinewidth": 0,
             "ticks": ""
            },
            "type": "contourcarpet"
           }
          ],
          "heatmap": [
           {
            "colorbar": {
             "outlinewidth": 0,
             "ticks": ""
            },
            "colorscale": [
             [
              0,
              "#0d0887"
             ],
             [
              0.1111111111111111,
              "#46039f"
             ],
             [
              0.2222222222222222,
              "#7201a8"
             ],
             [
              0.3333333333333333,
              "#9c179e"
             ],
             [
              0.4444444444444444,
              "#bd3786"
             ],
             [
              0.5555555555555556,
              "#d8576b"
             ],
             [
              0.6666666666666666,
              "#ed7953"
             ],
             [
              0.7777777777777778,
              "#fb9f3a"
             ],
             [
              0.8888888888888888,
              "#fdca26"
             ],
             [
              1,
              "#f0f921"
             ]
            ],
            "type": "heatmap"
           }
          ],
          "heatmapgl": [
           {
            "colorbar": {
             "outlinewidth": 0,
             "ticks": ""
            },
            "colorscale": [
             [
              0,
              "#0d0887"
             ],
             [
              0.1111111111111111,
              "#46039f"
             ],
             [
              0.2222222222222222,
              "#7201a8"
             ],
             [
              0.3333333333333333,
              "#9c179e"
             ],
             [
              0.4444444444444444,
              "#bd3786"
             ],
             [
              0.5555555555555556,
              "#d8576b"
             ],
             [
              0.6666666666666666,
              "#ed7953"
             ],
             [
              0.7777777777777778,
              "#fb9f3a"
             ],
             [
              0.8888888888888888,
              "#fdca26"
             ],
             [
              1,
              "#f0f921"
             ]
            ],
            "type": "heatmapgl"
           }
          ],
          "histogram": [
           {
            "marker": {
             "pattern": {
              "fillmode": "overlay",
              "size": 10,
              "solidity": 0.2
             }
            },
            "type": "histogram"
           }
          ],
          "histogram2d": [
           {
            "colorbar": {
             "outlinewidth": 0,
             "ticks": ""
            },
            "colorscale": [
             [
              0,
              "#0d0887"
             ],
             [
              0.1111111111111111,
              "#46039f"
             ],
             [
              0.2222222222222222,
              "#7201a8"
             ],
             [
              0.3333333333333333,
              "#9c179e"
             ],
             [
              0.4444444444444444,
              "#bd3786"
             ],
             [
              0.5555555555555556,
              "#d8576b"
             ],
             [
              0.6666666666666666,
              "#ed7953"
             ],
             [
              0.7777777777777778,
              "#fb9f3a"
             ],
             [
              0.8888888888888888,
              "#fdca26"
             ],
             [
              1,
              "#f0f921"
             ]
            ],
            "type": "histogram2d"
           }
          ],
          "histogram2dcontour": [
           {
            "colorbar": {
             "outlinewidth": 0,
             "ticks": ""
            },
            "colorscale": [
             [
              0,
              "#0d0887"
             ],
             [
              0.1111111111111111,
              "#46039f"
             ],
             [
              0.2222222222222222,
              "#7201a8"
             ],
             [
              0.3333333333333333,
              "#9c179e"
             ],
             [
              0.4444444444444444,
              "#bd3786"
             ],
             [
              0.5555555555555556,
              "#d8576b"
             ],
             [
              0.6666666666666666,
              "#ed7953"
             ],
             [
              0.7777777777777778,
              "#fb9f3a"
             ],
             [
              0.8888888888888888,
              "#fdca26"
             ],
             [
              1,
              "#f0f921"
             ]
            ],
            "type": "histogram2dcontour"
           }
          ],
          "mesh3d": [
           {
            "colorbar": {
             "outlinewidth": 0,
             "ticks": ""
            },
            "type": "mesh3d"
           }
          ],
          "parcoords": [
           {
            "line": {
             "colorbar": {
              "outlinewidth": 0,
              "ticks": ""
             }
            },
            "type": "parcoords"
           }
          ],
          "pie": [
           {
            "automargin": true,
            "type": "pie"
           }
          ],
          "scatter": [
           {
            "fillpattern": {
             "fillmode": "overlay",
             "size": 10,
             "solidity": 0.2
            },
            "type": "scatter"
           }
          ],
          "scatter3d": [
           {
            "line": {
             "colorbar": {
              "outlinewidth": 0,
              "ticks": ""
             }
            },
            "marker": {
             "colorbar": {
              "outlinewidth": 0,
              "ticks": ""
             }
            },
            "type": "scatter3d"
           }
          ],
          "scattercarpet": [
           {
            "marker": {
             "colorbar": {
              "outlinewidth": 0,
              "ticks": ""
             }
            },
            "type": "scattercarpet"
           }
          ],
          "scattergeo": [
           {
            "marker": {
             "colorbar": {
              "outlinewidth": 0,
              "ticks": ""
             }
            },
            "type": "scattergeo"
           }
          ],
          "scattergl": [
           {
            "marker": {
             "colorbar": {
              "outlinewidth": 0,
              "ticks": ""
             }
            },
            "type": "scattergl"
           }
          ],
          "scattermapbox": [
           {
            "marker": {
             "colorbar": {
              "outlinewidth": 0,
              "ticks": ""
             }
            },
            "type": "scattermapbox"
           }
          ],
          "scatterpolar": [
           {
            "marker": {
             "colorbar": {
              "outlinewidth": 0,
              "ticks": ""
             }
            },
            "type": "scatterpolar"
           }
          ],
          "scatterpolargl": [
           {
            "marker": {
             "colorbar": {
              "outlinewidth": 0,
              "ticks": ""
             }
            },
            "type": "scatterpolargl"
           }
          ],
          "scatterternary": [
           {
            "marker": {
             "colorbar": {
              "outlinewidth": 0,
              "ticks": ""
             }
            },
            "type": "scatterternary"
           }
          ],
          "surface": [
           {
            "colorbar": {
             "outlinewidth": 0,
             "ticks": ""
            },
            "colorscale": [
             [
              0,
              "#0d0887"
             ],
             [
              0.1111111111111111,
              "#46039f"
             ],
             [
              0.2222222222222222,
              "#7201a8"
             ],
             [
              0.3333333333333333,
              "#9c179e"
             ],
             [
              0.4444444444444444,
              "#bd3786"
             ],
             [
              0.5555555555555556,
              "#d8576b"
             ],
             [
              0.6666666666666666,
              "#ed7953"
             ],
             [
              0.7777777777777778,
              "#fb9f3a"
             ],
             [
              0.8888888888888888,
              "#fdca26"
             ],
             [
              1,
              "#f0f921"
             ]
            ],
            "type": "surface"
           }
          ],
          "table": [
           {
            "cells": {
             "fill": {
              "color": "#EBF0F8"
             },
             "line": {
              "color": "white"
             }
            },
            "header": {
             "fill": {
              "color": "#C8D4E3"
             },
             "line": {
              "color": "white"
             }
            },
            "type": "table"
           }
          ]
         },
         "layout": {
          "annotationdefaults": {
           "arrowcolor": "#2a3f5f",
           "arrowhead": 0,
           "arrowwidth": 1
          },
          "autotypenumbers": "strict",
          "coloraxis": {
           "colorbar": {
            "outlinewidth": 0,
            "ticks": ""
           }
          },
          "colorscale": {
           "diverging": [
            [
             0,
             "#8e0152"
            ],
            [
             0.1,
             "#c51b7d"
            ],
            [
             0.2,
             "#de77ae"
            ],
            [
             0.3,
             "#f1b6da"
            ],
            [
             0.4,
             "#fde0ef"
            ],
            [
             0.5,
             "#f7f7f7"
            ],
            [
             0.6,
             "#e6f5d0"
            ],
            [
             0.7,
             "#b8e186"
            ],
            [
             0.8,
             "#7fbc41"
            ],
            [
             0.9,
             "#4d9221"
            ],
            [
             1,
             "#276419"
            ]
           ],
           "sequential": [
            [
             0,
             "#0d0887"
            ],
            [
             0.1111111111111111,
             "#46039f"
            ],
            [
             0.2222222222222222,
             "#7201a8"
            ],
            [
             0.3333333333333333,
             "#9c179e"
            ],
            [
             0.4444444444444444,
             "#bd3786"
            ],
            [
             0.5555555555555556,
             "#d8576b"
            ],
            [
             0.6666666666666666,
             "#ed7953"
            ],
            [
             0.7777777777777778,
             "#fb9f3a"
            ],
            [
             0.8888888888888888,
             "#fdca26"
            ],
            [
             1,
             "#f0f921"
            ]
           ],
           "sequentialminus": [
            [
             0,
             "#0d0887"
            ],
            [
             0.1111111111111111,
             "#46039f"
            ],
            [
             0.2222222222222222,
             "#7201a8"
            ],
            [
             0.3333333333333333,
             "#9c179e"
            ],
            [
             0.4444444444444444,
             "#bd3786"
            ],
            [
             0.5555555555555556,
             "#d8576b"
            ],
            [
             0.6666666666666666,
             "#ed7953"
            ],
            [
             0.7777777777777778,
             "#fb9f3a"
            ],
            [
             0.8888888888888888,
             "#fdca26"
            ],
            [
             1,
             "#f0f921"
            ]
           ]
          },
          "colorway": [
           "#636efa",
           "#EF553B",
           "#00cc96",
           "#ab63fa",
           "#FFA15A",
           "#19d3f3",
           "#FF6692",
           "#B6E880",
           "#FF97FF",
           "#FECB52"
          ],
          "font": {
           "color": "#2a3f5f"
          },
          "geo": {
           "bgcolor": "white",
           "lakecolor": "white",
           "landcolor": "#E5ECF6",
           "showlakes": true,
           "showland": true,
           "subunitcolor": "white"
          },
          "hoverlabel": {
           "align": "left"
          },
          "hovermode": "closest",
          "mapbox": {
           "style": "light"
          },
          "paper_bgcolor": "white",
          "plot_bgcolor": "#E5ECF6",
          "polar": {
           "angularaxis": {
            "gridcolor": "white",
            "linecolor": "white",
            "ticks": ""
           },
           "bgcolor": "#E5ECF6",
           "radialaxis": {
            "gridcolor": "white",
            "linecolor": "white",
            "ticks": ""
           }
          },
          "scene": {
           "xaxis": {
            "backgroundcolor": "#E5ECF6",
            "gridcolor": "white",
            "gridwidth": 2,
            "linecolor": "white",
            "showbackground": true,
            "ticks": "",
            "zerolinecolor": "white"
           },
           "yaxis": {
            "backgroundcolor": "#E5ECF6",
            "gridcolor": "white",
            "gridwidth": 2,
            "linecolor": "white",
            "showbackground": true,
            "ticks": "",
            "zerolinecolor": "white"
           },
           "zaxis": {
            "backgroundcolor": "#E5ECF6",
            "gridcolor": "white",
            "gridwidth": 2,
            "linecolor": "white",
            "showbackground": true,
            "ticks": "",
            "zerolinecolor": "white"
           }
          },
          "shapedefaults": {
           "line": {
            "color": "#2a3f5f"
           }
          },
          "ternary": {
           "aaxis": {
            "gridcolor": "white",
            "linecolor": "white",
            "ticks": ""
           },
           "baxis": {
            "gridcolor": "white",
            "linecolor": "white",
            "ticks": ""
           },
           "bgcolor": "#E5ECF6",
           "caxis": {
            "gridcolor": "white",
            "linecolor": "white",
            "ticks": ""
           }
          },
          "title": {
           "x": 0.05
          },
          "xaxis": {
           "automargin": true,
           "gridcolor": "white",
           "linecolor": "white",
           "ticks": "",
           "title": {
            "standoff": 15
           },
           "zerolinecolor": "white",
           "zerolinewidth": 2
          },
          "yaxis": {
           "automargin": true,
           "gridcolor": "white",
           "linecolor": "white",
           "ticks": "",
           "title": {
            "standoff": 15
           },
           "zerolinecolor": "white",
           "zerolinewidth": 2
          }
         }
        },
        "title": {
         "text": "Feature Importance Over Time"
        },
        "xaxis": {
         "anchor": "y",
         "domain": [
          0,
          1
         ],
         "title": {
          "text": "Future Dates"
         }
        },
        "yaxis": {
         "anchor": "x",
         "domain": [
          0,
          1
         ],
         "title": {
          "text": "Feature Importance"
         }
        }
       }
      }
     },
     "metadata": {},
     "output_type": "display_data"
    }
   ],
   "source": [
    "import plotly.express as px\n",
    "\n",
    "# Create a DataFrame showing feature importance over time (this is hypothetical for demo purposes)\n",
    "feature_importance_over_time = pd.DataFrame({\n",
    "    'Date': future_dates,\n",
    "    'Interest_Rate': np.random.uniform(0.2, 0.5, len(future_dates)),\n",
    "    'Median_Income': np.random.uniform(0.3, 0.6, len(future_dates)),\n",
    "    'Calgary_Population': np.random.uniform(0.5, 0.8, len(future_dates)),\n",
    "})\n",
    "\n",
    "# Melt the DataFrame to long format for plotting\n",
    "melted_importance = feature_importance_over_time.melt(id_vars=['Date'], var_name='Feature', value_name='Importance')\n",
    "\n",
    "# Create the line chart\n",
    "fig = px.line(melted_importance, x='Date', y='Importance', color='Feature',\n",
    "              title=\"Feature Importance Over Time\",\n",
    "              labels={'Importance': 'Feature Importance', 'Date': 'Future Dates'})\n",
    "\n",
    "fig.show()\n",
    "\n",
    "fig.write_html(\"feature_importance.html\")"
   ]
  },
  {
   "cell_type": "code",
   "execution_count": 280,
   "metadata": {},
   "outputs": [
    {
     "name": "stdout",
     "output_type": "stream",
     "text": [
      "Success: 'Median_Income' exists in merged_data.\n",
      "            Median_Income\n",
      "REF_DATE                 \n",
      "2005-01-01            NaN\n",
      "2005-02-01            NaN\n",
      "2005-03-01            NaN\n",
      "2005-04-01            NaN\n",
      "2005-05-01            NaN\n",
      "Missing values in Median_Income: 236\n"
     ]
    },
    {
     "data": {
      "application/vnd.plotly.v1+json": {
       "config": {
        "plotlyServerURL": "https://plot.ly"
       },
       "data": [
        {
         "mode": "lines",
         "name": "Median House Price",
         "type": "scatter",
         "x": [
          "2005-01-01T00:00:00",
          "2005-02-01T00:00:00",
          "2005-03-01T00:00:00",
          "2005-04-01T00:00:00",
          "2005-05-01T00:00:00",
          "2005-06-01T00:00:00",
          "2005-07-01T00:00:00",
          "2005-08-01T00:00:00",
          "2005-09-01T00:00:00",
          "2005-10-01T00:00:00",
          "2005-11-01T00:00:00",
          "2005-12-01T00:00:00",
          "2006-01-01T00:00:00",
          "2006-02-01T00:00:00",
          "2006-03-01T00:00:00",
          "2006-04-01T00:00:00",
          "2006-05-01T00:00:00",
          "2006-06-01T00:00:00",
          "2006-07-01T00:00:00",
          "2006-08-01T00:00:00",
          "2006-09-01T00:00:00",
          "2006-10-01T00:00:00",
          "2006-11-01T00:00:00",
          "2006-12-01T00:00:00",
          "2007-01-01T00:00:00",
          "2007-02-01T00:00:00",
          "2007-03-01T00:00:00",
          "2007-04-01T00:00:00",
          "2007-05-01T00:00:00",
          "2007-06-01T00:00:00",
          "2007-07-01T00:00:00",
          "2007-08-01T00:00:00",
          "2007-09-01T00:00:00",
          "2007-10-01T00:00:00",
          "2007-11-01T00:00:00",
          "2007-12-01T00:00:00",
          "2008-01-01T00:00:00",
          "2008-02-01T00:00:00",
          "2008-03-01T00:00:00",
          "2008-04-01T00:00:00",
          "2008-05-01T00:00:00",
          "2008-06-01T00:00:00",
          "2008-07-01T00:00:00",
          "2008-08-01T00:00:00",
          "2008-09-01T00:00:00",
          "2008-10-01T00:00:00",
          "2008-11-01T00:00:00",
          "2008-12-01T00:00:00",
          "2009-01-01T00:00:00",
          "2009-02-01T00:00:00",
          "2009-03-01T00:00:00",
          "2009-04-01T00:00:00",
          "2009-05-01T00:00:00",
          "2009-06-01T00:00:00",
          "2009-07-01T00:00:00",
          "2009-08-01T00:00:00",
          "2009-09-01T00:00:00",
          "2009-10-01T00:00:00",
          "2009-11-01T00:00:00",
          "2009-12-01T00:00:00",
          "2010-01-01T00:00:00",
          "2010-02-01T00:00:00",
          "2010-03-01T00:00:00",
          "2010-04-01T00:00:00",
          "2010-05-01T00:00:00",
          "2010-06-01T00:00:00",
          "2010-07-01T00:00:00",
          "2010-08-01T00:00:00",
          "2010-09-01T00:00:00",
          "2010-10-01T00:00:00",
          "2010-11-01T00:00:00",
          "2010-12-01T00:00:00",
          "2011-01-01T00:00:00",
          "2011-02-01T00:00:00",
          "2011-03-01T00:00:00",
          "2011-04-01T00:00:00",
          "2011-05-01T00:00:00",
          "2011-06-01T00:00:00",
          "2011-07-01T00:00:00",
          "2011-08-01T00:00:00",
          "2011-09-01T00:00:00",
          "2011-10-01T00:00:00",
          "2011-11-01T00:00:00",
          "2011-12-01T00:00:00",
          "2012-01-01T00:00:00",
          "2012-02-01T00:00:00",
          "2012-03-01T00:00:00",
          "2012-04-01T00:00:00",
          "2012-05-01T00:00:00",
          "2012-06-01T00:00:00",
          "2012-07-01T00:00:00",
          "2012-08-01T00:00:00",
          "2012-09-01T00:00:00",
          "2012-10-01T00:00:00",
          "2012-11-01T00:00:00",
          "2012-12-01T00:00:00",
          "2013-01-01T00:00:00",
          "2013-02-01T00:00:00",
          "2013-03-01T00:00:00",
          "2013-04-01T00:00:00",
          "2013-05-01T00:00:00",
          "2013-06-01T00:00:00",
          "2013-07-01T00:00:00",
          "2013-08-01T00:00:00",
          "2013-09-01T00:00:00",
          "2013-10-01T00:00:00",
          "2013-11-01T00:00:00",
          "2013-12-01T00:00:00",
          "2014-01-01T00:00:00",
          "2014-02-01T00:00:00",
          "2014-03-01T00:00:00",
          "2014-04-01T00:00:00",
          "2014-05-01T00:00:00",
          "2014-06-01T00:00:00",
          "2014-07-01T00:00:00",
          "2014-08-01T00:00:00",
          "2014-09-01T00:00:00",
          "2014-10-01T00:00:00",
          "2014-11-01T00:00:00",
          "2014-12-01T00:00:00",
          "2015-01-01T00:00:00",
          "2015-02-01T00:00:00",
          "2015-03-01T00:00:00",
          "2015-04-01T00:00:00",
          "2015-05-01T00:00:00",
          "2015-06-01T00:00:00",
          "2015-07-01T00:00:00",
          "2015-08-01T00:00:00",
          "2015-09-01T00:00:00",
          "2015-10-01T00:00:00",
          "2015-11-01T00:00:00",
          "2015-12-01T00:00:00",
          "2016-01-01T00:00:00",
          "2016-02-01T00:00:00",
          "2016-03-01T00:00:00",
          "2016-04-01T00:00:00",
          "2016-05-01T00:00:00",
          "2016-06-01T00:00:00",
          "2016-07-01T00:00:00",
          "2016-08-01T00:00:00",
          "2016-09-01T00:00:00",
          "2016-10-01T00:00:00",
          "2016-11-01T00:00:00",
          "2016-12-01T00:00:00",
          "2017-01-01T00:00:00",
          "2017-02-01T00:00:00",
          "2017-03-01T00:00:00",
          "2017-04-01T00:00:00",
          "2017-05-01T00:00:00",
          "2017-06-01T00:00:00",
          "2017-07-01T00:00:00",
          "2017-08-01T00:00:00",
          "2017-09-01T00:00:00",
          "2017-10-01T00:00:00",
          "2017-11-01T00:00:00",
          "2017-12-01T00:00:00",
          "2018-01-01T00:00:00",
          "2018-02-01T00:00:00",
          "2018-03-01T00:00:00",
          "2018-04-01T00:00:00",
          "2018-05-01T00:00:00",
          "2018-06-01T00:00:00",
          "2018-07-01T00:00:00",
          "2018-08-01T00:00:00",
          "2018-09-01T00:00:00",
          "2018-10-01T00:00:00",
          "2018-11-01T00:00:00",
          "2018-12-01T00:00:00",
          "2019-01-01T00:00:00",
          "2019-02-01T00:00:00",
          "2019-03-01T00:00:00",
          "2019-04-01T00:00:00",
          "2019-05-01T00:00:00",
          "2019-06-01T00:00:00",
          "2019-07-01T00:00:00",
          "2019-08-01T00:00:00",
          "2019-09-01T00:00:00",
          "2019-10-01T00:00:00",
          "2019-11-01T00:00:00",
          "2019-12-01T00:00:00",
          "2020-01-01T00:00:00",
          "2020-02-01T00:00:00",
          "2020-03-01T00:00:00",
          "2020-04-01T00:00:00",
          "2020-05-01T00:00:00",
          "2020-06-01T00:00:00",
          "2020-07-01T00:00:00",
          "2020-08-01T00:00:00",
          "2020-09-01T00:00:00",
          "2020-10-01T00:00:00",
          "2020-11-01T00:00:00",
          "2020-12-01T00:00:00",
          "2021-01-01T00:00:00",
          "2021-02-01T00:00:00",
          "2021-03-01T00:00:00",
          "2021-04-01T00:00:00",
          "2021-05-01T00:00:00",
          "2021-06-01T00:00:00",
          "2021-07-01T00:00:00",
          "2021-08-01T00:00:00",
          "2021-09-01T00:00:00",
          "2021-10-01T00:00:00",
          "2021-11-01T00:00:00",
          "2021-12-01T00:00:00",
          "2022-01-01T00:00:00",
          "2022-02-01T00:00:00",
          "2022-03-01T00:00:00",
          "2022-04-01T00:00:00",
          "2022-05-01T00:00:00",
          "2022-06-01T00:00:00",
          "2022-07-01T00:00:00",
          "2022-08-01T00:00:00",
          "2022-09-01T00:00:00",
          "2022-10-01T00:00:00",
          "2022-11-01T00:00:00",
          "2022-12-01T00:00:00",
          "2023-01-01T00:00:00",
          "2023-02-01T00:00:00",
          "2023-03-01T00:00:00",
          "2023-04-01T00:00:00",
          "2023-05-01T00:00:00",
          "2023-06-01T00:00:00",
          "2023-07-01T00:00:00",
          "2023-08-01T00:00:00",
          "2023-09-01T00:00:00",
          "2023-10-01T00:00:00",
          "2023-11-01T00:00:00",
          "2023-12-01T00:00:00",
          "2024-01-01T00:00:00",
          "2024-02-01T00:00:00",
          "2024-03-01T00:00:00",
          "2024-04-01T00:00:00",
          "2024-05-01T00:00:00",
          "2024-06-01T00:00:00",
          "2024-07-01T00:00:00",
          "2024-08-01T00:00:00"
         ],
         "y": [
          206500,
          206500,
          206500,
          206500,
          206500,
          206500,
          206500,
          206500,
          206500,
          206500,
          206500,
          206500,
          221000,
          221000,
          221000,
          221000,
          221000,
          221000,
          221000,
          221000,
          221000,
          221000,
          221000,
          221000,
          318000,
          318000,
          318000,
          318000,
          318000,
          318000,
          318000,
          318000,
          318000,
          318000,
          318000,
          318000,
          399000,
          399000,
          399000,
          399000,
          399000,
          399000,
          399000,
          399000,
          399000,
          399000,
          399000,
          399000,
          376500,
          376500,
          376500,
          376500,
          376500,
          376500,
          376500,
          376500,
          376500,
          376500,
          376500,
          376500,
          325500,
          325500,
          325500,
          325500,
          325500,
          325500,
          325500,
          325500,
          325500,
          325500,
          325500,
          325500,
          357000,
          357000,
          357000,
          357000,
          357000,
          357000,
          357000,
          357000,
          357000,
          357000,
          357000,
          357000,
          343500,
          343500,
          343500,
          343500,
          343500,
          343500,
          343500,
          343500,
          343500,
          343500,
          343500,
          343500,
          349500,
          349500,
          349500,
          349500,
          349500,
          349500,
          349500,
          349500,
          349500,
          349500,
          349500,
          349500,
          375000,
          375000,
          375000,
          375000,
          375000,
          375000,
          375000,
          375000,
          375000,
          375000,
          375000,
          375000,
          412500,
          412500,
          412500,
          412500,
          412500,
          412500,
          412500,
          412500,
          412500,
          412500,
          412500,
          412500,
          404500,
          404500,
          404500,
          404500,
          404500,
          404500,
          404500,
          404500,
          404500,
          404500,
          404500,
          404500,
          388000,
          388000,
          388000,
          388000,
          388000,
          388000,
          388000,
          388000,
          388000,
          388000,
          388000,
          388000,
          396000,
          396000,
          396000,
          396000,
          396000,
          396000,
          396000,
          396000,
          396000,
          396000,
          396000,
          396000,
          388500,
          388500,
          388500,
          388500,
          388500,
          388500,
          388500,
          388500,
          388500,
          388500,
          388500,
          388500,
          368000,
          368000,
          368000,
          368000,
          368000,
          368000,
          368000,
          368000,
          368000,
          368000,
          368000,
          368000,
          358000,
          358000,
          358000,
          358000,
          358000,
          358000,
          358000,
          358000,
          358000,
          358000,
          358000,
          358000,
          396000,
          396000,
          396000,
          396000,
          396000,
          396000,
          396000,
          396000,
          396000,
          396000,
          396000,
          396000,
          450000,
          450000,
          450000,
          450000,
          450000,
          450000,
          450000,
          450000,
          450000,
          450000,
          450000,
          450000,
          450000,
          450000,
          450000,
          450000,
          450000,
          450000,
          450000,
          450000
         ]
        },
        {
         "mode": "lines",
         "name": "Interest Rate",
         "type": "scatter",
         "x": [
          "2005-01-01T00:00:00",
          "2005-02-01T00:00:00",
          "2005-03-01T00:00:00",
          "2005-04-01T00:00:00",
          "2005-05-01T00:00:00",
          "2005-06-01T00:00:00",
          "2005-07-01T00:00:00",
          "2005-08-01T00:00:00",
          "2005-09-01T00:00:00",
          "2005-10-01T00:00:00",
          "2005-11-01T00:00:00",
          "2005-12-01T00:00:00",
          "2006-01-01T00:00:00",
          "2006-02-01T00:00:00",
          "2006-03-01T00:00:00",
          "2006-04-01T00:00:00",
          "2006-05-01T00:00:00",
          "2006-06-01T00:00:00",
          "2006-07-01T00:00:00",
          "2006-08-01T00:00:00",
          "2006-09-01T00:00:00",
          "2006-10-01T00:00:00",
          "2006-11-01T00:00:00",
          "2006-12-01T00:00:00",
          "2007-01-01T00:00:00",
          "2007-02-01T00:00:00",
          "2007-03-01T00:00:00",
          "2007-04-01T00:00:00",
          "2007-05-01T00:00:00",
          "2007-06-01T00:00:00",
          "2007-07-01T00:00:00",
          "2007-08-01T00:00:00",
          "2007-09-01T00:00:00",
          "2007-10-01T00:00:00",
          "2007-11-01T00:00:00",
          "2007-12-01T00:00:00",
          "2008-01-01T00:00:00",
          "2008-02-01T00:00:00",
          "2008-03-01T00:00:00",
          "2008-04-01T00:00:00",
          "2008-05-01T00:00:00",
          "2008-06-01T00:00:00",
          "2008-07-01T00:00:00",
          "2008-08-01T00:00:00",
          "2008-09-01T00:00:00",
          "2008-10-01T00:00:00",
          "2008-11-01T00:00:00",
          "2008-12-01T00:00:00",
          "2009-01-01T00:00:00",
          "2009-02-01T00:00:00",
          "2009-03-01T00:00:00",
          "2009-04-01T00:00:00",
          "2009-05-01T00:00:00",
          "2009-06-01T00:00:00",
          "2009-07-01T00:00:00",
          "2009-08-01T00:00:00",
          "2009-09-01T00:00:00",
          "2009-10-01T00:00:00",
          "2009-11-01T00:00:00",
          "2009-12-01T00:00:00",
          "2010-01-01T00:00:00",
          "2010-02-01T00:00:00",
          "2010-03-01T00:00:00",
          "2010-04-01T00:00:00",
          "2010-05-01T00:00:00",
          "2010-06-01T00:00:00",
          "2010-07-01T00:00:00",
          "2010-08-01T00:00:00",
          "2010-09-01T00:00:00",
          "2010-10-01T00:00:00",
          "2010-11-01T00:00:00",
          "2010-12-01T00:00:00",
          "2011-01-01T00:00:00",
          "2011-02-01T00:00:00",
          "2011-03-01T00:00:00",
          "2011-04-01T00:00:00",
          "2011-05-01T00:00:00",
          "2011-06-01T00:00:00",
          "2011-07-01T00:00:00",
          "2011-08-01T00:00:00",
          "2011-09-01T00:00:00",
          "2011-10-01T00:00:00",
          "2011-11-01T00:00:00",
          "2011-12-01T00:00:00",
          "2012-01-01T00:00:00",
          "2012-02-01T00:00:00",
          "2012-03-01T00:00:00",
          "2012-04-01T00:00:00",
          "2012-05-01T00:00:00",
          "2012-06-01T00:00:00",
          "2012-07-01T00:00:00",
          "2012-08-01T00:00:00",
          "2012-09-01T00:00:00",
          "2012-10-01T00:00:00",
          "2012-11-01T00:00:00",
          "2012-12-01T00:00:00",
          "2013-01-01T00:00:00",
          "2013-02-01T00:00:00",
          "2013-03-01T00:00:00",
          "2013-04-01T00:00:00",
          "2013-05-01T00:00:00",
          "2013-06-01T00:00:00",
          "2013-07-01T00:00:00",
          "2013-08-01T00:00:00",
          "2013-09-01T00:00:00",
          "2013-10-01T00:00:00",
          "2013-11-01T00:00:00",
          "2013-12-01T00:00:00",
          "2014-01-01T00:00:00",
          "2014-02-01T00:00:00",
          "2014-03-01T00:00:00",
          "2014-04-01T00:00:00",
          "2014-05-01T00:00:00",
          "2014-06-01T00:00:00",
          "2014-07-01T00:00:00",
          "2014-08-01T00:00:00",
          "2014-09-01T00:00:00",
          "2014-10-01T00:00:00",
          "2014-11-01T00:00:00",
          "2014-12-01T00:00:00",
          "2015-01-01T00:00:00",
          "2015-02-01T00:00:00",
          "2015-03-01T00:00:00",
          "2015-04-01T00:00:00",
          "2015-05-01T00:00:00",
          "2015-06-01T00:00:00",
          "2015-07-01T00:00:00",
          "2015-08-01T00:00:00",
          "2015-09-01T00:00:00",
          "2015-10-01T00:00:00",
          "2015-11-01T00:00:00",
          "2015-12-01T00:00:00",
          "2016-01-01T00:00:00",
          "2016-02-01T00:00:00",
          "2016-03-01T00:00:00",
          "2016-04-01T00:00:00",
          "2016-05-01T00:00:00",
          "2016-06-01T00:00:00",
          "2016-07-01T00:00:00",
          "2016-08-01T00:00:00",
          "2016-09-01T00:00:00",
          "2016-10-01T00:00:00",
          "2016-11-01T00:00:00",
          "2016-12-01T00:00:00",
          "2017-01-01T00:00:00",
          "2017-02-01T00:00:00",
          "2017-03-01T00:00:00",
          "2017-04-01T00:00:00",
          "2017-05-01T00:00:00",
          "2017-06-01T00:00:00",
          "2017-07-01T00:00:00",
          "2017-08-01T00:00:00",
          "2017-09-01T00:00:00",
          "2017-10-01T00:00:00",
          "2017-11-01T00:00:00",
          "2017-12-01T00:00:00",
          "2018-01-01T00:00:00",
          "2018-02-01T00:00:00",
          "2018-03-01T00:00:00",
          "2018-04-01T00:00:00",
          "2018-05-01T00:00:00",
          "2018-06-01T00:00:00",
          "2018-07-01T00:00:00",
          "2018-08-01T00:00:00",
          "2018-09-01T00:00:00",
          "2018-10-01T00:00:00",
          "2018-11-01T00:00:00",
          "2018-12-01T00:00:00",
          "2019-01-01T00:00:00",
          "2019-02-01T00:00:00",
          "2019-03-01T00:00:00",
          "2019-04-01T00:00:00",
          "2019-05-01T00:00:00",
          "2019-06-01T00:00:00",
          "2019-07-01T00:00:00",
          "2019-08-01T00:00:00",
          "2019-09-01T00:00:00",
          "2019-10-01T00:00:00",
          "2019-11-01T00:00:00",
          "2019-12-01T00:00:00",
          "2020-01-01T00:00:00",
          "2020-02-01T00:00:00",
          "2020-03-01T00:00:00",
          "2020-04-01T00:00:00",
          "2020-05-01T00:00:00",
          "2020-06-01T00:00:00",
          "2020-07-01T00:00:00",
          "2020-08-01T00:00:00",
          "2020-09-01T00:00:00",
          "2020-10-01T00:00:00",
          "2020-11-01T00:00:00",
          "2020-12-01T00:00:00",
          "2021-01-01T00:00:00",
          "2021-02-01T00:00:00",
          "2021-03-01T00:00:00",
          "2021-04-01T00:00:00",
          "2021-05-01T00:00:00",
          "2021-06-01T00:00:00",
          "2021-07-01T00:00:00",
          "2021-08-01T00:00:00",
          "2021-09-01T00:00:00",
          "2021-10-01T00:00:00",
          "2021-11-01T00:00:00",
          "2021-12-01T00:00:00",
          "2022-01-01T00:00:00",
          "2022-02-01T00:00:00",
          "2022-03-01T00:00:00",
          "2022-04-01T00:00:00",
          "2022-05-01T00:00:00",
          "2022-06-01T00:00:00",
          "2022-07-01T00:00:00",
          "2022-08-01T00:00:00",
          "2022-09-01T00:00:00",
          "2022-10-01T00:00:00",
          "2022-11-01T00:00:00",
          "2022-12-01T00:00:00",
          "2023-01-01T00:00:00",
          "2023-02-01T00:00:00",
          "2023-03-01T00:00:00",
          "2023-04-01T00:00:00",
          "2023-05-01T00:00:00",
          "2023-06-01T00:00:00",
          "2023-07-01T00:00:00",
          "2023-08-01T00:00:00",
          "2023-09-01T00:00:00",
          "2023-10-01T00:00:00",
          "2023-11-01T00:00:00",
          "2023-12-01T00:00:00",
          "2024-01-01T00:00:00",
          "2024-02-01T00:00:00",
          "2024-03-01T00:00:00",
          "2024-04-01T00:00:00",
          "2024-05-01T00:00:00",
          "2024-06-01T00:00:00",
          "2024-07-01T00:00:00",
          "2024-08-01T00:00:00"
         ],
         "y": [
          2.75,
          2.75,
          2.75,
          2.75,
          2.75,
          2.75,
          2.75,
          2.75,
          3,
          3.125,
          3.25,
          3.5,
          3.5625,
          3.75,
          3.95,
          4.0625,
          4.35,
          4.5,
          4.5,
          4.5,
          4.5,
          4.5,
          4.5,
          4.5,
          4.5,
          4.5,
          4.5,
          4.5,
          4.5,
          4.5,
          4.6875,
          4.75,
          4.75,
          4.75,
          4.75,
          4.5,
          4.4,
          4.25,
          3.75,
          3.55,
          3.25,
          3.25,
          3.25,
          3.25,
          3.25,
          2.75,
          2.5,
          1.9,
          1.5,
          1.25,
          0.75,
          0.65,
          0.5,
          0.5,
          0.5,
          0.5,
          0.5,
          0.5,
          0.5,
          0.5,
          0.5,
          0.5,
          0.5,
          0.5,
          0.5,
          0.75,
          0.875,
          1,
          1.2,
          1.25,
          1.25,
          1.25,
          1.25,
          1.25,
          1.25,
          1.25,
          1.25,
          1.25,
          1.25,
          1.25,
          1.25,
          1.25,
          1.25,
          1.25,
          1.25,
          1.25,
          1.25,
          1.25,
          1.25,
          1.25,
          1.25,
          1.25,
          1.25,
          1.25,
          1.25,
          1.25,
          1.25,
          1.25,
          1.25,
          1.25,
          1.25,
          1.25,
          1.25,
          1.25,
          1.25,
          1.25,
          1.25,
          1.25,
          1.25,
          1.25,
          1.25,
          1.25,
          1.25,
          1.25,
          1.25,
          1.25,
          1.25,
          1.25,
          1.25,
          1.25,
          1.125,
          1,
          1,
          1,
          1,
          1,
          0.85,
          0.75,
          0.75,
          0.75,
          0.75,
          0.75,
          0.75,
          0.75,
          0.75,
          0.75,
          0.75,
          0.75,
          0.75,
          0.75,
          0.75,
          0.75,
          0.75,
          0.75,
          0.75,
          0.75,
          0.75,
          0.75,
          0.75,
          0.75,
          0.9375,
          1,
          1.25,
          1.25,
          1.25,
          1.25,
          1.4,
          1.5,
          1.5,
          1.5,
          1.5,
          1.5,
          1.6875,
          1.75,
          1.75,
          1.85,
          2,
          2,
          2,
          2,
          2,
          2,
          2,
          2,
          2,
          2,
          2,
          2,
          2,
          2,
          2,
          2,
          1.25,
          0.5,
          0.5,
          0.5,
          0.5,
          0.5,
          0.5,
          0.5,
          0.5,
          0.5,
          0.5,
          0.5,
          0.5,
          0.5,
          0.5,
          0.5,
          0.5,
          0.5,
          0.5,
          0.5,
          0.5,
          0.5,
          0.5,
          0.5,
          0.7,
          1,
          1.25,
          1.65,
          2.25,
          2.75,
          3.3125,
          3.5,
          4,
          4.375,
          4.5,
          4.75,
          4.75,
          4.75,
          4.75,
          4.9375,
          5.125,
          5.25,
          5.25,
          5.25,
          5.25,
          5.25,
          5.25,
          5.25,
          5.25,
          5.25,
          5.25,
          5.0625,
          4.95,
          4.75
         ]
        },
        {
         "mode": "lines",
         "name": "Calgary Population",
         "type": "scatter",
         "x": [
          "2005-01-01T00:00:00",
          "2005-02-01T00:00:00",
          "2005-03-01T00:00:00",
          "2005-04-01T00:00:00",
          "2005-05-01T00:00:00",
          "2005-06-01T00:00:00",
          "2005-07-01T00:00:00",
          "2005-08-01T00:00:00",
          "2005-09-01T00:00:00",
          "2005-10-01T00:00:00",
          "2005-11-01T00:00:00",
          "2005-12-01T00:00:00",
          "2006-01-01T00:00:00",
          "2006-02-01T00:00:00",
          "2006-03-01T00:00:00",
          "2006-04-01T00:00:00",
          "2006-05-01T00:00:00",
          "2006-06-01T00:00:00",
          "2006-07-01T00:00:00",
          "2006-08-01T00:00:00",
          "2006-09-01T00:00:00",
          "2006-10-01T00:00:00",
          "2006-11-01T00:00:00",
          "2006-12-01T00:00:00",
          "2007-01-01T00:00:00",
          "2007-02-01T00:00:00",
          "2007-03-01T00:00:00",
          "2007-04-01T00:00:00",
          "2007-05-01T00:00:00",
          "2007-06-01T00:00:00",
          "2007-07-01T00:00:00",
          "2007-08-01T00:00:00",
          "2007-09-01T00:00:00",
          "2007-10-01T00:00:00",
          "2007-11-01T00:00:00",
          "2007-12-01T00:00:00",
          "2008-01-01T00:00:00",
          "2008-02-01T00:00:00",
          "2008-03-01T00:00:00",
          "2008-04-01T00:00:00",
          "2008-05-01T00:00:00",
          "2008-06-01T00:00:00",
          "2008-07-01T00:00:00",
          "2008-08-01T00:00:00",
          "2008-09-01T00:00:00",
          "2008-10-01T00:00:00",
          "2008-11-01T00:00:00",
          "2008-12-01T00:00:00",
          "2009-01-01T00:00:00",
          "2009-02-01T00:00:00",
          "2009-03-01T00:00:00",
          "2009-04-01T00:00:00",
          "2009-05-01T00:00:00",
          "2009-06-01T00:00:00",
          "2009-07-01T00:00:00",
          "2009-08-01T00:00:00",
          "2009-09-01T00:00:00",
          "2009-10-01T00:00:00",
          "2009-11-01T00:00:00",
          "2009-12-01T00:00:00",
          "2010-01-01T00:00:00",
          "2010-02-01T00:00:00",
          "2010-03-01T00:00:00",
          "2010-04-01T00:00:00",
          "2010-05-01T00:00:00",
          "2010-06-01T00:00:00",
          "2010-07-01T00:00:00",
          "2010-08-01T00:00:00",
          "2010-09-01T00:00:00",
          "2010-10-01T00:00:00",
          "2010-11-01T00:00:00",
          "2010-12-01T00:00:00",
          "2011-01-01T00:00:00",
          "2011-02-01T00:00:00",
          "2011-03-01T00:00:00",
          "2011-04-01T00:00:00",
          "2011-05-01T00:00:00",
          "2011-06-01T00:00:00",
          "2011-07-01T00:00:00",
          "2011-08-01T00:00:00",
          "2011-09-01T00:00:00",
          "2011-10-01T00:00:00",
          "2011-11-01T00:00:00",
          "2011-12-01T00:00:00",
          "2012-01-01T00:00:00",
          "2012-02-01T00:00:00",
          "2012-03-01T00:00:00",
          "2012-04-01T00:00:00",
          "2012-05-01T00:00:00",
          "2012-06-01T00:00:00",
          "2012-07-01T00:00:00",
          "2012-08-01T00:00:00",
          "2012-09-01T00:00:00",
          "2012-10-01T00:00:00",
          "2012-11-01T00:00:00",
          "2012-12-01T00:00:00",
          "2013-01-01T00:00:00",
          "2013-02-01T00:00:00",
          "2013-03-01T00:00:00",
          "2013-04-01T00:00:00",
          "2013-05-01T00:00:00",
          "2013-06-01T00:00:00",
          "2013-07-01T00:00:00",
          "2013-08-01T00:00:00",
          "2013-09-01T00:00:00",
          "2013-10-01T00:00:00",
          "2013-11-01T00:00:00",
          "2013-12-01T00:00:00",
          "2014-01-01T00:00:00",
          "2014-02-01T00:00:00",
          "2014-03-01T00:00:00",
          "2014-04-01T00:00:00",
          "2014-05-01T00:00:00",
          "2014-06-01T00:00:00",
          "2014-07-01T00:00:00",
          "2014-08-01T00:00:00",
          "2014-09-01T00:00:00",
          "2014-10-01T00:00:00",
          "2014-11-01T00:00:00",
          "2014-12-01T00:00:00",
          "2015-01-01T00:00:00",
          "2015-02-01T00:00:00",
          "2015-03-01T00:00:00",
          "2015-04-01T00:00:00",
          "2015-05-01T00:00:00",
          "2015-06-01T00:00:00",
          "2015-07-01T00:00:00",
          "2015-08-01T00:00:00",
          "2015-09-01T00:00:00",
          "2015-10-01T00:00:00",
          "2015-11-01T00:00:00",
          "2015-12-01T00:00:00",
          "2016-01-01T00:00:00",
          "2016-02-01T00:00:00",
          "2016-03-01T00:00:00",
          "2016-04-01T00:00:00",
          "2016-05-01T00:00:00",
          "2016-06-01T00:00:00",
          "2016-07-01T00:00:00",
          "2016-08-01T00:00:00",
          "2016-09-01T00:00:00",
          "2016-10-01T00:00:00",
          "2016-11-01T00:00:00",
          "2016-12-01T00:00:00",
          "2017-01-01T00:00:00",
          "2017-02-01T00:00:00",
          "2017-03-01T00:00:00",
          "2017-04-01T00:00:00",
          "2017-05-01T00:00:00",
          "2017-06-01T00:00:00",
          "2017-07-01T00:00:00",
          "2017-08-01T00:00:00",
          "2017-09-01T00:00:00",
          "2017-10-01T00:00:00",
          "2017-11-01T00:00:00",
          "2017-12-01T00:00:00",
          "2018-01-01T00:00:00",
          "2018-02-01T00:00:00",
          "2018-03-01T00:00:00",
          "2018-04-01T00:00:00",
          "2018-05-01T00:00:00",
          "2018-06-01T00:00:00",
          "2018-07-01T00:00:00",
          "2018-08-01T00:00:00",
          "2018-09-01T00:00:00",
          "2018-10-01T00:00:00",
          "2018-11-01T00:00:00",
          "2018-12-01T00:00:00",
          "2019-01-01T00:00:00",
          "2019-02-01T00:00:00",
          "2019-03-01T00:00:00",
          "2019-04-01T00:00:00",
          "2019-05-01T00:00:00",
          "2019-06-01T00:00:00",
          "2019-07-01T00:00:00",
          "2019-08-01T00:00:00",
          "2019-09-01T00:00:00",
          "2019-10-01T00:00:00",
          "2019-11-01T00:00:00",
          "2019-12-01T00:00:00",
          "2020-01-01T00:00:00",
          "2020-02-01T00:00:00",
          "2020-03-01T00:00:00",
          "2020-04-01T00:00:00",
          "2020-05-01T00:00:00",
          "2020-06-01T00:00:00",
          "2020-07-01T00:00:00",
          "2020-08-01T00:00:00",
          "2020-09-01T00:00:00",
          "2020-10-01T00:00:00",
          "2020-11-01T00:00:00",
          "2020-12-01T00:00:00",
          "2021-01-01T00:00:00",
          "2021-02-01T00:00:00",
          "2021-03-01T00:00:00",
          "2021-04-01T00:00:00",
          "2021-05-01T00:00:00",
          "2021-06-01T00:00:00",
          "2021-07-01T00:00:00",
          "2021-08-01T00:00:00",
          "2021-09-01T00:00:00",
          "2021-10-01T00:00:00",
          "2021-11-01T00:00:00",
          "2021-12-01T00:00:00",
          "2022-01-01T00:00:00",
          "2022-02-01T00:00:00",
          "2022-03-01T00:00:00",
          "2022-04-01T00:00:00",
          "2022-05-01T00:00:00",
          "2022-06-01T00:00:00",
          "2022-07-01T00:00:00",
          "2022-08-01T00:00:00",
          "2022-09-01T00:00:00",
          "2022-10-01T00:00:00",
          "2022-11-01T00:00:00",
          "2022-12-01T00:00:00",
          "2023-01-01T00:00:00",
          "2023-02-01T00:00:00",
          "2023-03-01T00:00:00",
          "2023-04-01T00:00:00",
          "2023-05-01T00:00:00",
          "2023-06-01T00:00:00",
          "2023-07-01T00:00:00",
          "2023-08-01T00:00:00",
          "2023-09-01T00:00:00",
          "2023-10-01T00:00:00",
          "2023-11-01T00:00:00",
          "2023-12-01T00:00:00",
          "2024-01-01T00:00:00",
          "2024-02-01T00:00:00",
          "2024-03-01T00:00:00",
          "2024-04-01T00:00:00",
          "2024-05-01T00:00:00",
          "2024-06-01T00:00:00",
          "2024-07-01T00:00:00",
          "2024-08-01T00:00:00"
         ],
         "y": [
          1030000,
          1030000,
          1030000,
          1030000,
          1030000,
          1030000,
          1030000,
          1030000,
          1030000,
          1030000,
          1030000,
          1030000,
          1056000,
          1056000,
          1056000,
          1056000,
          1056000,
          1056000,
          1056000,
          1056000,
          1056000,
          1056000,
          1056000,
          1056000,
          1083000,
          1083000,
          1083000,
          1083000,
          1083000,
          1083000,
          1083000,
          1083000,
          1083000,
          1083000,
          1083000,
          1083000,
          1109000,
          1109000,
          1109000,
          1109000,
          1109000,
          1109000,
          1109000,
          1109000,
          1109000,
          1109000,
          1109000,
          1109000,
          1135000,
          1135000,
          1135000,
          1135000,
          1135000,
          1135000,
          1135000,
          1135000,
          1135000,
          1135000,
          1135000,
          1135000,
          1162000,
          1162000,
          1162000,
          1162000,
          1162000,
          1162000,
          1162000,
          1162000,
          1162000,
          1162000,
          1162000,
          1162000,
          1190000,
          1190000,
          1190000,
          1190000,
          1190000,
          1190000,
          1190000,
          1190000,
          1190000,
          1190000,
          1190000,
          1190000,
          1220000,
          1220000,
          1220000,
          1220000,
          1220000,
          1220000,
          1220000,
          1220000,
          1220000,
          1220000,
          1220000,
          1220000,
          1253000,
          1253000,
          1253000,
          1253000,
          1253000,
          1253000,
          1253000,
          1253000,
          1253000,
          1253000,
          1253000,
          1253000,
          1288000,
          1288000,
          1288000,
          1288000,
          1288000,
          1288000,
          1288000,
          1288000,
          1288000,
          1288000,
          1288000,
          1288000,
          1324000,
          1324000,
          1324000,
          1324000,
          1324000,
          1324000,
          1324000,
          1324000,
          1324000,
          1324000,
          1324000,
          1324000,
          1360000,
          1360000,
          1360000,
          1360000,
          1360000,
          1360000,
          1360000,
          1360000,
          1360000,
          1360000,
          1360000,
          1360000,
          1398000,
          1398000,
          1398000,
          1398000,
          1398000,
          1398000,
          1398000,
          1398000,
          1398000,
          1398000,
          1398000,
          1398000,
          1437000,
          1437000,
          1437000,
          1437000,
          1437000,
          1437000,
          1437000,
          1437000,
          1437000,
          1437000,
          1437000,
          1437000,
          1477000,
          1477000,
          1477000,
          1477000,
          1477000,
          1477000,
          1477000,
          1477000,
          1477000,
          1477000,
          1477000,
          1477000,
          1513000,
          1513000,
          1513000,
          1513000,
          1513000,
          1513000,
          1513000,
          1513000,
          1513000,
          1513000,
          1513000,
          1513000,
          1547000,
          1547000,
          1547000,
          1547000,
          1547000,
          1547000,
          1547000,
          1547000,
          1547000,
          1547000,
          1547000,
          1547000,
          1581000,
          1581000,
          1581000,
          1581000,
          1581000,
          1581000,
          1581000,
          1581000,
          1581000,
          1581000,
          1581000,
          1581000,
          1611000,
          1611000,
          1611000,
          1611000,
          1611000,
          1611000,
          1611000,
          1611000,
          1611000,
          1611000,
          1611000,
          1611000,
          1640000,
          1640000,
          1640000,
          1640000,
          1640000,
          1640000,
          1640000,
          1640000
         ]
        },
        {
         "line": {
          "dash": "dash"
         },
         "mode": "lines",
         "name": "Median Income (2005-2022) (Adjusted For Inflation)",
         "type": "scatter",
         "x": [
          "2005-01-01T00:00:00",
          "2005-02-01T00:00:00",
          "2005-03-01T00:00:00",
          "2005-04-01T00:00:00",
          "2005-05-01T00:00:00",
          "2005-06-01T00:00:00",
          "2005-07-01T00:00:00",
          "2005-08-01T00:00:00",
          "2005-09-01T00:00:00",
          "2005-10-01T00:00:00",
          "2005-11-01T00:00:00",
          "2005-12-01T00:00:00",
          "2006-01-01T00:00:00",
          "2006-02-01T00:00:00",
          "2006-03-01T00:00:00",
          "2006-04-01T00:00:00",
          "2006-05-01T00:00:00",
          "2006-06-01T00:00:00",
          "2006-07-01T00:00:00",
          "2006-08-01T00:00:00",
          "2006-09-01T00:00:00",
          "2006-10-01T00:00:00",
          "2006-11-01T00:00:00",
          "2006-12-01T00:00:00",
          "2007-01-01T00:00:00",
          "2007-02-01T00:00:00",
          "2007-03-01T00:00:00",
          "2007-04-01T00:00:00",
          "2007-05-01T00:00:00",
          "2007-06-01T00:00:00",
          "2007-07-01T00:00:00",
          "2007-08-01T00:00:00",
          "2007-09-01T00:00:00",
          "2007-10-01T00:00:00",
          "2007-11-01T00:00:00",
          "2007-12-01T00:00:00",
          "2008-01-01T00:00:00",
          "2008-02-01T00:00:00",
          "2008-03-01T00:00:00",
          "2008-04-01T00:00:00",
          "2008-05-01T00:00:00",
          "2008-06-01T00:00:00",
          "2008-07-01T00:00:00",
          "2008-08-01T00:00:00",
          "2008-09-01T00:00:00",
          "2008-10-01T00:00:00",
          "2008-11-01T00:00:00",
          "2008-12-01T00:00:00",
          "2009-01-01T00:00:00",
          "2009-02-01T00:00:00",
          "2009-03-01T00:00:00",
          "2009-04-01T00:00:00",
          "2009-05-01T00:00:00",
          "2009-06-01T00:00:00",
          "2009-07-01T00:00:00",
          "2009-08-01T00:00:00",
          "2009-09-01T00:00:00",
          "2009-10-01T00:00:00",
          "2009-11-01T00:00:00",
          "2009-12-01T00:00:00",
          "2010-01-01T00:00:00",
          "2010-02-01T00:00:00",
          "2010-03-01T00:00:00",
          "2010-04-01T00:00:00",
          "2010-05-01T00:00:00",
          "2010-06-01T00:00:00",
          "2010-07-01T00:00:00",
          "2010-08-01T00:00:00",
          "2010-09-01T00:00:00",
          "2010-10-01T00:00:00",
          "2010-11-01T00:00:00",
          "2010-12-01T00:00:00",
          "2011-01-01T00:00:00",
          "2011-02-01T00:00:00",
          "2011-03-01T00:00:00",
          "2011-04-01T00:00:00",
          "2011-05-01T00:00:00",
          "2011-06-01T00:00:00",
          "2011-07-01T00:00:00",
          "2011-08-01T00:00:00",
          "2011-09-01T00:00:00",
          "2011-10-01T00:00:00",
          "2011-11-01T00:00:00",
          "2011-12-01T00:00:00",
          "2012-01-01T00:00:00",
          "2012-02-01T00:00:00",
          "2012-03-01T00:00:00",
          "2012-04-01T00:00:00",
          "2012-05-01T00:00:00",
          "2012-06-01T00:00:00",
          "2012-07-01T00:00:00",
          "2012-08-01T00:00:00",
          "2012-09-01T00:00:00",
          "2012-10-01T00:00:00",
          "2012-11-01T00:00:00",
          "2012-12-01T00:00:00",
          "2013-01-01T00:00:00",
          "2013-02-01T00:00:00",
          "2013-03-01T00:00:00",
          "2013-04-01T00:00:00",
          "2013-05-01T00:00:00",
          "2013-06-01T00:00:00",
          "2013-07-01T00:00:00",
          "2013-08-01T00:00:00",
          "2013-09-01T00:00:00",
          "2013-10-01T00:00:00",
          "2013-11-01T00:00:00",
          "2013-12-01T00:00:00",
          "2014-01-01T00:00:00",
          "2014-02-01T00:00:00",
          "2014-03-01T00:00:00",
          "2014-04-01T00:00:00",
          "2014-05-01T00:00:00",
          "2014-06-01T00:00:00",
          "2014-07-01T00:00:00",
          "2014-08-01T00:00:00",
          "2014-09-01T00:00:00",
          "2014-10-01T00:00:00",
          "2014-11-01T00:00:00",
          "2014-12-01T00:00:00",
          "2015-01-01T00:00:00",
          "2015-02-01T00:00:00",
          "2015-03-01T00:00:00",
          "2015-04-01T00:00:00",
          "2015-05-01T00:00:00",
          "2015-06-01T00:00:00",
          "2015-07-01T00:00:00",
          "2015-08-01T00:00:00",
          "2015-09-01T00:00:00",
          "2015-10-01T00:00:00",
          "2015-11-01T00:00:00",
          "2015-12-01T00:00:00",
          "2016-01-01T00:00:00",
          "2016-02-01T00:00:00",
          "2016-03-01T00:00:00",
          "2016-04-01T00:00:00",
          "2016-05-01T00:00:00",
          "2016-06-01T00:00:00",
          "2016-07-01T00:00:00",
          "2016-08-01T00:00:00",
          "2016-09-01T00:00:00",
          "2016-10-01T00:00:00",
          "2016-11-01T00:00:00",
          "2016-12-01T00:00:00",
          "2017-01-01T00:00:00",
          "2017-02-01T00:00:00",
          "2017-03-01T00:00:00",
          "2017-04-01T00:00:00",
          "2017-05-01T00:00:00",
          "2017-06-01T00:00:00",
          "2017-07-01T00:00:00",
          "2017-08-01T00:00:00",
          "2017-09-01T00:00:00",
          "2017-10-01T00:00:00",
          "2017-11-01T00:00:00",
          "2017-12-01T00:00:00",
          "2018-01-01T00:00:00",
          "2018-02-01T00:00:00",
          "2018-03-01T00:00:00",
          "2018-04-01T00:00:00",
          "2018-05-01T00:00:00",
          "2018-06-01T00:00:00",
          "2018-07-01T00:00:00",
          "2018-08-01T00:00:00",
          "2018-09-01T00:00:00",
          "2018-10-01T00:00:00",
          "2018-11-01T00:00:00",
          "2018-12-01T00:00:00",
          "2019-01-01T00:00:00",
          "2019-02-01T00:00:00",
          "2019-03-01T00:00:00",
          "2019-04-01T00:00:00",
          "2019-05-01T00:00:00",
          "2019-06-01T00:00:00",
          "2019-07-01T00:00:00",
          "2019-08-01T00:00:00",
          "2019-09-01T00:00:00",
          "2019-10-01T00:00:00",
          "2019-11-01T00:00:00",
          "2019-12-01T00:00:00",
          "2020-01-01T00:00:00",
          "2020-02-01T00:00:00",
          "2020-03-01T00:00:00",
          "2020-04-01T00:00:00",
          "2020-05-01T00:00:00",
          "2020-06-01T00:00:00",
          "2020-07-01T00:00:00",
          "2020-08-01T00:00:00",
          "2020-09-01T00:00:00",
          "2020-10-01T00:00:00",
          "2020-11-01T00:00:00",
          "2020-12-01T00:00:00",
          "2021-01-01T00:00:00",
          "2021-02-01T00:00:00",
          "2021-03-01T00:00:00",
          "2021-04-01T00:00:00",
          "2021-05-01T00:00:00",
          "2021-06-01T00:00:00",
          "2021-07-01T00:00:00",
          "2021-08-01T00:00:00",
          "2021-09-01T00:00:00",
          "2021-10-01T00:00:00",
          "2021-11-01T00:00:00",
          "2021-12-01T00:00:00",
          "2022-01-01T00:00:00",
          "2022-02-01T00:00:00",
          "2022-03-01T00:00:00",
          "2022-04-01T00:00:00",
          "2022-05-01T00:00:00",
          "2022-06-01T00:00:00",
          "2022-07-01T00:00:00",
          "2022-08-01T00:00:00",
          "2022-09-01T00:00:00",
          "2022-10-01T00:00:00",
          "2022-11-01T00:00:00",
          "2022-12-01T00:00:00",
          "2023-01-01T00:00:00",
          "2023-02-01T00:00:00",
          "2023-03-01T00:00:00",
          "2023-04-01T00:00:00",
          "2023-05-01T00:00:00",
          "2023-06-01T00:00:00",
          "2023-07-01T00:00:00",
          "2023-08-01T00:00:00",
          "2023-09-01T00:00:00",
          "2023-10-01T00:00:00",
          "2023-11-01T00:00:00",
          "2023-12-01T00:00:00",
          "2024-01-01T00:00:00",
          "2024-02-01T00:00:00",
          "2024-03-01T00:00:00",
          "2024-04-01T00:00:00",
          "2024-05-01T00:00:00",
          "2024-06-01T00:00:00",
          "2024-07-01T00:00:00",
          "2024-08-01T00:00:00"
         ],
         "y": [
          null,
          null,
          null,
          null,
          null,
          null,
          null,
          null,
          null,
          null,
          null,
          null,
          null,
          null,
          null,
          null,
          null,
          null,
          null,
          null,
          null,
          null,
          null,
          null,
          null,
          null,
          null,
          null,
          null,
          null,
          null,
          null,
          null,
          null,
          null,
          null,
          null,
          null,
          null,
          null,
          null,
          null,
          null,
          null,
          null,
          null,
          null,
          null,
          null,
          null,
          null,
          null,
          null,
          null,
          null,
          null,
          null,
          null,
          null,
          null,
          null,
          null,
          null,
          null,
          null,
          null,
          null,
          null,
          null,
          null,
          null,
          null,
          null,
          null,
          null,
          null,
          null,
          null,
          null,
          null,
          null,
          null,
          null,
          null,
          null,
          null,
          null,
          null,
          null,
          null,
          null,
          null,
          null,
          null,
          null,
          null,
          null,
          null,
          null,
          null,
          null,
          null,
          null,
          null,
          null,
          null,
          null,
          null,
          null,
          null,
          null,
          null,
          null,
          null,
          null,
          null,
          null,
          null,
          null,
          null,
          null,
          null,
          null,
          null,
          null,
          null,
          null,
          null,
          null,
          null,
          null,
          null,
          null,
          null,
          null,
          null,
          null,
          null,
          null,
          null,
          null,
          null,
          null,
          null,
          null,
          null,
          null,
          null,
          null,
          null,
          null,
          null,
          null,
          null,
          null,
          null,
          null,
          null,
          null,
          null,
          null,
          null,
          null,
          null,
          null,
          null,
          null,
          null,
          null,
          null,
          null,
          null,
          null,
          null,
          null,
          null,
          null,
          null,
          null,
          null,
          null,
          null,
          null,
          null,
          null,
          null,
          null,
          null,
          null,
          null,
          null,
          null,
          null,
          null,
          null,
          null,
          null,
          null,
          null,
          null,
          null,
          null,
          null,
          null,
          null,
          null,
          null,
          null,
          null,
          null,
          null,
          null,
          null,
          null,
          null,
          null,
          null,
          null,
          null,
          null,
          null,
          null,
          null,
          null,
          null,
          null,
          null,
          null,
          null,
          null,
          null,
          null,
          null,
          null,
          null,
          null
         ]
        }
       ],
       "layout": {
        "hovermode": "x unified",
        "template": {
         "data": {
          "bar": [
           {
            "error_x": {
             "color": "#2a3f5f"
            },
            "error_y": {
             "color": "#2a3f5f"
            },
            "marker": {
             "line": {
              "color": "#E5ECF6",
              "width": 0.5
             },
             "pattern": {
              "fillmode": "overlay",
              "size": 10,
              "solidity": 0.2
             }
            },
            "type": "bar"
           }
          ],
          "barpolar": [
           {
            "marker": {
             "line": {
              "color": "#E5ECF6",
              "width": 0.5
             },
             "pattern": {
              "fillmode": "overlay",
              "size": 10,
              "solidity": 0.2
             }
            },
            "type": "barpolar"
           }
          ],
          "carpet": [
           {
            "aaxis": {
             "endlinecolor": "#2a3f5f",
             "gridcolor": "white",
             "linecolor": "white",
             "minorgridcolor": "white",
             "startlinecolor": "#2a3f5f"
            },
            "baxis": {
             "endlinecolor": "#2a3f5f",
             "gridcolor": "white",
             "linecolor": "white",
             "minorgridcolor": "white",
             "startlinecolor": "#2a3f5f"
            },
            "type": "carpet"
           }
          ],
          "choropleth": [
           {
            "colorbar": {
             "outlinewidth": 0,
             "ticks": ""
            },
            "type": "choropleth"
           }
          ],
          "contour": [
           {
            "colorbar": {
             "outlinewidth": 0,
             "ticks": ""
            },
            "colorscale": [
             [
              0,
              "#0d0887"
             ],
             [
              0.1111111111111111,
              "#46039f"
             ],
             [
              0.2222222222222222,
              "#7201a8"
             ],
             [
              0.3333333333333333,
              "#9c179e"
             ],
             [
              0.4444444444444444,
              "#bd3786"
             ],
             [
              0.5555555555555556,
              "#d8576b"
             ],
             [
              0.6666666666666666,
              "#ed7953"
             ],
             [
              0.7777777777777778,
              "#fb9f3a"
             ],
             [
              0.8888888888888888,
              "#fdca26"
             ],
             [
              1,
              "#f0f921"
             ]
            ],
            "type": "contour"
           }
          ],
          "contourcarpet": [
           {
            "colorbar": {
             "outlinewidth": 0,
             "ticks": ""
            },
            "type": "contourcarpet"
           }
          ],
          "heatmap": [
           {
            "colorbar": {
             "outlinewidth": 0,
             "ticks": ""
            },
            "colorscale": [
             [
              0,
              "#0d0887"
             ],
             [
              0.1111111111111111,
              "#46039f"
             ],
             [
              0.2222222222222222,
              "#7201a8"
             ],
             [
              0.3333333333333333,
              "#9c179e"
             ],
             [
              0.4444444444444444,
              "#bd3786"
             ],
             [
              0.5555555555555556,
              "#d8576b"
             ],
             [
              0.6666666666666666,
              "#ed7953"
             ],
             [
              0.7777777777777778,
              "#fb9f3a"
             ],
             [
              0.8888888888888888,
              "#fdca26"
             ],
             [
              1,
              "#f0f921"
             ]
            ],
            "type": "heatmap"
           }
          ],
          "heatmapgl": [
           {
            "colorbar": {
             "outlinewidth": 0,
             "ticks": ""
            },
            "colorscale": [
             [
              0,
              "#0d0887"
             ],
             [
              0.1111111111111111,
              "#46039f"
             ],
             [
              0.2222222222222222,
              "#7201a8"
             ],
             [
              0.3333333333333333,
              "#9c179e"
             ],
             [
              0.4444444444444444,
              "#bd3786"
             ],
             [
              0.5555555555555556,
              "#d8576b"
             ],
             [
              0.6666666666666666,
              "#ed7953"
             ],
             [
              0.7777777777777778,
              "#fb9f3a"
             ],
             [
              0.8888888888888888,
              "#fdca26"
             ],
             [
              1,
              "#f0f921"
             ]
            ],
            "type": "heatmapgl"
           }
          ],
          "histogram": [
           {
            "marker": {
             "pattern": {
              "fillmode": "overlay",
              "size": 10,
              "solidity": 0.2
             }
            },
            "type": "histogram"
           }
          ],
          "histogram2d": [
           {
            "colorbar": {
             "outlinewidth": 0,
             "ticks": ""
            },
            "colorscale": [
             [
              0,
              "#0d0887"
             ],
             [
              0.1111111111111111,
              "#46039f"
             ],
             [
              0.2222222222222222,
              "#7201a8"
             ],
             [
              0.3333333333333333,
              "#9c179e"
             ],
             [
              0.4444444444444444,
              "#bd3786"
             ],
             [
              0.5555555555555556,
              "#d8576b"
             ],
             [
              0.6666666666666666,
              "#ed7953"
             ],
             [
              0.7777777777777778,
              "#fb9f3a"
             ],
             [
              0.8888888888888888,
              "#fdca26"
             ],
             [
              1,
              "#f0f921"
             ]
            ],
            "type": "histogram2d"
           }
          ],
          "histogram2dcontour": [
           {
            "colorbar": {
             "outlinewidth": 0,
             "ticks": ""
            },
            "colorscale": [
             [
              0,
              "#0d0887"
             ],
             [
              0.1111111111111111,
              "#46039f"
             ],
             [
              0.2222222222222222,
              "#7201a8"
             ],
             [
              0.3333333333333333,
              "#9c179e"
             ],
             [
              0.4444444444444444,
              "#bd3786"
             ],
             [
              0.5555555555555556,
              "#d8576b"
             ],
             [
              0.6666666666666666,
              "#ed7953"
             ],
             [
              0.7777777777777778,
              "#fb9f3a"
             ],
             [
              0.8888888888888888,
              "#fdca26"
             ],
             [
              1,
              "#f0f921"
             ]
            ],
            "type": "histogram2dcontour"
           }
          ],
          "mesh3d": [
           {
            "colorbar": {
             "outlinewidth": 0,
             "ticks": ""
            },
            "type": "mesh3d"
           }
          ],
          "parcoords": [
           {
            "line": {
             "colorbar": {
              "outlinewidth": 0,
              "ticks": ""
             }
            },
            "type": "parcoords"
           }
          ],
          "pie": [
           {
            "automargin": true,
            "type": "pie"
           }
          ],
          "scatter": [
           {
            "fillpattern": {
             "fillmode": "overlay",
             "size": 10,
             "solidity": 0.2
            },
            "type": "scatter"
           }
          ],
          "scatter3d": [
           {
            "line": {
             "colorbar": {
              "outlinewidth": 0,
              "ticks": ""
             }
            },
            "marker": {
             "colorbar": {
              "outlinewidth": 0,
              "ticks": ""
             }
            },
            "type": "scatter3d"
           }
          ],
          "scattercarpet": [
           {
            "marker": {
             "colorbar": {
              "outlinewidth": 0,
              "ticks": ""
             }
            },
            "type": "scattercarpet"
           }
          ],
          "scattergeo": [
           {
            "marker": {
             "colorbar": {
              "outlinewidth": 0,
              "ticks": ""
             }
            },
            "type": "scattergeo"
           }
          ],
          "scattergl": [
           {
            "marker": {
             "colorbar": {
              "outlinewidth": 0,
              "ticks": ""
             }
            },
            "type": "scattergl"
           }
          ],
          "scattermapbox": [
           {
            "marker": {
             "colorbar": {
              "outlinewidth": 0,
              "ticks": ""
             }
            },
            "type": "scattermapbox"
           }
          ],
          "scatterpolar": [
           {
            "marker": {
             "colorbar": {
              "outlinewidth": 0,
              "ticks": ""
             }
            },
            "type": "scatterpolar"
           }
          ],
          "scatterpolargl": [
           {
            "marker": {
             "colorbar": {
              "outlinewidth": 0,
              "ticks": ""
             }
            },
            "type": "scatterpolargl"
           }
          ],
          "scatterternary": [
           {
            "marker": {
             "colorbar": {
              "outlinewidth": 0,
              "ticks": ""
             }
            },
            "type": "scatterternary"
           }
          ],
          "surface": [
           {
            "colorbar": {
             "outlinewidth": 0,
             "ticks": ""
            },
            "colorscale": [
             [
              0,
              "#0d0887"
             ],
             [
              0.1111111111111111,
              "#46039f"
             ],
             [
              0.2222222222222222,
              "#7201a8"
             ],
             [
              0.3333333333333333,
              "#9c179e"
             ],
             [
              0.4444444444444444,
              "#bd3786"
             ],
             [
              0.5555555555555556,
              "#d8576b"
             ],
             [
              0.6666666666666666,
              "#ed7953"
             ],
             [
              0.7777777777777778,
              "#fb9f3a"
             ],
             [
              0.8888888888888888,
              "#fdca26"
             ],
             [
              1,
              "#f0f921"
             ]
            ],
            "type": "surface"
           }
          ],
          "table": [
           {
            "cells": {
             "fill": {
              "color": "#EBF0F8"
             },
             "line": {
              "color": "white"
             }
            },
            "header": {
             "fill": {
              "color": "#C8D4E3"
             },
             "line": {
              "color": "white"
             }
            },
            "type": "table"
           }
          ]
         },
         "layout": {
          "annotationdefaults": {
           "arrowcolor": "#2a3f5f",
           "arrowhead": 0,
           "arrowwidth": 1
          },
          "autotypenumbers": "strict",
          "coloraxis": {
           "colorbar": {
            "outlinewidth": 0,
            "ticks": ""
           }
          },
          "colorscale": {
           "diverging": [
            [
             0,
             "#8e0152"
            ],
            [
             0.1,
             "#c51b7d"
            ],
            [
             0.2,
             "#de77ae"
            ],
            [
             0.3,
             "#f1b6da"
            ],
            [
             0.4,
             "#fde0ef"
            ],
            [
             0.5,
             "#f7f7f7"
            ],
            [
             0.6,
             "#e6f5d0"
            ],
            [
             0.7,
             "#b8e186"
            ],
            [
             0.8,
             "#7fbc41"
            ],
            [
             0.9,
             "#4d9221"
            ],
            [
             1,
             "#276419"
            ]
           ],
           "sequential": [
            [
             0,
             "#0d0887"
            ],
            [
             0.1111111111111111,
             "#46039f"
            ],
            [
             0.2222222222222222,
             "#7201a8"
            ],
            [
             0.3333333333333333,
             "#9c179e"
            ],
            [
             0.4444444444444444,
             "#bd3786"
            ],
            [
             0.5555555555555556,
             "#d8576b"
            ],
            [
             0.6666666666666666,
             "#ed7953"
            ],
            [
             0.7777777777777778,
             "#fb9f3a"
            ],
            [
             0.8888888888888888,
             "#fdca26"
            ],
            [
             1,
             "#f0f921"
            ]
           ],
           "sequentialminus": [
            [
             0,
             "#0d0887"
            ],
            [
             0.1111111111111111,
             "#46039f"
            ],
            [
             0.2222222222222222,
             "#7201a8"
            ],
            [
             0.3333333333333333,
             "#9c179e"
            ],
            [
             0.4444444444444444,
             "#bd3786"
            ],
            [
             0.5555555555555556,
             "#d8576b"
            ],
            [
             0.6666666666666666,
             "#ed7953"
            ],
            [
             0.7777777777777778,
             "#fb9f3a"
            ],
            [
             0.8888888888888888,
             "#fdca26"
            ],
            [
             1,
             "#f0f921"
            ]
           ]
          },
          "colorway": [
           "#636efa",
           "#EF553B",
           "#00cc96",
           "#ab63fa",
           "#FFA15A",
           "#19d3f3",
           "#FF6692",
           "#B6E880",
           "#FF97FF",
           "#FECB52"
          ],
          "font": {
           "color": "#2a3f5f"
          },
          "geo": {
           "bgcolor": "white",
           "lakecolor": "white",
           "landcolor": "#E5ECF6",
           "showlakes": true,
           "showland": true,
           "subunitcolor": "white"
          },
          "hoverlabel": {
           "align": "left"
          },
          "hovermode": "closest",
          "mapbox": {
           "style": "light"
          },
          "paper_bgcolor": "white",
          "plot_bgcolor": "#E5ECF6",
          "polar": {
           "angularaxis": {
            "gridcolor": "white",
            "linecolor": "white",
            "ticks": ""
           },
           "bgcolor": "#E5ECF6",
           "radialaxis": {
            "gridcolor": "white",
            "linecolor": "white",
            "ticks": ""
           }
          },
          "scene": {
           "xaxis": {
            "backgroundcolor": "#E5ECF6",
            "gridcolor": "white",
            "gridwidth": 2,
            "linecolor": "white",
            "showbackground": true,
            "ticks": "",
            "zerolinecolor": "white"
           },
           "yaxis": {
            "backgroundcolor": "#E5ECF6",
            "gridcolor": "white",
            "gridwidth": 2,
            "linecolor": "white",
            "showbackground": true,
            "ticks": "",
            "zerolinecolor": "white"
           },
           "zaxis": {
            "backgroundcolor": "#E5ECF6",
            "gridcolor": "white",
            "gridwidth": 2,
            "linecolor": "white",
            "showbackground": true,
            "ticks": "",
            "zerolinecolor": "white"
           }
          },
          "shapedefaults": {
           "line": {
            "color": "#2a3f5f"
           }
          },
          "ternary": {
           "aaxis": {
            "gridcolor": "white",
            "linecolor": "white",
            "ticks": ""
           },
           "baxis": {
            "gridcolor": "white",
            "linecolor": "white",
            "ticks": ""
           },
           "bgcolor": "#E5ECF6",
           "caxis": {
            "gridcolor": "white",
            "linecolor": "white",
            "ticks": ""
           }
          },
          "title": {
           "x": 0.05
          },
          "xaxis": {
           "automargin": true,
           "gridcolor": "white",
           "linecolor": "white",
           "ticks": "",
           "title": {
            "standoff": 15
           },
           "zerolinecolor": "white",
           "zerolinewidth": 2
          },
          "yaxis": {
           "automargin": true,
           "gridcolor": "white",
           "linecolor": "white",
           "ticks": "",
           "title": {
            "standoff": 15
           },
           "zerolinecolor": "white",
           "zerolinewidth": 2
          }
         }
        },
        "title": {
         "text": "Housing Prices, Interest Rates, Population, and Income (2005-2022)"
        },
        "xaxis": {
         "title": {
          "text": "Year"
         }
        },
        "yaxis": {
         "title": {
          "text": "Values"
         }
        }
       }
      }
     },
     "metadata": {},
     "output_type": "display_data"
    }
   ],
   "source": [
    "import plotly.graph_objects as go\n",
    "\n",
    "# Ensure data is filtered to 2005 and onwards\n",
    "merged_data = merged_data[merged_data.index >= '2005-01-01']\n",
    "\n",
    "# Debugging step: Check if 'Median_Income' exists in merged_data\n",
    "if 'Median_Income' not in merged_data.columns:\n",
    "    print(\"Error: 'Median_Income' column not found in merged_data.\")\n",
    "else:\n",
    "    print(\"Success: 'Median_Income' exists in merged_data.\")\n",
    "    print(merged_data[['Median_Income']].head())  # Show first few rows to check values\n",
    "    print(\"Missing values in Median_Income:\", merged_data['Median_Income'].isna().sum())\n",
    "\n",
    "# Create the line chart\n",
    "fig = go.Figure()\n",
    "\n",
    "# Add a trace for Median House Price\n",
    "fig.add_trace(go.Scatter(x=merged_data.index, y=merged_data['Median_House_Price'],\n",
    "                         mode='lines', name='Median House Price'))\n",
    "\n",
    "# Add a trace for Interest Rate\n",
    "fig.add_trace(go.Scatter(x=merged_data.index, y=merged_data['Interest_Rate'],\n",
    "                         mode='lines', name='Interest Rate'))\n",
    "\n",
    "# Add a trace for Calgary Population\n",
    "fig.add_trace(go.Scatter(x=merged_data.index, y=merged_data['Calgary_Population'],\n",
    "                         mode='lines', name='Calgary Population'))\n",
    "\n",
    "# Add a trace for Median Income only up to 2022\n",
    "fig.add_trace(go.Scatter(x=merged_data.index, y=merged_data['Median_Income'],\n",
    "                         mode='lines', name='Median Income (2005-2022) (Adjusted For Inflation)',\n",
    "                         line=dict(dash='dash')))  # Dashed line to indicate partial data\n",
    "\n",
    "# Customize the layout\n",
    "fig.update_layout(\n",
    "    title='Housing Prices, Interest Rates, Population, and Income (2005-2022)',\n",
    "    xaxis_title='Year',\n",
    "    yaxis_title='Values',\n",
    "    hovermode='x unified'  # Shows a unified tooltip for all lines at the same time\n",
    ")\n",
    "\n",
    "# Show the chart\n",
    "fig.show()\n"
   ]
  },
  {
   "cell_type": "code",
   "execution_count": 282,
   "metadata": {},
   "outputs": [
    {
     "data": {
      "text/html": [
       "<div>\n",
       "<style scoped>\n",
       "    .dataframe tbody tr th:only-of-type {\n",
       "        vertical-align: middle;\n",
       "    }\n",
       "\n",
       "    .dataframe tbody tr th {\n",
       "        vertical-align: top;\n",
       "    }\n",
       "\n",
       "    .dataframe thead th {\n",
       "        text-align: right;\n",
       "    }\n",
       "</style>\n",
       "<table border=\"1\" class=\"dataframe\">\n",
       "  <thead>\n",
       "    <tr style=\"text-align: right;\">\n",
       "      <th></th>\n",
       "      <th>Housing_Price_Index</th>\n",
       "      <th>Interest_Rate</th>\n",
       "      <th>Median_Income</th>\n",
       "      <th>Calgary_Population</th>\n",
       "      <th>Annual_Population_Change</th>\n",
       "      <th>Median_House_Price</th>\n",
       "    </tr>\n",
       "    <tr>\n",
       "      <th>REF_DATE</th>\n",
       "      <th></th>\n",
       "      <th></th>\n",
       "      <th></th>\n",
       "      <th></th>\n",
       "      <th></th>\n",
       "      <th></th>\n",
       "    </tr>\n",
       "  </thead>\n",
       "  <tbody>\n",
       "    <tr>\n",
       "      <th>2005-01-01</th>\n",
       "      <td>52.0</td>\n",
       "      <td>2.7500</td>\n",
       "      <td>NaN</td>\n",
       "      <td>1030000.0</td>\n",
       "      <td>2.59</td>\n",
       "      <td>206500.0</td>\n",
       "    </tr>\n",
       "    <tr>\n",
       "      <th>2005-02-01</th>\n",
       "      <td>52.3</td>\n",
       "      <td>2.7500</td>\n",
       "      <td>NaN</td>\n",
       "      <td>1030000.0</td>\n",
       "      <td>2.59</td>\n",
       "      <td>206500.0</td>\n",
       "    </tr>\n",
       "    <tr>\n",
       "      <th>2005-03-01</th>\n",
       "      <td>52.4</td>\n",
       "      <td>2.7500</td>\n",
       "      <td>NaN</td>\n",
       "      <td>1030000.0</td>\n",
       "      <td>2.59</td>\n",
       "      <td>206500.0</td>\n",
       "    </tr>\n",
       "    <tr>\n",
       "      <th>2005-04-01</th>\n",
       "      <td>52.8</td>\n",
       "      <td>2.7500</td>\n",
       "      <td>NaN</td>\n",
       "      <td>1030000.0</td>\n",
       "      <td>2.59</td>\n",
       "      <td>206500.0</td>\n",
       "    </tr>\n",
       "    <tr>\n",
       "      <th>2005-05-01</th>\n",
       "      <td>53.1</td>\n",
       "      <td>2.7500</td>\n",
       "      <td>NaN</td>\n",
       "      <td>1030000.0</td>\n",
       "      <td>2.59</td>\n",
       "      <td>206500.0</td>\n",
       "    </tr>\n",
       "    <tr>\n",
       "      <th>2005-06-01</th>\n",
       "      <td>53.7</td>\n",
       "      <td>2.7500</td>\n",
       "      <td>NaN</td>\n",
       "      <td>1030000.0</td>\n",
       "      <td>2.59</td>\n",
       "      <td>206500.0</td>\n",
       "    </tr>\n",
       "    <tr>\n",
       "      <th>2005-07-01</th>\n",
       "      <td>53.7</td>\n",
       "      <td>2.7500</td>\n",
       "      <td>NaN</td>\n",
       "      <td>1030000.0</td>\n",
       "      <td>2.59</td>\n",
       "      <td>206500.0</td>\n",
       "    </tr>\n",
       "    <tr>\n",
       "      <th>2005-08-01</th>\n",
       "      <td>54.0</td>\n",
       "      <td>2.7500</td>\n",
       "      <td>NaN</td>\n",
       "      <td>1030000.0</td>\n",
       "      <td>2.59</td>\n",
       "      <td>206500.0</td>\n",
       "    </tr>\n",
       "    <tr>\n",
       "      <th>2005-09-01</th>\n",
       "      <td>55.0</td>\n",
       "      <td>3.0000</td>\n",
       "      <td>NaN</td>\n",
       "      <td>1030000.0</td>\n",
       "      <td>2.59</td>\n",
       "      <td>206500.0</td>\n",
       "    </tr>\n",
       "    <tr>\n",
       "      <th>2005-10-01</th>\n",
       "      <td>56.8</td>\n",
       "      <td>3.1250</td>\n",
       "      <td>NaN</td>\n",
       "      <td>1030000.0</td>\n",
       "      <td>2.59</td>\n",
       "      <td>206500.0</td>\n",
       "    </tr>\n",
       "    <tr>\n",
       "      <th>2005-11-01</th>\n",
       "      <td>58.8</td>\n",
       "      <td>3.2500</td>\n",
       "      <td>NaN</td>\n",
       "      <td>1030000.0</td>\n",
       "      <td>2.59</td>\n",
       "      <td>206500.0</td>\n",
       "    </tr>\n",
       "    <tr>\n",
       "      <th>2005-12-01</th>\n",
       "      <td>61.6</td>\n",
       "      <td>3.5000</td>\n",
       "      <td>NaN</td>\n",
       "      <td>1030000.0</td>\n",
       "      <td>2.59</td>\n",
       "      <td>206500.0</td>\n",
       "    </tr>\n",
       "    <tr>\n",
       "      <th>2006-01-01</th>\n",
       "      <td>62.8</td>\n",
       "      <td>3.5625</td>\n",
       "      <td>NaN</td>\n",
       "      <td>1056000.0</td>\n",
       "      <td>2.52</td>\n",
       "      <td>221000.0</td>\n",
       "    </tr>\n",
       "    <tr>\n",
       "      <th>2006-02-01</th>\n",
       "      <td>64.2</td>\n",
       "      <td>3.7500</td>\n",
       "      <td>NaN</td>\n",
       "      <td>1056000.0</td>\n",
       "      <td>2.52</td>\n",
       "      <td>221000.0</td>\n",
       "    </tr>\n",
       "    <tr>\n",
       "      <th>2006-03-01</th>\n",
       "      <td>68.0</td>\n",
       "      <td>3.9500</td>\n",
       "      <td>NaN</td>\n",
       "      <td>1056000.0</td>\n",
       "      <td>2.52</td>\n",
       "      <td>221000.0</td>\n",
       "    </tr>\n",
       "    <tr>\n",
       "      <th>2006-04-01</th>\n",
       "      <td>71.2</td>\n",
       "      <td>4.0625</td>\n",
       "      <td>NaN</td>\n",
       "      <td>1056000.0</td>\n",
       "      <td>2.52</td>\n",
       "      <td>221000.0</td>\n",
       "    </tr>\n",
       "    <tr>\n",
       "      <th>2006-05-01</th>\n",
       "      <td>75.0</td>\n",
       "      <td>4.3500</td>\n",
       "      <td>NaN</td>\n",
       "      <td>1056000.0</td>\n",
       "      <td>2.52</td>\n",
       "      <td>221000.0</td>\n",
       "    </tr>\n",
       "    <tr>\n",
       "      <th>2006-06-01</th>\n",
       "      <td>80.2</td>\n",
       "      <td>4.5000</td>\n",
       "      <td>NaN</td>\n",
       "      <td>1056000.0</td>\n",
       "      <td>2.52</td>\n",
       "      <td>221000.0</td>\n",
       "    </tr>\n",
       "    <tr>\n",
       "      <th>2006-07-01</th>\n",
       "      <td>83.8</td>\n",
       "      <td>4.5000</td>\n",
       "      <td>NaN</td>\n",
       "      <td>1056000.0</td>\n",
       "      <td>2.52</td>\n",
       "      <td>221000.0</td>\n",
       "    </tr>\n",
       "    <tr>\n",
       "      <th>2006-08-01</th>\n",
       "      <td>86.8</td>\n",
       "      <td>4.5000</td>\n",
       "      <td>NaN</td>\n",
       "      <td>1056000.0</td>\n",
       "      <td>2.52</td>\n",
       "      <td>221000.0</td>\n",
       "    </tr>\n",
       "    <tr>\n",
       "      <th>2006-09-01</th>\n",
       "      <td>87.6</td>\n",
       "      <td>4.5000</td>\n",
       "      <td>NaN</td>\n",
       "      <td>1056000.0</td>\n",
       "      <td>2.52</td>\n",
       "      <td>221000.0</td>\n",
       "    </tr>\n",
       "    <tr>\n",
       "      <th>2006-10-01</th>\n",
       "      <td>87.2</td>\n",
       "      <td>4.5000</td>\n",
       "      <td>NaN</td>\n",
       "      <td>1056000.0</td>\n",
       "      <td>2.52</td>\n",
       "      <td>221000.0</td>\n",
       "    </tr>\n",
       "    <tr>\n",
       "      <th>2006-11-01</th>\n",
       "      <td>88.2</td>\n",
       "      <td>4.5000</td>\n",
       "      <td>NaN</td>\n",
       "      <td>1056000.0</td>\n",
       "      <td>2.52</td>\n",
       "      <td>221000.0</td>\n",
       "    </tr>\n",
       "    <tr>\n",
       "      <th>2006-12-01</th>\n",
       "      <td>87.7</td>\n",
       "      <td>4.5000</td>\n",
       "      <td>NaN</td>\n",
       "      <td>1056000.0</td>\n",
       "      <td>2.52</td>\n",
       "      <td>221000.0</td>\n",
       "    </tr>\n",
       "    <tr>\n",
       "      <th>2007-01-01</th>\n",
       "      <td>88.4</td>\n",
       "      <td>4.5000</td>\n",
       "      <td>NaN</td>\n",
       "      <td>1083000.0</td>\n",
       "      <td>2.56</td>\n",
       "      <td>318000.0</td>\n",
       "    </tr>\n",
       "    <tr>\n",
       "      <th>2007-02-01</th>\n",
       "      <td>88.4</td>\n",
       "      <td>4.5000</td>\n",
       "      <td>NaN</td>\n",
       "      <td>1083000.0</td>\n",
       "      <td>2.56</td>\n",
       "      <td>318000.0</td>\n",
       "    </tr>\n",
       "    <tr>\n",
       "      <th>2007-03-01</th>\n",
       "      <td>88.9</td>\n",
       "      <td>4.5000</td>\n",
       "      <td>NaN</td>\n",
       "      <td>1083000.0</td>\n",
       "      <td>2.56</td>\n",
       "      <td>318000.0</td>\n",
       "    </tr>\n",
       "    <tr>\n",
       "      <th>2007-04-01</th>\n",
       "      <td>90.6</td>\n",
       "      <td>4.5000</td>\n",
       "      <td>NaN</td>\n",
       "      <td>1083000.0</td>\n",
       "      <td>2.56</td>\n",
       "      <td>318000.0</td>\n",
       "    </tr>\n",
       "    <tr>\n",
       "      <th>2007-05-01</th>\n",
       "      <td>91.5</td>\n",
       "      <td>4.5000</td>\n",
       "      <td>NaN</td>\n",
       "      <td>1083000.0</td>\n",
       "      <td>2.56</td>\n",
       "      <td>318000.0</td>\n",
       "    </tr>\n",
       "    <tr>\n",
       "      <th>2007-06-01</th>\n",
       "      <td>92.0</td>\n",
       "      <td>4.5000</td>\n",
       "      <td>NaN</td>\n",
       "      <td>1083000.0</td>\n",
       "      <td>2.56</td>\n",
       "      <td>318000.0</td>\n",
       "    </tr>\n",
       "    <tr>\n",
       "      <th>2007-07-01</th>\n",
       "      <td>92.1</td>\n",
       "      <td>4.6875</td>\n",
       "      <td>NaN</td>\n",
       "      <td>1083000.0</td>\n",
       "      <td>2.56</td>\n",
       "      <td>318000.0</td>\n",
       "    </tr>\n",
       "    <tr>\n",
       "      <th>2007-08-01</th>\n",
       "      <td>92.1</td>\n",
       "      <td>4.7500</td>\n",
       "      <td>NaN</td>\n",
       "      <td>1083000.0</td>\n",
       "      <td>2.56</td>\n",
       "      <td>318000.0</td>\n",
       "    </tr>\n",
       "    <tr>\n",
       "      <th>2007-09-01</th>\n",
       "      <td>92.8</td>\n",
       "      <td>4.7500</td>\n",
       "      <td>NaN</td>\n",
       "      <td>1083000.0</td>\n",
       "      <td>2.56</td>\n",
       "      <td>318000.0</td>\n",
       "    </tr>\n",
       "    <tr>\n",
       "      <th>2007-10-01</th>\n",
       "      <td>92.6</td>\n",
       "      <td>4.7500</td>\n",
       "      <td>NaN</td>\n",
       "      <td>1083000.0</td>\n",
       "      <td>2.56</td>\n",
       "      <td>318000.0</td>\n",
       "    </tr>\n",
       "    <tr>\n",
       "      <th>2007-11-01</th>\n",
       "      <td>92.5</td>\n",
       "      <td>4.7500</td>\n",
       "      <td>NaN</td>\n",
       "      <td>1083000.0</td>\n",
       "      <td>2.56</td>\n",
       "      <td>318000.0</td>\n",
       "    </tr>\n",
       "    <tr>\n",
       "      <th>2007-12-01</th>\n",
       "      <td>93.0</td>\n",
       "      <td>4.5000</td>\n",
       "      <td>NaN</td>\n",
       "      <td>1083000.0</td>\n",
       "      <td>2.56</td>\n",
       "      <td>318000.0</td>\n",
       "    </tr>\n",
       "    <tr>\n",
       "      <th>2008-01-01</th>\n",
       "      <td>93.3</td>\n",
       "      <td>4.4000</td>\n",
       "      <td>NaN</td>\n",
       "      <td>1109000.0</td>\n",
       "      <td>2.40</td>\n",
       "      <td>399000.0</td>\n",
       "    </tr>\n",
       "    <tr>\n",
       "      <th>2008-02-01</th>\n",
       "      <td>93.0</td>\n",
       "      <td>4.2500</td>\n",
       "      <td>NaN</td>\n",
       "      <td>1109000.0</td>\n",
       "      <td>2.40</td>\n",
       "      <td>399000.0</td>\n",
       "    </tr>\n",
       "    <tr>\n",
       "      <th>2008-03-01</th>\n",
       "      <td>93.6</td>\n",
       "      <td>3.7500</td>\n",
       "      <td>NaN</td>\n",
       "      <td>1109000.0</td>\n",
       "      <td>2.40</td>\n",
       "      <td>399000.0</td>\n",
       "    </tr>\n",
       "    <tr>\n",
       "      <th>2008-04-01</th>\n",
       "      <td>92.9</td>\n",
       "      <td>3.5500</td>\n",
       "      <td>NaN</td>\n",
       "      <td>1109000.0</td>\n",
       "      <td>2.40</td>\n",
       "      <td>399000.0</td>\n",
       "    </tr>\n",
       "    <tr>\n",
       "      <th>2008-05-01</th>\n",
       "      <td>92.1</td>\n",
       "      <td>3.2500</td>\n",
       "      <td>NaN</td>\n",
       "      <td>1109000.0</td>\n",
       "      <td>2.40</td>\n",
       "      <td>399000.0</td>\n",
       "    </tr>\n",
       "    <tr>\n",
       "      <th>2008-06-01</th>\n",
       "      <td>92.0</td>\n",
       "      <td>3.2500</td>\n",
       "      <td>NaN</td>\n",
       "      <td>1109000.0</td>\n",
       "      <td>2.40</td>\n",
       "      <td>399000.0</td>\n",
       "    </tr>\n",
       "    <tr>\n",
       "      <th>2008-07-01</th>\n",
       "      <td>91.8</td>\n",
       "      <td>3.2500</td>\n",
       "      <td>NaN</td>\n",
       "      <td>1109000.0</td>\n",
       "      <td>2.40</td>\n",
       "      <td>399000.0</td>\n",
       "    </tr>\n",
       "    <tr>\n",
       "      <th>2008-08-01</th>\n",
       "      <td>91.1</td>\n",
       "      <td>3.2500</td>\n",
       "      <td>NaN</td>\n",
       "      <td>1109000.0</td>\n",
       "      <td>2.40</td>\n",
       "      <td>399000.0</td>\n",
       "    </tr>\n",
       "    <tr>\n",
       "      <th>2008-09-01</th>\n",
       "      <td>91.7</td>\n",
       "      <td>3.2500</td>\n",
       "      <td>NaN</td>\n",
       "      <td>1109000.0</td>\n",
       "      <td>2.40</td>\n",
       "      <td>399000.0</td>\n",
       "    </tr>\n",
       "    <tr>\n",
       "      <th>2008-10-01</th>\n",
       "      <td>91.2</td>\n",
       "      <td>2.7500</td>\n",
       "      <td>NaN</td>\n",
       "      <td>1109000.0</td>\n",
       "      <td>2.40</td>\n",
       "      <td>399000.0</td>\n",
       "    </tr>\n",
       "    <tr>\n",
       "      <th>2008-11-01</th>\n",
       "      <td>90.2</td>\n",
       "      <td>2.5000</td>\n",
       "      <td>NaN</td>\n",
       "      <td>1109000.0</td>\n",
       "      <td>2.40</td>\n",
       "      <td>399000.0</td>\n",
       "    </tr>\n",
       "    <tr>\n",
       "      <th>2008-12-01</th>\n",
       "      <td>89.1</td>\n",
       "      <td>1.9000</td>\n",
       "      <td>NaN</td>\n",
       "      <td>1109000.0</td>\n",
       "      <td>2.40</td>\n",
       "      <td>399000.0</td>\n",
       "    </tr>\n",
       "    <tr>\n",
       "      <th>2009-01-01</th>\n",
       "      <td>87.2</td>\n",
       "      <td>1.5000</td>\n",
       "      <td>NaN</td>\n",
       "      <td>1135000.0</td>\n",
       "      <td>2.34</td>\n",
       "      <td>376500.0</td>\n",
       "    </tr>\n",
       "    <tr>\n",
       "      <th>2009-02-01</th>\n",
       "      <td>86.5</td>\n",
       "      <td>1.2500</td>\n",
       "      <td>NaN</td>\n",
       "      <td>1135000.0</td>\n",
       "      <td>2.34</td>\n",
       "      <td>376500.0</td>\n",
       "    </tr>\n",
       "  </tbody>\n",
       "</table>\n",
       "</div>"
      ],
      "text/plain": [
       "            Housing_Price_Index  Interest_Rate  Median_Income  \\\n",
       "REF_DATE                                                        \n",
       "2005-01-01                 52.0         2.7500            NaN   \n",
       "2005-02-01                 52.3         2.7500            NaN   \n",
       "2005-03-01                 52.4         2.7500            NaN   \n",
       "2005-04-01                 52.8         2.7500            NaN   \n",
       "2005-05-01                 53.1         2.7500            NaN   \n",
       "2005-06-01                 53.7         2.7500            NaN   \n",
       "2005-07-01                 53.7         2.7500            NaN   \n",
       "2005-08-01                 54.0         2.7500            NaN   \n",
       "2005-09-01                 55.0         3.0000            NaN   \n",
       "2005-10-01                 56.8         3.1250            NaN   \n",
       "2005-11-01                 58.8         3.2500            NaN   \n",
       "2005-12-01                 61.6         3.5000            NaN   \n",
       "2006-01-01                 62.8         3.5625            NaN   \n",
       "2006-02-01                 64.2         3.7500            NaN   \n",
       "2006-03-01                 68.0         3.9500            NaN   \n",
       "2006-04-01                 71.2         4.0625            NaN   \n",
       "2006-05-01                 75.0         4.3500            NaN   \n",
       "2006-06-01                 80.2         4.5000            NaN   \n",
       "2006-07-01                 83.8         4.5000            NaN   \n",
       "2006-08-01                 86.8         4.5000            NaN   \n",
       "2006-09-01                 87.6         4.5000            NaN   \n",
       "2006-10-01                 87.2         4.5000            NaN   \n",
       "2006-11-01                 88.2         4.5000            NaN   \n",
       "2006-12-01                 87.7         4.5000            NaN   \n",
       "2007-01-01                 88.4         4.5000            NaN   \n",
       "2007-02-01                 88.4         4.5000            NaN   \n",
       "2007-03-01                 88.9         4.5000            NaN   \n",
       "2007-04-01                 90.6         4.5000            NaN   \n",
       "2007-05-01                 91.5         4.5000            NaN   \n",
       "2007-06-01                 92.0         4.5000            NaN   \n",
       "2007-07-01                 92.1         4.6875            NaN   \n",
       "2007-08-01                 92.1         4.7500            NaN   \n",
       "2007-09-01                 92.8         4.7500            NaN   \n",
       "2007-10-01                 92.6         4.7500            NaN   \n",
       "2007-11-01                 92.5         4.7500            NaN   \n",
       "2007-12-01                 93.0         4.5000            NaN   \n",
       "2008-01-01                 93.3         4.4000            NaN   \n",
       "2008-02-01                 93.0         4.2500            NaN   \n",
       "2008-03-01                 93.6         3.7500            NaN   \n",
       "2008-04-01                 92.9         3.5500            NaN   \n",
       "2008-05-01                 92.1         3.2500            NaN   \n",
       "2008-06-01                 92.0         3.2500            NaN   \n",
       "2008-07-01                 91.8         3.2500            NaN   \n",
       "2008-08-01                 91.1         3.2500            NaN   \n",
       "2008-09-01                 91.7         3.2500            NaN   \n",
       "2008-10-01                 91.2         2.7500            NaN   \n",
       "2008-11-01                 90.2         2.5000            NaN   \n",
       "2008-12-01                 89.1         1.9000            NaN   \n",
       "2009-01-01                 87.2         1.5000            NaN   \n",
       "2009-02-01                 86.5         1.2500            NaN   \n",
       "\n",
       "            Calgary_Population  Annual_Population_Change  Median_House_Price  \n",
       "REF_DATE                                                                      \n",
       "2005-01-01           1030000.0                      2.59            206500.0  \n",
       "2005-02-01           1030000.0                      2.59            206500.0  \n",
       "2005-03-01           1030000.0                      2.59            206500.0  \n",
       "2005-04-01           1030000.0                      2.59            206500.0  \n",
       "2005-05-01           1030000.0                      2.59            206500.0  \n",
       "2005-06-01           1030000.0                      2.59            206500.0  \n",
       "2005-07-01           1030000.0                      2.59            206500.0  \n",
       "2005-08-01           1030000.0                      2.59            206500.0  \n",
       "2005-09-01           1030000.0                      2.59            206500.0  \n",
       "2005-10-01           1030000.0                      2.59            206500.0  \n",
       "2005-11-01           1030000.0                      2.59            206500.0  \n",
       "2005-12-01           1030000.0                      2.59            206500.0  \n",
       "2006-01-01           1056000.0                      2.52            221000.0  \n",
       "2006-02-01           1056000.0                      2.52            221000.0  \n",
       "2006-03-01           1056000.0                      2.52            221000.0  \n",
       "2006-04-01           1056000.0                      2.52            221000.0  \n",
       "2006-05-01           1056000.0                      2.52            221000.0  \n",
       "2006-06-01           1056000.0                      2.52            221000.0  \n",
       "2006-07-01           1056000.0                      2.52            221000.0  \n",
       "2006-08-01           1056000.0                      2.52            221000.0  \n",
       "2006-09-01           1056000.0                      2.52            221000.0  \n",
       "2006-10-01           1056000.0                      2.52            221000.0  \n",
       "2006-11-01           1056000.0                      2.52            221000.0  \n",
       "2006-12-01           1056000.0                      2.52            221000.0  \n",
       "2007-01-01           1083000.0                      2.56            318000.0  \n",
       "2007-02-01           1083000.0                      2.56            318000.0  \n",
       "2007-03-01           1083000.0                      2.56            318000.0  \n",
       "2007-04-01           1083000.0                      2.56            318000.0  \n",
       "2007-05-01           1083000.0                      2.56            318000.0  \n",
       "2007-06-01           1083000.0                      2.56            318000.0  \n",
       "2007-07-01           1083000.0                      2.56            318000.0  \n",
       "2007-08-01           1083000.0                      2.56            318000.0  \n",
       "2007-09-01           1083000.0                      2.56            318000.0  \n",
       "2007-10-01           1083000.0                      2.56            318000.0  \n",
       "2007-11-01           1083000.0                      2.56            318000.0  \n",
       "2007-12-01           1083000.0                      2.56            318000.0  \n",
       "2008-01-01           1109000.0                      2.40            399000.0  \n",
       "2008-02-01           1109000.0                      2.40            399000.0  \n",
       "2008-03-01           1109000.0                      2.40            399000.0  \n",
       "2008-04-01           1109000.0                      2.40            399000.0  \n",
       "2008-05-01           1109000.0                      2.40            399000.0  \n",
       "2008-06-01           1109000.0                      2.40            399000.0  \n",
       "2008-07-01           1109000.0                      2.40            399000.0  \n",
       "2008-08-01           1109000.0                      2.40            399000.0  \n",
       "2008-09-01           1109000.0                      2.40            399000.0  \n",
       "2008-10-01           1109000.0                      2.40            399000.0  \n",
       "2008-11-01           1109000.0                      2.40            399000.0  \n",
       "2008-12-01           1109000.0                      2.40            399000.0  \n",
       "2009-01-01           1135000.0                      2.34            376500.0  \n",
       "2009-02-01           1135000.0                      2.34            376500.0  "
      ]
     },
     "execution_count": 282,
     "metadata": {},
     "output_type": "execute_result"
    }
   ],
   "source": []
  }
 ],
 "metadata": {
  "kernelspec": {
   "display_name": "Python 3.12.4 64-bit",
   "language": "python",
   "name": "python3"
  },
  "language_info": {
   "codemirror_mode": {
    "name": "ipython",
    "version": 3
   },
   "file_extension": ".py",
   "mimetype": "text/x-python",
   "name": "python",
   "nbconvert_exporter": "python",
   "pygments_lexer": "ipython3",
   "version": "3.12.4"
  },
  "orig_nbformat": 4,
  "vscode": {
   "interpreter": {
    "hash": "aee8b7b246df8f9039afb4144a1f6fd8d2ca17a180786b69acc140d282b71a49"
   }
  }
 },
 "nbformat": 4,
 "nbformat_minor": 2
}
