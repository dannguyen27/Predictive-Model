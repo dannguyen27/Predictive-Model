{
 "cells": [
  {
   "cell_type": "code",
   "execution_count": 271,
   "metadata": {},
   "outputs": [],
   "source": [
    "import pandas as pd\n",
    "import numpy as np"
   ]
  },
  {
   "cell_type": "code",
   "execution_count": 272,
   "metadata": {},
   "outputs": [],
   "source": [
    "#importing data\n",
    "housing_data = pd.read_csv('../data/price_index.csv')\n",
    "interest_rate_data = pd.read_csv('../data/canadian_interest_rates.csv')\n",
    "income_data = pd.read_csv('../data/income_data.csv')\n",
    "population_data = pd.read_csv('../data/calgary_population.csv')\n",
    "median_house_price_data = pd.read_csv('../data/median_assessed_value.csv')\n"
   ]
  },
  {
   "cell_type": "code",
   "execution_count": 273,
   "metadata": {},
   "outputs": [
    {
     "name": "stdout",
     "output_type": "stream",
     "text": [
      "            median_re_assessed_value\n",
      "REF_DATE                            \n",
      "2005-01-01                    206500\n",
      "2005-02-01                    206500\n",
      "2005-03-01                    206500\n",
      "2005-04-01                    206500\n",
      "2005-05-01                    206500\n",
      "2005-06-01                    206500\n",
      "2005-07-01                    206500\n",
      "2005-08-01                    206500\n",
      "2005-09-01                    206500\n",
      "2005-10-01                    206500\n",
      "2005-11-01                    206500\n",
      "2005-12-01                    206500\n",
      "2006-01-01                    221000\n",
      "2006-02-01                    221000\n",
      "2006-03-01                    221000\n",
      "2006-04-01                    221000\n",
      "2006-05-01                    221000\n",
      "2006-06-01                    221000\n",
      "2006-07-01                    221000\n",
      "2006-08-01                    221000\n",
      "2006-09-01                    221000\n",
      "2006-10-01                    221000\n",
      "2006-11-01                    221000\n",
      "2006-12-01                    221000\n"
     ]
    }
   ],
   "source": [
    "median_house_price_data = pd.read_csv('../data/median_assessed_value.csv')\n",
    "median_house_price_data.rename(columns={'ROLL_YEAR': 'REF_DATE'}, inplace=True)\n",
    "median_house_price_data['REF_DATE'] = pd.to_datetime(median_house_price_data['REF_DATE'], format='%Y')\n",
    "median_house_price_data = median_house_price_data.set_index('REF_DATE').resample('MS').ffill()\n",
    "print(median_house_price_data.head(24))  # Shows first year of monthly data\n"
   ]
  },
  {
   "cell_type": "code",
   "execution_count": 274,
   "metadata": {},
   "outputs": [
    {
     "name": "stdout",
     "output_type": "stream",
     "text": [
      "  REF_DATE              GEO           DGUID New housing price indexes  \\\n",
      "0  1981-01           Canada  2016A000011124    Total (house and land)   \n",
      "1  1981-01           Canada  2016A000011124                House only   \n",
      "2  1981-01           Canada  2016A000011124                 Land only   \n",
      "3  1981-01  Atlantic Region      2016A00011    Total (house and land)   \n",
      "4  1981-01  Atlantic Region      2016A00011                House only   \n",
      "\n",
      "                 UOM  UOM_ID SCALAR_FACTOR  SCALAR_ID      VECTOR  COORDINATE  \\\n",
      "0  Index, 201612=100     347         units          0  v111955442         1.1   \n",
      "1  Index, 201612=100     347         units          0  v111955443         1.2   \n",
      "2  Index, 201612=100     347         units          0  v111955444         1.3   \n",
      "3  Index, 201612=100     347         units          0  v111955445         2.1   \n",
      "4  Index, 201612=100     347         units          0  v111955446         2.2   \n",
      "\n",
      "   VALUE STATUS  SYMBOL  TERMINATED  DECIMALS  \n",
      "0   38.2    NaN     NaN         NaN         1  \n",
      "1   36.1    NaN     NaN         NaN         1  \n",
      "2   40.6      E     NaN         NaN         1  \n",
      "3    NaN     ..     NaN         NaN         1  \n",
      "4    NaN     ..     NaN         NaN         1  \n",
      "     REF_DATE     GEO           DGUID      Rates      UOM  UOM_ID  \\\n",
      "0  1981-01-07  Canada  2016A000011124  Bank rate  Percent     239   \n",
      "1  1981-01-14  Canada  2016A000011124  Bank rate  Percent     239   \n",
      "2  1981-01-21  Canada  2016A000011124  Bank rate  Percent     239   \n",
      "3  1981-01-28  Canada  2016A000011124  Bank rate  Percent     239   \n",
      "4  1981-02-04  Canada  2016A000011124  Bank rate  Percent     239   \n",
      "\n",
      "  SCALAR_FACTOR  SCALAR_ID     VECTOR  COORDINATE  VALUE  STATUS  SYMBOL  \\\n",
      "0         units          0  v80691310         1.2  17.26     NaN     NaN   \n",
      "1         units          0  v80691310         1.2  17.00     NaN     NaN   \n",
      "2         units          0  v80691310         1.2  16.97     NaN     NaN   \n",
      "3         units          0  v80691310         1.2  17.00     NaN     NaN   \n",
      "4         units          0  v80691310         1.2  17.11     NaN     NaN   \n",
      "\n",
      "   TERMINATED  DECIMALS  \n",
      "0         NaN         2  \n",
      "1         NaN         2  \n",
      "2         NaN         2  \n",
      "3         NaN         2  \n",
      "4         NaN         2  \n",
      "   REF_DATE               GEO         DGUID          Age group         Sex  \\\n",
      "0      1981  Calgary, Alberta  2021S0503825  15 years and over  Both sexes   \n",
      "1      1982  Calgary, Alberta  2021S0503825  15 years and over  Both sexes   \n",
      "2      1983  Calgary, Alberta  2021S0503825  15 years and over  Both sexes   \n",
      "3      1984  Calgary, Alberta  2021S0503825  15 years and over  Both sexes   \n",
      "4      1985  Calgary, Alberta  2021S0503825  15 years and over  Both sexes   \n",
      "\n",
      "  Income source         Statistics     UOM  UOM_ID SCALAR_FACTOR  SCALAR_ID  \\\n",
      "0  Total income  Number of persons  Number     223     thousands          3   \n",
      "1  Total income  Number of persons  Number     223     thousands          3   \n",
      "2  Total income  Number of persons  Number     223     thousands          3   \n",
      "3  Total income  Number of persons  Number     223     thousands          3   \n",
      "4  Total income  Number of persons  Number     223     thousands          3   \n",
      "\n",
      "       VECTOR  COORDINATE  VALUE STATUS  SYMBOL  TERMINATED  DECIMALS  \n",
      "0  v107693254  19.1.1.1.1    425    NaN     NaN         NaN         0  \n",
      "1  v107693254  19.1.1.1.1    460    NaN     NaN         NaN         0  \n",
      "2  v107693254  19.1.1.1.1    442    NaN     NaN         NaN         0  \n",
      "3  v107693254  19.1.1.1.1    476    NaN     NaN         NaN         0  \n",
      "4  v107693254  19.1.1.1.1    513    NaN     NaN         NaN         0  \n",
      "         date   Population   Annual Change\n",
      "0  1950-12-31       132000             NaN\n",
      "1  1951-12-31       141000            6.82\n",
      "2  1952-12-31       151000            7.09\n",
      "3  1953-12-31       162000            7.28\n",
      "4  1954-12-31       174000            7.41\n"
     ]
    }
   ],
   "source": [
    "# Take a quick look at the data\n",
    "print(housing_data.head())\n",
    "print(interest_rate_data.head())\n",
    "print(income_data.head())\n",
    "print(population_data.head())"
   ]
  },
  {
   "cell_type": "code",
   "execution_count": 275,
   "metadata": {},
   "outputs": [
    {
     "name": "stdout",
     "output_type": "stream",
     "text": [
      "Index(['REF_DATE', 'GEO', 'DGUID', 'New housing price indexes', 'UOM',\n",
      "       'UOM_ID', 'SCALAR_FACTOR', 'SCALAR_ID', 'VECTOR', 'COORDINATE', 'VALUE',\n",
      "       'STATUS', 'SYMBOL', 'TERMINATED', 'DECIMALS'],\n",
      "      dtype='object')\n",
      "Index(['REF_DATE', 'GEO', 'DGUID', 'Rates', 'UOM', 'UOM_ID', 'SCALAR_FACTOR',\n",
      "       'SCALAR_ID', 'VECTOR', 'COORDINATE', 'VALUE', 'STATUS', 'SYMBOL',\n",
      "       'TERMINATED', 'DECIMALS'],\n",
      "      dtype='object')\n",
      "Index(['REF_DATE', 'GEO', 'DGUID', 'Age group', 'Sex', 'Income source',\n",
      "       'Statistics', 'UOM', 'UOM_ID', 'SCALAR_FACTOR', 'SCALAR_ID', 'VECTOR',\n",
      "       'COORDINATE', 'VALUE', 'STATUS', 'SYMBOL', 'TERMINATED', 'DECIMALS'],\n",
      "      dtype='object')\n",
      "Index(['date', ' Population', ' Annual Change'], dtype='object')\n"
     ]
    }
   ],
   "source": [
    "#Viewing Columns Names\n",
    "print(housing_data.columns)\n",
    "print(interest_rate_data.columns)\n",
    "print(income_data.columns)\n",
    "print(population_data.columns)"
   ]
  },
  {
   "cell_type": "code",
   "execution_count": 276,
   "metadata": {},
   "outputs": [],
   "source": [
    "#Dropping other provinces\n",
    "housing_data = housing_data[housing_data.GEO == 'Calgary, Alberta']\n",
    "#Filter for \"Total (house and land)\" category\n",
    "housing_data = housing_data[housing_data['New housing price indexes'] == 'Total (house and land)']\n",
    "\n",
    "\n",
    "#Dropping unused columns, axis=1 means dropping rows, inplace=True changes the original dataframe\n",
    "housing_data.drop(['DGUID', 'New housing price indexes', 'UOM',\n",
    "       'UOM_ID', 'SCALAR_FACTOR', 'SCALAR_ID', 'VECTOR', 'COORDINATE',\n",
    "       'STATUS', 'SYMBOL', 'TERMINATED', 'DECIMALS', 'GEO'], axis=1, inplace=True)\n",
    "\n",
    "\n",
    "interest_rate_data.drop(['DGUID', 'Rates', 'UOM', 'UOM_ID', 'SCALAR_FACTOR',\n",
    "                         'SCALAR_ID', 'VECTOR', 'COORDINATE', 'STATUS', \n",
    "                         'SYMBOL', 'TERMINATED', 'DECIMALS', 'GEO'], axis=1, inplace=True)\n",
    "\n",
    "\n",
    "\n",
    "#Filtering data by Median Income, Better than average as high earnings skew data\n",
    "income_data = income_data[income_data['Statistics'] == 'Median income (excluding zeros)']\n",
    "\n",
    "#Dropping Unused Columns\n",
    "income_data.drop(['DGUID', 'Age group', 'Sex', 'Income source',\n",
    "        'UOM', 'UOM_ID', 'SCALAR_FACTOR', 'SCALAR_ID', 'VECTOR',\n",
    "       'COORDINATE', 'STATUS', 'SYMBOL', 'TERMINATED', 'DECIMALS','Statistics', 'GEO'], axis=1, inplace=True)\n"
   ]
  },
  {
   "cell_type": "code",
   "execution_count": 277,
   "metadata": {},
   "outputs": [],
   "source": [
    "#Converting ref_date to datetime format\n",
    "housing_data.REF_DATE = pd.to_datetime(housing_data.REF_DATE)\n",
    "interest_rate_data.REF_DATE = pd.to_datetime(interest_rate_data.REF_DATE)\n",
    "population_data.date = pd.to_datetime(population_data.date)\n",
    "# This will convert the year-based REF_DATE into a proper datetime format that Pandas recognizes as the start of the year \n",
    "income_data['REF_DATE'] = pd.to_datetime(income_data['REF_DATE'], format='%Y')\n"
   ]
  },
  {
   "cell_type": "code",
   "execution_count": 278,
   "metadata": {},
   "outputs": [],
   "source": [
    "housing_data.set_index('REF_DATE', inplace=True)\n",
    "interest_rate_data.set_index('REF_DATE', inplace=True)\n",
    "income_data.set_index('REF_DATE', inplace=True)\n",
    "population_data.set_index('date', inplace=True)"
   ]
  },
  {
   "cell_type": "code",
   "execution_count": 279,
   "metadata": {},
   "outputs": [
    {
     "data": {
      "text/plain": [
       "True"
      ]
     },
     "execution_count": 279,
     "metadata": {},
     "output_type": "execute_result"
    }
   ],
   "source": [
    "#Checking for NAN values\n",
    "housing_data.isna().values.any()\n",
    "interest_rate_data.isna().values.any()\n",
    "income_data.isna().values.any()\n",
    "population_data.isna().values.any()"
   ]
  },
  {
   "cell_type": "code",
   "execution_count": 280,
   "metadata": {},
   "outputs": [
    {
     "name": "stdout",
     "output_type": "stream",
     "text": [
      "REF_DATE\n",
      "1981-01-01    False\n",
      "1981-02-01    False\n",
      "1981-03-01    False\n",
      "1981-04-01    False\n",
      "1981-05-01     True\n",
      "              ...  \n",
      "2024-04-01    False\n",
      "2024-05-01    False\n",
      "2024-06-01    False\n",
      "2024-07-01    False\n",
      "2024-08-01    False\n",
      "Length: 524, dtype: bool\n",
      "REF_DATE\n",
      "1981-01-07    False\n",
      "1981-01-14    False\n",
      "1981-01-21    False\n",
      "1981-01-28     True\n",
      "1981-02-04    False\n",
      "              ...  \n",
      "2024-09-04     True\n",
      "2024-09-11     True\n",
      "2024-09-18     True\n",
      "2024-09-25     True\n",
      "2024-10-02     True\n",
      "Length: 2283, dtype: bool\n",
      "REF_DATE\n",
      "1981-01-01    False\n",
      "1982-01-01    False\n",
      "1983-01-01    False\n",
      "1984-01-01    False\n",
      "1985-01-01    False\n",
      "1986-01-01    False\n",
      "1987-01-01    False\n",
      "1988-01-01     True\n",
      "1989-01-01    False\n",
      "1990-01-01    False\n",
      "1991-01-01    False\n",
      "1992-01-01    False\n",
      "1993-01-01    False\n",
      "1994-01-01    False\n",
      "1995-01-01    False\n",
      "1996-01-01    False\n",
      "1997-01-01    False\n",
      "1998-01-01    False\n",
      "1999-01-01    False\n",
      "2000-01-01    False\n",
      "2001-01-01    False\n",
      "2002-01-01    False\n",
      "2003-01-01    False\n",
      "2004-01-01    False\n",
      "2005-01-01    False\n",
      "2006-01-01    False\n",
      "2007-01-01    False\n",
      "2008-01-01    False\n",
      "2009-01-01    False\n",
      "2010-01-01    False\n",
      "2011-01-01    False\n",
      "2012-01-01    False\n",
      "2013-01-01    False\n",
      "2014-01-01    False\n",
      "2015-01-01    False\n",
      "2016-01-01     True\n",
      "2017-01-01    False\n",
      "2018-01-01    False\n",
      "2019-01-01    False\n",
      "2020-01-01    False\n",
      "2021-01-01     True\n",
      "2022-01-01    False\n",
      "dtype: bool\n",
      "date\n",
      "1950-12-31    False\n",
      "1951-12-31    False\n",
      "1952-12-31    False\n",
      "1953-12-31    False\n",
      "1954-12-31    False\n",
      "              ...  \n",
      "2031-12-31    False\n",
      "2032-12-31    False\n",
      "2033-12-31    False\n",
      "2034-12-31    False\n",
      "2035-12-31    False\n",
      "Length: 86, dtype: bool\n"
     ]
    }
   ],
   "source": [
    "#Checking for dupliactes\n",
    "print(housing_data.duplicated())\n",
    "print(interest_rate_data.duplicated())\n",
    "print(income_data.duplicated())\n",
    "print(population_data.duplicated())"
   ]
  },
  {
   "cell_type": "code",
   "execution_count": 281,
   "metadata": {},
   "outputs": [],
   "source": [
    "# Resample to monthly frequency using forward-fill to fill the year for each month, 'MS' is month start frequency\n",
    "population_monthly = population_data.resample('MS').ffill()\n",
    "interest_rate_monthly = interest_rate_data.resample('MS').mean()\n",
    "income_monthly = income_data.resample('MS').ffill()  \n",
    "\n",
    "\n",
    "# Reset index to make 'date' a column again\n",
    "population_monthly.reset_index(inplace=True)\n",
    "interest_rate_monthly.reset_index(inplace=True)\n",
    "income_monthly.reset_index(inplace=True)\n",
    "\n",
    "\n",
    "# Rename 'date' to 'REF_DATE'\n",
    "population_monthly.rename(columns={'date': 'REF_DATE'}, inplace=True)\n",
    "\n",
    "# Ensure 'REF_DATE' is in monthly format\n",
    "population_monthly['REF_DATE'] = pd.to_datetime(population_monthly['REF_DATE'])\n",
    "population_monthly['REF_DATE'] = population_monthly['REF_DATE'].dt.to_period('M').dt.to_timestamp()\n",
    "\n",
    "population_monthly.dropna(inplace=True)\n",
    "\n",
    "\n",
    "# Filter population data to include only records from 1981 onwards, This is to match the other data sets\n",
    "population_monthly = population_monthly[population_monthly['REF_DATE'] >= '1981-01-01']\n",
    "\n",
    "\n",
    "\n"
   ]
  },
  {
   "cell_type": "code",
   "execution_count": 282,
   "metadata": {},
   "outputs": [
    {
     "name": "stdout",
     "output_type": "stream",
     "text": [
      "            VALUE\n",
      "REF_DATE         \n",
      "1981-01-01   25.3\n",
      "1981-02-01   25.5\n",
      "1981-03-01   25.8\n",
      "1981-04-01   26.7\n",
      "1981-05-01   26.7\n",
      "      REF_DATE   Population   Annual Change\n",
      "361 1981-01-01     568000.0             4.8\n",
      "362 1981-02-01     568000.0             4.8\n",
      "363 1981-03-01     568000.0             4.8\n",
      "364 1981-04-01     568000.0             4.8\n",
      "365 1981-05-01     568000.0             4.8\n",
      "    REF_DATE    VALUE\n",
      "0 1981-01-01  17.0575\n",
      "1 1981-02-01  17.1275\n",
      "2 1981-03-01  16.9850\n",
      "3 1981-04-01  17.0300\n",
      "4 1981-05-01  18.5875\n",
      "    REF_DATE  VALUE\n",
      "0 1981-01-01  45000\n",
      "1 1981-02-01  45000\n",
      "2 1981-03-01  45000\n",
      "3 1981-04-01  45000\n",
      "4 1981-05-01  45000\n"
     ]
    }
   ],
   "source": [
    "# View the result\n",
    "print(housing_data.head())\n",
    "print(population_monthly.head())\n",
    "print(interest_rate_monthly.head())\n",
    "print(income_monthly.head())\n"
   ]
  },
  {
   "cell_type": "code",
   "execution_count": 283,
   "metadata": {},
   "outputs": [
    {
     "name": "stdout",
     "output_type": "stream",
     "text": [
      "    REF_DATE  VALUE_housing  VALUE_interest    VALUE   Population  \\\n",
      "0 1981-01-01           25.3         17.0575  45000.0     568000.0   \n",
      "1 1981-02-01           25.5         17.1275  45000.0     568000.0   \n",
      "2 1981-03-01           25.8         16.9850  45000.0     568000.0   \n",
      "3 1981-04-01           26.7         17.0300  45000.0     568000.0   \n",
      "4 1981-05-01           26.7         18.5875  45000.0     568000.0   \n",
      "\n",
      "    Annual Change  median_re_assessed_value  \n",
      "0             4.8                       NaN  \n",
      "1             4.8                       NaN  \n",
      "2             4.8                       NaN  \n",
      "3             4.8                       NaN  \n",
      "4             4.8                       NaN  \n"
     ]
    }
   ],
   "source": [
    "# Merge housing data with interest rate data on REF_DATE\n",
    "merged_data = housing_data.merge(interest_rate_monthly, on='REF_DATE', how='left', suffixes=('_housing', '_interest'))\n",
    "\n",
    "# Merge with income data on REF_DATE\n",
    "merged_data = merged_data.merge(income_monthly, on='REF_DATE', how='left')\n",
    "\n",
    "# Merge with population data on REF_DATE\n",
    "merged_data = merged_data.merge(population_monthly, on='REF_DATE', how='left')\n",
    "\n",
    "# Merge with the previously merged dataset on REF_DATE\n",
    "merged_data = merged_data.merge(median_house_price_data, on='REF_DATE', how='left')\n",
    "\n",
    "# View the merged data\n",
    "print(merged_data.head())\n"
   ]
  },
  {
   "cell_type": "code",
   "execution_count": 284,
   "metadata": {},
   "outputs": [
    {
     "name": "stdout",
     "output_type": "stream",
     "text": [
      "    REF_DATE  Housing_Price_Index  Interest_Rate  Median_Income   Population  \\\n",
      "0 1981-01-01                 25.3        17.0575        45000.0     568000.0   \n",
      "1 1981-02-01                 25.5        17.1275        45000.0     568000.0   \n",
      "2 1981-03-01                 25.8        16.9850        45000.0     568000.0   \n",
      "3 1981-04-01                 26.7        17.0300        45000.0     568000.0   \n",
      "4 1981-05-01                 26.7        18.5875        45000.0     568000.0   \n",
      "\n",
      "    Annual Change  Median_House_Price  \n",
      "0             4.8                 NaN  \n",
      "1             4.8                 NaN  \n",
      "2             4.8                 NaN  \n",
      "3             4.8                 NaN  \n",
      "4             4.8                 NaN  \n"
     ]
    }
   ],
   "source": [
    "# Renaming columns for more clarity\n",
    "merged_data.rename(columns={\n",
    "    'VALUE_housing': 'Housing_Price_Index',\n",
    "    'VALUE_interest': 'Interest_Rate',\n",
    "    'VALUE': 'Median_Income',\n",
    "    'Population': 'Calgary_Population',\n",
    "    'Annual Change': 'Annual_Population_Change',\n",
    "    'median_re_assessed_value': 'Median_House_Price'\n",
    "}, inplace=True)\n",
    "\n",
    "# View the updated DataFrame\n",
    "print(merged_data.tail())\n"
   ]
  },
  {
   "cell_type": "code",
   "execution_count": 287,
   "metadata": {},
   "outputs": [
    {
     "data": {
      "text/html": [
       "<div>\n",
       "<style scoped>\n",
       "    .dataframe tbody tr th:only-of-type {\n",
       "        vertical-align: middle;\n",
       "    }\n",
       "\n",
       "    .dataframe tbody tr th {\n",
       "        vertical-align: top;\n",
       "    }\n",
       "\n",
       "    .dataframe thead th {\n",
       "        text-align: right;\n",
       "    }\n",
       "</style>\n",
       "<table border=\"1\" class=\"dataframe\">\n",
       "  <thead>\n",
       "    <tr style=\"text-align: right;\">\n",
       "      <th></th>\n",
       "      <th>REF_DATE</th>\n",
       "      <th>VALUE</th>\n",
       "    </tr>\n",
       "  </thead>\n",
       "  <tbody>\n",
       "    <tr>\n",
       "      <th>488</th>\n",
       "      <td>2021-09-01</td>\n",
       "      <td>43400</td>\n",
       "    </tr>\n",
       "    <tr>\n",
       "      <th>489</th>\n",
       "      <td>2021-10-01</td>\n",
       "      <td>43400</td>\n",
       "    </tr>\n",
       "    <tr>\n",
       "      <th>490</th>\n",
       "      <td>2021-11-01</td>\n",
       "      <td>43400</td>\n",
       "    </tr>\n",
       "    <tr>\n",
       "      <th>491</th>\n",
       "      <td>2021-12-01</td>\n",
       "      <td>43400</td>\n",
       "    </tr>\n",
       "    <tr>\n",
       "      <th>492</th>\n",
       "      <td>2022-01-01</td>\n",
       "      <td>48000</td>\n",
       "    </tr>\n",
       "  </tbody>\n",
       "</table>\n",
       "</div>"
      ],
      "text/plain": [
       "      REF_DATE  VALUE\n",
       "488 2021-09-01  43400\n",
       "489 2021-10-01  43400\n",
       "490 2021-11-01  43400\n",
       "491 2021-12-01  43400\n",
       "492 2022-01-01  48000"
      ]
     },
     "execution_count": 287,
     "metadata": {},
     "output_type": "execute_result"
    }
   ],
   "source": []
  }
 ],
 "metadata": {
  "kernelspec": {
   "display_name": "Python 3.12.4 64-bit",
   "language": "python",
   "name": "python3"
  },
  "language_info": {
   "codemirror_mode": {
    "name": "ipython",
    "version": 3
   },
   "file_extension": ".py",
   "mimetype": "text/x-python",
   "name": "python",
   "nbconvert_exporter": "python",
   "pygments_lexer": "ipython3",
   "version": "3.12.4"
  },
  "orig_nbformat": 4,
  "vscode": {
   "interpreter": {
    "hash": "aee8b7b246df8f9039afb4144a1f6fd8d2ca17a180786b69acc140d282b71a49"
   }
  }
 },
 "nbformat": 4,
 "nbformat_minor": 2
}
