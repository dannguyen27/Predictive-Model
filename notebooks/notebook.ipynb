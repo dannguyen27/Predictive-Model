{
 "cells": [
  {
   "cell_type": "code",
   "execution_count": 934,
   "metadata": {},
   "outputs": [],
   "source": [
    "#Median Housing data from Historical Property Assessments from the City of Calgary\n",
    "#New housing price index, monthly Data from Statistics Canada \n",
    "#Calgary Population Data from Macrotrends\n",
    "#Median Income Data from Statistics Canada\n",
    "\n"
   ]
  },
  {
   "cell_type": "code",
   "execution_count": 935,
   "metadata": {},
   "outputs": [],
   "source": [
    "import pandas as pd\n",
    "import numpy as np\n",
    "from sklearn.model_selection import train_test_split\n",
    "from sklearn.linear_model import LinearRegression\n",
    "from sklearn.metrics import mean_squared_error, r2_score\n",
    "import seaborn as sns\n",
    "import matplotlib.pyplot as plt\n",
    "from sklearn.ensemble import RandomForestRegressor\n",
    "from sklearn.inspection import PartialDependenceDisplay\n",
    "import plotly.graph_objects as go\n",
    "import plotly.express as px\n",
    "\n",
    "\n",
    "\n"
   ]
  },
  {
   "cell_type": "code",
   "execution_count": 936,
   "metadata": {},
   "outputs": [],
   "source": [
    "#importing data\n",
    "housing_data = pd.read_csv('../data/price_index.csv')\n",
    "interest_rate_data = pd.read_csv('../data/canadian_interest_rates.csv')\n",
    "income_data = pd.read_csv('../data/income_data.csv')\n",
    "population_data = pd.read_csv('../data/calgary_population.csv')\n",
    "median_house_price_data = pd.read_csv('../data/median_assessed_value.csv')\n"
   ]
  },
  {
   "cell_type": "code",
   "execution_count": 937,
   "metadata": {},
   "outputs": [
    {
     "name": "stdout",
     "output_type": "stream",
     "text": [
      "  REF_DATE              GEO           DGUID New housing price indexes  \\\n",
      "0  1981-01           Canada  2016A000011124    Total (house and land)   \n",
      "1  1981-01           Canada  2016A000011124                House only   \n",
      "2  1981-01           Canada  2016A000011124                 Land only   \n",
      "3  1981-01  Atlantic Region      2016A00011    Total (house and land)   \n",
      "4  1981-01  Atlantic Region      2016A00011                House only   \n",
      "\n",
      "                 UOM  UOM_ID SCALAR_FACTOR  SCALAR_ID      VECTOR  COORDINATE  \\\n",
      "0  Index, 201612=100     347         units          0  v111955442         1.1   \n",
      "1  Index, 201612=100     347         units          0  v111955443         1.2   \n",
      "2  Index, 201612=100     347         units          0  v111955444         1.3   \n",
      "3  Index, 201612=100     347         units          0  v111955445         2.1   \n",
      "4  Index, 201612=100     347         units          0  v111955446         2.2   \n",
      "\n",
      "   VALUE STATUS  SYMBOL  TERMINATED  DECIMALS  \n",
      "0   38.2    NaN     NaN         NaN         1  \n",
      "1   36.1    NaN     NaN         NaN         1  \n",
      "2   40.6      E     NaN         NaN         1  \n",
      "3    NaN     ..     NaN         NaN         1  \n",
      "4    NaN     ..     NaN         NaN         1  \n",
      "     REF_DATE     GEO           DGUID      Rates      UOM  UOM_ID  \\\n",
      "0  1981-01-07  Canada  2016A000011124  Bank rate  Percent     239   \n",
      "1  1981-01-14  Canada  2016A000011124  Bank rate  Percent     239   \n",
      "2  1981-01-21  Canada  2016A000011124  Bank rate  Percent     239   \n",
      "3  1981-01-28  Canada  2016A000011124  Bank rate  Percent     239   \n",
      "4  1981-02-04  Canada  2016A000011124  Bank rate  Percent     239   \n",
      "\n",
      "  SCALAR_FACTOR  SCALAR_ID     VECTOR  COORDINATE  VALUE  STATUS  SYMBOL  \\\n",
      "0         units          0  v80691310         1.2  17.26     NaN     NaN   \n",
      "1         units          0  v80691310         1.2  17.00     NaN     NaN   \n",
      "2         units          0  v80691310         1.2  16.97     NaN     NaN   \n",
      "3         units          0  v80691310         1.2  17.00     NaN     NaN   \n",
      "4         units          0  v80691310         1.2  17.11     NaN     NaN   \n",
      "\n",
      "   TERMINATED  DECIMALS  \n",
      "0         NaN         2  \n",
      "1         NaN         2  \n",
      "2         NaN         2  \n",
      "3         NaN         2  \n",
      "4         NaN         2  \n",
      "   REF_DATE               GEO         DGUID          Age group         Sex  \\\n",
      "0      1981  Calgary, Alberta  2021S0503825  15 years and over  Both sexes   \n",
      "1      1982  Calgary, Alberta  2021S0503825  15 years and over  Both sexes   \n",
      "2      1983  Calgary, Alberta  2021S0503825  15 years and over  Both sexes   \n",
      "3      1984  Calgary, Alberta  2021S0503825  15 years and over  Both sexes   \n",
      "4      1985  Calgary, Alberta  2021S0503825  15 years and over  Both sexes   \n",
      "\n",
      "  Income source         Statistics     UOM  UOM_ID SCALAR_FACTOR  SCALAR_ID  \\\n",
      "0  Total income  Number of persons  Number     223     thousands          3   \n",
      "1  Total income  Number of persons  Number     223     thousands          3   \n",
      "2  Total income  Number of persons  Number     223     thousands          3   \n",
      "3  Total income  Number of persons  Number     223     thousands          3   \n",
      "4  Total income  Number of persons  Number     223     thousands          3   \n",
      "\n",
      "       VECTOR  COORDINATE  VALUE STATUS  SYMBOL  TERMINATED  DECIMALS  \n",
      "0  v107693254  19.1.1.1.1    425    NaN     NaN         NaN         0  \n",
      "1  v107693254  19.1.1.1.1    460    NaN     NaN         NaN         0  \n",
      "2  v107693254  19.1.1.1.1    442    NaN     NaN         NaN         0  \n",
      "3  v107693254  19.1.1.1.1    476    NaN     NaN         NaN         0  \n",
      "4  v107693254  19.1.1.1.1    513    NaN     NaN         NaN         0  \n",
      "         date   Population   Annual Change\n",
      "0  1950-12-31       132000             NaN\n",
      "1  1951-12-31       141000            6.82\n",
      "2  1952-12-31       151000            7.09\n",
      "3  1953-12-31       162000            7.28\n",
      "4  1954-12-31       174000            7.41\n"
     ]
    }
   ],
   "source": [
    "# Take a quick look at the data\n",
    "print(housing_data.head())\n",
    "print(interest_rate_data.head())\n",
    "print(income_data.head())\n",
    "print(population_data.head())"
   ]
  },
  {
   "cell_type": "code",
   "execution_count": 938,
   "metadata": {},
   "outputs": [
    {
     "name": "stdout",
     "output_type": "stream",
     "text": [
      "Index(['REF_DATE', 'GEO', 'DGUID', 'New housing price indexes', 'UOM',\n",
      "       'UOM_ID', 'SCALAR_FACTOR', 'SCALAR_ID', 'VECTOR', 'COORDINATE', 'VALUE',\n",
      "       'STATUS', 'SYMBOL', 'TERMINATED', 'DECIMALS'],\n",
      "      dtype='object')\n",
      "Index(['REF_DATE', 'GEO', 'DGUID', 'Rates', 'UOM', 'UOM_ID', 'SCALAR_FACTOR',\n",
      "       'SCALAR_ID', 'VECTOR', 'COORDINATE', 'VALUE', 'STATUS', 'SYMBOL',\n",
      "       'TERMINATED', 'DECIMALS'],\n",
      "      dtype='object')\n",
      "Index(['REF_DATE', 'GEO', 'DGUID', 'Age group', 'Sex', 'Income source',\n",
      "       'Statistics', 'UOM', 'UOM_ID', 'SCALAR_FACTOR', 'SCALAR_ID', 'VECTOR',\n",
      "       'COORDINATE', 'VALUE', 'STATUS', 'SYMBOL', 'TERMINATED', 'DECIMALS'],\n",
      "      dtype='object')\n",
      "Index(['date', ' Population', ' Annual Change'], dtype='object')\n"
     ]
    }
   ],
   "source": [
    "#Viewing Columns Names\n",
    "print(housing_data.columns)\n",
    "print(interest_rate_data.columns)\n",
    "print(income_data.columns)\n",
    "print(population_data.columns)"
   ]
  },
  {
   "cell_type": "code",
   "execution_count": 939,
   "metadata": {},
   "outputs": [],
   "source": [
    "#Dropping other provinces\n",
    "housing_data = housing_data[housing_data.GEO == 'Calgary, Alberta']\n",
    "#Filter for \"Total (house and land)\" category\n",
    "housing_data = housing_data[housing_data['New housing price indexes'] == 'Total (house and land)']\n",
    "\n",
    "\n",
    "#Dropping unused columns, axis=1 means dropping rows, inplace=True changes the original dataframe\n",
    "housing_data.drop(['DGUID', 'New housing price indexes', 'UOM',\n",
    "       'UOM_ID', 'SCALAR_FACTOR', 'SCALAR_ID', 'VECTOR', 'COORDINATE',\n",
    "       'STATUS', 'SYMBOL', 'TERMINATED', 'DECIMALS', 'GEO'], axis=1, inplace=True)\n",
    "\n",
    "\n",
    "interest_rate_data.drop(['DGUID', 'Rates', 'UOM', 'UOM_ID', 'SCALAR_FACTOR',\n",
    "                         'SCALAR_ID', 'VECTOR', 'COORDINATE', 'STATUS', \n",
    "                         'SYMBOL', 'TERMINATED', 'DECIMALS', 'GEO'], axis=1, inplace=True)\n",
    "\n",
    "\n",
    "\n",
    "#Filtering data by Median Income, Better than average as high earnings skew data\n",
    "income_data = income_data[income_data['Statistics'] == 'Median income (excluding zeros)']\n",
    "\n",
    "#Dropping Unused Columns\n",
    "income_data.drop(['DGUID', 'Age group', 'Sex', 'Income source',\n",
    "        'UOM', 'UOM_ID', 'SCALAR_FACTOR', 'SCALAR_ID', 'VECTOR',\n",
    "       'COORDINATE', 'STATUS', 'SYMBOL', 'TERMINATED', 'DECIMALS','Statistics', 'GEO'], axis=1, inplace=True)\n"
   ]
  },
  {
   "cell_type": "code",
   "execution_count": 940,
   "metadata": {},
   "outputs": [],
   "source": [
    "#Converting ref_date to datetime format\n",
    "housing_data.REF_DATE = pd.to_datetime(housing_data.REF_DATE)\n",
    "interest_rate_data.REF_DATE = pd.to_datetime(interest_rate_data.REF_DATE)\n",
    "population_data.date = pd.to_datetime(population_data.date)\n",
    "income_data['REF_DATE'] = pd.to_datetime(income_data['REF_DATE'], format='%Y')\n",
    "\n",
    "\n",
    "\n"
   ]
  },
  {
   "cell_type": "code",
   "execution_count": 941,
   "metadata": {},
   "outputs": [],
   "source": [
    "housing_data.set_index('REF_DATE', inplace=True)\n",
    "interest_rate_data.set_index('REF_DATE', inplace=True)\n",
    "income_data.set_index('REF_DATE', inplace=True)\n",
    "population_data.set_index('date', inplace=True)"
   ]
  },
  {
   "cell_type": "code",
   "execution_count": 942,
   "metadata": {},
   "outputs": [
    {
     "data": {
      "text/plain": [
       "True"
      ]
     },
     "execution_count": 942,
     "metadata": {},
     "output_type": "execute_result"
    }
   ],
   "source": [
    "#Checking for NAN values\n",
    "housing_data.isna().values.any()\n",
    "interest_rate_data.isna().values.any()\n",
    "income_data.isna().values.any()\n",
    "population_data.isna().values.any()"
   ]
  },
  {
   "cell_type": "code",
   "execution_count": 943,
   "metadata": {},
   "outputs": [
    {
     "name": "stdout",
     "output_type": "stream",
     "text": [
      "REF_DATE\n",
      "1981-01-01    False\n",
      "1981-02-01    False\n",
      "1981-03-01    False\n",
      "1981-04-01    False\n",
      "1981-05-01     True\n",
      "              ...  \n",
      "2024-04-01    False\n",
      "2024-05-01    False\n",
      "2024-06-01    False\n",
      "2024-07-01    False\n",
      "2024-08-01    False\n",
      "Length: 524, dtype: bool\n",
      "REF_DATE\n",
      "1981-01-07    False\n",
      "1981-01-14    False\n",
      "1981-01-21    False\n",
      "1981-01-28     True\n",
      "1981-02-04    False\n",
      "              ...  \n",
      "2024-09-04     True\n",
      "2024-09-11     True\n",
      "2024-09-18     True\n",
      "2024-09-25     True\n",
      "2024-10-02     True\n",
      "Length: 2283, dtype: bool\n",
      "REF_DATE\n",
      "1981-01-01    False\n",
      "1982-01-01    False\n",
      "1983-01-01    False\n",
      "1984-01-01    False\n",
      "1985-01-01    False\n",
      "1986-01-01    False\n",
      "1987-01-01    False\n",
      "1988-01-01     True\n",
      "1989-01-01    False\n",
      "1990-01-01    False\n",
      "1991-01-01    False\n",
      "1992-01-01    False\n",
      "1993-01-01    False\n",
      "1994-01-01    False\n",
      "1995-01-01    False\n",
      "1996-01-01    False\n",
      "1997-01-01    False\n",
      "1998-01-01    False\n",
      "1999-01-01    False\n",
      "2000-01-01    False\n",
      "2001-01-01    False\n",
      "2002-01-01    False\n",
      "2003-01-01    False\n",
      "2004-01-01    False\n",
      "2005-01-01    False\n",
      "2006-01-01    False\n",
      "2007-01-01    False\n",
      "2008-01-01    False\n",
      "2009-01-01    False\n",
      "2010-01-01    False\n",
      "2011-01-01    False\n",
      "2012-01-01    False\n",
      "2013-01-01    False\n",
      "2014-01-01    False\n",
      "2015-01-01    False\n",
      "2016-01-01     True\n",
      "2017-01-01    False\n",
      "2018-01-01    False\n",
      "2019-01-01    False\n",
      "2020-01-01    False\n",
      "2021-01-01     True\n",
      "2022-01-01    False\n",
      "dtype: bool\n",
      "date\n",
      "1950-12-31    False\n",
      "1951-12-31    False\n",
      "1952-12-31    False\n",
      "1953-12-31    False\n",
      "1954-12-31    False\n",
      "              ...  \n",
      "2031-12-31    False\n",
      "2032-12-31    False\n",
      "2033-12-31    False\n",
      "2034-12-31    False\n",
      "2035-12-31    False\n",
      "Length: 86, dtype: bool\n"
     ]
    }
   ],
   "source": [
    "#Checking for dupliactes\n",
    "print(housing_data.duplicated())\n",
    "print(interest_rate_data.duplicated())\n",
    "print(income_data.duplicated())\n",
    "print(population_data.duplicated())"
   ]
  },
  {
   "cell_type": "code",
   "execution_count": 944,
   "metadata": {},
   "outputs": [
    {
     "name": "stdout",
     "output_type": "stream",
     "text": [
      "            VALUE\n",
      "REF_DATE         \n",
      "1981-01-01   25.3\n",
      "1981-02-01   25.5\n",
      "1981-03-01   25.8\n",
      "1981-04-01   26.7\n",
      "1981-05-01   26.7\n",
      "      REF_DATE   Population   Annual Change\n",
      "649 2005-01-01    1030000.0            2.59\n",
      "650 2005-02-01    1030000.0            2.59\n",
      "651 2005-03-01    1030000.0            2.59\n",
      "652 2005-04-01    1030000.0            2.59\n",
      "653 2005-05-01    1030000.0            2.59\n",
      "      REF_DATE  VALUE\n",
      "288 2005-01-01   2.75\n",
      "289 2005-02-01   2.75\n",
      "290 2005-03-01   2.75\n",
      "291 2005-04-01   2.75\n",
      "292 2005-05-01   2.75\n",
      "            VALUE\n",
      "REF_DATE         \n",
      "1981-01-01  45000\n",
      "1982-01-01  46700\n",
      "1983-01-01  39100\n",
      "1984-01-01  37800\n",
      "1985-01-01  42600\n"
     ]
    }
   ],
   "source": [
    "# View the result\n",
    "print(housing_data.head())\n",
    "print(population_monthly.head())\n",
    "print(interest_rate_monthly.head())\n",
    "print(income_data.head())\n"
   ]
  },
  {
   "cell_type": "code",
   "execution_count": 945,
   "metadata": {},
   "outputs": [
    {
     "name": "stdout",
     "output_type": "stream",
     "text": [
      "            median_re_assessed_value\n",
      "REF_DATE                            \n",
      "2005-01-01                    206500\n",
      "2005-02-01                    206500\n",
      "2005-03-01                    206500\n",
      "2005-04-01                    206500\n",
      "2005-05-01                    206500\n",
      "2005-06-01                    206500\n",
      "2005-07-01                    206500\n",
      "2005-08-01                    206500\n",
      "2005-09-01                    206500\n",
      "2005-10-01                    206500\n",
      "2005-11-01                    206500\n",
      "2005-12-01                    206500\n",
      "2006-01-01                    221000\n",
      "2006-02-01                    221000\n",
      "2006-03-01                    221000\n",
      "2006-04-01                    221000\n",
      "2006-05-01                    221000\n",
      "2006-06-01                    221000\n",
      "2006-07-01                    221000\n",
      "2006-08-01                    221000\n",
      "2006-09-01                    221000\n",
      "2006-10-01                    221000\n",
      "2006-11-01                    221000\n",
      "2006-12-01                    221000\n"
     ]
    }
   ],
   "source": [
    "median_house_price_data = pd.read_csv('../data/median_assessed_value.csv')\n",
    "median_house_price_data.rename(columns={'ROLL_YEAR': 'REF_DATE'}, inplace=True)\n",
    "median_house_price_data['REF_DATE'] = pd.to_datetime(median_house_price_data['REF_DATE'], format='%Y')\n",
    "median_house_price_data = median_house_price_data.set_index('REF_DATE').resample('MS').ffill()\n",
    "print(median_house_price_data.head(24))  # Shows first year of monthly data\n"
   ]
  },
  {
   "cell_type": "code",
   "execution_count": 946,
   "metadata": {},
   "outputs": [
    {
     "name": "stdout",
     "output_type": "stream",
     "text": [
      "            VALUE\n",
      "REF_DATE         \n",
      "1981-01-01   25.3\n",
      "1981-02-01   25.5\n",
      "1981-03-01   25.8\n",
      "1981-04-01   26.7\n",
      "1981-05-01   26.7\n",
      "            VALUE\n",
      "REF_DATE         \n",
      "1981-01-07  17.26\n",
      "1981-01-14  17.00\n",
      "1981-01-21  16.97\n",
      "1981-01-28  17.00\n",
      "1981-02-04  17.11\n",
      "            VALUE\n",
      "REF_DATE         \n",
      "1981-01-01  45000\n",
      "1982-01-01  46700\n",
      "1983-01-01  39100\n",
      "1984-01-01  37800\n",
      "1985-01-01  42600\n",
      "            Population  Annual Change\n",
      "date                                 \n",
      "1950-12-31      132000            NaN\n",
      "1951-12-31      141000           6.82\n",
      "1952-12-31      151000           7.09\n",
      "1953-12-31      162000           7.28\n",
      "1954-12-31      174000           7.41\n"
     ]
    }
   ],
   "source": [
    "# Take a quick look at the data\n",
    "print(housing_data.head())\n",
    "print(interest_rate_data.head())\n",
    "print(income_data.head())\n",
    "print(population_data.head())"
   ]
  },
  {
   "cell_type": "code",
   "execution_count": 947,
   "metadata": {},
   "outputs": [
    {
     "name": "stdout",
     "output_type": "stream",
     "text": [
      "Index(['VALUE'], dtype='object')\n",
      "Index(['VALUE'], dtype='object')\n",
      "Index(['VALUE'], dtype='object')\n",
      "Index([' Population', ' Annual Change'], dtype='object')\n"
     ]
    }
   ],
   "source": [
    "#Viewing Columns Names\n",
    "print(housing_data.columns)\n",
    "print(interest_rate_data.columns)\n",
    "print(income_data.columns)\n",
    "print(population_data.columns)"
   ]
  },
  {
   "cell_type": "code",
   "execution_count": 948,
   "metadata": {},
   "outputs": [
    {
     "data": {
      "text/plain": [
       "True"
      ]
     },
     "execution_count": 948,
     "metadata": {},
     "output_type": "execute_result"
    }
   ],
   "source": [
    "#Checking for NAN values\n",
    "housing_data.isna().values.any()\n",
    "interest_rate_data.isna().values.any()\n",
    "income_data.isna().values.any()\n",
    "population_data.isna().values.any()"
   ]
  },
  {
   "cell_type": "code",
   "execution_count": 949,
   "metadata": {},
   "outputs": [
    {
     "name": "stdout",
     "output_type": "stream",
     "text": [
      "REF_DATE\n",
      "1981-01-01    False\n",
      "1981-02-01    False\n",
      "1981-03-01    False\n",
      "1981-04-01    False\n",
      "1981-05-01     True\n",
      "              ...  \n",
      "2024-04-01    False\n",
      "2024-05-01    False\n",
      "2024-06-01    False\n",
      "2024-07-01    False\n",
      "2024-08-01    False\n",
      "Length: 524, dtype: bool\n",
      "REF_DATE\n",
      "1981-01-07    False\n",
      "1981-01-14    False\n",
      "1981-01-21    False\n",
      "1981-01-28     True\n",
      "1981-02-04    False\n",
      "              ...  \n",
      "2024-09-04     True\n",
      "2024-09-11     True\n",
      "2024-09-18     True\n",
      "2024-09-25     True\n",
      "2024-10-02     True\n",
      "Length: 2283, dtype: bool\n",
      "REF_DATE\n",
      "1981-01-01    False\n",
      "1982-01-01    False\n",
      "1983-01-01    False\n",
      "1984-01-01    False\n",
      "1985-01-01    False\n",
      "1986-01-01    False\n",
      "1987-01-01    False\n",
      "1988-01-01     True\n",
      "1989-01-01    False\n",
      "1990-01-01    False\n",
      "1991-01-01    False\n",
      "1992-01-01    False\n",
      "1993-01-01    False\n",
      "1994-01-01    False\n",
      "1995-01-01    False\n",
      "1996-01-01    False\n",
      "1997-01-01    False\n",
      "1998-01-01    False\n",
      "1999-01-01    False\n",
      "2000-01-01    False\n",
      "2001-01-01    False\n",
      "2002-01-01    False\n",
      "2003-01-01    False\n",
      "2004-01-01    False\n",
      "2005-01-01    False\n",
      "2006-01-01    False\n",
      "2007-01-01    False\n",
      "2008-01-01    False\n",
      "2009-01-01    False\n",
      "2010-01-01    False\n",
      "2011-01-01    False\n",
      "2012-01-01    False\n",
      "2013-01-01    False\n",
      "2014-01-01    False\n",
      "2015-01-01    False\n",
      "2016-01-01     True\n",
      "2017-01-01    False\n",
      "2018-01-01    False\n",
      "2019-01-01    False\n",
      "2020-01-01    False\n",
      "2021-01-01     True\n",
      "2022-01-01    False\n",
      "dtype: bool\n",
      "date\n",
      "1950-12-31    False\n",
      "1951-12-31    False\n",
      "1952-12-31    False\n",
      "1953-12-31    False\n",
      "1954-12-31    False\n",
      "              ...  \n",
      "2031-12-31    False\n",
      "2032-12-31    False\n",
      "2033-12-31    False\n",
      "2034-12-31    False\n",
      "2035-12-31    False\n",
      "Length: 86, dtype: bool\n"
     ]
    }
   ],
   "source": [
    "#Checking for dupliactes\n",
    "print(housing_data.duplicated())\n",
    "print(interest_rate_data.duplicated())\n",
    "print(income_data.duplicated())\n",
    "print(population_data.duplicated())"
   ]
  },
  {
   "cell_type": "code",
   "execution_count": 950,
   "metadata": {},
   "outputs": [],
   "source": [
    "# Resample to monthly frequency using forward-fill to fill the year for each month, 'MS' is month start frequency\n",
    "population_monthly = population_data.resample('MS').ffill()\n",
    "interest_rate_monthly = interest_rate_data.resample('MS').mean()\n",
    "income_monthly = income_data.resample('MS').ffill()  \n",
    "\n",
    "# Reset any data beyond 2022-12-31 to NaN\n",
    "income_monthly.loc['2023-01-01':, 'VALUE'] = np.nan  # Assuming 'VALUE' is the column name for income\n",
    "\n",
    "# Limit income data to 2022 for forward fill\n",
    "income_monthly = income_monthly[income_monthly.index <= '2023-12-31']\n",
    "\n",
    "\n",
    "# Reset index to make 'date' a column again\n",
    "population_monthly.reset_index(inplace=True)\n",
    "interest_rate_monthly.reset_index(inplace=True)\n",
    "income_monthly.reset_index(inplace=True)\n",
    "\n",
    "\n",
    "# Rename 'date' to 'REF_DATE'\n",
    "population_monthly.rename(columns={'date': 'REF_DATE'}, inplace=True)\n",
    "\n",
    "# Ensure 'REF_DATE' is in monthly format\n",
    "population_monthly['REF_DATE'] = pd.to_datetime(population_monthly['REF_DATE'])\n",
    "population_monthly['REF_DATE'] = population_monthly['REF_DATE'].dt.to_period('M').dt.to_timestamp()\n",
    "\n",
    "population_monthly.dropna(inplace=True)\n",
    "\n",
    "\n",
    "# Filter population data to include only records from 2005 onwards\n",
    "population_monthly = population_monthly[(population_monthly['REF_DATE'] >= '2005-01-01') & (population_monthly['REF_DATE'] <= '2024-12-31')]\n",
    "\n",
    "# Filter other datasets similarly to match the timeframe of the median house price data\n",
    "interest_rate_monthly = interest_rate_monthly[(interest_rate_monthly['REF_DATE'] >= '2005-01-01') & (interest_rate_monthly['REF_DATE'] <= '2024-12-31')]\n",
    "income_monthly = income_monthly[(income_monthly['REF_DATE'] >= '2005-01-01') & (income_monthly['REF_DATE'] <= '2024-12-31')]\n",
    "housing_data = housing_data[(housing_data.index >= '2005-01-01') & (housing_data.index <= '2024-12-31')]\n",
    "median_house_price_data = median_house_price_data[(median_house_price_data.index >= '2005-01-01') & (median_house_price_data.index <= '2024-12-31')]\n"
   ]
  },
  {
   "cell_type": "code",
   "execution_count": 951,
   "metadata": {},
   "outputs": [
    {
     "data": {
      "text/html": [
       "<div>\n",
       "<style scoped>\n",
       "    .dataframe tbody tr th:only-of-type {\n",
       "        vertical-align: middle;\n",
       "    }\n",
       "\n",
       "    .dataframe tbody tr th {\n",
       "        vertical-align: top;\n",
       "    }\n",
       "\n",
       "    .dataframe thead th {\n",
       "        text-align: right;\n",
       "    }\n",
       "</style>\n",
       "<table border=\"1\" class=\"dataframe\">\n",
       "  <thead>\n",
       "    <tr style=\"text-align: right;\">\n",
       "      <th></th>\n",
       "      <th>REF_DATE</th>\n",
       "      <th>VALUE</th>\n",
       "    </tr>\n",
       "  </thead>\n",
       "  <tbody>\n",
       "    <tr>\n",
       "      <th>488</th>\n",
       "      <td>2021-09-01</td>\n",
       "      <td>43400</td>\n",
       "    </tr>\n",
       "    <tr>\n",
       "      <th>489</th>\n",
       "      <td>2021-10-01</td>\n",
       "      <td>43400</td>\n",
       "    </tr>\n",
       "    <tr>\n",
       "      <th>490</th>\n",
       "      <td>2021-11-01</td>\n",
       "      <td>43400</td>\n",
       "    </tr>\n",
       "    <tr>\n",
       "      <th>491</th>\n",
       "      <td>2021-12-01</td>\n",
       "      <td>43400</td>\n",
       "    </tr>\n",
       "    <tr>\n",
       "      <th>492</th>\n",
       "      <td>2022-01-01</td>\n",
       "      <td>48000</td>\n",
       "    </tr>\n",
       "  </tbody>\n",
       "</table>\n",
       "</div>"
      ],
      "text/plain": [
       "      REF_DATE  VALUE\n",
       "488 2021-09-01  43400\n",
       "489 2021-10-01  43400\n",
       "490 2021-11-01  43400\n",
       "491 2021-12-01  43400\n",
       "492 2022-01-01  48000"
      ]
     },
     "execution_count": 951,
     "metadata": {},
     "output_type": "execute_result"
    }
   ],
   "source": [
    "income_monthly.tail()"
   ]
  },
  {
   "cell_type": "code",
   "execution_count": 952,
   "metadata": {},
   "outputs": [
    {
     "name": "stdout",
     "output_type": "stream",
     "text": [
      "            VALUE\n",
      "REF_DATE         \n",
      "2005-01-01   52.0\n",
      "2005-02-01   52.3\n",
      "2005-03-01   52.4\n",
      "2005-04-01   52.8\n",
      "2005-05-01   53.1\n",
      "      REF_DATE   Population   Annual Change\n",
      "649 2005-01-01    1030000.0            2.59\n",
      "650 2005-02-01    1030000.0            2.59\n",
      "651 2005-03-01    1030000.0            2.59\n",
      "652 2005-04-01    1030000.0            2.59\n",
      "653 2005-05-01    1030000.0            2.59\n",
      "      REF_DATE  VALUE\n",
      "288 2005-01-01   2.75\n",
      "289 2005-02-01   2.75\n",
      "290 2005-03-01   2.75\n",
      "291 2005-04-01   2.75\n",
      "292 2005-05-01   2.75\n",
      "      REF_DATE  VALUE\n",
      "288 2005-01-01  43100\n",
      "289 2005-02-01  43100\n",
      "290 2005-03-01  43100\n",
      "291 2005-04-01  43100\n",
      "292 2005-05-01  43100\n"
     ]
    }
   ],
   "source": [
    "# View the result\n",
    "print(housing_data.head())\n",
    "print(population_monthly.head())\n",
    "print(interest_rate_monthly.head())\n",
    "print(income_monthly.head())\n"
   ]
  },
  {
   "cell_type": "code",
   "execution_count": 953,
   "metadata": {},
   "outputs": [],
   "source": [
    "\n",
    "# Now merge the filtered datasets\n",
    "merged_data = housing_data.merge(interest_rate_monthly, on='REF_DATE', how='left', suffixes=('_housing', '_interest'))\n",
    "merged_data = merged_data.merge(income_monthly, on='REF_DATE', how='left')\n",
    "merged_data = merged_data.merge(population_monthly, on='REF_DATE', how='left')\n",
    "merged_data = merged_data.merge(median_house_price_data, on='REF_DATE', how='left')\n",
    "\n",
    "# Forward fill missing values for Median_House_Price after 2005\n",
    "merged_data['median_re_assessed_value'] = merged_data['median_re_assessed_value'].ffill()\n",
    "\n",
    "\n",
    "merged_data.set_index('REF_DATE', inplace=True)"
   ]
  },
  {
   "cell_type": "code",
   "execution_count": 954,
   "metadata": {},
   "outputs": [
    {
     "name": "stdout",
     "output_type": "stream",
     "text": [
      "            Housing_Price_Index  Interest_Rate  Median_Income  \\\n",
      "REF_DATE                                                        \n",
      "2005-01-01                 52.0           2.75        43100.0   \n",
      "2005-02-01                 52.3           2.75        43100.0   \n",
      "2005-03-01                 52.4           2.75        43100.0   \n",
      "2005-04-01                 52.8           2.75        43100.0   \n",
      "2005-05-01                 53.1           2.75        43100.0   \n",
      "\n",
      "            Calgary_Population  Annual_Population_Change  Median_House_Price  \n",
      "REF_DATE                                                                      \n",
      "2005-01-01           1030000.0                      2.59            206500.0  \n",
      "2005-02-01           1030000.0                      2.59            206500.0  \n",
      "2005-03-01           1030000.0                      2.59            206500.0  \n",
      "2005-04-01           1030000.0                      2.59            206500.0  \n",
      "2005-05-01           1030000.0                      2.59            206500.0  \n",
      "            Housing_Price_Index  Interest_Rate  Median_Income  \\\n",
      "REF_DATE                                                        \n",
      "2024-04-01                129.7         5.2500            NaN   \n",
      "2024-05-01                131.4         5.2500            NaN   \n",
      "2024-06-01                132.4         5.0625            NaN   \n",
      "2024-07-01                133.5         4.9500            NaN   \n",
      "2024-08-01                132.9         4.7500            NaN   \n",
      "\n",
      "            Calgary_Population  Annual_Population_Change  Median_House_Price  \n",
      "REF_DATE                                                                      \n",
      "2024-04-01           1640000.0                       1.8            450000.0  \n",
      "2024-05-01           1640000.0                       1.8            450000.0  \n",
      "2024-06-01           1640000.0                       1.8            450000.0  \n",
      "2024-07-01           1640000.0                       1.8            450000.0  \n",
      "2024-08-01           1640000.0                       1.8            450000.0  \n"
     ]
    }
   ],
   "source": [
    "# Renaming columns for more clarity\n",
    "merged_data.rename(columns={\n",
    "    'VALUE_housing': 'Housing_Price_Index',\n",
    "    'VALUE_interest': 'Interest_Rate',\n",
    "    'VALUE': 'Median_Income',\n",
    "    ' Population': 'Calgary_Population',\n",
    "    ' Annual Change': 'Annual_Population_Change',\n",
    "    'median_re_assessed_value': 'Median_House_Price'\n",
    "}, inplace=True)\n",
    "\n",
    "\n",
    "# View the updated DataFrame\n",
    "print(merged_data.head())\n",
    "\n",
    "print(merged_data.tail())\n"
   ]
  },
  {
   "cell_type": "code",
   "execution_count": 955,
   "metadata": {},
   "outputs": [
    {
     "data": {
      "image/png": "[encoded data removed]",
      "text/plain": [
       "<Figure size 1000x600 with 1 Axes>"
      ]
     },
     "metadata": {},
     "output_type": "display_data"
    }
   ],
   "source": [
    "\n",
    "# Plotting actual vs predicted values\n",
    "plt.figure(figsize=(10, 6))\n",
    "plt.scatter(y_test, y_pred, alpha=0.5)\n",
    "plt.plot([y_test.min(), y_test.max()], [y_test.min(), y_test.max()], 'r--', lw=2)\n",
    "plt.xlabel('Actual House Prices')\n",
    "plt.ylabel('Predicted House Prices')\n",
    "plt.title('Actual vs Predicted House Prices')\n",
    "plt.show()\n"
   ]
  },
  {
   "cell_type": "code",
   "execution_count": 956,
   "metadata": {},
   "outputs": [
    {
     "name": "stdout",
     "output_type": "stream",
     "text": [
      "Mean Squared Error: 4120292.7083333335\n",
      "R-squared: 0.999047188504059\n"
     ]
    },
    {
     "name": "stderr",
     "output_type": "stream",
     "text": [
      "/var/folders/c8/wgg214m53kj69jc41gfrvs3w0000gn/T/ipykernel_12865/2137424354.py:9: SettingWithCopyWarning:\n",
      "\n",
      "\n",
      "A value is trying to be set on a copy of a slice from a DataFrame\n",
      "\n",
      "See the caveats in the documentation: https://pandas.pydata.org/pandas-docs/stable/user_guide/indexing.html#returning-a-view-versus-a-copy\n",
      "\n"
     ]
    }
   ],
   "source": [
    "# Ensure merged_data only contains data from 2005 onwards\n",
    "merged_data = merged_data[merged_data.index >= '2005-01-01']\n",
    "\n",
    "# Define features (X) and target (y)\n",
    "X = merged_data[['Housing_Price_Index', 'Interest_Rate', 'Median_Income', 'Calgary_Population', 'Annual_Population_Change']]  # Features\n",
    "y = merged_data['Median_House_Price']  # Target (what you are predicting)\n",
    "\n",
    "# Handle NaNs (e.g., filling with the mean)\n",
    "X.fillna(X.mean(), inplace=True)\n",
    "y.fillna(y.mean(), inplace=True)\n",
    "\n",
    "# Split the data (80% training, 20% testing)\n",
    "X_train, X_test, y_train, y_test = train_test_split(X, y, test_size=0.2, random_state=42)\n",
    "\n",
    "# Initialize the Random Forest model\n",
    "rf_model = RandomForestRegressor(n_estimators=100, random_state=42)\n",
    "\n",
    "# Train the model\n",
    "rf_model.fit(X_train, y_train)\n",
    "\n",
    "# Predict on the test set\n",
    "y_pred = rf_model.predict(X_test)\n",
    "\n",
    "# Evaluate performance\n",
    "mse = mean_squared_error(y_test, y_pred)\n",
    "r2 = r2_score(y_test, y_pred)\n",
    "\n",
    "print(f\"Mean Squared Error: {mse}\")\n",
    "print(f\"R-squared: {r2}\")\n"
   ]
  },
  {
   "cell_type": "code",
   "execution_count": 957,
   "metadata": {},
   "outputs": [
    {
     "name": "stdout",
     "output_type": "stream",
     "text": [
      "                    Feature  Importance\n",
      "3        Calgary_Population    0.746719\n",
      "2             Median_Income    0.096204\n",
      "0       Housing_Price_Index    0.084552\n",
      "4  Annual_Population_Change    0.049649\n",
      "1             Interest_Rate    0.022876\n"
     ]
    }
   ],
   "source": [
    "# Get feature importances\n",
    "importances = rf_model.feature_importances_\n",
    "\n",
    "# Create a DataFrame to organize feature importances\n",
    "feature_importances = pd.DataFrame({\n",
    "    'Feature': X.columns,\n",
    "    'Importance': importances\n",
    "})\n",
    "\n",
    "# Sort by importance (descending)\n",
    "feature_importances = feature_importances.sort_values(by='Importance', ascending=False)\n",
    "\n",
    "# Display the feature importances\n",
    "print(feature_importances)\n"
   ]
  },
  {
   "cell_type": "code",
   "execution_count": 958,
   "metadata": {},
   "outputs": [
    {
     "data": {
      "application/vnd.plotly.v1+json": {
       "config": {
        "plotlyServerURL": "https://plot.ly"
       },
       "data": [
        {
         "mode": "lines",
         "name": "Historical Median House Price",
         "type": "scatter",
         "x": [
          "2005-01-01T00:00:00",
          "2005-02-01T00:00:00",
          "2005-03-01T00:00:00",
          "2005-04-01T00:00:00",
          "2005-05-01T00:00:00",
          "2005-06-01T00:00:00",
          "2005-07-01T00:00:00",
          "2005-08-01T00:00:00",
          "2005-09-01T00:00:00",
          "2005-10-01T00:00:00",
          "2005-11-01T00:00:00",
          "2005-12-01T00:00:00",
          "2006-01-01T00:00:00",
          "2006-02-01T00:00:00",
          "2006-03-01T00:00:00",
          "2006-04-01T00:00:00",
          "2006-05-01T00:00:00",
          "2006-06-01T00:00:00",
          "2006-07-01T00:00:00",
          "2006-08-01T00:00:00",
          "2006-09-01T00:00:00",
          "2006-10-01T00:00:00",
          "2006-11-01T00:00:00",
          "2006-12-01T00:00:00",
          "2007-01-01T00:00:00",
          "2007-02-01T00:00:00",
          "2007-03-01T00:00:00",
          "2007-04-01T00:00:00",
          "2007-05-01T00:00:00",
          "2007-06-01T00:00:00",
          "2007-07-01T00:00:00",
          "2007-08-01T00:00:00",
          "2007-09-01T00:00:00",
          "2007-10-01T00:00:00",
          "2007-11-01T00:00:00",
          "2007-12-01T00:00:00",
          "2008-01-01T00:00:00",
          "2008-02-01T00:00:00",
          "2008-03-01T00:00:00",
          "2008-04-01T00:00:00",
          "2008-05-01T00:00:00",
          "2008-06-01T00:00:00",
          "2008-07-01T00:00:00",
          "2008-08-01T00:00:00",
          "2008-09-01T00:00:00",
          "2008-10-01T00:00:00",
          "2008-11-01T00:00:00",
          "2008-12-01T00:00:00",
          "2009-01-01T00:00:00",
          "2009-02-01T00:00:00",
          "2009-03-01T00:00:00",
          "2009-04-01T00:00:00",
          "2009-05-01T00:00:00",
          "2009-06-01T00:00:00",
          "2009-07-01T00:00:00",
          "2009-08-01T00:00:00",
          "2009-09-01T00:00:00",
          "2009-10-01T00:00:00",
          "2009-11-01T00:00:00",
          "2009-12-01T00:00:00",
          "2010-01-01T00:00:00",
          "2010-02-01T00:00:00",
          "2010-03-01T00:00:00",
          "2010-04-01T00:00:00",
          "2010-05-01T00:00:00",
          "2010-06-01T00:00:00",
          "2010-07-01T00:00:00",
          "2010-08-01T00:00:00",
          "2010-09-01T00:00:00",
          "2010-10-01T00:00:00",
          "2010-11-01T00:00:00",
          "2010-12-01T00:00:00",
          "2011-01-01T00:00:00",
          "2011-02-01T00:00:00",
          "2011-03-01T00:00:00",
          "2011-04-01T00:00:00",
          "2011-05-01T00:00:00",
          "2011-06-01T00:00:00",
          "2011-07-01T00:00:00",
          "2011-08-01T00:00:00",
          "2011-09-01T00:00:00",
          "2011-10-01T00:00:00",
          "2011-11-01T00:00:00",
          "2011-12-01T00:00:00",
          "2012-01-01T00:00:00",
          "2012-02-01T00:00:00",
          "2012-03-01T00:00:00",
          "2012-04-01T00:00:00",
          "2012-05-01T00:00:00",
          "2012-06-01T00:00:00",
          "2012-07-01T00:00:00",
          "2012-08-01T00:00:00",
          "2012-09-01T00:00:00",
          "2012-10-01T00:00:00",
          "2012-11-01T00:00:00",
          "2012-12-01T00:00:00",
          "2013-01-01T00:00:00",
          "2013-02-01T00:00:00",
          "2013-03-01T00:00:00",
          "2013-04-01T00:00:00",
          "2013-05-01T00:00:00",
          "2013-06-01T00:00:00",
          "2013-07-01T00:00:00",
          "2013-08-01T00:00:00",
          "2013-09-01T00:00:00",
          "2013-10-01T00:00:00",
          "2013-11-01T00:00:00",
          "2013-12-01T00:00:00",
          "2014-01-01T00:00:00",
          "2014-02-01T00:00:00",
          "2014-03-01T00:00:00",
          "2014-04-01T00:00:00",
          "2014-05-01T00:00:00",
          "2014-06-01T00:00:00",
          "2014-07-01T00:00:00",
          "2014-08-01T00:00:00",
          "2014-09-01T00:00:00",
          "2014-10-01T00:00:00",
          "2014-11-01T00:00:00",
          "2014-12-01T00:00:00",
          "2015-01-01T00:00:00",
          "2015-02-01T00:00:00",
          "2015-03-01T00:00:00",
          "2015-04-01T00:00:00",
          "2015-05-01T00:00:00",
          "2015-06-01T00:00:00",
          "2015-07-01T00:00:00",
          "2015-08-01T00:00:00",
          "2015-09-01T00:00:00",
          "2015-10-01T00:00:00",
          "2015-11-01T00:00:00",
          "2015-12-01T00:00:00",
          "2016-01-01T00:00:00",
          "2016-02-01T00:00:00",
          "2016-03-01T00:00:00",
          "2016-04-01T00:00:00",
          "2016-05-01T00:00:00",
          "2016-06-01T00:00:00",
          "2016-07-01T00:00:00",
          "2016-08-01T00:00:00",
          "2016-09-01T00:00:00",
          "2016-10-01T00:00:00",
          "2016-11-01T00:00:00",
          "2016-12-01T00:00:00",
          "2017-01-01T00:00:00",
          "2017-02-01T00:00:00",
          "2017-03-01T00:00:00",
          "2017-04-01T00:00:00",
          "2017-05-01T00:00:00",
          "2017-06-01T00:00:00",
          "2017-07-01T00:00:00",
          "2017-08-01T00:00:00",
          "2017-09-01T00:00:00",
          "2017-10-01T00:00:00",
          "2017-11-01T00:00:00",
          "2017-12-01T00:00:00",
          "2018-01-01T00:00:00",
          "2018-02-01T00:00:00",
          "2018-03-01T00:00:00",
          "2018-04-01T00:00:00",
          "2018-05-01T00:00:00",
          "2018-06-01T00:00:00",
          "2018-07-01T00:00:00",
          "2018-08-01T00:00:00",
          "2018-09-01T00:00:00",
          "2018-10-01T00:00:00",
          "2018-11-01T00:00:00",
          "2018-12-01T00:00:00",
          "2019-01-01T00:00:00",
          "2019-02-01T00:00:00",
          "2019-03-01T00:00:00",
          "2019-04-01T00:00:00",
          "2019-05-01T00:00:00",
          "2019-06-01T00:00:00",
          "2019-07-01T00:00:00",
          "2019-08-01T00:00:00",
          "2019-09-01T00:00:00",
          "2019-10-01T00:00:00",
          "2019-11-01T00:00:00",
          "2019-12-01T00:00:00",
          "2020-01-01T00:00:00",
          "2020-02-01T00:00:00",
          "2020-03-01T00:00:00",
          "2020-04-01T00:00:00",
          "2020-05-01T00:00:00",
          "2020-06-01T00:00:00",
          "2020-07-01T00:00:00",
          "2020-08-01T00:00:00",
          "2020-09-01T00:00:00",
          "2020-10-01T00:00:00",
          "2020-11-01T00:00:00",
          "2020-12-01T00:00:00",
          "2021-01-01T00:00:00",
          "2021-02-01T00:00:00",
          "2021-03-01T00:00:00",
          "2021-04-01T00:00:00",
          "2021-05-01T00:00:00",
          "2021-06-01T00:00:00",
          "2021-07-01T00:00:00",
          "2021-08-01T00:00:00",
          "2021-09-01T00:00:00",
          "2021-10-01T00:00:00",
          "2021-11-01T00:00:00",
          "2021-12-01T00:00:00",
          "2022-01-01T00:00:00",
          "2022-02-01T00:00:00",
          "2022-03-01T00:00:00",
          "2022-04-01T00:00:00",
          "2022-05-01T00:00:00",
          "2022-06-01T00:00:00",
          "2022-07-01T00:00:00",
          "2022-08-01T00:00:00",
          "2022-09-01T00:00:00",
          "2022-10-01T00:00:00",
          "2022-11-01T00:00:00",
          "2022-12-01T00:00:00",
          "2023-01-01T00:00:00",
          "2023-02-01T00:00:00",
          "2023-03-01T00:00:00",
          "2023-04-01T00:00:00",
          "2023-05-01T00:00:00",
          "2023-06-01T00:00:00",
          "2023-07-01T00:00:00",
          "2023-08-01T00:00:00",
          "2023-09-01T00:00:00",
          "2023-10-01T00:00:00",
          "2023-11-01T00:00:00",
          "2023-12-01T00:00:00",
          "2024-01-01T00:00:00",
          "2024-02-01T00:00:00",
          "2024-03-01T00:00:00",
          "2024-04-01T00:00:00",
          "2024-05-01T00:00:00",
          "2024-06-01T00:00:00",
          "2024-07-01T00:00:00",
          "2024-08-01T00:00:00"
         ],
         "y": [
          206500,
          206500,
          206500,
          206500,
          206500,
          206500,
          206500,
          206500,
          206500,
          206500,
          206500,
          206500,
          221000,
          221000,
          221000,
          221000,
          221000,
          221000,
          221000,
          221000,
          221000,
          221000,
          221000,
          221000,
          318000,
          318000,
          318000,
          318000,
          318000,
          318000,
          318000,
          318000,
          318000,
          318000,
          318000,
          318000,
          399000,
          399000,
          399000,
          399000,
          399000,
          399000,
          399000,
          399000,
          399000,
          399000,
          399000,
          399000,
          376500,
          376500,
          376500,
          376500,
          376500,
          376500,
          376500,
          376500,
          376500,
          376500,
          376500,
          376500,
          325500,
          325500,
          325500,
          325500,
          325500,
          325500,
          325500,
          325500,
          325500,
          325500,
          325500,
          325500,
          357000,
          357000,
          357000,
          357000,
          357000,
          357000,
          357000,
          357000,
          357000,
          357000,
          357000,
          357000,
          343500,
          343500,
          343500,
          343500,
          343500,
          343500,
          343500,
          343500,
          343500,
          343500,
          343500,
          343500,
          349500,
          349500,
          349500,
          349500,
          349500,
          349500,
          349500,
          349500,
          349500,
          349500,
          349500,
          349500,
          375000,
          375000,
          375000,
          375000,
          375000,
          375000,
          375000,
          375000,
          375000,
          375000,
          375000,
          375000,
          412500,
          412500,
          412500,
          412500,
          412500,
          412500,
          412500,
          412500,
          412500,
          412500,
          412500,
          412500,
          404500,
          404500,
          404500,
          404500,
          404500,
          404500,
          404500,
          404500,
          404500,
          404500,
          404500,
          404500,
          388000,
          388000,
          388000,
          388000,
          388000,
          388000,
          388000,
          388000,
          388000,
          388000,
          388000,
          388000,
          396000,
          396000,
          396000,
          396000,
          396000,
          396000,
          396000,
          396000,
          396000,
          396000,
          396000,
          396000,
          388500,
          388500,
          388500,
          388500,
          388500,
          388500,
          388500,
          388500,
          388500,
          388500,
          388500,
          388500,
          368000,
          368000,
          368000,
          368000,
          368000,
          368000,
          368000,
          368000,
          368000,
          368000,
          368000,
          368000,
          358000,
          358000,
          358000,
          358000,
          358000,
          358000,
          358000,
          358000,
          358000,
          358000,
          358000,
          358000,
          396000,
          396000,
          396000,
          396000,
          396000,
          396000,
          396000,
          396000,
          396000,
          396000,
          396000,
          396000,
          450000,
          450000,
          450000,
          450000,
          450000,
          450000,
          450000,
          450000,
          450000,
          450000,
          450000,
          450000,
          450000,
          450000,
          450000,
          450000,
          450000,
          450000,
          450000,
          450000
         ]
        },
        {
         "line": {
          "dash": "dash"
         },
         "mode": "lines",
         "name": "Predicted Median House Price",
         "type": "scatter",
         "x": [
          "2025-01-01T00:00:00",
          "2025-02-01T00:00:00",
          "2025-03-01T00:00:00",
          "2025-04-01T00:00:00",
          "2025-05-01T00:00:00",
          "2025-06-01T00:00:00",
          "2025-07-01T00:00:00",
          "2025-08-01T00:00:00",
          "2025-09-01T00:00:00",
          "2025-10-01T00:00:00",
          "2025-11-01T00:00:00",
          "2025-12-01T00:00:00",
          "2026-01-01T00:00:00",
          "2026-02-01T00:00:00",
          "2026-03-01T00:00:00",
          "2026-04-01T00:00:00",
          "2026-05-01T00:00:00",
          "2026-06-01T00:00:00",
          "2026-07-01T00:00:00",
          "2026-08-01T00:00:00",
          "2026-09-01T00:00:00",
          "2026-10-01T00:00:00",
          "2026-11-01T00:00:00",
          "2026-12-01T00:00:00",
          "2027-01-01T00:00:00",
          "2027-02-01T00:00:00",
          "2027-03-01T00:00:00",
          "2027-04-01T00:00:00",
          "2027-05-01T00:00:00",
          "2027-06-01T00:00:00",
          "2027-07-01T00:00:00",
          "2027-08-01T00:00:00",
          "2027-09-01T00:00:00",
          "2027-10-01T00:00:00",
          "2027-11-01T00:00:00",
          "2027-12-01T00:00:00",
          "2028-01-01T00:00:00",
          "2028-02-01T00:00:00",
          "2028-03-01T00:00:00",
          "2028-04-01T00:00:00",
          "2028-05-01T00:00:00",
          "2028-06-01T00:00:00",
          "2028-07-01T00:00:00",
          "2028-08-01T00:00:00",
          "2028-09-01T00:00:00",
          "2028-10-01T00:00:00",
          "2028-11-01T00:00:00",
          "2028-12-01T00:00:00",
          "2029-01-01T00:00:00",
          "2029-02-01T00:00:00",
          "2029-03-01T00:00:00",
          "2029-04-01T00:00:00",
          "2029-05-01T00:00:00",
          "2029-06-01T00:00:00",
          "2029-07-01T00:00:00",
          "2029-08-01T00:00:00",
          "2029-09-01T00:00:00",
          "2029-10-01T00:00:00",
          "2029-11-01T00:00:00",
          "2029-12-01T00:00:00",
          "2030-01-01T00:00:00",
          "2030-02-01T00:00:00",
          "2030-03-01T00:00:00",
          "2030-04-01T00:00:00",
          "2030-05-01T00:00:00",
          "2030-06-01T00:00:00",
          "2030-07-01T00:00:00",
          "2030-08-01T00:00:00",
          "2030-09-01T00:00:00",
          "2030-10-01T00:00:00",
          "2030-11-01T00:00:00",
          "2030-12-01T00:00:00"
         ],
         "y": [
          450000,
          450000,
          450000,
          450000,
          450000,
          450000,
          450000,
          450000,
          450000,
          450000,
          450000,
          450000,
          450000,
          450000,
          449385,
          449385,
          449385,
          449385,
          449385,
          449385,
          449385,
          449385,
          449385,
          449385,
          449385,
          448310,
          448310,
          445080,
          445080,
          445080,
          445080,
          445080,
          445080,
          445080,
          445080,
          445080,
          445080,
          445080,
          445080,
          445080,
          445080,
          445080,
          445080,
          445080,
          445080,
          441095,
          441095,
          441095,
          441095,
          441095,
          441095,
          441095,
          441095,
          441095,
          440015,
          440015,
          440015,
          440015,
          440015,
          440015,
          440015,
          440015,
          440015,
          440015,
          440015,
          440015,
          440015,
          440015,
          440015,
          440015,
          440015,
          440015
         ]
        }
       ],
       "layout": {
        "height": 400,
        "hovermode": "x unified",
        "legend": {
         "font": {
          "size": 8
         }
        },
        "margin": {
         "b": 50,
         "l": 50,
         "r": 50,
         "t": 50
        },
        "template": {
         "data": {
          "bar": [
           {
            "error_x": {
             "color": "#2a3f5f"
            },
            "error_y": {
             "color": "#2a3f5f"
            },
            "marker": {
             "line": {
              "color": "#E5ECF6",
              "width": 0.5
             },
             "pattern": {
              "fillmode": "overlay",
              "size": 10,
              "solidity": 0.2
             }
            },
            "type": "bar"
           }
          ],
          "barpolar": [
           {
            "marker": {
             "line": {
              "color": "#E5ECF6",
              "width": 0.5
             },
             "pattern": {
              "fillmode": "overlay",
              "size": 10,
              "solidity": 0.2
             }
            },
            "type": "barpolar"
           }
          ],
          "carpet": [
           {
            "aaxis": {
             "endlinecolor": "#2a3f5f",
             "gridcolor": "white",
             "linecolor": "white",
             "minorgridcolor": "white",
             "startlinecolor": "#2a3f5f"
            },
            "baxis": {
             "endlinecolor": "#2a3f5f",
             "gridcolor": "white",
             "linecolor": "white",
             "minorgridcolor": "white",
             "startlinecolor": "#2a3f5f"
            },
            "type": "carpet"
           }
          ],
          "choropleth": [
           {
            "colorbar": {
             "outlinewidth": 0,
             "ticks": ""
            },
            "type": "choropleth"
           }
          ],
          "contour": [
           {
            "colorbar": {
             "outlinewidth": 0,
             "ticks": ""
            },
            "colorscale": [
             [
              0,
              "#0d0887"
             ],
             [
              0.1111111111111111,
              "#46039f"
             ],
             [
              0.2222222222222222,
              "#7201a8"
             ],
             [
              0.3333333333333333,
              "#9c179e"
             ],
             [
              0.4444444444444444,
              "#bd3786"
             ],
             [
              0.5555555555555556,
              "#d8576b"
             ],
             [
              0.6666666666666666,
              "#ed7953"
             ],
             [
              0.7777777777777778,
              "#fb9f3a"
             ],
             [
              0.8888888888888888,
              "#fdca26"
             ],
             [
              1,
              "#f0f921"
             ]
            ],
            "type": "contour"
           }
          ],
          "contourcarpet": [
           {
            "colorbar": {
             "outlinewidth": 0,
             "ticks": ""
            },
            "type": "contourcarpet"
           }
          ],
          "heatmap": [
           {
            "colorbar": {
             "outlinewidth": 0,
             "ticks": ""
            },
            "colorscale": [
             [
              0,
              "#0d0887"
             ],
             [
              0.1111111111111111,
              "#46039f"
             ],
             [
              0.2222222222222222,
              "#7201a8"
             ],
             [
              0.3333333333333333,
              "#9c179e"
             ],
             [
              0.4444444444444444,
              "#bd3786"
             ],
             [
              0.5555555555555556,
              "#d8576b"
             ],
             [
              0.6666666666666666,
              "#ed7953"
             ],
             [
              0.7777777777777778,
              "#fb9f3a"
             ],
             [
              0.8888888888888888,
              "#fdca26"
             ],
             [
              1,
              "#f0f921"
             ]
            ],
            "type": "heatmap"
           }
          ],
          "heatmapgl": [
           {
            "colorbar": {
             "outlinewidth": 0,
             "ticks": ""
            },
            "colorscale": [
             [
              0,
              "#0d0887"
             ],
             [
              0.1111111111111111,
              "#46039f"
             ],
             [
              0.2222222222222222,
              "#7201a8"
             ],
             [
              0.3333333333333333,
              "#9c179e"
             ],
             [
              0.4444444444444444,
              "#bd3786"
             ],
             [
              0.5555555555555556,
              "#d8576b"
             ],
             [
              0.6666666666666666,
              "#ed7953"
             ],
             [
              0.7777777777777778,
              "#fb9f3a"
             ],
             [
              0.8888888888888888,
              "#fdca26"
             ],
             [
              1,
              "#f0f921"
             ]
            ],
            "type": "heatmapgl"
           }
          ],
          "histogram": [
           {
            "marker": {
             "pattern": {
              "fillmode": "overlay",
              "size": 10,
              "solidity": 0.2
             }
            },
            "type": "histogram"
           }
          ],
          "histogram2d": [
           {
            "colorbar": {
             "outlinewidth": 0,
             "ticks": ""
            },
            "colorscale": [
             [
              0,
              "#0d0887"
             ],
             [
              0.1111111111111111,
              "#46039f"
             ],
             [
              0.2222222222222222,
              "#7201a8"
             ],
             [
              0.3333333333333333,
              "#9c179e"
             ],
             [
              0.4444444444444444,
              "#bd3786"
             ],
             [
              0.5555555555555556,
              "#d8576b"
             ],
             [
              0.6666666666666666,
              "#ed7953"
             ],
             [
              0.7777777777777778,
              "#fb9f3a"
             ],
             [
              0.8888888888888888,
              "#fdca26"
             ],
             [
              1,
              "#f0f921"
             ]
            ],
            "type": "histogram2d"
           }
          ],
          "histogram2dcontour": [
           {
            "colorbar": {
             "outlinewidth": 0,
             "ticks": ""
            },
            "colorscale": [
             [
              0,
              "#0d0887"
             ],
             [
              0.1111111111111111,
              "#46039f"
             ],
             [
              0.2222222222222222,
              "#7201a8"
             ],
             [
              0.3333333333333333,
              "#9c179e"
             ],
             [
              0.4444444444444444,
              "#bd3786"
             ],
             [
              0.5555555555555556,
              "#d8576b"
             ],
             [
              0.6666666666666666,
              "#ed7953"
             ],
             [
              0.7777777777777778,
              "#fb9f3a"
             ],
             [
              0.8888888888888888,
              "#fdca26"
             ],
             [
              1,
              "#f0f921"
             ]
            ],
            "type": "histogram2dcontour"
           }
          ],
          "mesh3d": [
           {
            "colorbar": {
             "outlinewidth": 0,
             "ticks": ""
            },
            "type": "mesh3d"
           }
          ],
          "parcoords": [
           {
            "line": {
             "colorbar": {
              "outlinewidth": 0,
              "ticks": ""
             }
            },
            "type": "parcoords"
           }
          ],
          "pie": [
           {
            "automargin": true,
            "type": "pie"
           }
          ],
          "scatter": [
           {
            "fillpattern": {
             "fillmode": "overlay",
             "size": 10,
             "solidity": 0.2
            },
            "type": "scatter"
           }
          ],
          "scatter3d": [
           {
            "line": {
             "colorbar": {
              "outlinewidth": 0,
              "ticks": ""
             }
            },
            "marker": {
             "colorbar": {
              "outlinewidth": 0,
              "ticks": ""
             }
            },
            "type": "scatter3d"
           }
          ],
          "scattercarpet": [
           {
            "marker": {
             "colorbar": {
              "outlinewidth": 0,
              "ticks": ""
             }
            },
            "type": "scattercarpet"
           }
          ],
          "scattergeo": [
           {
            "marker": {
             "colorbar": {
              "outlinewidth": 0,
              "ticks": ""
             }
            },
            "type": "scattergeo"
           }
          ],
          "scattergl": [
           {
            "marker": {
             "colorbar": {
              "outlinewidth": 0,
              "ticks": ""
             }
            },
            "type": "scattergl"
           }
          ],
          "scattermapbox": [
           {
            "marker": {
             "colorbar": {
              "outlinewidth": 0,
              "ticks": ""
             }
            },
            "type": "scattermapbox"
           }
          ],
          "scatterpolar": [
           {
            "marker": {
             "colorbar": {
              "outlinewidth": 0,
              "ticks": ""
             }
            },
            "type": "scatterpolar"
           }
          ],
          "scatterpolargl": [
           {
            "marker": {
             "colorbar": {
              "outlinewidth": 0,
              "ticks": ""
             }
            },
            "type": "scatterpolargl"
           }
          ],
          "scatterternary": [
           {
            "marker": {
             "colorbar": {
              "outlinewidth": 0,
              "ticks": ""
             }
            },
            "type": "scatterternary"
           }
          ],
          "surface": [
           {
            "colorbar": {
             "outlinewidth": 0,
             "ticks": ""
            },
            "colorscale": [
             [
              0,
              "#0d0887"
             ],
             [
              0.1111111111111111,
              "#46039f"
             ],
             [
              0.2222222222222222,
              "#7201a8"
             ],
             [
              0.3333333333333333,
              "#9c179e"
             ],
             [
              0.4444444444444444,
              "#bd3786"
             ],
             [
              0.5555555555555556,
              "#d8576b"
             ],
             [
              0.6666666666666666,
              "#ed7953"
             ],
             [
              0.7777777777777778,
              "#fb9f3a"
             ],
             [
              0.8888888888888888,
              "#fdca26"
             ],
             [
              1,
              "#f0f921"
             ]
            ],
            "type": "surface"
           }
          ],
          "table": [
           {
            "cells": {
             "fill": {
              "color": "#EBF0F8"
             },
             "line": {
              "color": "white"
             }
            },
            "header": {
             "fill": {
              "color": "#C8D4E3"
             },
             "line": {
              "color": "white"
             }
            },
            "type": "table"
           }
          ]
         },
         "layout": {
          "annotationdefaults": {
           "arrowcolor": "#2a3f5f",
           "arrowhead": 0,
           "arrowwidth": 1
          },
          "autotypenumbers": "strict",
          "coloraxis": {
           "colorbar": {
            "outlinewidth": 0,
            "ticks": ""
           }
          },
          "colorscale": {
           "diverging": [
            [
             0,
             "#8e0152"
            ],
            [
             0.1,
             "#c51b7d"
            ],
            [
             0.2,
             "#de77ae"
            ],
            [
             0.3,
             "#f1b6da"
            ],
            [
             0.4,
             "#fde0ef"
            ],
            [
             0.5,
             "#f7f7f7"
            ],
            [
             0.6,
             "#e6f5d0"
            ],
            [
             0.7,
             "#b8e186"
            ],
            [
             0.8,
             "#7fbc41"
            ],
            [
             0.9,
             "#4d9221"
            ],
            [
             1,
             "#276419"
            ]
           ],
           "sequential": [
            [
             0,
             "#0d0887"
            ],
            [
             0.1111111111111111,
             "#46039f"
            ],
            [
             0.2222222222222222,
             "#7201a8"
            ],
            [
             0.3333333333333333,
             "#9c179e"
            ],
            [
             0.4444444444444444,
             "#bd3786"
            ],
            [
             0.5555555555555556,
             "#d8576b"
            ],
            [
             0.6666666666666666,
             "#ed7953"
            ],
            [
             0.7777777777777778,
             "#fb9f3a"
            ],
            [
             0.8888888888888888,
             "#fdca26"
            ],
            [
             1,
             "#f0f921"
            ]
           ],
           "sequentialminus": [
            [
             0,
             "#0d0887"
            ],
            [
             0.1111111111111111,
             "#46039f"
            ],
            [
             0.2222222222222222,
             "#7201a8"
            ],
            [
             0.3333333333333333,
             "#9c179e"
            ],
            [
             0.4444444444444444,
             "#bd3786"
            ],
            [
             0.5555555555555556,
             "#d8576b"
            ],
            [
             0.6666666666666666,
             "#ed7953"
            ],
            [
             0.7777777777777778,
             "#fb9f3a"
            ],
            [
             0.8888888888888888,
             "#fdca26"
            ],
            [
             1,
             "#f0f921"
            ]
           ]
          },
          "colorway": [
           "#636efa",
           "#EF553B",
           "#00cc96",
           "#ab63fa",
           "#FFA15A",
           "#19d3f3",
           "#FF6692",
           "#B6E880",
           "#FF97FF",
           "#FECB52"
          ],
          "font": {
           "color": "#2a3f5f"
          },
          "geo": {
           "bgcolor": "white",
           "lakecolor": "white",
           "landcolor": "#E5ECF6",
           "showlakes": true,
           "showland": true,
           "subunitcolor": "white"
          },
          "hoverlabel": {
           "align": "left"
          },
          "hovermode": "closest",
          "mapbox": {
           "style": "light"
          },
          "paper_bgcolor": "white",
          "plot_bgcolor": "#E5ECF6",
          "polar": {
           "angularaxis": {
            "gridcolor": "white",
            "linecolor": "white",
            "ticks": ""
           },
           "bgcolor": "#E5ECF6",
           "radialaxis": {
            "gridcolor": "white",
            "linecolor": "white",
            "ticks": ""
           }
          },
          "scene": {
           "xaxis": {
            "backgroundcolor": "#E5ECF6",
            "gridcolor": "white",
            "gridwidth": 2,
            "linecolor": "white",
            "showbackground": true,
            "ticks": "",
            "zerolinecolor": "white"
           },
           "yaxis": {
            "backgroundcolor": "#E5ECF6",
            "gridcolor": "white",
            "gridwidth": 2,
            "linecolor": "white",
            "showbackground": true,
            "ticks": "",
            "zerolinecolor": "white"
           },
           "zaxis": {
            "backgroundcolor": "#E5ECF6",
            "gridcolor": "white",
            "gridwidth": 2,
            "linecolor": "white",
            "showbackground": true,
            "ticks": "",
            "zerolinecolor": "white"
           }
          },
          "shapedefaults": {
           "line": {
            "color": "#2a3f5f"
           }
          },
          "ternary": {
           "aaxis": {
            "gridcolor": "white",
            "linecolor": "white",
            "ticks": ""
           },
           "baxis": {
            "gridcolor": "white",
            "linecolor": "white",
            "ticks": ""
           },
           "bgcolor": "#E5ECF6",
           "caxis": {
            "gridcolor": "white",
            "linecolor": "white",
            "ticks": ""
           }
          },
          "title": {
           "x": 0.05
          },
          "xaxis": {
           "automargin": true,
           "gridcolor": "white",
           "linecolor": "white",
           "ticks": "",
           "title": {
            "standoff": 15
           },
           "zerolinecolor": "white",
           "zerolinewidth": 2
          },
          "yaxis": {
           "automargin": true,
           "gridcolor": "white",
           "linecolor": "white",
           "ticks": "",
           "title": {
            "standoff": 15
           },
           "zerolinecolor": "white",
           "zerolinewidth": 2
          }
         }
        },
        "title": {
         "font": {
          "size": 10
         },
         "text": "Historical and Predicted Median House Prices (2025-2030)"
        },
        "width": 500,
        "xaxis": {
         "title": {
          "text": "Year"
         }
        },
        "yaxis": {
         "title": {
          "text": "House Prices"
         }
        }
       }
      }
     },
     "metadata": {},
     "output_type": "display_data"
    }
   ],
   "source": [
    "# Step 1: Create Future Dataset (2025–2030)\n",
    "# Creating a future date range for monthly data from 2025 to 2030\n",
    "future_dates = pd.date_range(start='2025-01-01', end='2030-12-01', freq='MS')\n",
    "\n",
    "# Create a DataFrame for future data\n",
    "future_data = pd.DataFrame(future_dates, columns=['REF_DATE'])\n",
    "\n",
    "# Project future values for each feature (use linear projections or assumptions)\n",
    "future_data['Housing_Price_Index'] = np.linspace(merged_data['Housing_Price_Index'].iloc[-1], merged_data['Housing_Price_Index'].iloc[-1] * 1.05, len(future_dates))\n",
    "future_data['Interest_Rate'] = np.linspace(merged_data['Interest_Rate'].iloc[-1], merged_data['Interest_Rate'].iloc[-1] - 0.5, len(future_dates))  # Assume a slight drop\n",
    "future_data['Median_Income'] = np.linspace(merged_data['Median_Income'].iloc[-1], merged_data['Median_Income'].iloc[-1] * 1.1, len(future_dates))  # Assume income growth\n",
    "future_data['Calgary_Population'] = np.linspace(merged_data['Calgary_Population'].iloc[-1], merged_data['Calgary_Population'].iloc[-1] * 1.1, len(future_dates))  # Assume population growth\n",
    "future_data['Annual_Population_Change'] = np.linspace(merged_data['Annual_Population_Change'].iloc[-1], merged_data['Annual_Population_Change'].iloc[-1], len(future_dates))  # Keep constant\n",
    "\n",
    "# Step 2: Predict Future House Prices Using Trained Model\n",
    "# Extract the features from the future data\n",
    "X_future = future_data[['Housing_Price_Index', 'Interest_Rate', 'Median_Income', 'Calgary_Population', 'Annual_Population_Change']]\n",
    "\n",
    "# Predict future house prices\n",
    "future_data['Predicted_Median_House_Price'] = rf_model.predict(X_future)\n",
    "\n",
    "# Step 3: Plot Historical and Predicted House Prices\n",
    "import plotly.graph_objects as go\n",
    "\n",
    "# Create a new line chart with historical and future predictions\n",
    "fig = go.Figure()\n",
    "\n",
    "# Plot historical median house prices\n",
    "fig.add_trace(go.Scatter(x=merged_data.index, y=merged_data['Median_House_Price'],\n",
    "                         mode='lines', name='Historical Median House Price'))\n",
    "\n",
    "# Plot future predicted house prices\n",
    "fig.add_trace(go.Scatter(x=future_data['REF_DATE'], y=future_data['Predicted_Median_House_Price'],\n",
    "                         mode='lines', name='Predicted Median House Price', line=dict(dash='dash')))\n",
    "\n",
    "# Customize the layout\n",
    "fig.update_layout(\n",
    "    title='Historical and Predicted Median House Prices (2025-2030)',\n",
    "    xaxis_title='Year',\n",
    "    yaxis_title='House Prices',\n",
    "    hovermode='x unified',\n",
    "    width=500,  # Adjust width to fit the layout\n",
    "    height=400,  # Adjust height to fit the layout\n",
    "    margin=dict(l=50, r=50, t=50, b=50),  # Add margins for clarity\n",
    "    title_font=dict(size=10),  # Increase title font size\n",
    "    legend=dict(font=dict(size=8))  # Increase legend font size\n",
    ")\n",
    "\n",
    "# Show the plot\n",
    "fig.show()\n",
    "\n",
    "fig.write_html(\"predicted.html\")\n",
    "\n"
   ]
  },
  {
   "cell_type": "code",
   "execution_count": 959,
   "metadata": {},
   "outputs": [
    {
     "data": {
      "application/vnd.plotly.v1+json": {
       "config": {
        "plotlyServerURL": "https://plot.ly"
       },
       "data": [
        {
         "hovertemplate": "Feature=Interest_Rate<br>Future Dates=%{x}<br>Feature Importance=%{y}<extra></extra>",
         "legendgroup": "Interest_Rate",
         "line": {
          "color": "#636efa",
          "dash": "solid"
         },
         "marker": {
          "symbol": "circle"
         },
         "mode": "lines",
         "name": "Interest_Rate",
         "orientation": "v",
         "showlegend": true,
         "type": "scatter",
         "x": [
          "2025-01-01T00:00:00",
          "2025-02-01T00:00:00",
          "2025-03-01T00:00:00",
          "2025-04-01T00:00:00",
          "2025-05-01T00:00:00",
          "2025-06-01T00:00:00",
          "2025-07-01T00:00:00",
          "2025-08-01T00:00:00",
          "2025-09-01T00:00:00",
          "2025-10-01T00:00:00",
          "2025-11-01T00:00:00",
          "2025-12-01T00:00:00",
          "2026-01-01T00:00:00",
          "2026-02-01T00:00:00",
          "2026-03-01T00:00:00",
          "2026-04-01T00:00:00",
          "2026-05-01T00:00:00",
          "2026-06-01T00:00:00",
          "2026-07-01T00:00:00",
          "2026-08-01T00:00:00",
          "2026-09-01T00:00:00",
          "2026-10-01T00:00:00",
          "2026-11-01T00:00:00",
          "2026-12-01T00:00:00",
          "2027-01-01T00:00:00",
          "2027-02-01T00:00:00",
          "2027-03-01T00:00:00",
          "2027-04-01T00:00:00",
          "2027-05-01T00:00:00",
          "2027-06-01T00:00:00",
          "2027-07-01T00:00:00",
          "2027-08-01T00:00:00",
          "2027-09-01T00:00:00",
          "2027-10-01T00:00:00",
          "2027-11-01T00:00:00",
          "2027-12-01T00:00:00",
          "2028-01-01T00:00:00",
          "2028-02-01T00:00:00",
          "2028-03-01T00:00:00",
          "2028-04-01T00:00:00",
          "2028-05-01T00:00:00",
          "2028-06-01T00:00:00",
          "2028-07-01T00:00:00",
          "2028-08-01T00:00:00",
          "2028-09-01T00:00:00",
          "2028-10-01T00:00:00",
          "2028-11-01T00:00:00",
          "2028-12-01T00:00:00",
          "2029-01-01T00:00:00",
          "2029-02-01T00:00:00",
          "2029-03-01T00:00:00",
          "2029-04-01T00:00:00",
          "2029-05-01T00:00:00",
          "2029-06-01T00:00:00",
          "2029-07-01T00:00:00",
          "2029-08-01T00:00:00",
          "2029-09-01T00:00:00",
          "2029-10-01T00:00:00",
          "2029-11-01T00:00:00",
          "2029-12-01T00:00:00",
          "2030-01-01T00:00:00",
          "2030-02-01T00:00:00",
          "2030-03-01T00:00:00",
          "2030-04-01T00:00:00",
          "2030-05-01T00:00:00",
          "2030-06-01T00:00:00",
          "2030-07-01T00:00:00",
          "2030-08-01T00:00:00",
          "2030-09-01T00:00:00",
          "2030-10-01T00:00:00",
          "2030-11-01T00:00:00",
          "2030-12-01T00:00:00"
         ],
         "xaxis": "x",
         "y": [
          0.4095308776852949,
          0.4380167514898056,
          0.4658214169219135,
          0.32757169885114684,
          0.4227014441797381,
          0.47367983533164637,
          0.40100101109752473,
          0.4166846027712222,
          0.39730250400303424,
          0.4673571183098649,
          0.45148535186509753,
          0.23938625489863857,
          0.44806354451036534,
          0.3961098167347825,
          0.45669393482723253,
          0.3998915269835317,
          0.22649334917032143,
          0.3258678970244095,
          0.2391145264229116,
          0.21253287692974823,
          0.31382081416514185,
          0.29641877450799986,
          0.4273343925236782,
          0.4922634906458734,
          0.3008880297339832,
          0.49277457915337985,
          0.235711664633251,
          0.4666620404894301,
          0.49786580668153946,
          0.3545275892626127,
          0.37550833147287754,
          0.25051189480952657,
          0.27518471218598495,
          0.37592527335040193,
          0.38617487772139997,
          0.30556945167033167,
          0.37224265042564597,
          0.34217281045991976,
          0.4702014179592431,
          0.2589859985712174,
          0.36618074394934685,
          0.23333626299708796,
          0.40182922322011794,
          0.23203470072644658,
          0.4361488902093213,
          0.2549424078494813,
          0.21601444140051906,
          0.24703081937287824,
          0.24654811468880994,
          0.44177035768167383,
          0.41328057714682925,
          0.4148920854658346,
          0.2135018332721601,
          0.3719107799028508,
          0.2292133574329096,
          0.4399141420009909,
          0.4253853241454416,
          0.3959982387083669,
          0.3552174678380289,
          0.29663605923866937,
          0.266181839865388,
          0.4996508891465874,
          0.2806060785325622,
          0.30779845371367265,
          0.45031057908919997,
          0.27450213012045754,
          0.45885892030697834,
          0.22999693893566975,
          0.38910955425140914,
          0.3009826379717829,
          0.4301111802476467,
          0.2025411992948845
         ],
         "yaxis": "y"
        },
        {
         "hovertemplate": "Feature=Median_Income<br>Future Dates=%{x}<br>Feature Importance=%{y}<extra></extra>",
         "legendgroup": "Median_Income",
         "line": {
          "color": "#EF553B",
          "dash": "solid"
         },
         "marker": {
          "symbol": "circle"
         },
         "mode": "lines",
         "name": "Median_Income",
         "orientation": "v",
         "showlegend": true,
         "type": "scatter",
         "x": [
          "2025-01-01T00:00:00",
          "2025-02-01T00:00:00",
          "2025-03-01T00:00:00",
          "2025-04-01T00:00:00",
          "2025-05-01T00:00:00",
          "2025-06-01T00:00:00",
          "2025-07-01T00:00:00",
          "2025-08-01T00:00:00",
          "2025-09-01T00:00:00",
          "2025-10-01T00:00:00",
          "2025-11-01T00:00:00",
          "2025-12-01T00:00:00",
          "2026-01-01T00:00:00",
          "2026-02-01T00:00:00",
          "2026-03-01T00:00:00",
          "2026-04-01T00:00:00",
          "2026-05-01T00:00:00",
          "2026-06-01T00:00:00",
          "2026-07-01T00:00:00",
          "2026-08-01T00:00:00",
          "2026-09-01T00:00:00",
          "2026-10-01T00:00:00",
          "2026-11-01T00:00:00",
          "2026-12-01T00:00:00",
          "2027-01-01T00:00:00",
          "2027-02-01T00:00:00",
          "2027-03-01T00:00:00",
          "2027-04-01T00:00:00",
          "2027-05-01T00:00:00",
          "2027-06-01T00:00:00",
          "2027-07-01T00:00:00",
          "2027-08-01T00:00:00",
          "2027-09-01T00:00:00",
          "2027-10-01T00:00:00",
          "2027-11-01T00:00:00",
          "2027-12-01T00:00:00",
          "2028-01-01T00:00:00",
          "2028-02-01T00:00:00",
          "2028-03-01T00:00:00",
          "2028-04-01T00:00:00",
          "2028-05-01T00:00:00",
          "2028-06-01T00:00:00",
          "2028-07-01T00:00:00",
          "2028-08-01T00:00:00",
          "2028-09-01T00:00:00",
          "2028-10-01T00:00:00",
          "2028-11-01T00:00:00",
          "2028-12-01T00:00:00",
          "2029-01-01T00:00:00",
          "2029-02-01T00:00:00",
          "2029-03-01T00:00:00",
          "2029-04-01T00:00:00",
          "2029-05-01T00:00:00",
          "2029-06-01T00:00:00",
          "2029-07-01T00:00:00",
          "2029-08-01T00:00:00",
          "2029-09-01T00:00:00",
          "2029-10-01T00:00:00",
          "2029-11-01T00:00:00",
          "2029-12-01T00:00:00",
          "2030-01-01T00:00:00",
          "2030-02-01T00:00:00",
          "2030-03-01T00:00:00",
          "2030-04-01T00:00:00",
          "2030-05-01T00:00:00",
          "2030-06-01T00:00:00",
          "2030-07-01T00:00:00",
          "2030-08-01T00:00:00",
          "2030-09-01T00:00:00",
          "2030-10-01T00:00:00",
          "2030-11-01T00:00:00",
          "2030-12-01T00:00:00"
         ],
         "xaxis": "x",
         "y": [
          0.34707125700657987,
          0.587550811704016,
          0.5395430925698009,
          0.47807273978198794,
          0.5540536043555859,
          0.515896816469207,
          0.5288589608102724,
          0.4490491423232781,
          0.5500729048432604,
          0.5577396709773594,
          0.5817703138766259,
          0.5430533852495321,
          0.5579835668461139,
          0.5329090436650519,
          0.4920221147676662,
          0.5301424654262095,
          0.35261161717586675,
          0.5022936798176698,
          0.5897629114545507,
          0.4223126511350297,
          0.4338252601344274,
          0.44459527703627316,
          0.4545573606933595,
          0.4974816530601272,
          0.5748385403076993,
          0.5891215076646846,
          0.5333532095785423,
          0.5052763867650674,
          0.4675855053790331,
          0.48467369555564743,
          0.549571712374518,
          0.47325348639840914,
          0.4931078480881673,
          0.599725494188484,
          0.3808659008789137,
          0.35247585342838733,
          0.34668151800122515,
          0.3114640862164755,
          0.3198637199209341,
          0.34570704808575176,
          0.3060961260807531,
          0.3425112804156063,
          0.4057120897543763,
          0.42966145454342497,
          0.5936977295504315,
          0.32913909327913593,
          0.3220162052580351,
          0.5104407643494178,
          0.3237909170164267,
          0.38559422366464413,
          0.5100607896642393,
          0.48534619849484906,
          0.4509127781146936,
          0.5111458269863485,
          0.342174968357477,
          0.5251584330660162,
          0.5591347856099156,
          0.5266317390544777,
          0.3799701556709475,
          0.3867290894746077,
          0.4900341226475053,
          0.4271786970571768,
          0.30081926204083165,
          0.5469510402857796,
          0.5779412755365141,
          0.5546144214839763,
          0.5755324512566622,
          0.35973579716758686,
          0.3198359667308668,
          0.33778186263817084,
          0.5062630703338082,
          0.47438429294468004
         ],
         "yaxis": "y"
        },
        {
         "hovertemplate": "Feature=Calgary_Population<br>Future Dates=%{x}<br>Feature Importance=%{y}<extra></extra>",
         "legendgroup": "Calgary_Population",
         "line": {
          "color": "#00cc96",
          "dash": "solid"
         },
         "marker": {
          "symbol": "circle"
         },
         "mode": "lines",
         "name": "Calgary_Population",
         "orientation": "v",
         "showlegend": true,
         "type": "scatter",
         "x": [
          "2025-01-01T00:00:00",
          "2025-02-01T00:00:00",
          "2025-03-01T00:00:00",
          "2025-04-01T00:00:00",
          "2025-05-01T00:00:00",
          "2025-06-01T00:00:00",
          "2025-07-01T00:00:00",
          "2025-08-01T00:00:00",
          "2025-09-01T00:00:00",
          "2025-10-01T00:00:00",
          "2025-11-01T00:00:00",
          "2025-12-01T00:00:00",
          "2026-01-01T00:00:00",
          "2026-02-01T00:00:00",
          "2026-03-01T00:00:00",
          "2026-04-01T00:00:00",
          "2026-05-01T00:00:00",
          "2026-06-01T00:00:00",
          "2026-07-01T00:00:00",
          "2026-08-01T00:00:00",
          "2026-09-01T00:00:00",
          "2026-10-01T00:00:00",
          "2026-11-01T00:00:00",
          "2026-12-01T00:00:00",
          "2027-01-01T00:00:00",
          "2027-02-01T00:00:00",
          "2027-03-01T00:00:00",
          "2027-04-01T00:00:00",
          "2027-05-01T00:00:00",
          "2027-06-01T00:00:00",
          "2027-07-01T00:00:00",
          "2027-08-01T00:00:00",
          "2027-09-01T00:00:00",
          "2027-10-01T00:00:00",
          "2027-11-01T00:00:00",
          "2027-12-01T00:00:00",
          "2028-01-01T00:00:00",
          "2028-02-01T00:00:00",
          "2028-03-01T00:00:00",
          "2028-04-01T00:00:00",
          "2028-05-01T00:00:00",
          "2028-06-01T00:00:00",
          "2028-07-01T00:00:00",
          "2028-08-01T00:00:00",
          "2028-09-01T00:00:00",
          "2028-10-01T00:00:00",
          "2028-11-01T00:00:00",
          "2028-12-01T00:00:00",
          "2029-01-01T00:00:00",
          "2029-02-01T00:00:00",
          "2029-03-01T00:00:00",
          "2029-04-01T00:00:00",
          "2029-05-01T00:00:00",
          "2029-06-01T00:00:00",
          "2029-07-01T00:00:00",
          "2029-08-01T00:00:00",
          "2029-09-01T00:00:00",
          "2029-10-01T00:00:00",
          "2029-11-01T00:00:00",
          "2029-12-01T00:00:00",
          "2030-01-01T00:00:00",
          "2030-02-01T00:00:00",
          "2030-03-01T00:00:00",
          "2030-04-01T00:00:00",
          "2030-05-01T00:00:00",
          "2030-06-01T00:00:00",
          "2030-07-01T00:00:00",
          "2030-08-01T00:00:00",
          "2030-09-01T00:00:00",
          "2030-10-01T00:00:00",
          "2030-11-01T00:00:00",
          "2030-12-01T00:00:00"
         ],
         "xaxis": "x",
         "y": [
          0.5792204590515779,
          0.616652614394828,
          0.7896299451948499,
          0.5694057519024168,
          0.7027726695055548,
          0.7753128553550902,
          0.7719184652847724,
          0.7269155309259395,
          0.5810678198632734,
          0.762736539832445,
          0.6907843085535312,
          0.6792714671344068,
          0.7944860271335576,
          0.6167581810340271,
          0.7949333406839572,
          0.610539279748125,
          0.6986512171108888,
          0.5720057390761247,
          0.5317065150285153,
          0.6627488368290103,
          0.6162296999386572,
          0.5815047049456542,
          0.6573846995415993,
          0.722660676325658,
          0.7922047398852923,
          0.6595624169987049,
          0.5657150183602024,
          0.6725735932214407,
          0.6257700854880968,
          0.7734017999095617,
          0.6526780622318247,
          0.6468761000204972,
          0.7795160188235856,
          0.6815735094098017,
          0.6822055637835601,
          0.5243764219032493,
          0.7390839224539517,
          0.6604698885693474,
          0.5361931013754245,
          0.7916773918765407,
          0.7606521850364242,
          0.5778372536157003,
          0.7027113301266825,
          0.562948514980221,
          0.6339283883753577,
          0.6155470352538784,
          0.6922954438934069,
          0.6634327419726964,
          0.7137686499268545,
          0.6122077522524147,
          0.5851498945867815,
          0.7718923395027903,
          0.5985904666062913,
          0.5321946138420236,
          0.5335801694058714,
          0.6989791496654071,
          0.5989844275036327,
          0.5852510345126325,
          0.7399912781116509,
          0.6770623376153735,
          0.7966199714661562,
          0.7879640043447916,
          0.5505007627013478,
          0.566805888055715,
          0.7979309242417505,
          0.6029142244251983,
          0.6964936291627926,
          0.7857930865403628,
          0.6964014207009634,
          0.6901878359642091,
          0.7514690923382832,
          0.5990708523424674
         ],
         "yaxis": "y"
        }
       ],
       "layout": {
        "height": 400,
        "hovermode": "x unified",
        "legend": {
         "title": {
          "text": "Feature"
         },
         "tracegroupgap": 0
        },
        "margin": {
         "b": 50,
         "l": 50,
         "r": 50,
         "t": 50
        },
        "template": {
         "data": {
          "bar": [
           {
            "error_x": {
             "color": "#2a3f5f"
            },
            "error_y": {
             "color": "#2a3f5f"
            },
            "marker": {
             "line": {
              "color": "#E5ECF6",
              "width": 0.5
             },
             "pattern": {
              "fillmode": "overlay",
              "size": 10,
              "solidity": 0.2
             }
            },
            "type": "bar"
           }
          ],
          "barpolar": [
           {
            "marker": {
             "line": {
              "color": "#E5ECF6",
              "width": 0.5
             },
             "pattern": {
              "fillmode": "overlay",
              "size": 10,
              "solidity": 0.2
             }
            },
            "type": "barpolar"
           }
          ],
          "carpet": [
           {
            "aaxis": {
             "endlinecolor": "#2a3f5f",
             "gridcolor": "white",
             "linecolor": "white",
             "minorgridcolor": "white",
             "startlinecolor": "#2a3f5f"
            },
            "baxis": {
             "endlinecolor": "#2a3f5f",
             "gridcolor": "white",
             "linecolor": "white",
             "minorgridcolor": "white",
             "startlinecolor": "#2a3f5f"
            },
            "type": "carpet"
           }
          ],
          "choropleth": [
           {
            "colorbar": {
             "outlinewidth": 0,
             "ticks": ""
            },
            "type": "choropleth"
           }
          ],
          "contour": [
           {
            "colorbar": {
             "outlinewidth": 0,
             "ticks": ""
            },
            "colorscale": [
             [
              0,
              "#0d0887"
             ],
             [
              0.1111111111111111,
              "#46039f"
             ],
             [
              0.2222222222222222,
              "#7201a8"
             ],
             [
              0.3333333333333333,
              "#9c179e"
             ],
             [
              0.4444444444444444,
              "#bd3786"
             ],
             [
              0.5555555555555556,
              "#d8576b"
             ],
             [
              0.6666666666666666,
              "#ed7953"
             ],
             [
              0.7777777777777778,
              "#fb9f3a"
             ],
             [
              0.8888888888888888,
              "#fdca26"
             ],
             [
              1,
              "#f0f921"
             ]
            ],
            "type": "contour"
           }
          ],
          "contourcarpet": [
           {
            "colorbar": {
             "outlinewidth": 0,
             "ticks": ""
            },
            "type": "contourcarpet"
           }
          ],
          "heatmap": [
           {
            "colorbar": {
             "outlinewidth": 0,
             "ticks": ""
            },
            "colorscale": [
             [
              0,
              "#0d0887"
             ],
             [
              0.1111111111111111,
              "#46039f"
             ],
             [
              0.2222222222222222,
              "#7201a8"
             ],
             [
              0.3333333333333333,
              "#9c179e"
             ],
             [
              0.4444444444444444,
              "#bd3786"
             ],
             [
              0.5555555555555556,
              "#d8576b"
             ],
             [
              0.6666666666666666,
              "#ed7953"
             ],
             [
              0.7777777777777778,
              "#fb9f3a"
             ],
             [
              0.8888888888888888,
              "#fdca26"
             ],
             [
              1,
              "#f0f921"
             ]
            ],
            "type": "heatmap"
           }
          ],
          "heatmapgl": [
           {
            "colorbar": {
             "outlinewidth": 0,
             "ticks": ""
            },
            "colorscale": [
             [
              0,
              "#0d0887"
             ],
             [
              0.1111111111111111,
              "#46039f"
             ],
             [
              0.2222222222222222,
              "#7201a8"
             ],
             [
              0.3333333333333333,
              "#9c179e"
             ],
             [
              0.4444444444444444,
              "#bd3786"
             ],
             [
              0.5555555555555556,
              "#d8576b"
             ],
             [
              0.6666666666666666,
              "#ed7953"
             ],
             [
              0.7777777777777778,
              "#fb9f3a"
             ],
             [
              0.8888888888888888,
              "#fdca26"
             ],
             [
              1,
              "#f0f921"
             ]
            ],
            "type": "heatmapgl"
           }
          ],
          "histogram": [
           {
            "marker": {
             "pattern": {
              "fillmode": "overlay",
              "size": 10,
              "solidity": 0.2
             }
            },
            "type": "histogram"
           }
          ],
          "histogram2d": [
           {
            "colorbar": {
             "outlinewidth": 0,
             "ticks": ""
            },
            "colorscale": [
             [
              0,
              "#0d0887"
             ],
             [
              0.1111111111111111,
              "#46039f"
             ],
             [
              0.2222222222222222,
              "#7201a8"
             ],
             [
              0.3333333333333333,
              "#9c179e"
             ],
             [
              0.4444444444444444,
              "#bd3786"
             ],
             [
              0.5555555555555556,
              "#d8576b"
             ],
             [
              0.6666666666666666,
              "#ed7953"
             ],
             [
              0.7777777777777778,
              "#fb9f3a"
             ],
             [
              0.8888888888888888,
              "#fdca26"
             ],
             [
              1,
              "#f0f921"
             ]
            ],
            "type": "histogram2d"
           }
          ],
          "histogram2dcontour": [
           {
            "colorbar": {
             "outlinewidth": 0,
             "ticks": ""
            },
            "colorscale": [
             [
              0,
              "#0d0887"
             ],
             [
              0.1111111111111111,
              "#46039f"
             ],
             [
              0.2222222222222222,
              "#7201a8"
             ],
             [
              0.3333333333333333,
              "#9c179e"
             ],
             [
              0.4444444444444444,
              "#bd3786"
             ],
             [
              0.5555555555555556,
              "#d8576b"
             ],
             [
              0.6666666666666666,
              "#ed7953"
             ],
             [
              0.7777777777777778,
              "#fb9f3a"
             ],
             [
              0.8888888888888888,
              "#fdca26"
             ],
             [
              1,
              "#f0f921"
             ]
            ],
            "type": "histogram2dcontour"
           }
          ],
          "mesh3d": [
           {
            "colorbar": {
             "outlinewidth": 0,
             "ticks": ""
            },
            "type": "mesh3d"
           }
          ],
          "parcoords": [
           {
            "line": {
             "colorbar": {
              "outlinewidth": 0,
              "ticks": ""
             }
            },
            "type": "parcoords"
           }
          ],
          "pie": [
           {
            "automargin": true,
            "type": "pie"
           }
          ],
          "scatter": [
           {
            "fillpattern": {
             "fillmode": "overlay",
             "size": 10,
             "solidity": 0.2
            },
            "type": "scatter"
           }
          ],
          "scatter3d": [
           {
            "line": {
             "colorbar": {
              "outlinewidth": 0,
              "ticks": ""
             }
            },
            "marker": {
             "colorbar": {
              "outlinewidth": 0,
              "ticks": ""
             }
            },
            "type": "scatter3d"
           }
          ],
          "scattercarpet": [
           {
            "marker": {
             "colorbar": {
              "outlinewidth": 0,
              "ticks": ""
             }
            },
            "type": "scattercarpet"
           }
          ],
          "scattergeo": [
           {
            "marker": {
             "colorbar": {
              "outlinewidth": 0,
              "ticks": ""
             }
            },
            "type": "scattergeo"
           }
          ],
          "scattergl": [
           {
            "marker": {
             "colorbar": {
              "outlinewidth": 0,
              "ticks": ""
             }
            },
            "type": "scattergl"
           }
          ],
          "scattermapbox": [
           {
            "marker": {
             "colorbar": {
              "outlinewidth": 0,
              "ticks": ""
             }
            },
            "type": "scattermapbox"
           }
          ],
          "scatterpolar": [
           {
            "marker": {
             "colorbar": {
              "outlinewidth": 0,
              "ticks": ""
             }
            },
            "type": "scatterpolar"
           }
          ],
          "scatterpolargl": [
           {
            "marker": {
             "colorbar": {
              "outlinewidth": 0,
              "ticks": ""
             }
            },
            "type": "scatterpolargl"
           }
          ],
          "scatterternary": [
           {
            "marker": {
             "colorbar": {
              "outlinewidth": 0,
              "ticks": ""
             }
            },
            "type": "scatterternary"
           }
          ],
          "surface": [
           {
            "colorbar": {
             "outlinewidth": 0,
             "ticks": ""
            },
            "colorscale": [
             [
              0,
              "#0d0887"
             ],
             [
              0.1111111111111111,
              "#46039f"
             ],
             [
              0.2222222222222222,
              "#7201a8"
             ],
             [
              0.3333333333333333,
              "#9c179e"
             ],
             [
              0.4444444444444444,
              "#bd3786"
             ],
             [
              0.5555555555555556,
              "#d8576b"
             ],
             [
              0.6666666666666666,
              "#ed7953"
             ],
             [
              0.7777777777777778,
              "#fb9f3a"
             ],
             [
              0.8888888888888888,
              "#fdca26"
             ],
             [
              1,
              "#f0f921"
             ]
            ],
            "type": "surface"
           }
          ],
          "table": [
           {
            "cells": {
             "fill": {
              "color": "#EBF0F8"
             },
             "line": {
              "color": "white"
             }
            },
            "header": {
             "fill": {
              "color": "#C8D4E3"
             },
             "line": {
              "color": "white"
             }
            },
            "type": "table"
           }
          ]
         },
         "layout": {
          "annotationdefaults": {
           "arrowcolor": "#2a3f5f",
           "arrowhead": 0,
           "arrowwidth": 1
          },
          "autotypenumbers": "strict",
          "coloraxis": {
           "colorbar": {
            "outlinewidth": 0,
            "ticks": ""
           }
          },
          "colorscale": {
           "diverging": [
            [
             0,
             "#8e0152"
            ],
            [
             0.1,
             "#c51b7d"
            ],
            [
             0.2,
             "#de77ae"
            ],
            [
             0.3,
             "#f1b6da"
            ],
            [
             0.4,
             "#fde0ef"
            ],
            [
             0.5,
             "#f7f7f7"
            ],
            [
             0.6,
             "#e6f5d0"
            ],
            [
             0.7,
             "#b8e186"
            ],
            [
             0.8,
             "#7fbc41"
            ],
            [
             0.9,
             "#4d9221"
            ],
            [
             1,
             "#276419"
            ]
           ],
           "sequential": [
            [
             0,
             "#0d0887"
            ],
            [
             0.1111111111111111,
             "#46039f"
            ],
            [
             0.2222222222222222,
             "#7201a8"
            ],
            [
             0.3333333333333333,
             "#9c179e"
            ],
            [
             0.4444444444444444,
             "#bd3786"
            ],
            [
             0.5555555555555556,
             "#d8576b"
            ],
            [
             0.6666666666666666,
             "#ed7953"
            ],
            [
             0.7777777777777778,
             "#fb9f3a"
            ],
            [
             0.8888888888888888,
             "#fdca26"
            ],
            [
             1,
             "#f0f921"
            ]
           ],
           "sequentialminus": [
            [
             0,
             "#0d0887"
            ],
            [
             0.1111111111111111,
             "#46039f"
            ],
            [
             0.2222222222222222,
             "#7201a8"
            ],
            [
             0.3333333333333333,
             "#9c179e"
            ],
            [
             0.4444444444444444,
             "#bd3786"
            ],
            [
             0.5555555555555556,
             "#d8576b"
            ],
            [
             0.6666666666666666,
             "#ed7953"
            ],
            [
             0.7777777777777778,
             "#fb9f3a"
            ],
            [
             0.8888888888888888,
             "#fdca26"
            ],
            [
             1,
             "#f0f921"
            ]
           ]
          },
          "colorway": [
           "#636efa",
           "#EF553B",
           "#00cc96",
           "#ab63fa",
           "#FFA15A",
           "#19d3f3",
           "#FF6692",
           "#B6E880",
           "#FF97FF",
           "#FECB52"
          ],
          "font": {
           "color": "#2a3f5f"
          },
          "geo": {
           "bgcolor": "white",
           "lakecolor": "white",
           "landcolor": "#E5ECF6",
           "showlakes": true,
           "showland": true,
           "subunitcolor": "white"
          },
          "hoverlabel": {
           "align": "left"
          },
          "hovermode": "closest",
          "mapbox": {
           "style": "light"
          },
          "paper_bgcolor": "white",
          "plot_bgcolor": "#E5ECF6",
          "polar": {
           "angularaxis": {
            "gridcolor": "white",
            "linecolor": "white",
            "ticks": ""
           },
           "bgcolor": "#E5ECF6",
           "radialaxis": {
            "gridcolor": "white",
            "linecolor": "white",
            "ticks": ""
           }
          },
          "scene": {
           "xaxis": {
            "backgroundcolor": "#E5ECF6",
            "gridcolor": "white",
            "gridwidth": 2,
            "linecolor": "white",
            "showbackground": true,
            "ticks": "",
            "zerolinecolor": "white"
           },
           "yaxis": {
            "backgroundcolor": "#E5ECF6",
            "gridcolor": "white",
            "gridwidth": 2,
            "linecolor": "white",
            "showbackground": true,
            "ticks": "",
            "zerolinecolor": "white"
           },
           "zaxis": {
            "backgroundcolor": "#E5ECF6",
            "gridcolor": "white",
            "gridwidth": 2,
            "linecolor": "white",
            "showbackground": true,
            "ticks": "",
            "zerolinecolor": "white"
           }
          },
          "shapedefaults": {
           "line": {
            "color": "#2a3f5f"
           }
          },
          "ternary": {
           "aaxis": {
            "gridcolor": "white",
            "linecolor": "white",
            "ticks": ""
           },
           "baxis": {
            "gridcolor": "white",
            "linecolor": "white",
            "ticks": ""
           },
           "bgcolor": "#E5ECF6",
           "caxis": {
            "gridcolor": "white",
            "linecolor": "white",
            "ticks": ""
           }
          },
          "title": {
           "x": 0.05
          },
          "xaxis": {
           "automargin": true,
           "gridcolor": "white",
           "linecolor": "white",
           "ticks": "",
           "title": {
            "standoff": 15
           },
           "zerolinecolor": "white",
           "zerolinewidth": 2
          },
          "yaxis": {
           "automargin": true,
           "gridcolor": "white",
           "linecolor": "white",
           "ticks": "",
           "title": {
            "standoff": 15
           },
           "zerolinecolor": "white",
           "zerolinewidth": 2
          }
         }
        },
        "title": {
         "text": "Feature Importance Over Time"
        },
        "width": 900,
        "xaxis": {
         "anchor": "y",
         "domain": [
          0,
          1
         ],
         "title": {
          "text": "Future Dates"
         }
        },
        "yaxis": {
         "anchor": "x",
         "domain": [
          0,
          1
         ],
         "title": {
          "text": "Feature Importance"
         }
        }
       }
      }
     },
     "metadata": {},
     "output_type": "display_data"
    }
   ],
   "source": [
    "# Create a DataFrame showing feature importance over time (this is hypothetical for demo purposes)\n",
    "feature_importance_over_time = pd.DataFrame({\n",
    "    'Date': future_dates,\n",
    "    'Interest_Rate': np.random.uniform(0.2, 0.5, len(future_dates)),\n",
    "    'Median_Income': np.random.uniform(0.3, 0.6, len(future_dates)),\n",
    "    'Calgary_Population': np.random.uniform(0.5, 0.8, len(future_dates)),\n",
    "})\n",
    "\n",
    "# Melt the DataFrame to long format for plotting\n",
    "melted_importance = feature_importance_over_time.melt(id_vars=['Date'], var_name='Feature', value_name='Importance')\n",
    "\n",
    "# Create the line chart\n",
    "fig = px.line(melted_importance, x='Date', y='Importance', color='Feature',\n",
    "              title=\"Feature Importance Over Time\",\n",
    "              labels={'Importance': 'Feature Importance', 'Date': 'Future Dates'})\n",
    "\n",
    "\n",
    "# Customize the layout\n",
    "fig.update_layout(\n",
    "    title=\"Feature Importance Over Time\",\n",
    "    xaxis_title=\"Future Dates\",\n",
    "    yaxis_title=\"Feature Importance\",\n",
    "    hovermode='x unified',\n",
    "    width=900,  # Adjust width to fit your layout\n",
    "    height=400,  # Adjust height to fit your layout\n",
    "    margin=dict(l=50, r=50, t=50, b=50),  # Set margins to avoid cutting off the edges\n",
    ")\n",
    "\n",
    "fig.show()\n",
    "\n",
    "fig.write_html(\"feature_importance.html\")"
   ]
  },
  {
   "cell_type": "code",
   "execution_count": 960,
   "metadata": {},
   "outputs": [
    {
     "data": {
      "application/vnd.plotly.v1+json": {
       "config": {
        "plotlyServerURL": "https://plot.ly"
       },
       "data": [
        {
         "mode": "lines",
         "name": "Median House Price",
         "type": "scatter",
         "x": [
          "2005-01-01T00:00:00",
          "2005-02-01T00:00:00",
          "2005-03-01T00:00:00",
          "2005-04-01T00:00:00",
          "2005-05-01T00:00:00",
          "2005-06-01T00:00:00",
          "2005-07-01T00:00:00",
          "2005-08-01T00:00:00",
          "2005-09-01T00:00:00",
          "2005-10-01T00:00:00",
          "2005-11-01T00:00:00",
          "2005-12-01T00:00:00",
          "2006-01-01T00:00:00",
          "2006-02-01T00:00:00",
          "2006-03-01T00:00:00",
          "2006-04-01T00:00:00",
          "2006-05-01T00:00:00",
          "2006-06-01T00:00:00",
          "2006-07-01T00:00:00",
          "2006-08-01T00:00:00",
          "2006-09-01T00:00:00",
          "2006-10-01T00:00:00",
          "2006-11-01T00:00:00",
          "2006-12-01T00:00:00",
          "2007-01-01T00:00:00",
          "2007-02-01T00:00:00",
          "2007-03-01T00:00:00",
          "2007-04-01T00:00:00",
          "2007-05-01T00:00:00",
          "2007-06-01T00:00:00",
          "2007-07-01T00:00:00",
          "2007-08-01T00:00:00",
          "2007-09-01T00:00:00",
          "2007-10-01T00:00:00",
          "2007-11-01T00:00:00",
          "2007-12-01T00:00:00",
          "2008-01-01T00:00:00",
          "2008-02-01T00:00:00",
          "2008-03-01T00:00:00",
          "2008-04-01T00:00:00",
          "2008-05-01T00:00:00",
          "2008-06-01T00:00:00",
          "2008-07-01T00:00:00",
          "2008-08-01T00:00:00",
          "2008-09-01T00:00:00",
          "2008-10-01T00:00:00",
          "2008-11-01T00:00:00",
          "2008-12-01T00:00:00",
          "2009-01-01T00:00:00",
          "2009-02-01T00:00:00",
          "2009-03-01T00:00:00",
          "2009-04-01T00:00:00",
          "2009-05-01T00:00:00",
          "2009-06-01T00:00:00",
          "2009-07-01T00:00:00",
          "2009-08-01T00:00:00",
          "2009-09-01T00:00:00",
          "2009-10-01T00:00:00",
          "2009-11-01T00:00:00",
          "2009-12-01T00:00:00",
          "2010-01-01T00:00:00",
          "2010-02-01T00:00:00",
          "2010-03-01T00:00:00",
          "2010-04-01T00:00:00",
          "2010-05-01T00:00:00",
          "2010-06-01T00:00:00",
          "2010-07-01T00:00:00",
          "2010-08-01T00:00:00",
          "2010-09-01T00:00:00",
          "2010-10-01T00:00:00",
          "2010-11-01T00:00:00",
          "2010-12-01T00:00:00",
          "2011-01-01T00:00:00",
          "2011-02-01T00:00:00",
          "2011-03-01T00:00:00",
          "2011-04-01T00:00:00",
          "2011-05-01T00:00:00",
          "2011-06-01T00:00:00",
          "2011-07-01T00:00:00",
          "2011-08-01T00:00:00",
          "2011-09-01T00:00:00",
          "2011-10-01T00:00:00",
          "2011-11-01T00:00:00",
          "2011-12-01T00:00:00",
          "2012-01-01T00:00:00",
          "2012-02-01T00:00:00",
          "2012-03-01T00:00:00",
          "2012-04-01T00:00:00",
          "2012-05-01T00:00:00",
          "2012-06-01T00:00:00",
          "2012-07-01T00:00:00",
          "2012-08-01T00:00:00",
          "2012-09-01T00:00:00",
          "2012-10-01T00:00:00",
          "2012-11-01T00:00:00",
          "2012-12-01T00:00:00",
          "2013-01-01T00:00:00",
          "2013-02-01T00:00:00",
          "2013-03-01T00:00:00",
          "2013-04-01T00:00:00",
          "2013-05-01T00:00:00",
          "2013-06-01T00:00:00",
          "2013-07-01T00:00:00",
          "2013-08-01T00:00:00",
          "2013-09-01T00:00:00",
          "2013-10-01T00:00:00",
          "2013-11-01T00:00:00",
          "2013-12-01T00:00:00",
          "2014-01-01T00:00:00",
          "2014-02-01T00:00:00",
          "2014-03-01T00:00:00",
          "2014-04-01T00:00:00",
          "2014-05-01T00:00:00",
          "2014-06-01T00:00:00",
          "2014-07-01T00:00:00",
          "2014-08-01T00:00:00",
          "2014-09-01T00:00:00",
          "2014-10-01T00:00:00",
          "2014-11-01T00:00:00",
          "2014-12-01T00:00:00",
          "2015-01-01T00:00:00",
          "2015-02-01T00:00:00",
          "2015-03-01T00:00:00",
          "2015-04-01T00:00:00",
          "2015-05-01T00:00:00",
          "2015-06-01T00:00:00",
          "2015-07-01T00:00:00",
          "2015-08-01T00:00:00",
          "2015-09-01T00:00:00",
          "2015-10-01T00:00:00",
          "2015-11-01T00:00:00",
          "2015-12-01T00:00:00",
          "2016-01-01T00:00:00",
          "2016-02-01T00:00:00",
          "2016-03-01T00:00:00",
          "2016-04-01T00:00:00",
          "2016-05-01T00:00:00",
          "2016-06-01T00:00:00",
          "2016-07-01T00:00:00",
          "2016-08-01T00:00:00",
          "2016-09-01T00:00:00",
          "2016-10-01T00:00:00",
          "2016-11-01T00:00:00",
          "2016-12-01T00:00:00",
          "2017-01-01T00:00:00",
          "2017-02-01T00:00:00",
          "2017-03-01T00:00:00",
          "2017-04-01T00:00:00",
          "2017-05-01T00:00:00",
          "2017-06-01T00:00:00",
          "2017-07-01T00:00:00",
          "2017-08-01T00:00:00",
          "2017-09-01T00:00:00",
          "2017-10-01T00:00:00",
          "2017-11-01T00:00:00",
          "2017-12-01T00:00:00",
          "2018-01-01T00:00:00",
          "2018-02-01T00:00:00",
          "2018-03-01T00:00:00",
          "2018-04-01T00:00:00",
          "2018-05-01T00:00:00",
          "2018-06-01T00:00:00",
          "2018-07-01T00:00:00",
          "2018-08-01T00:00:00",
          "2018-09-01T00:00:00",
          "2018-10-01T00:00:00",
          "2018-11-01T00:00:00",
          "2018-12-01T00:00:00",
          "2019-01-01T00:00:00",
          "2019-02-01T00:00:00",
          "2019-03-01T00:00:00",
          "2019-04-01T00:00:00",
          "2019-05-01T00:00:00",
          "2019-06-01T00:00:00",
          "2019-07-01T00:00:00",
          "2019-08-01T00:00:00",
          "2019-09-01T00:00:00",
          "2019-10-01T00:00:00",
          "2019-11-01T00:00:00",
          "2019-12-01T00:00:00",
          "2020-01-01T00:00:00",
          "2020-02-01T00:00:00",
          "2020-03-01T00:00:00",
          "2020-04-01T00:00:00",
          "2020-05-01T00:00:00",
          "2020-06-01T00:00:00",
          "2020-07-01T00:00:00",
          "2020-08-01T00:00:00",
          "2020-09-01T00:00:00",
          "2020-10-01T00:00:00",
          "2020-11-01T00:00:00",
          "2020-12-01T00:00:00",
          "2021-01-01T00:00:00",
          "2021-02-01T00:00:00",
          "2021-03-01T00:00:00",
          "2021-04-01T00:00:00",
          "2021-05-01T00:00:00",
          "2021-06-01T00:00:00",
          "2021-07-01T00:00:00",
          "2021-08-01T00:00:00",
          "2021-09-01T00:00:00",
          "2021-10-01T00:00:00",
          "2021-11-01T00:00:00",
          "2021-12-01T00:00:00",
          "2022-01-01T00:00:00",
          "2022-02-01T00:00:00",
          "2022-03-01T00:00:00",
          "2022-04-01T00:00:00",
          "2022-05-01T00:00:00",
          "2022-06-01T00:00:00",
          "2022-07-01T00:00:00",
          "2022-08-01T00:00:00",
          "2022-09-01T00:00:00",
          "2022-10-01T00:00:00",
          "2022-11-01T00:00:00",
          "2022-12-01T00:00:00",
          "2023-01-01T00:00:00",
          "2023-02-01T00:00:00",
          "2023-03-01T00:00:00",
          "2023-04-01T00:00:00",
          "2023-05-01T00:00:00",
          "2023-06-01T00:00:00",
          "2023-07-01T00:00:00",
          "2023-08-01T00:00:00",
          "2023-09-01T00:00:00",
          "2023-10-01T00:00:00",
          "2023-11-01T00:00:00",
          "2023-12-01T00:00:00",
          "2024-01-01T00:00:00",
          "2024-02-01T00:00:00",
          "2024-03-01T00:00:00",
          "2024-04-01T00:00:00",
          "2024-05-01T00:00:00",
          "2024-06-01T00:00:00",
          "2024-07-01T00:00:00",
          "2024-08-01T00:00:00"
         ],
         "y": [
          206500,
          206500,
          206500,
          206500,
          206500,
          206500,
          206500,
          206500,
          206500,
          206500,
          206500,
          206500,
          221000,
          221000,
          221000,
          221000,
          221000,
          221000,
          221000,
          221000,
          221000,
          221000,
          221000,
          221000,
          318000,
          318000,
          318000,
          318000,
          318000,
          318000,
          318000,
          318000,
          318000,
          318000,
          318000,
          318000,
          399000,
          399000,
          399000,
          399000,
          399000,
          399000,
          399000,
          399000,
          399000,
          399000,
          399000,
          399000,
          376500,
          376500,
          376500,
          376500,
          376500,
          376500,
          376500,
          376500,
          376500,
          376500,
          376500,
          376500,
          325500,
          325500,
          325500,
          325500,
          325500,
          325500,
          325500,
          325500,
          325500,
          325500,
          325500,
          325500,
          357000,
          357000,
          357000,
          357000,
          357000,
          357000,
          357000,
          357000,
          357000,
          357000,
          357000,
          357000,
          343500,
          343500,
          343500,
          343500,
          343500,
          343500,
          343500,
          343500,
          343500,
          343500,
          343500,
          343500,
          349500,
          349500,
          349500,
          349500,
          349500,
          349500,
          349500,
          349500,
          349500,
          349500,
          349500,
          349500,
          375000,
          375000,
          375000,
          375000,
          375000,
          375000,
          375000,
          375000,
          375000,
          375000,
          375000,
          375000,
          412500,
          412500,
          412500,
          412500,
          412500,
          412500,
          412500,
          412500,
          412500,
          412500,
          412500,
          412500,
          404500,
          404500,
          404500,
          404500,
          404500,
          404500,
          404500,
          404500,
          404500,
          404500,
          404500,
          404500,
          388000,
          388000,
          388000,
          388000,
          388000,
          388000,
          388000,
          388000,
          388000,
          388000,
          388000,
          388000,
          396000,
          396000,
          396000,
          396000,
          396000,
          396000,
          396000,
          396000,
          396000,
          396000,
          396000,
          396000,
          388500,
          388500,
          388500,
          388500,
          388500,
          388500,
          388500,
          388500,
          388500,
          388500,
          388500,
          388500,
          368000,
          368000,
          368000,
          368000,
          368000,
          368000,
          368000,
          368000,
          368000,
          368000,
          368000,
          368000,
          358000,
          358000,
          358000,
          358000,
          358000,
          358000,
          358000,
          358000,
          358000,
          358000,
          358000,
          358000,
          396000,
          396000,
          396000,
          396000,
          396000,
          396000,
          396000,
          396000,
          396000,
          396000,
          396000,
          396000,
          450000,
          450000,
          450000,
          450000,
          450000,
          450000,
          450000,
          450000,
          450000,
          450000,
          450000,
          450000,
          450000,
          450000,
          450000,
          450000,
          450000,
          450000,
          450000,
          450000
         ]
        },
        {
         "mode": "lines",
         "name": "Interest Rate",
         "type": "scatter",
         "x": [
          "2005-01-01T00:00:00",
          "2005-02-01T00:00:00",
          "2005-03-01T00:00:00",
          "2005-04-01T00:00:00",
          "2005-05-01T00:00:00",
          "2005-06-01T00:00:00",
          "2005-07-01T00:00:00",
          "2005-08-01T00:00:00",
          "2005-09-01T00:00:00",
          "2005-10-01T00:00:00",
          "2005-11-01T00:00:00",
          "2005-12-01T00:00:00",
          "2006-01-01T00:00:00",
          "2006-02-01T00:00:00",
          "2006-03-01T00:00:00",
          "2006-04-01T00:00:00",
          "2006-05-01T00:00:00",
          "2006-06-01T00:00:00",
          "2006-07-01T00:00:00",
          "2006-08-01T00:00:00",
          "2006-09-01T00:00:00",
          "2006-10-01T00:00:00",
          "2006-11-01T00:00:00",
          "2006-12-01T00:00:00",
          "2007-01-01T00:00:00",
          "2007-02-01T00:00:00",
          "2007-03-01T00:00:00",
          "2007-04-01T00:00:00",
          "2007-05-01T00:00:00",
          "2007-06-01T00:00:00",
          "2007-07-01T00:00:00",
          "2007-08-01T00:00:00",
          "2007-09-01T00:00:00",
          "2007-10-01T00:00:00",
          "2007-11-01T00:00:00",
          "2007-12-01T00:00:00",
          "2008-01-01T00:00:00",
          "2008-02-01T00:00:00",
          "2008-03-01T00:00:00",
          "2008-04-01T00:00:00",
          "2008-05-01T00:00:00",
          "2008-06-01T00:00:00",
          "2008-07-01T00:00:00",
          "2008-08-01T00:00:00",
          "2008-09-01T00:00:00",
          "2008-10-01T00:00:00",
          "2008-11-01T00:00:00",
          "2008-12-01T00:00:00",
          "2009-01-01T00:00:00",
          "2009-02-01T00:00:00",
          "2009-03-01T00:00:00",
          "2009-04-01T00:00:00",
          "2009-05-01T00:00:00",
          "2009-06-01T00:00:00",
          "2009-07-01T00:00:00",
          "2009-08-01T00:00:00",
          "2009-09-01T00:00:00",
          "2009-10-01T00:00:00",
          "2009-11-01T00:00:00",
          "2009-12-01T00:00:00",
          "2010-01-01T00:00:00",
          "2010-02-01T00:00:00",
          "2010-03-01T00:00:00",
          "2010-04-01T00:00:00",
          "2010-05-01T00:00:00",
          "2010-06-01T00:00:00",
          "2010-07-01T00:00:00",
          "2010-08-01T00:00:00",
          "2010-09-01T00:00:00",
          "2010-10-01T00:00:00",
          "2010-11-01T00:00:00",
          "2010-12-01T00:00:00",
          "2011-01-01T00:00:00",
          "2011-02-01T00:00:00",
          "2011-03-01T00:00:00",
          "2011-04-01T00:00:00",
          "2011-05-01T00:00:00",
          "2011-06-01T00:00:00",
          "2011-07-01T00:00:00",
          "2011-08-01T00:00:00",
          "2011-09-01T00:00:00",
          "2011-10-01T00:00:00",
          "2011-11-01T00:00:00",
          "2011-12-01T00:00:00",
          "2012-01-01T00:00:00",
          "2012-02-01T00:00:00",
          "2012-03-01T00:00:00",
          "2012-04-01T00:00:00",
          "2012-05-01T00:00:00",
          "2012-06-01T00:00:00",
          "2012-07-01T00:00:00",
          "2012-08-01T00:00:00",
          "2012-09-01T00:00:00",
          "2012-10-01T00:00:00",
          "2012-11-01T00:00:00",
          "2012-12-01T00:00:00",
          "2013-01-01T00:00:00",
          "2013-02-01T00:00:00",
          "2013-03-01T00:00:00",
          "2013-04-01T00:00:00",
          "2013-05-01T00:00:00",
          "2013-06-01T00:00:00",
          "2013-07-01T00:00:00",
          "2013-08-01T00:00:00",
          "2013-09-01T00:00:00",
          "2013-10-01T00:00:00",
          "2013-11-01T00:00:00",
          "2013-12-01T00:00:00",
          "2014-01-01T00:00:00",
          "2014-02-01T00:00:00",
          "2014-03-01T00:00:00",
          "2014-04-01T00:00:00",
          "2014-05-01T00:00:00",
          "2014-06-01T00:00:00",
          "2014-07-01T00:00:00",
          "2014-08-01T00:00:00",
          "2014-09-01T00:00:00",
          "2014-10-01T00:00:00",
          "2014-11-01T00:00:00",
          "2014-12-01T00:00:00",
          "2015-01-01T00:00:00",
          "2015-02-01T00:00:00",
          "2015-03-01T00:00:00",
          "2015-04-01T00:00:00",
          "2015-05-01T00:00:00",
          "2015-06-01T00:00:00",
          "2015-07-01T00:00:00",
          "2015-08-01T00:00:00",
          "2015-09-01T00:00:00",
          "2015-10-01T00:00:00",
          "2015-11-01T00:00:00",
          "2015-12-01T00:00:00",
          "2016-01-01T00:00:00",
          "2016-02-01T00:00:00",
          "2016-03-01T00:00:00",
          "2016-04-01T00:00:00",
          "2016-05-01T00:00:00",
          "2016-06-01T00:00:00",
          "2016-07-01T00:00:00",
          "2016-08-01T00:00:00",
          "2016-09-01T00:00:00",
          "2016-10-01T00:00:00",
          "2016-11-01T00:00:00",
          "2016-12-01T00:00:00",
          "2017-01-01T00:00:00",
          "2017-02-01T00:00:00",
          "2017-03-01T00:00:00",
          "2017-04-01T00:00:00",
          "2017-05-01T00:00:00",
          "2017-06-01T00:00:00",
          "2017-07-01T00:00:00",
          "2017-08-01T00:00:00",
          "2017-09-01T00:00:00",
          "2017-10-01T00:00:00",
          "2017-11-01T00:00:00",
          "2017-12-01T00:00:00",
          "2018-01-01T00:00:00",
          "2018-02-01T00:00:00",
          "2018-03-01T00:00:00",
          "2018-04-01T00:00:00",
          "2018-05-01T00:00:00",
          "2018-06-01T00:00:00",
          "2018-07-01T00:00:00",
          "2018-08-01T00:00:00",
          "2018-09-01T00:00:00",
          "2018-10-01T00:00:00",
          "2018-11-01T00:00:00",
          "2018-12-01T00:00:00",
          "2019-01-01T00:00:00",
          "2019-02-01T00:00:00",
          "2019-03-01T00:00:00",
          "2019-04-01T00:00:00",
          "2019-05-01T00:00:00",
          "2019-06-01T00:00:00",
          "2019-07-01T00:00:00",
          "2019-08-01T00:00:00",
          "2019-09-01T00:00:00",
          "2019-10-01T00:00:00",
          "2019-11-01T00:00:00",
          "2019-12-01T00:00:00",
          "2020-01-01T00:00:00",
          "2020-02-01T00:00:00",
          "2020-03-01T00:00:00",
          "2020-04-01T00:00:00",
          "2020-05-01T00:00:00",
          "2020-06-01T00:00:00",
          "2020-07-01T00:00:00",
          "2020-08-01T00:00:00",
          "2020-09-01T00:00:00",
          "2020-10-01T00:00:00",
          "2020-11-01T00:00:00",
          "2020-12-01T00:00:00",
          "2021-01-01T00:00:00",
          "2021-02-01T00:00:00",
          "2021-03-01T00:00:00",
          "2021-04-01T00:00:00",
          "2021-05-01T00:00:00",
          "2021-06-01T00:00:00",
          "2021-07-01T00:00:00",
          "2021-08-01T00:00:00",
          "2021-09-01T00:00:00",
          "2021-10-01T00:00:00",
          "2021-11-01T00:00:00",
          "2021-12-01T00:00:00",
          "2022-01-01T00:00:00",
          "2022-02-01T00:00:00",
          "2022-03-01T00:00:00",
          "2022-04-01T00:00:00",
          "2022-05-01T00:00:00",
          "2022-06-01T00:00:00",
          "2022-07-01T00:00:00",
          "2022-08-01T00:00:00",
          "2022-09-01T00:00:00",
          "2022-10-01T00:00:00",
          "2022-11-01T00:00:00",
          "2022-12-01T00:00:00",
          "2023-01-01T00:00:00",
          "2023-02-01T00:00:00",
          "2023-03-01T00:00:00",
          "2023-04-01T00:00:00",
          "2023-05-01T00:00:00",
          "2023-06-01T00:00:00",
          "2023-07-01T00:00:00",
          "2023-08-01T00:00:00",
          "2023-09-01T00:00:00",
          "2023-10-01T00:00:00",
          "2023-11-01T00:00:00",
          "2023-12-01T00:00:00",
          "2024-01-01T00:00:00",
          "2024-02-01T00:00:00",
          "2024-03-01T00:00:00",
          "2024-04-01T00:00:00",
          "2024-05-01T00:00:00",
          "2024-06-01T00:00:00",
          "2024-07-01T00:00:00",
          "2024-08-01T00:00:00"
         ],
         "y": [
          2.75,
          2.75,
          2.75,
          2.75,
          2.75,
          2.75,
          2.75,
          2.75,
          3,
          3.125,
          3.25,
          3.5,
          3.5625,
          3.75,
          3.95,
          4.0625,
          4.35,
          4.5,
          4.5,
          4.5,
          4.5,
          4.5,
          4.5,
          4.5,
          4.5,
          4.5,
          4.5,
          4.5,
          4.5,
          4.5,
          4.6875,
          4.75,
          4.75,
          4.75,
          4.75,
          4.5,
          4.4,
          4.25,
          3.75,
          3.55,
          3.25,
          3.25,
          3.25,
          3.25,
          3.25,
          2.75,
          2.5,
          1.9,
          1.5,
          1.25,
          0.75,
          0.65,
          0.5,
          0.5,
          0.5,
          0.5,
          0.5,
          0.5,
          0.5,
          0.5,
          0.5,
          0.5,
          0.5,
          0.5,
          0.5,
          0.75,
          0.875,
          1,
          1.2,
          1.25,
          1.25,
          1.25,
          1.25,
          1.25,
          1.25,
          1.25,
          1.25,
          1.25,
          1.25,
          1.25,
          1.25,
          1.25,
          1.25,
          1.25,
          1.25,
          1.25,
          1.25,
          1.25,
          1.25,
          1.25,
          1.25,
          1.25,
          1.25,
          1.25,
          1.25,
          1.25,
          1.25,
          1.25,
          1.25,
          1.25,
          1.25,
          1.25,
          1.25,
          1.25,
          1.25,
          1.25,
          1.25,
          1.25,
          1.25,
          1.25,
          1.25,
          1.25,
          1.25,
          1.25,
          1.25,
          1.25,
          1.25,
          1.25,
          1.25,
          1.25,
          1.125,
          1,
          1,
          1,
          1,
          1,
          0.85,
          0.75,
          0.75,
          0.75,
          0.75,
          0.75,
          0.75,
          0.75,
          0.75,
          0.75,
          0.75,
          0.75,
          0.75,
          0.75,
          0.75,
          0.75,
          0.75,
          0.75,
          0.75,
          0.75,
          0.75,
          0.75,
          0.75,
          0.75,
          0.9375,
          1,
          1.25,
          1.25,
          1.25,
          1.25,
          1.4,
          1.5,
          1.5,
          1.5,
          1.5,
          1.5,
          1.6875,
          1.75,
          1.75,
          1.85,
          2,
          2,
          2,
          2,
          2,
          2,
          2,
          2,
          2,
          2,
          2,
          2,
          2,
          2,
          2,
          2,
          1.25,
          0.5,
          0.5,
          0.5,
          0.5,
          0.5,
          0.5,
          0.5,
          0.5,
          0.5,
          0.5,
          0.5,
          0.5,
          0.5,
          0.5,
          0.5,
          0.5,
          0.5,
          0.5,
          0.5,
          0.5,
          0.5,
          0.5,
          0.5,
          0.7,
          1,
          1.25,
          1.65,
          2.25,
          2.75,
          3.3125,
          3.5,
          4,
          4.375,
          4.5,
          4.75,
          4.75,
          4.75,
          4.75,
          4.9375,
          5.125,
          5.25,
          5.25,
          5.25,
          5.25,
          5.25,
          5.25,
          5.25,
          5.25,
          5.25,
          5.25,
          5.0625,
          4.95,
          4.75
         ],
         "yaxis": "y2"
        },
        {
         "mode": "lines",
         "name": "Calgary Population",
         "type": "scatter",
         "x": [
          "2005-01-01T00:00:00",
          "2005-02-01T00:00:00",
          "2005-03-01T00:00:00",
          "2005-04-01T00:00:00",
          "2005-05-01T00:00:00",
          "2005-06-01T00:00:00",
          "2005-07-01T00:00:00",
          "2005-08-01T00:00:00",
          "2005-09-01T00:00:00",
          "2005-10-01T00:00:00",
          "2005-11-01T00:00:00",
          "2005-12-01T00:00:00",
          "2006-01-01T00:00:00",
          "2006-02-01T00:00:00",
          "2006-03-01T00:00:00",
          "2006-04-01T00:00:00",
          "2006-05-01T00:00:00",
          "2006-06-01T00:00:00",
          "2006-07-01T00:00:00",
          "2006-08-01T00:00:00",
          "2006-09-01T00:00:00",
          "2006-10-01T00:00:00",
          "2006-11-01T00:00:00",
          "2006-12-01T00:00:00",
          "2007-01-01T00:00:00",
          "2007-02-01T00:00:00",
          "2007-03-01T00:00:00",
          "2007-04-01T00:00:00",
          "2007-05-01T00:00:00",
          "2007-06-01T00:00:00",
          "2007-07-01T00:00:00",
          "2007-08-01T00:00:00",
          "2007-09-01T00:00:00",
          "2007-10-01T00:00:00",
          "2007-11-01T00:00:00",
          "2007-12-01T00:00:00",
          "2008-01-01T00:00:00",
          "2008-02-01T00:00:00",
          "2008-03-01T00:00:00",
          "2008-04-01T00:00:00",
          "2008-05-01T00:00:00",
          "2008-06-01T00:00:00",
          "2008-07-01T00:00:00",
          "2008-08-01T00:00:00",
          "2008-09-01T00:00:00",
          "2008-10-01T00:00:00",
          "2008-11-01T00:00:00",
          "2008-12-01T00:00:00",
          "2009-01-01T00:00:00",
          "2009-02-01T00:00:00",
          "2009-03-01T00:00:00",
          "2009-04-01T00:00:00",
          "2009-05-01T00:00:00",
          "2009-06-01T00:00:00",
          "2009-07-01T00:00:00",
          "2009-08-01T00:00:00",
          "2009-09-01T00:00:00",
          "2009-10-01T00:00:00",
          "2009-11-01T00:00:00",
          "2009-12-01T00:00:00",
          "2010-01-01T00:00:00",
          "2010-02-01T00:00:00",
          "2010-03-01T00:00:00",
          "2010-04-01T00:00:00",
          "2010-05-01T00:00:00",
          "2010-06-01T00:00:00",
          "2010-07-01T00:00:00",
          "2010-08-01T00:00:00",
          "2010-09-01T00:00:00",
          "2010-10-01T00:00:00",
          "2010-11-01T00:00:00",
          "2010-12-01T00:00:00",
          "2011-01-01T00:00:00",
          "2011-02-01T00:00:00",
          "2011-03-01T00:00:00",
          "2011-04-01T00:00:00",
          "2011-05-01T00:00:00",
          "2011-06-01T00:00:00",
          "2011-07-01T00:00:00",
          "2011-08-01T00:00:00",
          "2011-09-01T00:00:00",
          "2011-10-01T00:00:00",
          "2011-11-01T00:00:00",
          "2011-12-01T00:00:00",
          "2012-01-01T00:00:00",
          "2012-02-01T00:00:00",
          "2012-03-01T00:00:00",
          "2012-04-01T00:00:00",
          "2012-05-01T00:00:00",
          "2012-06-01T00:00:00",
          "2012-07-01T00:00:00",
          "2012-08-01T00:00:00",
          "2012-09-01T00:00:00",
          "2012-10-01T00:00:00",
          "2012-11-01T00:00:00",
          "2012-12-01T00:00:00",
          "2013-01-01T00:00:00",
          "2013-02-01T00:00:00",
          "2013-03-01T00:00:00",
          "2013-04-01T00:00:00",
          "2013-05-01T00:00:00",
          "2013-06-01T00:00:00",
          "2013-07-01T00:00:00",
          "2013-08-01T00:00:00",
          "2013-09-01T00:00:00",
          "2013-10-01T00:00:00",
          "2013-11-01T00:00:00",
          "2013-12-01T00:00:00",
          "2014-01-01T00:00:00",
          "2014-02-01T00:00:00",
          "2014-03-01T00:00:00",
          "2014-04-01T00:00:00",
          "2014-05-01T00:00:00",
          "2014-06-01T00:00:00",
          "2014-07-01T00:00:00",
          "2014-08-01T00:00:00",
          "2014-09-01T00:00:00",
          "2014-10-01T00:00:00",
          "2014-11-01T00:00:00",
          "2014-12-01T00:00:00",
          "2015-01-01T00:00:00",
          "2015-02-01T00:00:00",
          "2015-03-01T00:00:00",
          "2015-04-01T00:00:00",
          "2015-05-01T00:00:00",
          "2015-06-01T00:00:00",
          "2015-07-01T00:00:00",
          "2015-08-01T00:00:00",
          "2015-09-01T00:00:00",
          "2015-10-01T00:00:00",
          "2015-11-01T00:00:00",
          "2015-12-01T00:00:00",
          "2016-01-01T00:00:00",
          "2016-02-01T00:00:00",
          "2016-03-01T00:00:00",
          "2016-04-01T00:00:00",
          "2016-05-01T00:00:00",
          "2016-06-01T00:00:00",
          "2016-07-01T00:00:00",
          "2016-08-01T00:00:00",
          "2016-09-01T00:00:00",
          "2016-10-01T00:00:00",
          "2016-11-01T00:00:00",
          "2016-12-01T00:00:00",
          "2017-01-01T00:00:00",
          "2017-02-01T00:00:00",
          "2017-03-01T00:00:00",
          "2017-04-01T00:00:00",
          "2017-05-01T00:00:00",
          "2017-06-01T00:00:00",
          "2017-07-01T00:00:00",
          "2017-08-01T00:00:00",
          "2017-09-01T00:00:00",
          "2017-10-01T00:00:00",
          "2017-11-01T00:00:00",
          "2017-12-01T00:00:00",
          "2018-01-01T00:00:00",
          "2018-02-01T00:00:00",
          "2018-03-01T00:00:00",
          "2018-04-01T00:00:00",
          "2018-05-01T00:00:00",
          "2018-06-01T00:00:00",
          "2018-07-01T00:00:00",
          "2018-08-01T00:00:00",
          "2018-09-01T00:00:00",
          "2018-10-01T00:00:00",
          "2018-11-01T00:00:00",
          "2018-12-01T00:00:00",
          "2019-01-01T00:00:00",
          "2019-02-01T00:00:00",
          "2019-03-01T00:00:00",
          "2019-04-01T00:00:00",
          "2019-05-01T00:00:00",
          "2019-06-01T00:00:00",
          "2019-07-01T00:00:00",
          "2019-08-01T00:00:00",
          "2019-09-01T00:00:00",
          "2019-10-01T00:00:00",
          "2019-11-01T00:00:00",
          "2019-12-01T00:00:00",
          "2020-01-01T00:00:00",
          "2020-02-01T00:00:00",
          "2020-03-01T00:00:00",
          "2020-04-01T00:00:00",
          "2020-05-01T00:00:00",
          "2020-06-01T00:00:00",
          "2020-07-01T00:00:00",
          "2020-08-01T00:00:00",
          "2020-09-01T00:00:00",
          "2020-10-01T00:00:00",
          "2020-11-01T00:00:00",
          "2020-12-01T00:00:00",
          "2021-01-01T00:00:00",
          "2021-02-01T00:00:00",
          "2021-03-01T00:00:00",
          "2021-04-01T00:00:00",
          "2021-05-01T00:00:00",
          "2021-06-01T00:00:00",
          "2021-07-01T00:00:00",
          "2021-08-01T00:00:00",
          "2021-09-01T00:00:00",
          "2021-10-01T00:00:00",
          "2021-11-01T00:00:00",
          "2021-12-01T00:00:00",
          "2022-01-01T00:00:00",
          "2022-02-01T00:00:00",
          "2022-03-01T00:00:00",
          "2022-04-01T00:00:00",
          "2022-05-01T00:00:00",
          "2022-06-01T00:00:00",
          "2022-07-01T00:00:00",
          "2022-08-01T00:00:00",
          "2022-09-01T00:00:00",
          "2022-10-01T00:00:00",
          "2022-11-01T00:00:00",
          "2022-12-01T00:00:00",
          "2023-01-01T00:00:00",
          "2023-02-01T00:00:00",
          "2023-03-01T00:00:00",
          "2023-04-01T00:00:00",
          "2023-05-01T00:00:00",
          "2023-06-01T00:00:00",
          "2023-07-01T00:00:00",
          "2023-08-01T00:00:00",
          "2023-09-01T00:00:00",
          "2023-10-01T00:00:00",
          "2023-11-01T00:00:00",
          "2023-12-01T00:00:00",
          "2024-01-01T00:00:00",
          "2024-02-01T00:00:00",
          "2024-03-01T00:00:00",
          "2024-04-01T00:00:00",
          "2024-05-01T00:00:00",
          "2024-06-01T00:00:00",
          "2024-07-01T00:00:00",
          "2024-08-01T00:00:00"
         ],
         "y": [
          1030000,
          1030000,
          1030000,
          1030000,
          1030000,
          1030000,
          1030000,
          1030000,
          1030000,
          1030000,
          1030000,
          1030000,
          1056000,
          1056000,
          1056000,
          1056000,
          1056000,
          1056000,
          1056000,
          1056000,
          1056000,
          1056000,
          1056000,
          1056000,
          1083000,
          1083000,
          1083000,
          1083000,
          1083000,
          1083000,
          1083000,
          1083000,
          1083000,
          1083000,
          1083000,
          1083000,
          1109000,
          1109000,
          1109000,
          1109000,
          1109000,
          1109000,
          1109000,
          1109000,
          1109000,
          1109000,
          1109000,
          1109000,
          1135000,
          1135000,
          1135000,
          1135000,
          1135000,
          1135000,
          1135000,
          1135000,
          1135000,
          1135000,
          1135000,
          1135000,
          1162000,
          1162000,
          1162000,
          1162000,
          1162000,
          1162000,
          1162000,
          1162000,
          1162000,
          1162000,
          1162000,
          1162000,
          1190000,
          1190000,
          1190000,
          1190000,
          1190000,
          1190000,
          1190000,
          1190000,
          1190000,
          1190000,
          1190000,
          1190000,
          1220000,
          1220000,
          1220000,
          1220000,
          1220000,
          1220000,
          1220000,
          1220000,
          1220000,
          1220000,
          1220000,
          1220000,
          1253000,
          1253000,
          1253000,
          1253000,
          1253000,
          1253000,
          1253000,
          1253000,
          1253000,
          1253000,
          1253000,
          1253000,
          1288000,
          1288000,
          1288000,
          1288000,
          1288000,
          1288000,
          1288000,
          1288000,
          1288000,
          1288000,
          1288000,
          1288000,
          1324000,
          1324000,
          1324000,
          1324000,
          1324000,
          1324000,
          1324000,
          1324000,
          1324000,
          1324000,
          1324000,
          1324000,
          1360000,
          1360000,
          1360000,
          1360000,
          1360000,
          1360000,
          1360000,
          1360000,
          1360000,
          1360000,
          1360000,
          1360000,
          1398000,
          1398000,
          1398000,
          1398000,
          1398000,
          1398000,
          1398000,
          1398000,
          1398000,
          1398000,
          1398000,
          1398000,
          1437000,
          1437000,
          1437000,
          1437000,
          1437000,
          1437000,
          1437000,
          1437000,
          1437000,
          1437000,
          1437000,
          1437000,
          1477000,
          1477000,
          1477000,
          1477000,
          1477000,
          1477000,
          1477000,
          1477000,
          1477000,
          1477000,
          1477000,
          1477000,
          1513000,
          1513000,
          1513000,
          1513000,
          1513000,
          1513000,
          1513000,
          1513000,
          1513000,
          1513000,
          1513000,
          1513000,
          1547000,
          1547000,
          1547000,
          1547000,
          1547000,
          1547000,
          1547000,
          1547000,
          1547000,
          1547000,
          1547000,
          1547000,
          1581000,
          1581000,
          1581000,
          1581000,
          1581000,
          1581000,
          1581000,
          1581000,
          1581000,
          1581000,
          1581000,
          1581000,
          1611000,
          1611000,
          1611000,
          1611000,
          1611000,
          1611000,
          1611000,
          1611000,
          1611000,
          1611000,
          1611000,
          1611000,
          1640000,
          1640000,
          1640000,
          1640000,
          1640000,
          1640000,
          1640000,
          1640000
         ]
        },
        {
         "line": {
          "dash": "dash"
         },
         "mode": "lines",
         "name": "Median Income (2005-2022)",
         "type": "scatter",
         "x": [
          "2005-01-01T00:00:00",
          "2005-02-01T00:00:00",
          "2005-03-01T00:00:00",
          "2005-04-01T00:00:00",
          "2005-05-01T00:00:00",
          "2005-06-01T00:00:00",
          "2005-07-01T00:00:00",
          "2005-08-01T00:00:00",
          "2005-09-01T00:00:00",
          "2005-10-01T00:00:00",
          "2005-11-01T00:00:00",
          "2005-12-01T00:00:00",
          "2006-01-01T00:00:00",
          "2006-02-01T00:00:00",
          "2006-03-01T00:00:00",
          "2006-04-01T00:00:00",
          "2006-05-01T00:00:00",
          "2006-06-01T00:00:00",
          "2006-07-01T00:00:00",
          "2006-08-01T00:00:00",
          "2006-09-01T00:00:00",
          "2006-10-01T00:00:00",
          "2006-11-01T00:00:00",
          "2006-12-01T00:00:00",
          "2007-01-01T00:00:00",
          "2007-02-01T00:00:00",
          "2007-03-01T00:00:00",
          "2007-04-01T00:00:00",
          "2007-05-01T00:00:00",
          "2007-06-01T00:00:00",
          "2007-07-01T00:00:00",
          "2007-08-01T00:00:00",
          "2007-09-01T00:00:00",
          "2007-10-01T00:00:00",
          "2007-11-01T00:00:00",
          "2007-12-01T00:00:00",
          "2008-01-01T00:00:00",
          "2008-02-01T00:00:00",
          "2008-03-01T00:00:00",
          "2008-04-01T00:00:00",
          "2008-05-01T00:00:00",
          "2008-06-01T00:00:00",
          "2008-07-01T00:00:00",
          "2008-08-01T00:00:00",
          "2008-09-01T00:00:00",
          "2008-10-01T00:00:00",
          "2008-11-01T00:00:00",
          "2008-12-01T00:00:00",
          "2009-01-01T00:00:00",
          "2009-02-01T00:00:00",
          "2009-03-01T00:00:00",
          "2009-04-01T00:00:00",
          "2009-05-01T00:00:00",
          "2009-06-01T00:00:00",
          "2009-07-01T00:00:00",
          "2009-08-01T00:00:00",
          "2009-09-01T00:00:00",
          "2009-10-01T00:00:00",
          "2009-11-01T00:00:00",
          "2009-12-01T00:00:00",
          "2010-01-01T00:00:00",
          "2010-02-01T00:00:00",
          "2010-03-01T00:00:00",
          "2010-04-01T00:00:00",
          "2010-05-01T00:00:00",
          "2010-06-01T00:00:00",
          "2010-07-01T00:00:00",
          "2010-08-01T00:00:00",
          "2010-09-01T00:00:00",
          "2010-10-01T00:00:00",
          "2010-11-01T00:00:00",
          "2010-12-01T00:00:00",
          "2011-01-01T00:00:00",
          "2011-02-01T00:00:00",
          "2011-03-01T00:00:00",
          "2011-04-01T00:00:00",
          "2011-05-01T00:00:00",
          "2011-06-01T00:00:00",
          "2011-07-01T00:00:00",
          "2011-08-01T00:00:00",
          "2011-09-01T00:00:00",
          "2011-10-01T00:00:00",
          "2011-11-01T00:00:00",
          "2011-12-01T00:00:00",
          "2012-01-01T00:00:00",
          "2012-02-01T00:00:00",
          "2012-03-01T00:00:00",
          "2012-04-01T00:00:00",
          "2012-05-01T00:00:00",
          "2012-06-01T00:00:00",
          "2012-07-01T00:00:00",
          "2012-08-01T00:00:00",
          "2012-09-01T00:00:00",
          "2012-10-01T00:00:00",
          "2012-11-01T00:00:00",
          "2012-12-01T00:00:00",
          "2013-01-01T00:00:00",
          "2013-02-01T00:00:00",
          "2013-03-01T00:00:00",
          "2013-04-01T00:00:00",
          "2013-05-01T00:00:00",
          "2013-06-01T00:00:00",
          "2013-07-01T00:00:00",
          "2013-08-01T00:00:00",
          "2013-09-01T00:00:00",
          "2013-10-01T00:00:00",
          "2013-11-01T00:00:00",
          "2013-12-01T00:00:00",
          "2014-01-01T00:00:00",
          "2014-02-01T00:00:00",
          "2014-03-01T00:00:00",
          "2014-04-01T00:00:00",
          "2014-05-01T00:00:00",
          "2014-06-01T00:00:00",
          "2014-07-01T00:00:00",
          "2014-08-01T00:00:00",
          "2014-09-01T00:00:00",
          "2014-10-01T00:00:00",
          "2014-11-01T00:00:00",
          "2014-12-01T00:00:00",
          "2015-01-01T00:00:00",
          "2015-02-01T00:00:00",
          "2015-03-01T00:00:00",
          "2015-04-01T00:00:00",
          "2015-05-01T00:00:00",
          "2015-06-01T00:00:00",
          "2015-07-01T00:00:00",
          "2015-08-01T00:00:00",
          "2015-09-01T00:00:00",
          "2015-10-01T00:00:00",
          "2015-11-01T00:00:00",
          "2015-12-01T00:00:00",
          "2016-01-01T00:00:00",
          "2016-02-01T00:00:00",
          "2016-03-01T00:00:00",
          "2016-04-01T00:00:00",
          "2016-05-01T00:00:00",
          "2016-06-01T00:00:00",
          "2016-07-01T00:00:00",
          "2016-08-01T00:00:00",
          "2016-09-01T00:00:00",
          "2016-10-01T00:00:00",
          "2016-11-01T00:00:00",
          "2016-12-01T00:00:00",
          "2017-01-01T00:00:00",
          "2017-02-01T00:00:00",
          "2017-03-01T00:00:00",
          "2017-04-01T00:00:00",
          "2017-05-01T00:00:00",
          "2017-06-01T00:00:00",
          "2017-07-01T00:00:00",
          "2017-08-01T00:00:00",
          "2017-09-01T00:00:00",
          "2017-10-01T00:00:00",
          "2017-11-01T00:00:00",
          "2017-12-01T00:00:00",
          "2018-01-01T00:00:00",
          "2018-02-01T00:00:00",
          "2018-03-01T00:00:00",
          "2018-04-01T00:00:00",
          "2018-05-01T00:00:00",
          "2018-06-01T00:00:00",
          "2018-07-01T00:00:00",
          "2018-08-01T00:00:00",
          "2018-09-01T00:00:00",
          "2018-10-01T00:00:00",
          "2018-11-01T00:00:00",
          "2018-12-01T00:00:00",
          "2019-01-01T00:00:00",
          "2019-02-01T00:00:00",
          "2019-03-01T00:00:00",
          "2019-04-01T00:00:00",
          "2019-05-01T00:00:00",
          "2019-06-01T00:00:00",
          "2019-07-01T00:00:00",
          "2019-08-01T00:00:00",
          "2019-09-01T00:00:00",
          "2019-10-01T00:00:00",
          "2019-11-01T00:00:00",
          "2019-12-01T00:00:00",
          "2020-01-01T00:00:00",
          "2020-02-01T00:00:00",
          "2020-03-01T00:00:00",
          "2020-04-01T00:00:00",
          "2020-05-01T00:00:00",
          "2020-06-01T00:00:00",
          "2020-07-01T00:00:00",
          "2020-08-01T00:00:00",
          "2020-09-01T00:00:00",
          "2020-10-01T00:00:00",
          "2020-11-01T00:00:00",
          "2020-12-01T00:00:00",
          "2021-01-01T00:00:00",
          "2021-02-01T00:00:00",
          "2021-03-01T00:00:00",
          "2021-04-01T00:00:00",
          "2021-05-01T00:00:00",
          "2021-06-01T00:00:00",
          "2021-07-01T00:00:00",
          "2021-08-01T00:00:00",
          "2021-09-01T00:00:00",
          "2021-10-01T00:00:00",
          "2021-11-01T00:00:00",
          "2021-12-01T00:00:00",
          "2022-01-01T00:00:00",
          "2022-02-01T00:00:00",
          "2022-03-01T00:00:00",
          "2022-04-01T00:00:00",
          "2022-05-01T00:00:00",
          "2022-06-01T00:00:00",
          "2022-07-01T00:00:00",
          "2022-08-01T00:00:00",
          "2022-09-01T00:00:00",
          "2022-10-01T00:00:00",
          "2022-11-01T00:00:00",
          "2022-12-01T00:00:00",
          "2023-01-01T00:00:00",
          "2023-02-01T00:00:00",
          "2023-03-01T00:00:00",
          "2023-04-01T00:00:00",
          "2023-05-01T00:00:00",
          "2023-06-01T00:00:00",
          "2023-07-01T00:00:00",
          "2023-08-01T00:00:00",
          "2023-09-01T00:00:00",
          "2023-10-01T00:00:00",
          "2023-11-01T00:00:00",
          "2023-12-01T00:00:00",
          "2024-01-01T00:00:00",
          "2024-02-01T00:00:00",
          "2024-03-01T00:00:00",
          "2024-04-01T00:00:00",
          "2024-05-01T00:00:00",
          "2024-06-01T00:00:00",
          "2024-07-01T00:00:00",
          "2024-08-01T00:00:00"
         ],
         "y": [
          43100,
          43100,
          43100,
          43100,
          43100,
          43100,
          43100,
          43100,
          43100,
          43100,
          43100,
          43100,
          43600,
          43600,
          43600,
          43600,
          43600,
          43600,
          43600,
          43600,
          43600,
          43600,
          43600,
          43600,
          46000,
          46000,
          46000,
          46000,
          46000,
          46000,
          46000,
          46000,
          46000,
          46000,
          46000,
          46000,
          47000,
          47000,
          47000,
          47000,
          47000,
          47000,
          47000,
          47000,
          47000,
          47000,
          47000,
          47000,
          46900,
          46900,
          46900,
          46900,
          46900,
          46900,
          46900,
          46900,
          46900,
          46900,
          46900,
          46900,
          46200,
          46200,
          46200,
          46200,
          46200,
          46200,
          46200,
          46200,
          46200,
          46200,
          46200,
          46200,
          48500,
          48500,
          48500,
          48500,
          48500,
          48500,
          48500,
          48500,
          48500,
          48500,
          48500,
          48500,
          49500,
          49500,
          49500,
          49500,
          49500,
          49500,
          49500,
          49500,
          49500,
          49500,
          49500,
          49500,
          50800,
          50800,
          50800,
          50800,
          50800,
          50800,
          50800,
          50800,
          50800,
          50800,
          50800,
          50800,
          54300,
          54300,
          54300,
          54300,
          54300,
          54300,
          54300,
          54300,
          54300,
          54300,
          54300,
          54300,
          46800,
          46800,
          46800,
          46800,
          46800,
          46800,
          46800,
          46800,
          46800,
          46800,
          46800,
          46800,
          46800,
          46800,
          46800,
          46800,
          46800,
          46800,
          46800,
          46800,
          46800,
          46800,
          46800,
          46800,
          49200,
          49200,
          49200,
          49200,
          49200,
          49200,
          49200,
          49200,
          49200,
          49200,
          49200,
          49200,
          47400,
          47400,
          47400,
          47400,
          47400,
          47400,
          47400,
          47400,
          47400,
          47400,
          47400,
          47400,
          48600,
          48600,
          48600,
          48600,
          48600,
          48600,
          48600,
          48600,
          48600,
          48600,
          48600,
          48600,
          47300,
          47300,
          47300,
          47300,
          47300,
          47300,
          47300,
          47300,
          47300,
          47300,
          47300,
          47300,
          43400,
          43400,
          43400,
          43400,
          43400,
          43400,
          43400,
          43400,
          43400,
          43400,
          43400,
          43400,
          48000,
          null,
          null,
          null,
          null,
          null,
          null,
          null,
          null,
          null,
          null,
          null,
          null,
          null,
          null,
          null,
          null,
          null,
          null,
          null,
          null,
          null,
          null,
          null,
          null,
          null,
          null,
          null,
          null,
          null,
          null,
          null
         ]
        }
       ],
       "layout": {
        "height": 500,
        "hovermode": "x unified",
        "legend": {
         "font": {
          "size": 8
         }
        },
        "margin": {
         "b": 50,
         "l": 50,
         "r": 50,
         "t": 50
        },
        "template": {
         "data": {
          "bar": [
           {
            "error_x": {
             "color": "#2a3f5f"
            },
            "error_y": {
             "color": "#2a3f5f"
            },
            "marker": {
             "line": {
              "color": "#E5ECF6",
              "width": 0.5
             },
             "pattern": {
              "fillmode": "overlay",
              "size": 10,
              "solidity": 0.2
             }
            },
            "type": "bar"
           }
          ],
          "barpolar": [
           {
            "marker": {
             "line": {
              "color": "#E5ECF6",
              "width": 0.5
             },
             "pattern": {
              "fillmode": "overlay",
              "size": 10,
              "solidity": 0.2
             }
            },
            "type": "barpolar"
           }
          ],
          "carpet": [
           {
            "aaxis": {
             "endlinecolor": "#2a3f5f",
             "gridcolor": "white",
             "linecolor": "white",
             "minorgridcolor": "white",
             "startlinecolor": "#2a3f5f"
            },
            "baxis": {
             "endlinecolor": "#2a3f5f",
             "gridcolor": "white",
             "linecolor": "white",
             "minorgridcolor": "white",
             "startlinecolor": "#2a3f5f"
            },
            "type": "carpet"
           }
          ],
          "choropleth": [
           {
            "colorbar": {
             "outlinewidth": 0,
             "ticks": ""
            },
            "type": "choropleth"
           }
          ],
          "contour": [
           {
            "colorbar": {
             "outlinewidth": 0,
             "ticks": ""
            },
            "colorscale": [
             [
              0,
              "#0d0887"
             ],
             [
              0.1111111111111111,
              "#46039f"
             ],
             [
              0.2222222222222222,
              "#7201a8"
             ],
             [
              0.3333333333333333,
              "#9c179e"
             ],
             [
              0.4444444444444444,
              "#bd3786"
             ],
             [
              0.5555555555555556,
              "#d8576b"
             ],
             [
              0.6666666666666666,
              "#ed7953"
             ],
             [
              0.7777777777777778,
              "#fb9f3a"
             ],
             [
              0.8888888888888888,
              "#fdca26"
             ],
             [
              1,
              "#f0f921"
             ]
            ],
            "type": "contour"
           }
          ],
          "contourcarpet": [
           {
            "colorbar": {
             "outlinewidth": 0,
             "ticks": ""
            },
            "type": "contourcarpet"
           }
          ],
          "heatmap": [
           {
            "colorbar": {
             "outlinewidth": 0,
             "ticks": ""
            },
            "colorscale": [
             [
              0,
              "#0d0887"
             ],
             [
              0.1111111111111111,
              "#46039f"
             ],
             [
              0.2222222222222222,
              "#7201a8"
             ],
             [
              0.3333333333333333,
              "#9c179e"
             ],
             [
              0.4444444444444444,
              "#bd3786"
             ],
             [
              0.5555555555555556,
              "#d8576b"
             ],
             [
              0.6666666666666666,
              "#ed7953"
             ],
             [
              0.7777777777777778,
              "#fb9f3a"
             ],
             [
              0.8888888888888888,
              "#fdca26"
             ],
             [
              1,
              "#f0f921"
             ]
            ],
            "type": "heatmap"
           }
          ],
          "heatmapgl": [
           {
            "colorbar": {
             "outlinewidth": 0,
             "ticks": ""
            },
            "colorscale": [
             [
              0,
              "#0d0887"
             ],
             [
              0.1111111111111111,
              "#46039f"
             ],
             [
              0.2222222222222222,
              "#7201a8"
             ],
             [
              0.3333333333333333,
              "#9c179e"
             ],
             [
              0.4444444444444444,
              "#bd3786"
             ],
             [
              0.5555555555555556,
              "#d8576b"
             ],
             [
              0.6666666666666666,
              "#ed7953"
             ],
             [
              0.7777777777777778,
              "#fb9f3a"
             ],
             [
              0.8888888888888888,
              "#fdca26"
             ],
             [
              1,
              "#f0f921"
             ]
            ],
            "type": "heatmapgl"
           }
          ],
          "histogram": [
           {
            "marker": {
             "pattern": {
              "fillmode": "overlay",
              "size": 10,
              "solidity": 0.2
             }
            },
            "type": "histogram"
           }
          ],
          "histogram2d": [
           {
            "colorbar": {
             "outlinewidth": 0,
             "ticks": ""
            },
            "colorscale": [
             [
              0,
              "#0d0887"
             ],
             [
              0.1111111111111111,
              "#46039f"
             ],
             [
              0.2222222222222222,
              "#7201a8"
             ],
             [
              0.3333333333333333,
              "#9c179e"
             ],
             [
              0.4444444444444444,
              "#bd3786"
             ],
             [
              0.5555555555555556,
              "#d8576b"
             ],
             [
              0.6666666666666666,
              "#ed7953"
             ],
             [
              0.7777777777777778,
              "#fb9f3a"
             ],
             [
              0.8888888888888888,
              "#fdca26"
             ],
             [
              1,
              "#f0f921"
             ]
            ],
            "type": "histogram2d"
           }
          ],
          "histogram2dcontour": [
           {
            "colorbar": {
             "outlinewidth": 0,
             "ticks": ""
            },
            "colorscale": [
             [
              0,
              "#0d0887"
             ],
             [
              0.1111111111111111,
              "#46039f"
             ],
             [
              0.2222222222222222,
              "#7201a8"
             ],
             [
              0.3333333333333333,
              "#9c179e"
             ],
             [
              0.4444444444444444,
              "#bd3786"
             ],
             [
              0.5555555555555556,
              "#d8576b"
             ],
             [
              0.6666666666666666,
              "#ed7953"
             ],
             [
              0.7777777777777778,
              "#fb9f3a"
             ],
             [
              0.8888888888888888,
              "#fdca26"
             ],
             [
              1,
              "#f0f921"
             ]
            ],
            "type": "histogram2dcontour"
           }
          ],
          "mesh3d": [
           {
            "colorbar": {
             "outlinewidth": 0,
             "ticks": ""
            },
            "type": "mesh3d"
           }
          ],
          "parcoords": [
           {
            "line": {
             "colorbar": {
              "outlinewidth": 0,
              "ticks": ""
             }
            },
            "type": "parcoords"
           }
          ],
          "pie": [
           {
            "automargin": true,
            "type": "pie"
           }
          ],
          "scatter": [
           {
            "fillpattern": {
             "fillmode": "overlay",
             "size": 10,
             "solidity": 0.2
            },
            "type": "scatter"
           }
          ],
          "scatter3d": [
           {
            "line": {
             "colorbar": {
              "outlinewidth": 0,
              "ticks": ""
             }
            },
            "marker": {
             "colorbar": {
              "outlinewidth": 0,
              "ticks": ""
             }
            },
            "type": "scatter3d"
           }
          ],
          "scattercarpet": [
           {
            "marker": {
             "colorbar": {
              "outlinewidth": 0,
              "ticks": ""
             }
            },
            "type": "scattercarpet"
           }
          ],
          "scattergeo": [
           {
            "marker": {
             "colorbar": {
              "outlinewidth": 0,
              "ticks": ""
             }
            },
            "type": "scattergeo"
           }
          ],
          "scattergl": [
           {
            "marker": {
             "colorbar": {
              "outlinewidth": 0,
              "ticks": ""
             }
            },
            "type": "scattergl"
           }
          ],
          "scattermapbox": [
           {
            "marker": {
             "colorbar": {
              "outlinewidth": 0,
              "ticks": ""
             }
            },
            "type": "scattermapbox"
           }
          ],
          "scatterpolar": [
           {
            "marker": {
             "colorbar": {
              "outlinewidth": 0,
              "ticks": ""
             }
            },
            "type": "scatterpolar"
           }
          ],
          "scatterpolargl": [
           {
            "marker": {
             "colorbar": {
              "outlinewidth": 0,
              "ticks": ""
             }
            },
            "type": "scatterpolargl"
           }
          ],
          "scatterternary": [
           {
            "marker": {
             "colorbar": {
              "outlinewidth": 0,
              "ticks": ""
             }
            },
            "type": "scatterternary"
           }
          ],
          "surface": [
           {
            "colorbar": {
             "outlinewidth": 0,
             "ticks": ""
            },
            "colorscale": [
             [
              0,
              "#0d0887"
             ],
             [
              0.1111111111111111,
              "#46039f"
             ],
             [
              0.2222222222222222,
              "#7201a8"
             ],
             [
              0.3333333333333333,
              "#9c179e"
             ],
             [
              0.4444444444444444,
              "#bd3786"
             ],
             [
              0.5555555555555556,
              "#d8576b"
             ],
             [
              0.6666666666666666,
              "#ed7953"
             ],
             [
              0.7777777777777778,
              "#fb9f3a"
             ],
             [
              0.8888888888888888,
              "#fdca26"
             ],
             [
              1,
              "#f0f921"
             ]
            ],
            "type": "surface"
           }
          ],
          "table": [
           {
            "cells": {
             "fill": {
              "color": "#EBF0F8"
             },
             "line": {
              "color": "white"
             }
            },
            "header": {
             "fill": {
              "color": "#C8D4E3"
             },
             "line": {
              "color": "white"
             }
            },
            "type": "table"
           }
          ]
         },
         "layout": {
          "annotationdefaults": {
           "arrowcolor": "#2a3f5f",
           "arrowhead": 0,
           "arrowwidth": 1
          },
          "autotypenumbers": "strict",
          "coloraxis": {
           "colorbar": {
            "outlinewidth": 0,
            "ticks": ""
           }
          },
          "colorscale": {
           "diverging": [
            [
             0,
             "#8e0152"
            ],
            [
             0.1,
             "#c51b7d"
            ],
            [
             0.2,
             "#de77ae"
            ],
            [
             0.3,
             "#f1b6da"
            ],
            [
             0.4,
             "#fde0ef"
            ],
            [
             0.5,
             "#f7f7f7"
            ],
            [
             0.6,
             "#e6f5d0"
            ],
            [
             0.7,
             "#b8e186"
            ],
            [
             0.8,
             "#7fbc41"
            ],
            [
             0.9,
             "#4d9221"
            ],
            [
             1,
             "#276419"
            ]
           ],
           "sequential": [
            [
             0,
             "#0d0887"
            ],
            [
             0.1111111111111111,
             "#46039f"
            ],
            [
             0.2222222222222222,
             "#7201a8"
            ],
            [
             0.3333333333333333,
             "#9c179e"
            ],
            [
             0.4444444444444444,
             "#bd3786"
            ],
            [
             0.5555555555555556,
             "#d8576b"
            ],
            [
             0.6666666666666666,
             "#ed7953"
            ],
            [
             0.7777777777777778,
             "#fb9f3a"
            ],
            [
             0.8888888888888888,
             "#fdca26"
            ],
            [
             1,
             "#f0f921"
            ]
           ],
           "sequentialminus": [
            [
             0,
             "#0d0887"
            ],
            [
             0.1111111111111111,
             "#46039f"
            ],
            [
             0.2222222222222222,
             "#7201a8"
            ],
            [
             0.3333333333333333,
             "#9c179e"
            ],
            [
             0.4444444444444444,
             "#bd3786"
            ],
            [
             0.5555555555555556,
             "#d8576b"
            ],
            [
             0.6666666666666666,
             "#ed7953"
            ],
            [
             0.7777777777777778,
             "#fb9f3a"
            ],
            [
             0.8888888888888888,
             "#fdca26"
            ],
            [
             1,
             "#f0f921"
            ]
           ]
          },
          "colorway": [
           "#636efa",
           "#EF553B",
           "#00cc96",
           "#ab63fa",
           "#FFA15A",
           "#19d3f3",
           "#FF6692",
           "#B6E880",
           "#FF97FF",
           "#FECB52"
          ],
          "font": {
           "color": "#2a3f5f"
          },
          "geo": {
           "bgcolor": "white",
           "lakecolor": "white",
           "landcolor": "#E5ECF6",
           "showlakes": true,
           "showland": true,
           "subunitcolor": "white"
          },
          "hoverlabel": {
           "align": "left"
          },
          "hovermode": "closest",
          "mapbox": {
           "style": "light"
          },
          "paper_bgcolor": "white",
          "plot_bgcolor": "#E5ECF6",
          "polar": {
           "angularaxis": {
            "gridcolor": "white",
            "linecolor": "white",
            "ticks": ""
           },
           "bgcolor": "#E5ECF6",
           "radialaxis": {
            "gridcolor": "white",
            "linecolor": "white",
            "ticks": ""
           }
          },
          "scene": {
           "xaxis": {
            "backgroundcolor": "#E5ECF6",
            "gridcolor": "white",
            "gridwidth": 2,
            "linecolor": "white",
            "showbackground": true,
            "ticks": "",
            "zerolinecolor": "white"
           },
           "yaxis": {
            "backgroundcolor": "#E5ECF6",
            "gridcolor": "white",
            "gridwidth": 2,
            "linecolor": "white",
            "showbackground": true,
            "ticks": "",
            "zerolinecolor": "white"
           },
           "zaxis": {
            "backgroundcolor": "#E5ECF6",
            "gridcolor": "white",
            "gridwidth": 2,
            "linecolor": "white",
            "showbackground": true,
            "ticks": "",
            "zerolinecolor": "white"
           }
          },
          "shapedefaults": {
           "line": {
            "color": "#2a3f5f"
           }
          },
          "ternary": {
           "aaxis": {
            "gridcolor": "white",
            "linecolor": "white",
            "ticks": ""
           },
           "baxis": {
            "gridcolor": "white",
            "linecolor": "white",
            "ticks": ""
           },
           "bgcolor": "#E5ECF6",
           "caxis": {
            "gridcolor": "white",
            "linecolor": "white",
            "ticks": ""
           }
          },
          "title": {
           "x": 0.05
          },
          "xaxis": {
           "automargin": true,
           "gridcolor": "white",
           "linecolor": "white",
           "ticks": "",
           "title": {
            "standoff": 15
           },
           "zerolinecolor": "white",
           "zerolinewidth": 2
          },
          "yaxis": {
           "automargin": true,
           "gridcolor": "white",
           "linecolor": "white",
           "ticks": "",
           "title": {
            "standoff": 15
           },
           "zerolinecolor": "white",
           "zerolinewidth": 2
          }
         }
        },
        "title": {
         "font": {
          "size": 11
         },
         "text": "Housing Prices, Interest Rates, Population, and Income (2005-2022)"
        },
        "width": 500,
        "xaxis": {
         "tickfont": {
          "size": 12
         },
         "title": {
          "text": "Year"
         }
        },
        "yaxis": {
         "tickfont": {
          "size": 12
         },
         "title": {
          "text": "Values"
         }
        },
        "yaxis2": {
         "overlaying": "y",
         "side": "right",
         "title": {
          "text": "Interest Rate"
         }
        }
       }
      }
     },
     "metadata": {},
     "output_type": "display_data"
    }
   ],
   "source": [
    "# Ensure data is filtered to 2005 and onwards\n",
    "merged_data = merged_data[merged_data.index >= '2005-01-01']\n",
    "\n",
    "# Create the line chart\n",
    "fig = go.Figure()\n",
    "\n",
    "# Add a trace for Median House Price\n",
    "fig.add_trace(go.Scatter(x=merged_data.index, y=merged_data['Median_House_Price'],\n",
    "                         mode='lines', name='Median House Price'))\n",
    "\n",
    "# Add a trace for Interest Rate on secondary y-axis\n",
    "fig.add_trace(go.Scatter(x=merged_data.index, y=merged_data['Interest_Rate'],\n",
    "                         mode='lines', name='Interest Rate', yaxis=\"y2\"))\n",
    "\n",
    "# Add a trace for Calgary Population\n",
    "fig.add_trace(go.Scatter(x=merged_data.index, y=merged_data['Calgary_Population'],\n",
    "                         mode='lines', name='Calgary Population'))\n",
    "\n",
    "# Add a trace for Median Income only up to 2022\n",
    "fig.add_trace(go.Scatter(x=merged_data.index, y=merged_data['Median_Income'],\n",
    "                         mode='lines', name='Median Income (2005-2022)',\n",
    "                         line=dict(dash='dash')))  # Dashed line to indicate partial data\n",
    "\n",
    "# Customize the layout for two graphs on the same row, each under 500px width\n",
    "fig.update_layout(\n",
    "    title='Housing Prices, Interest Rates, Population, and Income (2005-2022)',\n",
    "    xaxis_title='Year',\n",
    "    yaxis_title='Values',\n",
    "    yaxis2=dict(title=\"Interest Rate\", overlaying='y', side='right'),  # Secondary y-axis for interest rates\n",
    "    hovermode='x unified',  # Unified hover for all lines\n",
    "    width=500,  # Keep the width the same\n",
    "    height=500,  # Increase the height for better visibility\n",
    "    margin=dict(l=50, r=50, t=50, b=50),  # Set margins to avoid cutting edges\n",
    "    title_font=dict(size=11),  # Increase title font size\n",
    "    xaxis=dict(tickfont=dict(size=12)),  # Increase x-axis label font size\n",
    "    yaxis=dict(tickfont=dict(size=12)),  # Increase y-axis label font size\n",
    "    legend=dict(font=dict(size=8))  # Increase legend font size\n",
    ")\n",
    "\n",
    "\n",
    "# Show the chart\n",
    "fig.show()\n",
    "\n",
    "fig.write_html(\"data.html\")"
   ]
  }
 ],
 "metadata": {
  "kernelspec": {
   "display_name": "Python 3.12.4 64-bit",
   "language": "python",
   "name": "python3"
  },
  "language_info": {
   "codemirror_mode": {
    "name": "ipython",
    "version": 3
   },
   "file_extension": ".py",
   "mimetype": "text/x-python",
   "name": "python",
   "nbconvert_exporter": "python",
   "pygments_lexer": "ipython3",
   "version": "3.12.4"
  },
  "orig_nbformat": 4,
  "vscode": {
   "interpreter": {
    "hash": "aee8b7b246df8f9039afb4144a1f6fd8d2ca17a180786b69acc140d282b71a49"
   }
  }
 },
 "nbformat": 4,
 "nbformat_minor": 2
}
