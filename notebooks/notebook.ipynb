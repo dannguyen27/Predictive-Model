{
 "cells": [
  {
   "cell_type": "code",
   "execution_count": 715,
   "metadata": {},
   "outputs": [],
   "source": [
    "import pandas as pd\n",
    "import numpy as np\n",
    "from sklearn.model_selection import train_test_split\n",
    "from sklearn.linear_model import LinearRegression\n",
    "from sklearn.metrics import mean_squared_error, r2_score\n",
    "import seaborn as sns\n",
    "import matplotlib.pyplot as plt\n",
    "from sklearn.ensemble import RandomForestRegressor\n",
    "from sklearn.inspection import PartialDependenceDisplay\n",
    "\n",
    "\n",
    "\n"
   ]
  },
  {
   "cell_type": "code",
   "execution_count": 716,
   "metadata": {},
   "outputs": [],
   "source": [
    "#importing data\n",
    "housing_data = pd.read_csv('../data/price_index.csv')\n",
    "interest_rate_data = pd.read_csv('../data/canadian_interest_rates.csv')\n",
    "income_data = pd.read_csv('../data/income_data.csv')\n",
    "population_data = pd.read_csv('../data/calgary_population.csv')\n",
    "median_house_price_data = pd.read_csv('../data/median_assessed_value.csv')\n"
   ]
  },
  {
   "cell_type": "code",
   "execution_count": 717,
   "metadata": {},
   "outputs": [
    {
     "name": "stdout",
     "output_type": "stream",
     "text": [
      "  REF_DATE              GEO           DGUID New housing price indexes  \\\n",
      "0  1981-01           Canada  2016A000011124    Total (house and land)   \n",
      "1  1981-01           Canada  2016A000011124                House only   \n",
      "2  1981-01           Canada  2016A000011124                 Land only   \n",
      "3  1981-01  Atlantic Region      2016A00011    Total (house and land)   \n",
      "4  1981-01  Atlantic Region      2016A00011                House only   \n",
      "\n",
      "                 UOM  UOM_ID SCALAR_FACTOR  SCALAR_ID      VECTOR  COORDINATE  \\\n",
      "0  Index, 201612=100     347         units          0  v111955442         1.1   \n",
      "1  Index, 201612=100     347         units          0  v111955443         1.2   \n",
      "2  Index, 201612=100     347         units          0  v111955444         1.3   \n",
      "3  Index, 201612=100     347         units          0  v111955445         2.1   \n",
      "4  Index, 201612=100     347         units          0  v111955446         2.2   \n",
      "\n",
      "   VALUE STATUS  SYMBOL  TERMINATED  DECIMALS  \n",
      "0   38.2    NaN     NaN         NaN         1  \n",
      "1   36.1    NaN     NaN         NaN         1  \n",
      "2   40.6      E     NaN         NaN         1  \n",
      "3    NaN     ..     NaN         NaN         1  \n",
      "4    NaN     ..     NaN         NaN         1  \n",
      "     REF_DATE     GEO           DGUID      Rates      UOM  UOM_ID  \\\n",
      "0  1981-01-07  Canada  2016A000011124  Bank rate  Percent     239   \n",
      "1  1981-01-14  Canada  2016A000011124  Bank rate  Percent     239   \n",
      "2  1981-01-21  Canada  2016A000011124  Bank rate  Percent     239   \n",
      "3  1981-01-28  Canada  2016A000011124  Bank rate  Percent     239   \n",
      "4  1981-02-04  Canada  2016A000011124  Bank rate  Percent     239   \n",
      "\n",
      "  SCALAR_FACTOR  SCALAR_ID     VECTOR  COORDINATE  VALUE  STATUS  SYMBOL  \\\n",
      "0         units          0  v80691310         1.2  17.26     NaN     NaN   \n",
      "1         units          0  v80691310         1.2  17.00     NaN     NaN   \n",
      "2         units          0  v80691310         1.2  16.97     NaN     NaN   \n",
      "3         units          0  v80691310         1.2  17.00     NaN     NaN   \n",
      "4         units          0  v80691310         1.2  17.11     NaN     NaN   \n",
      "\n",
      "   TERMINATED  DECIMALS  \n",
      "0         NaN         2  \n",
      "1         NaN         2  \n",
      "2         NaN         2  \n",
      "3         NaN         2  \n",
      "4         NaN         2  \n",
      "   REF_DATE               GEO         DGUID          Age group         Sex  \\\n",
      "0      1981  Calgary, Alberta  2021S0503825  15 years and over  Both sexes   \n",
      "1      1982  Calgary, Alberta  2021S0503825  15 years and over  Both sexes   \n",
      "2      1983  Calgary, Alberta  2021S0503825  15 years and over  Both sexes   \n",
      "3      1984  Calgary, Alberta  2021S0503825  15 years and over  Both sexes   \n",
      "4      1985  Calgary, Alberta  2021S0503825  15 years and over  Both sexes   \n",
      "\n",
      "  Income source         Statistics     UOM  UOM_ID SCALAR_FACTOR  SCALAR_ID  \\\n",
      "0  Total income  Number of persons  Number     223     thousands          3   \n",
      "1  Total income  Number of persons  Number     223     thousands          3   \n",
      "2  Total income  Number of persons  Number     223     thousands          3   \n",
      "3  Total income  Number of persons  Number     223     thousands          3   \n",
      "4  Total income  Number of persons  Number     223     thousands          3   \n",
      "\n",
      "       VECTOR  COORDINATE  VALUE STATUS  SYMBOL  TERMINATED  DECIMALS  \n",
      "0  v107693254  19.1.1.1.1    425    NaN     NaN         NaN         0  \n",
      "1  v107693254  19.1.1.1.1    460    NaN     NaN         NaN         0  \n",
      "2  v107693254  19.1.1.1.1    442    NaN     NaN         NaN         0  \n",
      "3  v107693254  19.1.1.1.1    476    NaN     NaN         NaN         0  \n",
      "4  v107693254  19.1.1.1.1    513    NaN     NaN         NaN         0  \n",
      "         date   Population   Annual Change\n",
      "0  1950-12-31       132000             NaN\n",
      "1  1951-12-31       141000            6.82\n",
      "2  1952-12-31       151000            7.09\n",
      "3  1953-12-31       162000            7.28\n",
      "4  1954-12-31       174000            7.41\n"
     ]
    }
   ],
   "source": [
    "# Take a quick look at the data\n",
    "print(housing_data.head())\n",
    "print(interest_rate_data.head())\n",
    "print(income_data.head())\n",
    "print(population_data.head())"
   ]
  },
  {
   "cell_type": "code",
   "execution_count": 718,
   "metadata": {},
   "outputs": [
    {
     "name": "stdout",
     "output_type": "stream",
     "text": [
      "Index(['REF_DATE', 'GEO', 'DGUID', 'New housing price indexes', 'UOM',\n",
      "       'UOM_ID', 'SCALAR_FACTOR', 'SCALAR_ID', 'VECTOR', 'COORDINATE', 'VALUE',\n",
      "       'STATUS', 'SYMBOL', 'TERMINATED', 'DECIMALS'],\n",
      "      dtype='object')\n",
      "Index(['REF_DATE', 'GEO', 'DGUID', 'Rates', 'UOM', 'UOM_ID', 'SCALAR_FACTOR',\n",
      "       'SCALAR_ID', 'VECTOR', 'COORDINATE', 'VALUE', 'STATUS', 'SYMBOL',\n",
      "       'TERMINATED', 'DECIMALS'],\n",
      "      dtype='object')\n",
      "Index(['REF_DATE', 'GEO', 'DGUID', 'Age group', 'Sex', 'Income source',\n",
      "       'Statistics', 'UOM', 'UOM_ID', 'SCALAR_FACTOR', 'SCALAR_ID', 'VECTOR',\n",
      "       'COORDINATE', 'VALUE', 'STATUS', 'SYMBOL', 'TERMINATED', 'DECIMALS'],\n",
      "      dtype='object')\n",
      "Index(['date', ' Population', ' Annual Change'], dtype='object')\n"
     ]
    }
   ],
   "source": [
    "#Viewing Columns Names\n",
    "print(housing_data.columns)\n",
    "print(interest_rate_data.columns)\n",
    "print(income_data.columns)\n",
    "print(population_data.columns)"
   ]
  },
  {
   "cell_type": "code",
   "execution_count": 719,
   "metadata": {},
   "outputs": [],
   "source": [
    "#Dropping other provinces\n",
    "housing_data = housing_data[housing_data.GEO == 'Calgary, Alberta']\n",
    "#Filter for \"Total (house and land)\" category\n",
    "housing_data = housing_data[housing_data['New housing price indexes'] == 'Total (house and land)']\n",
    "\n",
    "\n",
    "#Dropping unused columns, axis=1 means dropping rows, inplace=True changes the original dataframe\n",
    "housing_data.drop(['DGUID', 'New housing price indexes', 'UOM',\n",
    "       'UOM_ID', 'SCALAR_FACTOR', 'SCALAR_ID', 'VECTOR', 'COORDINATE',\n",
    "       'STATUS', 'SYMBOL', 'TERMINATED', 'DECIMALS', 'GEO'], axis=1, inplace=True)\n",
    "\n",
    "\n",
    "interest_rate_data.drop(['DGUID', 'Rates', 'UOM', 'UOM_ID', 'SCALAR_FACTOR',\n",
    "                         'SCALAR_ID', 'VECTOR', 'COORDINATE', 'STATUS', \n",
    "                         'SYMBOL', 'TERMINATED', 'DECIMALS', 'GEO'], axis=1, inplace=True)\n",
    "\n",
    "\n",
    "\n",
    "#Filtering data by Median Income, Better than average as high earnings skew data\n",
    "income_data = income_data[income_data['Statistics'] == 'Median income (excluding zeros)']\n",
    "\n",
    "#Dropping Unused Columns\n",
    "income_data.drop(['DGUID', 'Age group', 'Sex', 'Income source',\n",
    "        'UOM', 'UOM_ID', 'SCALAR_FACTOR', 'SCALAR_ID', 'VECTOR',\n",
    "       'COORDINATE', 'STATUS', 'SYMBOL', 'TERMINATED', 'DECIMALS','Statistics', 'GEO'], axis=1, inplace=True)\n"
   ]
  },
  {
   "cell_type": "code",
   "execution_count": 720,
   "metadata": {},
   "outputs": [],
   "source": [
    "#Converting ref_date to datetime format\n",
    "housing_data.REF_DATE = pd.to_datetime(housing_data.REF_DATE)\n",
    "interest_rate_data.REF_DATE = pd.to_datetime(interest_rate_data.REF_DATE)\n",
    "population_data.date = pd.to_datetime(population_data.date)\n",
    "# This will convert the year-based REF_DATE into a proper datetime format that Pandas recognizes as the start of the year \n",
    "income_data['REF_DATE'] = pd.to_datetime(income_data['REF_DATE'], format='%Y')\n"
   ]
  },
  {
   "cell_type": "code",
   "execution_count": 721,
   "metadata": {},
   "outputs": [],
   "source": [
    "housing_data.set_index('REF_DATE', inplace=True)\n",
    "interest_rate_data.set_index('REF_DATE', inplace=True)\n",
    "income_data.set_index('REF_DATE', inplace=True)\n",
    "population_data.set_index('date', inplace=True)"
   ]
  },
  {
   "cell_type": "code",
   "execution_count": 722,
   "metadata": {},
   "outputs": [
    {
     "data": {
      "text/plain": [
       "True"
      ]
     },
     "execution_count": 722,
     "metadata": {},
     "output_type": "execute_result"
    }
   ],
   "source": [
    "#Checking for NAN values\n",
    "housing_data.isna().values.any()\n",
    "interest_rate_data.isna().values.any()\n",
    "income_data.isna().values.any()\n",
    "population_data.isna().values.any()"
   ]
  },
  {
   "cell_type": "code",
   "execution_count": 723,
   "metadata": {},
   "outputs": [
    {
     "name": "stdout",
     "output_type": "stream",
     "text": [
      "REF_DATE\n",
      "1981-01-01    False\n",
      "1981-02-01    False\n",
      "1981-03-01    False\n",
      "1981-04-01    False\n",
      "1981-05-01     True\n",
      "              ...  \n",
      "2024-04-01    False\n",
      "2024-05-01    False\n",
      "2024-06-01    False\n",
      "2024-07-01    False\n",
      "2024-08-01    False\n",
      "Length: 524, dtype: bool\n",
      "REF_DATE\n",
      "1981-01-07    False\n",
      "1981-01-14    False\n",
      "1981-01-21    False\n",
      "1981-01-28     True\n",
      "1981-02-04    False\n",
      "              ...  \n",
      "2024-09-04     True\n",
      "2024-09-11     True\n",
      "2024-09-18     True\n",
      "2024-09-25     True\n",
      "2024-10-02     True\n",
      "Length: 2283, dtype: bool\n",
      "REF_DATE\n",
      "1981-01-01    False\n",
      "1982-01-01    False\n",
      "1983-01-01    False\n",
      "1984-01-01    False\n",
      "1985-01-01    False\n",
      "1986-01-01    False\n",
      "1987-01-01    False\n",
      "1988-01-01     True\n",
      "1989-01-01    False\n",
      "1990-01-01    False\n",
      "1991-01-01    False\n",
      "1992-01-01    False\n",
      "1993-01-01    False\n",
      "1994-01-01    False\n",
      "1995-01-01    False\n",
      "1996-01-01    False\n",
      "1997-01-01    False\n",
      "1998-01-01    False\n",
      "1999-01-01    False\n",
      "2000-01-01    False\n",
      "2001-01-01    False\n",
      "2002-01-01    False\n",
      "2003-01-01    False\n",
      "2004-01-01    False\n",
      "2005-01-01    False\n",
      "2006-01-01    False\n",
      "2007-01-01    False\n",
      "2008-01-01    False\n",
      "2009-01-01    False\n",
      "2010-01-01    False\n",
      "2011-01-01    False\n",
      "2012-01-01    False\n",
      "2013-01-01    False\n",
      "2014-01-01    False\n",
      "2015-01-01    False\n",
      "2016-01-01     True\n",
      "2017-01-01    False\n",
      "2018-01-01    False\n",
      "2019-01-01    False\n",
      "2020-01-01    False\n",
      "2021-01-01     True\n",
      "2022-01-01    False\n",
      "dtype: bool\n",
      "date\n",
      "1950-12-31    False\n",
      "1951-12-31    False\n",
      "1952-12-31    False\n",
      "1953-12-31    False\n",
      "1954-12-31    False\n",
      "              ...  \n",
      "2031-12-31    False\n",
      "2032-12-31    False\n",
      "2033-12-31    False\n",
      "2034-12-31    False\n",
      "2035-12-31    False\n",
      "Length: 86, dtype: bool\n"
     ]
    }
   ],
   "source": [
    "#Checking for dupliactes\n",
    "print(housing_data.duplicated())\n",
    "print(interest_rate_data.duplicated())\n",
    "print(income_data.duplicated())\n",
    "print(population_data.duplicated())"
   ]
  },
  {
   "cell_type": "code",
   "execution_count": 724,
   "metadata": {},
   "outputs": [],
   "source": [
    "# Resample to monthly frequency using forward-fill to fill the year for each month, 'MS' is month start frequency\n",
    "population_monthly = population_data.resample('MS').ffill()\n",
    "interest_rate_monthly = interest_rate_data.resample('MS').mean()\n",
    "income_monthly = income_data.resample('MS').ffill()  \n",
    "\n",
    "\n",
    "# Reset index to make 'date' a column again\n",
    "population_monthly.reset_index(inplace=True)\n",
    "interest_rate_monthly.reset_index(inplace=True)\n",
    "income_monthly.reset_index(inplace=True)\n",
    "\n",
    "\n",
    "# Rename 'date' to 'REF_DATE'\n",
    "population_monthly.rename(columns={'date': 'REF_DATE'}, inplace=True)\n",
    "\n",
    "# Ensure 'REF_DATE' is in monthly format\n",
    "population_monthly['REF_DATE'] = pd.to_datetime(population_monthly['REF_DATE'])\n",
    "population_monthly['REF_DATE'] = population_monthly['REF_DATE'].dt.to_period('M').dt.to_timestamp()\n",
    "\n",
    "population_monthly.dropna(inplace=True)\n",
    "\n",
    "\n",
    "# Filter population data to include only records from 1981 onwards, This is to match the other data sets\n",
    "population_monthly = population_monthly[(population_monthly['REF_DATE'] >= '1981-01-01') & (population_monthly['REF_DATE'] <= '2024-12-31')]\n",
    "\n",
    "# Isolate 2023 and ensure the value stays at 450,000\n",
    "median_house_price_data.loc['2023', 'Median_House_Price'] = 450000\n",
    "\n"
   ]
  },
  {
   "cell_type": "code",
   "execution_count": 725,
   "metadata": {},
   "outputs": [
    {
     "name": "stdout",
     "output_type": "stream",
     "text": [
      "            VALUE\n",
      "REF_DATE         \n",
      "1981-01-01   25.3\n",
      "1981-02-01   25.5\n",
      "1981-03-01   25.8\n",
      "1981-04-01   26.7\n",
      "1981-05-01   26.7\n",
      "      REF_DATE   Population   Annual Change\n",
      "361 1981-01-01     568000.0             4.8\n",
      "362 1981-02-01     568000.0             4.8\n",
      "363 1981-03-01     568000.0             4.8\n",
      "364 1981-04-01     568000.0             4.8\n",
      "365 1981-05-01     568000.0             4.8\n",
      "    REF_DATE    VALUE\n",
      "0 1981-01-01  17.0575\n",
      "1 1981-02-01  17.1275\n",
      "2 1981-03-01  16.9850\n",
      "3 1981-04-01  17.0300\n",
      "4 1981-05-01  18.5875\n",
      "    REF_DATE  VALUE\n",
      "0 1981-01-01  45000\n",
      "1 1981-02-01  45000\n",
      "2 1981-03-01  45000\n",
      "3 1981-04-01  45000\n",
      "4 1981-05-01  45000\n"
     ]
    }
   ],
   "source": [
    "# View the result\n",
    "print(housing_data.head())\n",
    "print(population_monthly.head())\n",
    "print(interest_rate_monthly.head())\n",
    "print(income_monthly.head())\n"
   ]
  },
  {
   "cell_type": "code",
   "execution_count": 726,
   "metadata": {},
   "outputs": [
    {
     "name": "stdout",
     "output_type": "stream",
     "text": [
      "            median_re_assessed_value\n",
      "REF_DATE                            \n",
      "2005-01-01                    206500\n",
      "2005-02-01                    206500\n",
      "2005-03-01                    206500\n",
      "2005-04-01                    206500\n",
      "2005-05-01                    206500\n",
      "2005-06-01                    206500\n",
      "2005-07-01                    206500\n",
      "2005-08-01                    206500\n",
      "2005-09-01                    206500\n",
      "2005-10-01                    206500\n",
      "2005-11-01                    206500\n",
      "2005-12-01                    206500\n",
      "2006-01-01                    221000\n",
      "2006-02-01                    221000\n",
      "2006-03-01                    221000\n",
      "2006-04-01                    221000\n",
      "2006-05-01                    221000\n",
      "2006-06-01                    221000\n",
      "2006-07-01                    221000\n",
      "2006-08-01                    221000\n",
      "2006-09-01                    221000\n",
      "2006-10-01                    221000\n",
      "2006-11-01                    221000\n",
      "2006-12-01                    221000\n"
     ]
    }
   ],
   "source": [
    "median_house_price_data = pd.read_csv('../data/median_assessed_value.csv')\n",
    "median_house_price_data.rename(columns={'ROLL_YEAR': 'REF_DATE'}, inplace=True)\n",
    "median_house_price_data['REF_DATE'] = pd.to_datetime(median_house_price_data['REF_DATE'], format='%Y')\n",
    "median_house_price_data = median_house_price_data.set_index('REF_DATE').resample('MS').ffill()\n",
    "print(median_house_price_data.head(24))  # Shows first year of monthly data\n"
   ]
  },
  {
   "cell_type": "code",
   "execution_count": 727,
   "metadata": {},
   "outputs": [
    {
     "name": "stdout",
     "output_type": "stream",
     "text": [
      "            VALUE\n",
      "REF_DATE         \n",
      "1981-01-01   25.3\n",
      "1981-02-01   25.5\n",
      "1981-03-01   25.8\n",
      "1981-04-01   26.7\n",
      "1981-05-01   26.7\n",
      "            VALUE\n",
      "REF_DATE         \n",
      "1981-01-07  17.26\n",
      "1981-01-14  17.00\n",
      "1981-01-21  16.97\n",
      "1981-01-28  17.00\n",
      "1981-02-04  17.11\n",
      "            VALUE\n",
      "REF_DATE         \n",
      "1981-01-01  45000\n",
      "1982-01-01  46700\n",
      "1983-01-01  39100\n",
      "1984-01-01  37800\n",
      "1985-01-01  42600\n",
      "            Population  Annual Change\n",
      "date                                 \n",
      "1950-12-31      132000            NaN\n",
      "1951-12-31      141000           6.82\n",
      "1952-12-31      151000           7.09\n",
      "1953-12-31      162000           7.28\n",
      "1954-12-31      174000           7.41\n"
     ]
    }
   ],
   "source": [
    "# Take a quick look at the data\n",
    "print(housing_data.head())\n",
    "print(interest_rate_data.head())\n",
    "print(income_data.head())\n",
    "print(population_data.head())"
   ]
  },
  {
   "cell_type": "code",
   "execution_count": 728,
   "metadata": {},
   "outputs": [
    {
     "name": "stdout",
     "output_type": "stream",
     "text": [
      "Index(['VALUE'], dtype='object')\n",
      "Index(['VALUE'], dtype='object')\n",
      "Index(['VALUE'], dtype='object')\n",
      "Index([' Population', ' Annual Change'], dtype='object')\n"
     ]
    }
   ],
   "source": [
    "#Viewing Columns Names\n",
    "print(housing_data.columns)\n",
    "print(interest_rate_data.columns)\n",
    "print(income_data.columns)\n",
    "print(population_data.columns)"
   ]
  },
  {
   "cell_type": "code",
   "execution_count": 729,
   "metadata": {},
   "outputs": [
    {
     "ename": "AttributeError",
     "evalue": "'DataFrame' object has no attribute 'GEO'",
     "output_type": "error",
     "traceback": [
      "\u001b[0;31m---------------------------------------------------------------------------\u001b[0m",
      "\u001b[0;31mAttributeError\u001b[0m                            Traceback (most recent call last)",
      "\u001b[0;32m/var/folders/c8/wgg214m53kj69jc41gfrvs3w0000gn/T/ipykernel_94536/644279719.py\u001b[0m in \u001b[0;36m?\u001b[0;34m()\u001b[0m\n\u001b[1;32m      1\u001b[0m \u001b[0;31m#Dropping other provinces\u001b[0m\u001b[0;34m\u001b[0m\u001b[0;34m\u001b[0m\u001b[0m\n\u001b[0;32m----> 2\u001b[0;31m \u001b[0mhousing_data\u001b[0m \u001b[0;34m=\u001b[0m \u001b[0mhousing_data\u001b[0m\u001b[0;34m[\u001b[0m\u001b[0mhousing_data\u001b[0m\u001b[0;34m.\u001b[0m\u001b[0mGEO\u001b[0m \u001b[0;34m==\u001b[0m \u001b[0;34m'Calgary, Alberta'\u001b[0m\u001b[0;34m]\u001b[0m\u001b[0;34m\u001b[0m\u001b[0;34m\u001b[0m\u001b[0m\n\u001b[0m\u001b[1;32m      3\u001b[0m \u001b[0;31m#Filter for \"Total (house and land)\" category\u001b[0m\u001b[0;34m\u001b[0m\u001b[0;34m\u001b[0m\u001b[0m\n\u001b[1;32m      4\u001b[0m \u001b[0mhousing_data\u001b[0m \u001b[0;34m=\u001b[0m \u001b[0mhousing_data\u001b[0m\u001b[0;34m[\u001b[0m\u001b[0mhousing_data\u001b[0m\u001b[0;34m[\u001b[0m\u001b[0;34m'New housing price indexes'\u001b[0m\u001b[0;34m]\u001b[0m \u001b[0;34m==\u001b[0m \u001b[0;34m'Total (house and land)'\u001b[0m\u001b[0;34m]\u001b[0m\u001b[0;34m\u001b[0m\u001b[0;34m\u001b[0m\u001b[0m\n\u001b[1;32m      5\u001b[0m \u001b[0;34m\u001b[0m\u001b[0m\n",
      "\u001b[0;32m/Library/Frameworks/Python.framework/Versions/3.12/lib/python3.12/site-packages/pandas/core/generic.py\u001b[0m in \u001b[0;36m?\u001b[0;34m(self, name)\u001b[0m\n\u001b[1;32m   6295\u001b[0m             \u001b[0;32mand\u001b[0m \u001b[0mname\u001b[0m \u001b[0;32mnot\u001b[0m \u001b[0;32min\u001b[0m \u001b[0mself\u001b[0m\u001b[0;34m.\u001b[0m\u001b[0m_accessors\u001b[0m\u001b[0;34m\u001b[0m\u001b[0;34m\u001b[0m\u001b[0m\n\u001b[1;32m   6296\u001b[0m             \u001b[0;32mand\u001b[0m \u001b[0mself\u001b[0m\u001b[0;34m.\u001b[0m\u001b[0m_info_axis\u001b[0m\u001b[0;34m.\u001b[0m\u001b[0m_can_hold_identifiers_and_holds_name\u001b[0m\u001b[0;34m(\u001b[0m\u001b[0mname\u001b[0m\u001b[0;34m)\u001b[0m\u001b[0;34m\u001b[0m\u001b[0;34m\u001b[0m\u001b[0m\n\u001b[1;32m   6297\u001b[0m         \u001b[0;34m)\u001b[0m\u001b[0;34m:\u001b[0m\u001b[0;34m\u001b[0m\u001b[0;34m\u001b[0m\u001b[0m\n\u001b[1;32m   6298\u001b[0m             \u001b[0;32mreturn\u001b[0m \u001b[0mself\u001b[0m\u001b[0;34m[\u001b[0m\u001b[0mname\u001b[0m\u001b[0;34m]\u001b[0m\u001b[0;34m\u001b[0m\u001b[0;34m\u001b[0m\u001b[0m\n\u001b[0;32m-> 6299\u001b[0;31m         \u001b[0;32mreturn\u001b[0m \u001b[0mobject\u001b[0m\u001b[0;34m.\u001b[0m\u001b[0m__getattribute__\u001b[0m\u001b[0;34m(\u001b[0m\u001b[0mself\u001b[0m\u001b[0;34m,\u001b[0m \u001b[0mname\u001b[0m\u001b[0;34m)\u001b[0m\u001b[0;34m\u001b[0m\u001b[0;34m\u001b[0m\u001b[0m\n\u001b[0m",
      "\u001b[0;31mAttributeError\u001b[0m: 'DataFrame' object has no attribute 'GEO'"
     ]
    }
   ],
   "source": [
    "#Dropping other provinces\n",
    "housing_data = housing_data[housing_data.GEO == 'Calgary, Alberta']\n",
    "#Filter for \"Total (house and land)\" category\n",
    "housing_data = housing_data[housing_data['New housing price indexes'] == 'Total (house and land)']\n",
    "\n",
    "\n",
    "#Dropping unused columns, axis=1 means dropping rows, inplace=True changes the original dataframe\n",
    "housing_data.drop(['DGUID', 'New housing price indexes', 'UOM',\n",
    "       'UOM_ID', 'SCALAR_FACTOR', 'SCALAR_ID', 'VECTOR', 'COORDINATE',\n",
    "       'STATUS', 'SYMBOL', 'TERMINATED', 'DECIMALS'], axis=1, inplace=True)\n",
    "\n",
    "\n",
    "interest_rate_data.drop(['DGUID', 'Rates', 'UOM', 'UOM_ID', 'SCALAR_FACTOR',\n",
    "                         'SCALAR_ID', 'VECTOR', 'COORDINATE', 'STATUS', \n",
    "                         'SYMBOL', 'TERMINATED', 'DECIMALS', 'GEO'], axis=1, inplace=True)\n",
    "\n",
    "\n",
    "\n",
    "#Filtering data by Median Income, Better than average as high earnings skew data\n",
    "income_data = income_data[income_data['Statistics'] == 'Median income (excluding zeros)']\n",
    "\n",
    "#Dropping Unused Columns\n",
    "income_data.drop(['DGUID', 'Age group', 'Sex', 'Income source',\n",
    "        'UOM', 'UOM_ID', 'SCALAR_FACTOR', 'SCALAR_ID', 'VECTOR',\n",
    "       'COORDINATE', 'STATUS', 'SYMBOL', 'TERMINATED', 'DECIMALS','Statistics', 'GEO'], axis=1, inplace=True)\n"
   ]
  },
  {
   "cell_type": "code",
   "execution_count": null,
   "metadata": {},
   "outputs": [
    {
     "ename": "AttributeError",
     "evalue": "'DataFrame' object has no attribute 'REF_DATE'",
     "output_type": "error",
     "traceback": [
      "\u001b[0;31m---------------------------------------------------------------------------\u001b[0m",
      "\u001b[0;31mAttributeError\u001b[0m                            Traceback (most recent call last)",
      "\u001b[0;32m/var/folders/c8/wgg214m53kj69jc41gfrvs3w0000gn/T/ipykernel_94536/2058030874.py\u001b[0m in \u001b[0;36m?\u001b[0;34m()\u001b[0m\n\u001b[1;32m      1\u001b[0m \u001b[0;31m#Converting ref_date to datetime format\u001b[0m\u001b[0;34m\u001b[0m\u001b[0;34m\u001b[0m\u001b[0m\n\u001b[0;32m----> 2\u001b[0;31m \u001b[0mhousing_data\u001b[0m\u001b[0;34m.\u001b[0m\u001b[0mREF_DATE\u001b[0m \u001b[0;34m=\u001b[0m \u001b[0mpd\u001b[0m\u001b[0;34m.\u001b[0m\u001b[0mto_datetime\u001b[0m\u001b[0;34m(\u001b[0m\u001b[0mhousing_data\u001b[0m\u001b[0;34m.\u001b[0m\u001b[0mREF_DATE\u001b[0m\u001b[0;34m)\u001b[0m\u001b[0;34m\u001b[0m\u001b[0;34m\u001b[0m\u001b[0m\n\u001b[0m\u001b[1;32m      3\u001b[0m \u001b[0minterest_rate_data\u001b[0m\u001b[0;34m.\u001b[0m\u001b[0mREF_DATE\u001b[0m \u001b[0;34m=\u001b[0m \u001b[0mpd\u001b[0m\u001b[0;34m.\u001b[0m\u001b[0mto_datetime\u001b[0m\u001b[0;34m(\u001b[0m\u001b[0minterest_rate_data\u001b[0m\u001b[0;34m.\u001b[0m\u001b[0mREF_DATE\u001b[0m\u001b[0;34m)\u001b[0m\u001b[0;34m\u001b[0m\u001b[0;34m\u001b[0m\u001b[0m\n\u001b[1;32m      4\u001b[0m \u001b[0mpopulation_data\u001b[0m\u001b[0;34m.\u001b[0m\u001b[0mdate\u001b[0m \u001b[0;34m=\u001b[0m \u001b[0mpd\u001b[0m\u001b[0;34m.\u001b[0m\u001b[0mto_datetime\u001b[0m\u001b[0;34m(\u001b[0m\u001b[0mpopulation_data\u001b[0m\u001b[0;34m.\u001b[0m\u001b[0mdate\u001b[0m\u001b[0;34m)\u001b[0m\u001b[0;34m\u001b[0m\u001b[0;34m\u001b[0m\u001b[0m\n\u001b[1;32m      5\u001b[0m \u001b[0;31m# This will convert the year-based REF_DATE into a proper datetime format that Pandas recognizes as the start of the year\u001b[0m\u001b[0;34m\u001b[0m\u001b[0;34m\u001b[0m\u001b[0m\n",
      "\u001b[0;32m/Library/Frameworks/Python.framework/Versions/3.12/lib/python3.12/site-packages/pandas/core/generic.py\u001b[0m in \u001b[0;36m?\u001b[0;34m(self, name)\u001b[0m\n\u001b[1;32m   6295\u001b[0m             \u001b[0;32mand\u001b[0m \u001b[0mname\u001b[0m \u001b[0;32mnot\u001b[0m \u001b[0;32min\u001b[0m \u001b[0mself\u001b[0m\u001b[0;34m.\u001b[0m\u001b[0m_accessors\u001b[0m\u001b[0;34m\u001b[0m\u001b[0;34m\u001b[0m\u001b[0m\n\u001b[1;32m   6296\u001b[0m             \u001b[0;32mand\u001b[0m \u001b[0mself\u001b[0m\u001b[0;34m.\u001b[0m\u001b[0m_info_axis\u001b[0m\u001b[0;34m.\u001b[0m\u001b[0m_can_hold_identifiers_and_holds_name\u001b[0m\u001b[0;34m(\u001b[0m\u001b[0mname\u001b[0m\u001b[0;34m)\u001b[0m\u001b[0;34m\u001b[0m\u001b[0;34m\u001b[0m\u001b[0m\n\u001b[1;32m   6297\u001b[0m         \u001b[0;34m)\u001b[0m\u001b[0;34m:\u001b[0m\u001b[0;34m\u001b[0m\u001b[0;34m\u001b[0m\u001b[0m\n\u001b[1;32m   6298\u001b[0m             \u001b[0;32mreturn\u001b[0m \u001b[0mself\u001b[0m\u001b[0;34m[\u001b[0m\u001b[0mname\u001b[0m\u001b[0;34m]\u001b[0m\u001b[0;34m\u001b[0m\u001b[0;34m\u001b[0m\u001b[0m\n\u001b[0;32m-> 6299\u001b[0;31m         \u001b[0;32mreturn\u001b[0m \u001b[0mobject\u001b[0m\u001b[0;34m.\u001b[0m\u001b[0m__getattribute__\u001b[0m\u001b[0;34m(\u001b[0m\u001b[0mself\u001b[0m\u001b[0;34m,\u001b[0m \u001b[0mname\u001b[0m\u001b[0;34m)\u001b[0m\u001b[0;34m\u001b[0m\u001b[0;34m\u001b[0m\u001b[0m\n\u001b[0m",
      "\u001b[0;31mAttributeError\u001b[0m: 'DataFrame' object has no attribute 'REF_DATE'"
     ]
    }
   ],
   "source": [
    "#Converting ref_date to datetime format\n",
    "housing_data.REF_DATE = pd.to_datetime(housing_data.REF_DATE)\n",
    "interest_rate_data.REF_DATE = pd.to_datetime(interest_rate_data.REF_DATE)\n",
    "population_data.date = pd.to_datetime(population_data.date)\n",
    "# This will convert the year-based REF_DATE into a proper datetime format that Pandas recognizes as the start of the year \n",
    "income_data['REF_DATE'] = pd.to_datetime(income_data['REF_DATE'], format='%Y')\n"
   ]
  },
  {
   "cell_type": "code",
   "execution_count": null,
   "metadata": {},
   "outputs": [],
   "source": [
    "housing_data.set_index('REF_DATE', inplace=True)\n",
    "interest_rate_data.set_index('REF_DATE', inplace=True)\n",
    "income_data.set_index('REF_DATE', inplace=True)\n",
    "population_data.set_index('date', inplace=True)"
   ]
  },
  {
   "cell_type": "code",
   "execution_count": null,
   "metadata": {},
   "outputs": [
    {
     "data": {
      "text/plain": [
       "True"
      ]
     },
     "execution_count": 602,
     "metadata": {},
     "output_type": "execute_result"
    }
   ],
   "source": [
    "#Checking for NAN values\n",
    "housing_data.isna().values.any()\n",
    "interest_rate_data.isna().values.any()\n",
    "income_data.isna().values.any()\n",
    "population_data.isna().values.any()"
   ]
  },
  {
   "cell_type": "code",
   "execution_count": null,
   "metadata": {},
   "outputs": [
    {
     "name": "stdout",
     "output_type": "stream",
     "text": [
      "REF_DATE\n",
      "1981-01-01    False\n",
      "1981-02-01    False\n",
      "1981-03-01    False\n",
      "1981-04-01    False\n",
      "1981-05-01     True\n",
      "              ...  \n",
      "2024-04-01    False\n",
      "2024-05-01    False\n",
      "2024-06-01    False\n",
      "2024-07-01    False\n",
      "2024-08-01    False\n",
      "Length: 524, dtype: bool\n",
      "REF_DATE\n",
      "1981-01-07    False\n",
      "1981-01-14    False\n",
      "1981-01-21    False\n",
      "1981-01-28     True\n",
      "1981-02-04    False\n",
      "              ...  \n",
      "2024-09-04     True\n",
      "2024-09-11     True\n",
      "2024-09-18     True\n",
      "2024-09-25     True\n",
      "2024-10-02     True\n",
      "Length: 2283, dtype: bool\n",
      "REF_DATE\n",
      "1981-01-01    False\n",
      "1982-01-01    False\n",
      "1983-01-01    False\n",
      "1984-01-01    False\n",
      "1985-01-01    False\n",
      "1986-01-01    False\n",
      "1987-01-01    False\n",
      "1988-01-01     True\n",
      "1989-01-01    False\n",
      "1990-01-01    False\n",
      "1991-01-01    False\n",
      "1992-01-01    False\n",
      "1993-01-01    False\n",
      "1994-01-01    False\n",
      "1995-01-01    False\n",
      "1996-01-01    False\n",
      "1997-01-01    False\n",
      "1998-01-01    False\n",
      "1999-01-01    False\n",
      "2000-01-01    False\n",
      "2001-01-01    False\n",
      "2002-01-01    False\n",
      "2003-01-01    False\n",
      "2004-01-01    False\n",
      "2005-01-01    False\n",
      "2006-01-01    False\n",
      "2007-01-01    False\n",
      "2008-01-01    False\n",
      "2009-01-01    False\n",
      "2010-01-01    False\n",
      "2011-01-01    False\n",
      "2012-01-01    False\n",
      "2013-01-01    False\n",
      "2014-01-01    False\n",
      "2015-01-01    False\n",
      "2016-01-01     True\n",
      "2017-01-01    False\n",
      "2018-01-01    False\n",
      "2019-01-01    False\n",
      "2020-01-01    False\n",
      "2021-01-01     True\n",
      "2022-01-01    False\n",
      "dtype: bool\n",
      "date\n",
      "1950-12-31    False\n",
      "1951-12-31    False\n",
      "1952-12-31    False\n",
      "1953-12-31    False\n",
      "1954-12-31    False\n",
      "              ...  \n",
      "2031-12-31    False\n",
      "2032-12-31    False\n",
      "2033-12-31    False\n",
      "2034-12-31    False\n",
      "2035-12-31    False\n",
      "Length: 86, dtype: bool\n"
     ]
    }
   ],
   "source": [
    "#Checking for dupliactes\n",
    "print(housing_data.duplicated())\n",
    "print(interest_rate_data.duplicated())\n",
    "print(income_data.duplicated())\n",
    "print(population_data.duplicated())"
   ]
  },
  {
   "cell_type": "code",
   "execution_count": null,
   "metadata": {},
   "outputs": [],
   "source": [
    "# Resample to monthly frequency using forward-fill to fill the year for each month, 'MS' is month start frequency\n",
    "population_monthly = population_data.resample('MS').ffill()\n",
    "interest_rate_monthly = interest_rate_data.resample('MS').mean()\n",
    "income_monthly = income_data.resample('MS').ffill()  \n",
    "\n",
    "\n",
    "# Reset index to make 'date' a column again\n",
    "population_monthly.reset_index(inplace=True)\n",
    "interest_rate_monthly.reset_index(inplace=True)\n",
    "income_monthly.reset_index(inplace=True)\n",
    "\n",
    "\n",
    "# Rename 'date' to 'REF_DATE'\n",
    "population_monthly.rename(columns={'date': 'REF_DATE'}, inplace=True)\n",
    "\n",
    "# Ensure 'REF_DATE' is in monthly format\n",
    "population_monthly['REF_DATE'] = pd.to_datetime(population_monthly['REF_DATE'])\n",
    "population_monthly['REF_DATE'] = population_monthly['REF_DATE'].dt.to_period('M').dt.to_timestamp()\n",
    "\n",
    "population_monthly.dropna(inplace=True)\n",
    "\n",
    "\n",
    "# Filter population data to include only records from 2005 onwards\n",
    "population_monthly = population_monthly[(population_monthly['REF_DATE'] >= '2005-01-01') & (population_monthly['REF_DATE'] <= '2024-12-31')]\n",
    "\n",
    "# Filter other datasets similarly to match the timeframe of the median house price data\n",
    "interest_rate_monthly = interest_rate_monthly[(interest_rate_monthly['REF_DATE'] >= '2005-01-01') & (interest_rate_monthly['REF_DATE'] <= '2024-12-31')]\n",
    "income_monthly = income_monthly[(income_monthly['REF_DATE'] >= '2005-01-01') & (income_monthly['REF_DATE'] <= '2024-12-31')]\n",
    "housing_data = housing_data[(housing_data.index >= '2005-01-01') & (housing_data.index <= '2024-12-31')]\n",
    "median_house_price_data = median_house_price_data[(median_house_price_data.index >= '2005-01-01') & (median_house_price_data.index <= '2024-12-31')]\n"
   ]
  },
  {
   "cell_type": "code",
   "execution_count": null,
   "metadata": {},
   "outputs": [
    {
     "name": "stdout",
     "output_type": "stream",
     "text": [
      "            VALUE\n",
      "REF_DATE         \n",
      "2005-01-01   52.0\n",
      "2005-02-01   52.3\n",
      "2005-03-01   52.4\n",
      "2005-04-01   52.8\n",
      "2005-05-01   53.1\n",
      "      REF_DATE   Population   Annual Change\n",
      "649 2005-01-01    1030000.0            2.59\n",
      "650 2005-02-01    1030000.0            2.59\n",
      "651 2005-03-01    1030000.0            2.59\n",
      "652 2005-04-01    1030000.0            2.59\n",
      "653 2005-05-01    1030000.0            2.59\n",
      "      REF_DATE  VALUE\n",
      "288 2005-01-01   2.75\n",
      "289 2005-02-01   2.75\n",
      "290 2005-03-01   2.75\n",
      "291 2005-04-01   2.75\n",
      "292 2005-05-01   2.75\n",
      "      REF_DATE  VALUE\n",
      "288 2005-01-01  43100\n",
      "289 2005-02-01  43100\n",
      "290 2005-03-01  43100\n",
      "291 2005-04-01  43100\n",
      "292 2005-05-01  43100\n"
     ]
    }
   ],
   "source": [
    "# View the result\n",
    "print(housing_data.head())\n",
    "print(population_monthly.head())\n",
    "print(interest_rate_monthly.head())\n",
    "print(income_monthly.head())\n"
   ]
  },
  {
   "cell_type": "code",
   "execution_count": null,
   "metadata": {},
   "outputs": [
    {
     "name": "stdout",
     "output_type": "stream",
     "text": [
      "            VALUE_housing  VALUE_interest    VALUE   Population  \\\n",
      "REF_DATE                                                          \n",
      "1981-01-01           25.3         17.0575  45000.0     568000.0   \n",
      "1981-02-01           25.5         17.1275  45000.0     568000.0   \n",
      "1981-03-01           25.8         16.9850  45000.0     568000.0   \n",
      "1981-04-01           26.7         17.0300  45000.0     568000.0   \n",
      "1981-05-01           26.7         18.5875  45000.0     568000.0   \n",
      "\n",
      "             Annual Change  median_re_assessed_value  \n",
      "REF_DATE                                              \n",
      "1981-01-01             4.8                       NaN  \n",
      "1981-02-01             4.8                       NaN  \n",
      "1981-03-01             4.8                       NaN  \n",
      "1981-04-01             4.8                       NaN  \n",
      "1981-05-01             4.8                       NaN  \n"
     ]
    }
   ],
   "source": [
    "\n",
    "# Now merge the filtered datasets\n",
    "merged_data = housing_data.merge(interest_rate_monthly, on='REF_DATE', how='left', suffixes=('_housing', '_interest'))\n",
    "merged_data = merged_data.merge(income_monthly, on='REF_DATE', how='left')\n",
    "merged_data = merged_data.merge(population_monthly, on='REF_DATE', how='left')\n",
    "merged_data = merged_data.merge(median_house_price_data, on='REF_DATE', how='left')\n",
    "\n",
    "# Forward fill missing values for Median_House_Price after 2005\n",
    "merged_data['median_re_assessed_value'] = merged_data['median_re_assessed_value'].ffill()\n",
    "\n",
    "merged_data.set_index('REF_DATE', inplace=True)"
   ]
  },
  {
   "cell_type": "code",
   "execution_count": null,
   "metadata": {},
   "outputs": [
    {
     "name": "stdout",
     "output_type": "stream",
     "text": [
      "            Housing_Price_Index  Interest_Rate  Median_Income  \\\n",
      "REF_DATE                                                        \n",
      "1981-01-01                 25.3        17.0575        45000.0   \n",
      "1981-02-01                 25.5        17.1275        45000.0   \n",
      "1981-03-01                 25.8        16.9850        45000.0   \n",
      "1981-04-01                 26.7        17.0300        45000.0   \n",
      "1981-05-01                 26.7        18.5875        45000.0   \n",
      "\n",
      "            Calgary_Population  Annual_Population_Change  Median_House_Price  \n",
      "REF_DATE                                                                      \n",
      "1981-01-01            568000.0                       4.8                 NaN  \n",
      "1981-02-01            568000.0                       4.8                 NaN  \n",
      "1981-03-01            568000.0                       4.8                 NaN  \n",
      "1981-04-01            568000.0                       4.8                 NaN  \n",
      "1981-05-01            568000.0                       4.8                 NaN  \n"
     ]
    }
   ],
   "source": [
    "# Renaming columns for more clarity\n",
    "merged_data.rename(columns={\n",
    "    'VALUE_housing': 'Housing_Price_Index',\n",
    "    'VALUE_interest': 'Interest_Rate',\n",
    "    'VALUE': 'Median_Income',\n",
    "    ' Population': 'Calgary_Population',\n",
    "    ' Annual Change': 'Annual_Population_Change',\n",
    "    'median_re_assessed_value': 'Median_House_Price'\n",
    "}, inplace=True)\n",
    "\n",
    "# View the updated DataFrame\n",
    "print(merged_data.head())\n"
   ]
  },
  {
   "cell_type": "code",
   "execution_count": 731,
   "metadata": {},
   "outputs": [
    {
     "name": "stdout",
     "output_type": "stream",
     "text": [
      "Mean Squared Error: 813345130.9889072\n",
      "R-squared: 0.8119151609286351\n"
     ]
    }
   ],
   "source": [
    "# Ensure merged_data only contains data from 2005 onwards\n",
    "merged_data = merged_data[merged_data.index >= '2005-01-01']\n",
    "\n",
    "# Define features (X) and target (y)\n",
    "X = merged_data[['Housing_Price_Index', 'Interest_Rate', 'Median_Income', 'Calgary_Population', 'Annual_Population_Change']]  # Features\n",
    "y = merged_data['Median_House_Price']  # Target (what you are predicting)\n",
    "\n",
    "# Handle NaNs (e.g., filling with the mean or forward filling)\n",
    "X.fillna(X.mean(), inplace=True)\n",
    "y.fillna(y.mean(), inplace=True)\n",
    "\n",
    "\n",
    "# Split the data (80% training, 20% testing)\n",
    "X_train, X_test, y_train, y_test = train_test_split(X, y, test_size=0.2, random_state=42)\n",
    "\n",
    "# Initialize the model\n",
    "model = LinearRegression()\n",
    "\n",
    "# Train the model\n",
    "model.fit(X_train, y_train)\n",
    "\n",
    "# Predict on the test set\n",
    "y_pred = model.predict(X_test)\n",
    "\n",
    "# Evaluate performance\n",
    "mse = mean_squared_error(y_test, y_pred)\n",
    "r2 = r2_score(y_test, y_pred)\n",
    "\n",
    "print(f\"Mean Squared Error: {mse}\")\n",
    "print(f\"R-squared: {r2}\")"
   ]
  },
  {
   "cell_type": "code",
   "execution_count": null,
   "metadata": {},
   "outputs": [
    {
     "data": {
      "image/png": "[encoded data removed]",
      "text/plain": [
       "<Figure size 1000x600 with 1 Axes>"
      ]
     },
     "metadata": {},
     "output_type": "display_data"
    }
   ],
   "source": [
    "\n",
    "# Plotting actual vs predicted values\n",
    "plt.figure(figsize=(10, 6))\n",
    "plt.scatter(y_test, y_pred, alpha=0.5)\n",
    "plt.plot([y_test.min(), y_test.max()], [y_test.min(), y_test.max()], 'r--', lw=2)\n",
    "plt.xlabel('Actual House Prices')\n",
    "plt.ylabel('Predicted House Prices')\n",
    "plt.title('Actual vs Predicted House Prices')\n",
    "plt.show()\n"
   ]
  },
  {
   "cell_type": "code",
   "execution_count": 730,
   "metadata": {},
   "outputs": [
    {
     "name": "stdout",
     "output_type": "stream",
     "text": [
      "Mean Squared Error: 4120292.7083333335\n",
      "R-squared: 0.999047188504059\n"
     ]
    }
   ],
   "source": [
    "# Ensure merged_data only contains data from 2005 onwards\n",
    "merged_data = merged_data[merged_data.index >= '2005-01-01']\n",
    "\n",
    "# Define features (X) and target (y)\n",
    "X = merged_data[['Housing_Price_Index', 'Interest_Rate', 'Median_Income', 'Calgary_Population', 'Annual_Population_Change']]  # Features\n",
    "y = merged_data['Median_House_Price']  # Target (what you are predicting)\n",
    "\n",
    "# Handle NaNs (e.g., filling with the mean)\n",
    "X.fillna(X.mean(), inplace=True)\n",
    "y.fillna(y.mean(), inplace=True)\n",
    "\n",
    "# Split the data (80% training, 20% testing)\n",
    "X_train, X_test, y_train, y_test = train_test_split(X, y, test_size=0.2, random_state=42)\n",
    "\n",
    "# Initialize the Random Forest model\n",
    "rf_model = RandomForestRegressor(n_estimators=100, random_state=42)\n",
    "\n",
    "# Train the model\n",
    "rf_model.fit(X_train, y_train)\n",
    "\n",
    "# Predict on the test set\n",
    "y_pred = rf_model.predict(X_test)\n",
    "\n",
    "# Evaluate performance\n",
    "mse = mean_squared_error(y_test, y_pred)\n",
    "r2 = r2_score(y_test, y_pred)\n",
    "\n",
    "print(f\"Mean Squared Error: {mse}\")\n",
    "print(f\"R-squared: {r2}\")\n"
   ]
  },
  {
   "cell_type": "code",
   "execution_count": null,
   "metadata": {},
   "outputs": [
    {
     "name": "stdout",
     "output_type": "stream",
     "text": [
      "                    Feature  Importance\n",
      "3        Calgary_Population    0.441644\n",
      "0       Housing_Price_Index    0.299924\n",
      "2             Median_Income    0.200552\n",
      "1             Interest_Rate    0.033572\n",
      "4  Annual_Population_Change    0.024309\n"
     ]
    }
   ],
   "source": [
    "# Get feature importances\n",
    "importances = rf_model.feature_importances_\n",
    "\n",
    "# Create a DataFrame to organize feature importances\n",
    "feature_importances = pd.DataFrame({\n",
    "    'Feature': X.columns,\n",
    "    'Importance': importances\n",
    "})\n",
    "\n",
    "# Sort by importance (descending)\n",
    "feature_importances = feature_importances.sort_values(by='Importance', ascending=False)\n",
    "\n",
    "# Display the feature importances\n",
    "print(feature_importances)\n"
   ]
  },
  {
   "cell_type": "code",
   "execution_count": 748,
   "metadata": {},
   "outputs": [
    {
     "data": {
      "application/vnd.plotly.v1+json": {
       "config": {
        "plotlyServerURL": "https://plot.ly"
       },
       "data": [
        {
         "mode": "lines",
         "name": "Historical Median House Price",
         "type": "scatter",
         "x": [
          "2005-01-01T00:00:00",
          "2005-02-01T00:00:00",
          "2005-03-01T00:00:00",
          "2005-04-01T00:00:00",
          "2005-05-01T00:00:00",
          "2005-06-01T00:00:00",
          "2005-07-01T00:00:00",
          "2005-08-01T00:00:00",
          "2005-09-01T00:00:00",
          "2005-10-01T00:00:00",
          "2005-11-01T00:00:00",
          "2005-12-01T00:00:00",
          "2006-01-01T00:00:00",
          "2006-02-01T00:00:00",
          "2006-03-01T00:00:00",
          "2006-04-01T00:00:00",
          "2006-05-01T00:00:00",
          "2006-06-01T00:00:00",
          "2006-07-01T00:00:00",
          "2006-08-01T00:00:00",
          "2006-09-01T00:00:00",
          "2006-10-01T00:00:00",
          "2006-11-01T00:00:00",
          "2006-12-01T00:00:00",
          "2007-01-01T00:00:00",
          "2007-02-01T00:00:00",
          "2007-03-01T00:00:00",
          "2007-04-01T00:00:00",
          "2007-05-01T00:00:00",
          "2007-06-01T00:00:00",
          "2007-07-01T00:00:00",
          "2007-08-01T00:00:00",
          "2007-09-01T00:00:00",
          "2007-10-01T00:00:00",
          "2007-11-01T00:00:00",
          "2007-12-01T00:00:00",
          "2008-01-01T00:00:00",
          "2008-02-01T00:00:00",
          "2008-03-01T00:00:00",
          "2008-04-01T00:00:00",
          "2008-05-01T00:00:00",
          "2008-06-01T00:00:00",
          "2008-07-01T00:00:00",
          "2008-08-01T00:00:00",
          "2008-09-01T00:00:00",
          "2008-10-01T00:00:00",
          "2008-11-01T00:00:00",
          "2008-12-01T00:00:00",
          "2009-01-01T00:00:00",
          "2009-02-01T00:00:00",
          "2009-03-01T00:00:00",
          "2009-04-01T00:00:00",
          "2009-05-01T00:00:00",
          "2009-06-01T00:00:00",
          "2009-07-01T00:00:00",
          "2009-08-01T00:00:00",
          "2009-09-01T00:00:00",
          "2009-10-01T00:00:00",
          "2009-11-01T00:00:00",
          "2009-12-01T00:00:00",
          "2010-01-01T00:00:00",
          "2010-02-01T00:00:00",
          "2010-03-01T00:00:00",
          "2010-04-01T00:00:00",
          "2010-05-01T00:00:00",
          "2010-06-01T00:00:00",
          "2010-07-01T00:00:00",
          "2010-08-01T00:00:00",
          "2010-09-01T00:00:00",
          "2010-10-01T00:00:00",
          "2010-11-01T00:00:00",
          "2010-12-01T00:00:00",
          "2011-01-01T00:00:00",
          "2011-02-01T00:00:00",
          "2011-03-01T00:00:00",
          "2011-04-01T00:00:00",
          "2011-05-01T00:00:00",
          "2011-06-01T00:00:00",
          "2011-07-01T00:00:00",
          "2011-08-01T00:00:00",
          "2011-09-01T00:00:00",
          "2011-10-01T00:00:00",
          "2011-11-01T00:00:00",
          "2011-12-01T00:00:00",
          "2012-01-01T00:00:00",
          "2012-02-01T00:00:00",
          "2012-03-01T00:00:00",
          "2012-04-01T00:00:00",
          "2012-05-01T00:00:00",
          "2012-06-01T00:00:00",
          "2012-07-01T00:00:00",
          "2012-08-01T00:00:00",
          "2012-09-01T00:00:00",
          "2012-10-01T00:00:00",
          "2012-11-01T00:00:00",
          "2012-12-01T00:00:00",
          "2013-01-01T00:00:00",
          "2013-02-01T00:00:00",
          "2013-03-01T00:00:00",
          "2013-04-01T00:00:00",
          "2013-05-01T00:00:00",
          "2013-06-01T00:00:00",
          "2013-07-01T00:00:00",
          "2013-08-01T00:00:00",
          "2013-09-01T00:00:00",
          "2013-10-01T00:00:00",
          "2013-11-01T00:00:00",
          "2013-12-01T00:00:00",
          "2014-01-01T00:00:00",
          "2014-02-01T00:00:00",
          "2014-03-01T00:00:00",
          "2014-04-01T00:00:00",
          "2014-05-01T00:00:00",
          "2014-06-01T00:00:00",
          "2014-07-01T00:00:00",
          "2014-08-01T00:00:00",
          "2014-09-01T00:00:00",
          "2014-10-01T00:00:00",
          "2014-11-01T00:00:00",
          "2014-12-01T00:00:00",
          "2015-01-01T00:00:00",
          "2015-02-01T00:00:00",
          "2015-03-01T00:00:00",
          "2015-04-01T00:00:00",
          "2015-05-01T00:00:00",
          "2015-06-01T00:00:00",
          "2015-07-01T00:00:00",
          "2015-08-01T00:00:00",
          "2015-09-01T00:00:00",
          "2015-10-01T00:00:00",
          "2015-11-01T00:00:00",
          "2015-12-01T00:00:00",
          "2016-01-01T00:00:00",
          "2016-02-01T00:00:00",
          "2016-03-01T00:00:00",
          "2016-04-01T00:00:00",
          "2016-05-01T00:00:00",
          "2016-06-01T00:00:00",
          "2016-07-01T00:00:00",
          "2016-08-01T00:00:00",
          "2016-09-01T00:00:00",
          "2016-10-01T00:00:00",
          "2016-11-01T00:00:00",
          "2016-12-01T00:00:00",
          "2017-01-01T00:00:00",
          "2017-02-01T00:00:00",
          "2017-03-01T00:00:00",
          "2017-04-01T00:00:00",
          "2017-05-01T00:00:00",
          "2017-06-01T00:00:00",
          "2017-07-01T00:00:00",
          "2017-08-01T00:00:00",
          "2017-09-01T00:00:00",
          "2017-10-01T00:00:00",
          "2017-11-01T00:00:00",
          "2017-12-01T00:00:00",
          "2018-01-01T00:00:00",
          "2018-02-01T00:00:00",
          "2018-03-01T00:00:00",
          "2018-04-01T00:00:00",
          "2018-05-01T00:00:00",
          "2018-06-01T00:00:00",
          "2018-07-01T00:00:00",
          "2018-08-01T00:00:00",
          "2018-09-01T00:00:00",
          "2018-10-01T00:00:00",
          "2018-11-01T00:00:00",
          "2018-12-01T00:00:00",
          "2019-01-01T00:00:00",
          "2019-02-01T00:00:00",
          "2019-03-01T00:00:00",
          "2019-04-01T00:00:00",
          "2019-05-01T00:00:00",
          "2019-06-01T00:00:00",
          "2019-07-01T00:00:00",
          "2019-08-01T00:00:00",
          "2019-09-01T00:00:00",
          "2019-10-01T00:00:00",
          "2019-11-01T00:00:00",
          "2019-12-01T00:00:00",
          "2020-01-01T00:00:00",
          "2020-02-01T00:00:00",
          "2020-03-01T00:00:00",
          "2020-04-01T00:00:00",
          "2020-05-01T00:00:00",
          "2020-06-01T00:00:00",
          "2020-07-01T00:00:00",
          "2020-08-01T00:00:00",
          "2020-09-01T00:00:00",
          "2020-10-01T00:00:00",
          "2020-11-01T00:00:00",
          "2020-12-01T00:00:00",
          "2021-01-01T00:00:00",
          "2021-02-01T00:00:00",
          "2021-03-01T00:00:00",
          "2021-04-01T00:00:00",
          "2021-05-01T00:00:00",
          "2021-06-01T00:00:00",
          "2021-07-01T00:00:00",
          "2021-08-01T00:00:00",
          "2021-09-01T00:00:00",
          "2021-10-01T00:00:00",
          "2021-11-01T00:00:00",
          "2021-12-01T00:00:00",
          "2022-01-01T00:00:00",
          "2022-02-01T00:00:00",
          "2022-03-01T00:00:00",
          "2022-04-01T00:00:00",
          "2022-05-01T00:00:00",
          "2022-06-01T00:00:00",
          "2022-07-01T00:00:00",
          "2022-08-01T00:00:00",
          "2022-09-01T00:00:00",
          "2022-10-01T00:00:00",
          "2022-11-01T00:00:00",
          "2022-12-01T00:00:00",
          "2023-01-01T00:00:00",
          "2023-02-01T00:00:00",
          "2023-03-01T00:00:00",
          "2023-04-01T00:00:00",
          "2023-05-01T00:00:00",
          "2023-06-01T00:00:00",
          "2023-07-01T00:00:00",
          "2023-08-01T00:00:00",
          "2023-09-01T00:00:00",
          "2023-10-01T00:00:00",
          "2023-11-01T00:00:00",
          "2023-12-01T00:00:00",
          "2024-01-01T00:00:00",
          "2024-02-01T00:00:00",
          "2024-03-01T00:00:00",
          "2024-04-01T00:00:00",
          "2024-05-01T00:00:00",
          "2024-06-01T00:00:00",
          "2024-07-01T00:00:00",
          "2024-08-01T00:00:00"
         ],
         "y": [
          206500,
          206500,
          206500,
          206500,
          206500,
          206500,
          206500,
          206500,
          206500,
          206500,
          206500,
          206500,
          221000,
          221000,
          221000,
          221000,
          221000,
          221000,
          221000,
          221000,
          221000,
          221000,
          221000,
          221000,
          318000,
          318000,
          318000,
          318000,
          318000,
          318000,
          318000,
          318000,
          318000,
          318000,
          318000,
          318000,
          399000,
          399000,
          399000,
          399000,
          399000,
          399000,
          399000,
          399000,
          399000,
          399000,
          399000,
          399000,
          376500,
          376500,
          376500,
          376500,
          376500,
          376500,
          376500,
          376500,
          376500,
          376500,
          376500,
          376500,
          325500,
          325500,
          325500,
          325500,
          325500,
          325500,
          325500,
          325500,
          325500,
          325500,
          325500,
          325500,
          357000,
          357000,
          357000,
          357000,
          357000,
          357000,
          357000,
          357000,
          357000,
          357000,
          357000,
          357000,
          343500,
          343500,
          343500,
          343500,
          343500,
          343500,
          343500,
          343500,
          343500,
          343500,
          343500,
          343500,
          349500,
          349500,
          349500,
          349500,
          349500,
          349500,
          349500,
          349500,
          349500,
          349500,
          349500,
          349500,
          375000,
          375000,
          375000,
          375000,
          375000,
          375000,
          375000,
          375000,
          375000,
          375000,
          375000,
          375000,
          412500,
          412500,
          412500,
          412500,
          412500,
          412500,
          412500,
          412500,
          412500,
          412500,
          412500,
          412500,
          404500,
          404500,
          404500,
          404500,
          404500,
          404500,
          404500,
          404500,
          404500,
          404500,
          404500,
          404500,
          388000,
          388000,
          388000,
          388000,
          388000,
          388000,
          388000,
          388000,
          388000,
          388000,
          388000,
          388000,
          396000,
          396000,
          396000,
          396000,
          396000,
          396000,
          396000,
          396000,
          396000,
          396000,
          396000,
          396000,
          388500,
          388500,
          388500,
          388500,
          388500,
          388500,
          388500,
          388500,
          388500,
          388500,
          388500,
          388500,
          368000,
          368000,
          368000,
          368000,
          368000,
          368000,
          368000,
          368000,
          368000,
          368000,
          368000,
          368000,
          358000,
          358000,
          358000,
          358000,
          358000,
          358000,
          358000,
          358000,
          358000,
          358000,
          358000,
          358000,
          396000,
          396000,
          396000,
          396000,
          396000,
          396000,
          396000,
          396000,
          396000,
          396000,
          396000,
          396000,
          450000,
          450000,
          450000,
          450000,
          450000,
          450000,
          450000,
          450000,
          450000,
          450000,
          450000,
          450000,
          450000,
          450000,
          450000,
          450000,
          450000,
          450000,
          450000,
          450000
         ]
        },
        {
         "line": {
          "dash": "dash"
         },
         "mode": "lines",
         "name": "Predicted Median House Price",
         "type": "scatter",
         "x": [
          "2025-01-01T00:00:00",
          "2025-02-01T00:00:00",
          "2025-03-01T00:00:00",
          "2025-04-01T00:00:00",
          "2025-05-01T00:00:00",
          "2025-06-01T00:00:00",
          "2025-07-01T00:00:00",
          "2025-08-01T00:00:00",
          "2025-09-01T00:00:00",
          "2025-10-01T00:00:00",
          "2025-11-01T00:00:00",
          "2025-12-01T00:00:00",
          "2026-01-01T00:00:00",
          "2026-02-01T00:00:00",
          "2026-03-01T00:00:00",
          "2026-04-01T00:00:00",
          "2026-05-01T00:00:00",
          "2026-06-01T00:00:00",
          "2026-07-01T00:00:00",
          "2026-08-01T00:00:00",
          "2026-09-01T00:00:00",
          "2026-10-01T00:00:00",
          "2026-11-01T00:00:00",
          "2026-12-01T00:00:00",
          "2027-01-01T00:00:00",
          "2027-02-01T00:00:00",
          "2027-03-01T00:00:00",
          "2027-04-01T00:00:00",
          "2027-05-01T00:00:00",
          "2027-06-01T00:00:00",
          "2027-07-01T00:00:00",
          "2027-08-01T00:00:00",
          "2027-09-01T00:00:00",
          "2027-10-01T00:00:00",
          "2027-11-01T00:00:00",
          "2027-12-01T00:00:00",
          "2028-01-01T00:00:00",
          "2028-02-01T00:00:00",
          "2028-03-01T00:00:00",
          "2028-04-01T00:00:00",
          "2028-05-01T00:00:00",
          "2028-06-01T00:00:00",
          "2028-07-01T00:00:00",
          "2028-08-01T00:00:00",
          "2028-09-01T00:00:00",
          "2028-10-01T00:00:00",
          "2028-11-01T00:00:00",
          "2028-12-01T00:00:00",
          "2029-01-01T00:00:00",
          "2029-02-01T00:00:00",
          "2029-03-01T00:00:00",
          "2029-04-01T00:00:00",
          "2029-05-01T00:00:00",
          "2029-06-01T00:00:00",
          "2029-07-01T00:00:00",
          "2029-08-01T00:00:00",
          "2029-09-01T00:00:00",
          "2029-10-01T00:00:00",
          "2029-11-01T00:00:00",
          "2029-12-01T00:00:00",
          "2030-01-01T00:00:00",
          "2030-02-01T00:00:00",
          "2030-03-01T00:00:00",
          "2030-04-01T00:00:00",
          "2030-05-01T00:00:00",
          "2030-06-01T00:00:00",
          "2030-07-01T00:00:00",
          "2030-08-01T00:00:00",
          "2030-09-01T00:00:00",
          "2030-10-01T00:00:00",
          "2030-11-01T00:00:00",
          "2030-12-01T00:00:00"
         ],
         "y": [
          450000,
          450000,
          450000,
          450000,
          450000,
          450000,
          450000,
          450000,
          450000,
          450000,
          450000,
          450000,
          450000,
          450000,
          450000,
          450000,
          450000,
          450000,
          450000,
          450000,
          450000,
          450000,
          450000,
          450000,
          450000,
          450000,
          450000,
          448380,
          448380,
          448380,
          448380,
          448380,
          448380,
          448380,
          448380,
          448380,
          448380,
          448380,
          448380,
          448380,
          448380,
          448380,
          448380,
          447840,
          447840,
          445680,
          445680,
          445680,
          445680,
          445680,
          445680,
          445680,
          445680,
          445680,
          444600,
          444600,
          444600,
          444600,
          444600,
          444600,
          444600,
          444600,
          444600,
          444600,
          444600,
          444600,
          444600,
          444600,
          444600,
          444600,
          444600,
          442980
         ]
        }
       ],
       "layout": {
        "hovermode": "x unified",
        "template": {
         "data": {
          "bar": [
           {
            "error_x": {
             "color": "#2a3f5f"
            },
            "error_y": {
             "color": "#2a3f5f"
            },
            "marker": {
             "line": {
              "color": "#E5ECF6",
              "width": 0.5
             },
             "pattern": {
              "fillmode": "overlay",
              "size": 10,
              "solidity": 0.2
             }
            },
            "type": "bar"
           }
          ],
          "barpolar": [
           {
            "marker": {
             "line": {
              "color": "#E5ECF6",
              "width": 0.5
             },
             "pattern": {
              "fillmode": "overlay",
              "size": 10,
              "solidity": 0.2
             }
            },
            "type": "barpolar"
           }
          ],
          "carpet": [
           {
            "aaxis": {
             "endlinecolor": "#2a3f5f",
             "gridcolor": "white",
             "linecolor": "white",
             "minorgridcolor": "white",
             "startlinecolor": "#2a3f5f"
            },
            "baxis": {
             "endlinecolor": "#2a3f5f",
             "gridcolor": "white",
             "linecolor": "white",
             "minorgridcolor": "white",
             "startlinecolor": "#2a3f5f"
            },
            "type": "carpet"
           }
          ],
          "choropleth": [
           {
            "colorbar": {
             "outlinewidth": 0,
             "ticks": ""
            },
            "type": "choropleth"
           }
          ],
          "contour": [
           {
            "colorbar": {
             "outlinewidth": 0,
             "ticks": ""
            },
            "colorscale": [
             [
              0,
              "#0d0887"
             ],
             [
              0.1111111111111111,
              "#46039f"
             ],
             [
              0.2222222222222222,
              "#7201a8"
             ],
             [
              0.3333333333333333,
              "#9c179e"
             ],
             [
              0.4444444444444444,
              "#bd3786"
             ],
             [
              0.5555555555555556,
              "#d8576b"
             ],
             [
              0.6666666666666666,
              "#ed7953"
             ],
             [
              0.7777777777777778,
              "#fb9f3a"
             ],
             [
              0.8888888888888888,
              "#fdca26"
             ],
             [
              1,
              "#f0f921"
             ]
            ],
            "type": "contour"
           }
          ],
          "contourcarpet": [
           {
            "colorbar": {
             "outlinewidth": 0,
             "ticks": ""
            },
            "type": "contourcarpet"
           }
          ],
          "heatmap": [
           {
            "colorbar": {
             "outlinewidth": 0,
             "ticks": ""
            },
            "colorscale": [
             [
              0,
              "#0d0887"
             ],
             [
              0.1111111111111111,
              "#46039f"
             ],
             [
              0.2222222222222222,
              "#7201a8"
             ],
             [
              0.3333333333333333,
              "#9c179e"
             ],
             [
              0.4444444444444444,
              "#bd3786"
             ],
             [
              0.5555555555555556,
              "#d8576b"
             ],
             [
              0.6666666666666666,
              "#ed7953"
             ],
             [
              0.7777777777777778,
              "#fb9f3a"
             ],
             [
              0.8888888888888888,
              "#fdca26"
             ],
             [
              1,
              "#f0f921"
             ]
            ],
            "type": "heatmap"
           }
          ],
          "heatmapgl": [
           {
            "colorbar": {
             "outlinewidth": 0,
             "ticks": ""
            },
            "colorscale": [
             [
              0,
              "#0d0887"
             ],
             [
              0.1111111111111111,
              "#46039f"
             ],
             [
              0.2222222222222222,
              "#7201a8"
             ],
             [
              0.3333333333333333,
              "#9c179e"
             ],
             [
              0.4444444444444444,
              "#bd3786"
             ],
             [
              0.5555555555555556,
              "#d8576b"
             ],
             [
              0.6666666666666666,
              "#ed7953"
             ],
             [
              0.7777777777777778,
              "#fb9f3a"
             ],
             [
              0.8888888888888888,
              "#fdca26"
             ],
             [
              1,
              "#f0f921"
             ]
            ],
            "type": "heatmapgl"
           }
          ],
          "histogram": [
           {
            "marker": {
             "pattern": {
              "fillmode": "overlay",
              "size": 10,
              "solidity": 0.2
             }
            },
            "type": "histogram"
           }
          ],
          "histogram2d": [
           {
            "colorbar": {
             "outlinewidth": 0,
             "ticks": ""
            },
            "colorscale": [
             [
              0,
              "#0d0887"
             ],
             [
              0.1111111111111111,
              "#46039f"
             ],
             [
              0.2222222222222222,
              "#7201a8"
             ],
             [
              0.3333333333333333,
              "#9c179e"
             ],
             [
              0.4444444444444444,
              "#bd3786"
             ],
             [
              0.5555555555555556,
              "#d8576b"
             ],
             [
              0.6666666666666666,
              "#ed7953"
             ],
             [
              0.7777777777777778,
              "#fb9f3a"
             ],
             [
              0.8888888888888888,
              "#fdca26"
             ],
             [
              1,
              "#f0f921"
             ]
            ],
            "type": "histogram2d"
           }
          ],
          "histogram2dcontour": [
           {
            "colorbar": {
             "outlinewidth": 0,
             "ticks": ""
            },
            "colorscale": [
             [
              0,
              "#0d0887"
             ],
             [
              0.1111111111111111,
              "#46039f"
             ],
             [
              0.2222222222222222,
              "#7201a8"
             ],
             [
              0.3333333333333333,
              "#9c179e"
             ],
             [
              0.4444444444444444,
              "#bd3786"
             ],
             [
              0.5555555555555556,
              "#d8576b"
             ],
             [
              0.6666666666666666,
              "#ed7953"
             ],
             [
              0.7777777777777778,
              "#fb9f3a"
             ],
             [
              0.8888888888888888,
              "#fdca26"
             ],
             [
              1,
              "#f0f921"
             ]
            ],
            "type": "histogram2dcontour"
           }
          ],
          "mesh3d": [
           {
            "colorbar": {
             "outlinewidth": 0,
             "ticks": ""
            },
            "type": "mesh3d"
           }
          ],
          "parcoords": [
           {
            "line": {
             "colorbar": {
              "outlinewidth": 0,
              "ticks": ""
             }
            },
            "type": "parcoords"
           }
          ],
          "pie": [
           {
            "automargin": true,
            "type": "pie"
           }
          ],
          "scatter": [
           {
            "fillpattern": {
             "fillmode": "overlay",
             "size": 10,
             "solidity": 0.2
            },
            "type": "scatter"
           }
          ],
          "scatter3d": [
           {
            "line": {
             "colorbar": {
              "outlinewidth": 0,
              "ticks": ""
             }
            },
            "marker": {
             "colorbar": {
              "outlinewidth": 0,
              "ticks": ""
             }
            },
            "type": "scatter3d"
           }
          ],
          "scattercarpet": [
           {
            "marker": {
             "colorbar": {
              "outlinewidth": 0,
              "ticks": ""
             }
            },
            "type": "scattercarpet"
           }
          ],
          "scattergeo": [
           {
            "marker": {
             "colorbar": {
              "outlinewidth": 0,
              "ticks": ""
             }
            },
            "type": "scattergeo"
           }
          ],
          "scattergl": [
           {
            "marker": {
             "colorbar": {
              "outlinewidth": 0,
              "ticks": ""
             }
            },
            "type": "scattergl"
           }
          ],
          "scattermapbox": [
           {
            "marker": {
             "colorbar": {
              "outlinewidth": 0,
              "ticks": ""
             }
            },
            "type": "scattermapbox"
           }
          ],
          "scatterpolar": [
           {
            "marker": {
             "colorbar": {
              "outlinewidth": 0,
              "ticks": ""
             }
            },
            "type": "scatterpolar"
           }
          ],
          "scatterpolargl": [
           {
            "marker": {
             "colorbar": {
              "outlinewidth": 0,
              "ticks": ""
             }
            },
            "type": "scatterpolargl"
           }
          ],
          "scatterternary": [
           {
            "marker": {
             "colorbar": {
              "outlinewidth": 0,
              "ticks": ""
             }
            },
            "type": "scatterternary"
           }
          ],
          "surface": [
           {
            "colorbar": {
             "outlinewidth": 0,
             "ticks": ""
            },
            "colorscale": [
             [
              0,
              "#0d0887"
             ],
             [
              0.1111111111111111,
              "#46039f"
             ],
             [
              0.2222222222222222,
              "#7201a8"
             ],
             [
              0.3333333333333333,
              "#9c179e"
             ],
             [
              0.4444444444444444,
              "#bd3786"
             ],
             [
              0.5555555555555556,
              "#d8576b"
             ],
             [
              0.6666666666666666,
              "#ed7953"
             ],
             [
              0.7777777777777778,
              "#fb9f3a"
             ],
             [
              0.8888888888888888,
              "#fdca26"
             ],
             [
              1,
              "#f0f921"
             ]
            ],
            "type": "surface"
           }
          ],
          "table": [
           {
            "cells": {
             "fill": {
              "color": "#EBF0F8"
             },
             "line": {
              "color": "white"
             }
            },
            "header": {
             "fill": {
              "color": "#C8D4E3"
             },
             "line": {
              "color": "white"
             }
            },
            "type": "table"
           }
          ]
         },
         "layout": {
          "annotationdefaults": {
           "arrowcolor": "#2a3f5f",
           "arrowhead": 0,
           "arrowwidth": 1
          },
          "autotypenumbers": "strict",
          "coloraxis": {
           "colorbar": {
            "outlinewidth": 0,
            "ticks": ""
           }
          },
          "colorscale": {
           "diverging": [
            [
             0,
             "#8e0152"
            ],
            [
             0.1,
             "#c51b7d"
            ],
            [
             0.2,
             "#de77ae"
            ],
            [
             0.3,
             "#f1b6da"
            ],
            [
             0.4,
             "#fde0ef"
            ],
            [
             0.5,
             "#f7f7f7"
            ],
            [
             0.6,
             "#e6f5d0"
            ],
            [
             0.7,
             "#b8e186"
            ],
            [
             0.8,
             "#7fbc41"
            ],
            [
             0.9,
             "#4d9221"
            ],
            [
             1,
             "#276419"
            ]
           ],
           "sequential": [
            [
             0,
             "#0d0887"
            ],
            [
             0.1111111111111111,
             "#46039f"
            ],
            [
             0.2222222222222222,
             "#7201a8"
            ],
            [
             0.3333333333333333,
             "#9c179e"
            ],
            [
             0.4444444444444444,
             "#bd3786"
            ],
            [
             0.5555555555555556,
             "#d8576b"
            ],
            [
             0.6666666666666666,
             "#ed7953"
            ],
            [
             0.7777777777777778,
             "#fb9f3a"
            ],
            [
             0.8888888888888888,
             "#fdca26"
            ],
            [
             1,
             "#f0f921"
            ]
           ],
           "sequentialminus": [
            [
             0,
             "#0d0887"
            ],
            [
             0.1111111111111111,
             "#46039f"
            ],
            [
             0.2222222222222222,
             "#7201a8"
            ],
            [
             0.3333333333333333,
             "#9c179e"
            ],
            [
             0.4444444444444444,
             "#bd3786"
            ],
            [
             0.5555555555555556,
             "#d8576b"
            ],
            [
             0.6666666666666666,
             "#ed7953"
            ],
            [
             0.7777777777777778,
             "#fb9f3a"
            ],
            [
             0.8888888888888888,
             "#fdca26"
            ],
            [
             1,
             "#f0f921"
            ]
           ]
          },
          "colorway": [
           "#636efa",
           "#EF553B",
           "#00cc96",
           "#ab63fa",
           "#FFA15A",
           "#19d3f3",
           "#FF6692",
           "#B6E880",
           "#FF97FF",
           "#FECB52"
          ],
          "font": {
           "color": "#2a3f5f"
          },
          "geo": {
           "bgcolor": "white",
           "lakecolor": "white",
           "landcolor": "#E5ECF6",
           "showlakes": true,
           "showland": true,
           "subunitcolor": "white"
          },
          "hoverlabel": {
           "align": "left"
          },
          "hovermode": "closest",
          "mapbox": {
           "style": "light"
          },
          "paper_bgcolor": "white",
          "plot_bgcolor": "#E5ECF6",
          "polar": {
           "angularaxis": {
            "gridcolor": "white",
            "linecolor": "white",
            "ticks": ""
           },
           "bgcolor": "#E5ECF6",
           "radialaxis": {
            "gridcolor": "white",
            "linecolor": "white",
            "ticks": ""
           }
          },
          "scene": {
           "xaxis": {
            "backgroundcolor": "#E5ECF6",
            "gridcolor": "white",
            "gridwidth": 2,
            "linecolor": "white",
            "showbackground": true,
            "ticks": "",
            "zerolinecolor": "white"
           },
           "yaxis": {
            "backgroundcolor": "#E5ECF6",
            "gridcolor": "white",
            "gridwidth": 2,
            "linecolor": "white",
            "showbackground": true,
            "ticks": "",
            "zerolinecolor": "white"
           },
           "zaxis": {
            "backgroundcolor": "#E5ECF6",
            "gridcolor": "white",
            "gridwidth": 2,
            "linecolor": "white",
            "showbackground": true,
            "ticks": "",
            "zerolinecolor": "white"
           }
          },
          "shapedefaults": {
           "line": {
            "color": "#2a3f5f"
           }
          },
          "ternary": {
           "aaxis": {
            "gridcolor": "white",
            "linecolor": "white",
            "ticks": ""
           },
           "baxis": {
            "gridcolor": "white",
            "linecolor": "white",
            "ticks": ""
           },
           "bgcolor": "#E5ECF6",
           "caxis": {
            "gridcolor": "white",
            "linecolor": "white",
            "ticks": ""
           }
          },
          "title": {
           "x": 0.05
          },
          "xaxis": {
           "automargin": true,
           "gridcolor": "white",
           "linecolor": "white",
           "ticks": "",
           "title": {
            "standoff": 15
           },
           "zerolinecolor": "white",
           "zerolinewidth": 2
          },
          "yaxis": {
           "automargin": true,
           "gridcolor": "white",
           "linecolor": "white",
           "ticks": "",
           "title": {
            "standoff": 15
           },
           "zerolinecolor": "white",
           "zerolinewidth": 2
          }
         }
        },
        "title": {
         "text": "Historical and Predicted Median House Prices (2025-2030)"
        },
        "xaxis": {
         "title": {
          "text": "Year"
         }
        },
        "yaxis": {
         "title": {
          "text": "House Prices"
         }
        }
       }
      }
     },
     "metadata": {},
     "output_type": "display_data"
    }
   ],
   "source": [
    "# Step 1: Create Future Dataset (2025–2030)\n",
    "# Creating a future date range for monthly data from 2025 to 2030\n",
    "future_dates = pd.date_range(start='2025-01-01', end='2030-12-01', freq='MS')\n",
    "\n",
    "# Create a DataFrame for future data\n",
    "future_data = pd.DataFrame(future_dates, columns=['REF_DATE'])\n",
    "\n",
    "# Project future values for each feature (use linear projections or assumptions)\n",
    "future_data['Housing_Price_Index'] = np.linspace(merged_data['Housing_Price_Index'].iloc[-1], merged_data['Housing_Price_Index'].iloc[-1] * 1.05, len(future_dates))\n",
    "future_data['Interest_Rate'] = np.linspace(merged_data['Interest_Rate'].iloc[-1], merged_data['Interest_Rate'].iloc[-1] - 0.5, len(future_dates))  # Assume a slight drop\n",
    "future_data['Median_Income'] = np.linspace(merged_data['Median_Income'].iloc[-1], merged_data['Median_Income'].iloc[-1] * 1.1, len(future_dates))  # Assume income growth\n",
    "future_data['Calgary_Population'] = np.linspace(merged_data['Calgary_Population'].iloc[-1], merged_data['Calgary_Population'].iloc[-1] * 1.1, len(future_dates))  # Assume population growth\n",
    "future_data['Annual_Population_Change'] = np.linspace(merged_data['Annual_Population_Change'].iloc[-1], merged_data['Annual_Population_Change'].iloc[-1], len(future_dates))  # Keep constant\n",
    "\n",
    "# Step 2: Predict Future House Prices Using Trained Model\n",
    "# Extract the features from the future data\n",
    "X_future = future_data[['Housing_Price_Index', 'Interest_Rate', 'Median_Income', 'Calgary_Population', 'Annual_Population_Change']]\n",
    "\n",
    "# Predict future house prices\n",
    "future_data['Predicted_Median_House_Price'] = rf_model.predict(X_future)\n",
    "\n",
    "# Step 3: Plot Historical and Predicted House Prices\n",
    "import plotly.graph_objects as go\n",
    "\n",
    "# Create a new line chart with historical and future predictions\n",
    "fig = go.Figure()\n",
    "\n",
    "# Plot historical median house prices\n",
    "fig.add_trace(go.Scatter(x=merged_data.index, y=merged_data['Median_House_Price'],\n",
    "                         mode='lines', name='Historical Median House Price'))\n",
    "\n",
    "# Plot future predicted house prices\n",
    "fig.add_trace(go.Scatter(x=future_data['REF_DATE'], y=future_data['Predicted_Median_House_Price'],\n",
    "                         mode='lines', name='Predicted Median House Price', line=dict(dash='dash')))\n",
    "\n",
    "# Customize the layout\n",
    "fig.update_layout(\n",
    "    title='Historical and Predicted Median House Prices (2025-2030)',\n",
    "    xaxis_title='Year',\n",
    "    yaxis_title='House Prices',\n",
    "    hovermode='x unified'\n",
    ")\n",
    "\n",
    "# Show the plot\n",
    "fig.show()\n",
    "\n",
    "\n",
    "\n"
   ]
  },
  {
   "cell_type": "code",
   "execution_count": 749,
   "metadata": {},
   "outputs": [
    {
     "data": {
      "application/vnd.plotly.v1+json": {
       "config": {
        "plotlyServerURL": "https://plot.ly"
       },
       "data": [
        {
         "hovertemplate": "Feature=Interest_Rate<br>Future Dates=%{x}<br>Feature Importance=%{y}<extra></extra>",
         "legendgroup": "Interest_Rate",
         "line": {
          "color": "#636efa",
          "dash": "solid"
         },
         "marker": {
          "symbol": "circle"
         },
         "mode": "lines",
         "name": "Interest_Rate",
         "orientation": "v",
         "showlegend": true,
         "type": "scatter",
         "x": [
          "2025-01-01T00:00:00",
          "2025-02-01T00:00:00",
          "2025-03-01T00:00:00",
          "2025-04-01T00:00:00",
          "2025-05-01T00:00:00",
          "2025-06-01T00:00:00",
          "2025-07-01T00:00:00",
          "2025-08-01T00:00:00",
          "2025-09-01T00:00:00",
          "2025-10-01T00:00:00",
          "2025-11-01T00:00:00",
          "2025-12-01T00:00:00",
          "2026-01-01T00:00:00",
          "2026-02-01T00:00:00",
          "2026-03-01T00:00:00",
          "2026-04-01T00:00:00",
          "2026-05-01T00:00:00",
          "2026-06-01T00:00:00",
          "2026-07-01T00:00:00",
          "2026-08-01T00:00:00",
          "2026-09-01T00:00:00",
          "2026-10-01T00:00:00",
          "2026-11-01T00:00:00",
          "2026-12-01T00:00:00",
          "2027-01-01T00:00:00",
          "2027-02-01T00:00:00",
          "2027-03-01T00:00:00",
          "2027-04-01T00:00:00",
          "2027-05-01T00:00:00",
          "2027-06-01T00:00:00",
          "2027-07-01T00:00:00",
          "2027-08-01T00:00:00",
          "2027-09-01T00:00:00",
          "2027-10-01T00:00:00",
          "2027-11-01T00:00:00",
          "2027-12-01T00:00:00",
          "2028-01-01T00:00:00",
          "2028-02-01T00:00:00",
          "2028-03-01T00:00:00",
          "2028-04-01T00:00:00",
          "2028-05-01T00:00:00",
          "2028-06-01T00:00:00",
          "2028-07-01T00:00:00",
          "2028-08-01T00:00:00",
          "2028-09-01T00:00:00",
          "2028-10-01T00:00:00",
          "2028-11-01T00:00:00",
          "2028-12-01T00:00:00",
          "2029-01-01T00:00:00",
          "2029-02-01T00:00:00",
          "2029-03-01T00:00:00",
          "2029-04-01T00:00:00",
          "2029-05-01T00:00:00",
          "2029-06-01T00:00:00",
          "2029-07-01T00:00:00",
          "2029-08-01T00:00:00",
          "2029-09-01T00:00:00",
          "2029-10-01T00:00:00",
          "2029-11-01T00:00:00",
          "2029-12-01T00:00:00",
          "2030-01-01T00:00:00",
          "2030-02-01T00:00:00",
          "2030-03-01T00:00:00",
          "2030-04-01T00:00:00",
          "2030-05-01T00:00:00",
          "2030-06-01T00:00:00",
          "2030-07-01T00:00:00",
          "2030-08-01T00:00:00",
          "2030-09-01T00:00:00",
          "2030-10-01T00:00:00",
          "2030-11-01T00:00:00",
          "2030-12-01T00:00:00"
         ],
         "xaxis": "x",
         "y": [
          0.39110808932401364,
          0.35745094092671725,
          0.31961427266017894,
          0.3553693786362063,
          0.23460299961348507,
          0.4358900692473203,
          0.34982099074798617,
          0.4924788061809727,
          0.29035267652870944,
          0.45640518927194207,
          0.29380557770448007,
          0.2684612509347019,
          0.26373534464060394,
          0.3935039708007896,
          0.23644790964702542,
          0.496009767175064,
          0.478194633007316,
          0.38919818746071655,
          0.44260207711621313,
          0.3797815276417661,
          0.4019579565487901,
          0.3174126961528128,
          0.39054055461273884,
          0.48238035971107096,
          0.2963449589233828,
          0.4681081045272505,
          0.351552282636695,
          0.35663729336302286,
          0.28160526459637797,
          0.341990269789627,
          0.39235635063504554,
          0.49910145937975353,
          0.4145680155146687,
          0.27293194638952334,
          0.2753256020997301,
          0.46419920683264015,
          0.2812731953075897,
          0.37171680886793457,
          0.30031237294642,
          0.47736550122361826,
          0.23151684239529935,
          0.49230065496072767,
          0.2907951659543514,
          0.3495747468623638,
          0.34761069221283925,
          0.4514236377783315,
          0.42313743612666743,
          0.32556975499738483,
          0.39361584957414536,
          0.263912137416019,
          0.31137268651360284,
          0.2884652195381888,
          0.4219543287742703,
          0.3837147126896596,
          0.3116284867731069,
          0.411919499881814,
          0.2366038610069538,
          0.36721915436770347,
          0.3209822360223994,
          0.2348460543362816,
          0.30449579151491835,
          0.2513144298545661,
          0.37620842135871313,
          0.30977332860282014,
          0.25630751021356923,
          0.31151789177173095,
          0.2883270020048253,
          0.38561242410517754,
          0.3606272830571585,
          0.40054992090555014,
          0.41029398454880284,
          0.2267662613512846
         ],
         "yaxis": "y"
        },
        {
         "hovertemplate": "Feature=Median_Income<br>Future Dates=%{x}<br>Feature Importance=%{y}<extra></extra>",
         "legendgroup": "Median_Income",
         "line": {
          "color": "#EF553B",
          "dash": "solid"
         },
         "marker": {
          "symbol": "circle"
         },
         "mode": "lines",
         "name": "Median_Income",
         "orientation": "v",
         "showlegend": true,
         "type": "scatter",
         "x": [
          "2025-01-01T00:00:00",
          "2025-02-01T00:00:00",
          "2025-03-01T00:00:00",
          "2025-04-01T00:00:00",
          "2025-05-01T00:00:00",
          "2025-06-01T00:00:00",
          "2025-07-01T00:00:00",
          "2025-08-01T00:00:00",
          "2025-09-01T00:00:00",
          "2025-10-01T00:00:00",
          "2025-11-01T00:00:00",
          "2025-12-01T00:00:00",
          "2026-01-01T00:00:00",
          "2026-02-01T00:00:00",
          "2026-03-01T00:00:00",
          "2026-04-01T00:00:00",
          "2026-05-01T00:00:00",
          "2026-06-01T00:00:00",
          "2026-07-01T00:00:00",
          "2026-08-01T00:00:00",
          "2026-09-01T00:00:00",
          "2026-10-01T00:00:00",
          "2026-11-01T00:00:00",
          "2026-12-01T00:00:00",
          "2027-01-01T00:00:00",
          "2027-02-01T00:00:00",
          "2027-03-01T00:00:00",
          "2027-04-01T00:00:00",
          "2027-05-01T00:00:00",
          "2027-06-01T00:00:00",
          "2027-07-01T00:00:00",
          "2027-08-01T00:00:00",
          "2027-09-01T00:00:00",
          "2027-10-01T00:00:00",
          "2027-11-01T00:00:00",
          "2027-12-01T00:00:00",
          "2028-01-01T00:00:00",
          "2028-02-01T00:00:00",
          "2028-03-01T00:00:00",
          "2028-04-01T00:00:00",
          "2028-05-01T00:00:00",
          "2028-06-01T00:00:00",
          "2028-07-01T00:00:00",
          "2028-08-01T00:00:00",
          "2028-09-01T00:00:00",
          "2028-10-01T00:00:00",
          "2028-11-01T00:00:00",
          "2028-12-01T00:00:00",
          "2029-01-01T00:00:00",
          "2029-02-01T00:00:00",
          "2029-03-01T00:00:00",
          "2029-04-01T00:00:00",
          "2029-05-01T00:00:00",
          "2029-06-01T00:00:00",
          "2029-07-01T00:00:00",
          "2029-08-01T00:00:00",
          "2029-09-01T00:00:00",
          "2029-10-01T00:00:00",
          "2029-11-01T00:00:00",
          "2029-12-01T00:00:00",
          "2030-01-01T00:00:00",
          "2030-02-01T00:00:00",
          "2030-03-01T00:00:00",
          "2030-04-01T00:00:00",
          "2030-05-01T00:00:00",
          "2030-06-01T00:00:00",
          "2030-07-01T00:00:00",
          "2030-08-01T00:00:00",
          "2030-09-01T00:00:00",
          "2030-10-01T00:00:00",
          "2030-11-01T00:00:00",
          "2030-12-01T00:00:00"
         ],
         "xaxis": "x",
         "y": [
          0.45979393600300267,
          0.5045133178858338,
          0.4348714419802381,
          0.4964557848354642,
          0.4428411728463159,
          0.5400796651702321,
          0.36245710322945124,
          0.5865687376317859,
          0.5869019513980803,
          0.3933232683932874,
          0.5452850899066823,
          0.36915790380874874,
          0.41585118415468936,
          0.3411391008212054,
          0.31876706210441613,
          0.34785574623187754,
          0.44472361485669,
          0.30572761739016574,
          0.3790436112699936,
          0.39032147022922425,
          0.5005428053431499,
          0.5990906411264686,
          0.3977897591784862,
          0.37937967085967306,
          0.39042222259683834,
          0.5990467725388113,
          0.5037213462184478,
          0.556042955478885,
          0.387267824894645,
          0.5819545207454475,
          0.5210784984202808,
          0.45113511326015976,
          0.30855441291357427,
          0.5725942899490699,
          0.4169757907189013,
          0.31218902898273754,
          0.5863419887723599,
          0.5739414156614571,
          0.5601980600625738,
          0.3640414650764381,
          0.4864047450228247,
          0.37969997967050556,
          0.48421418702426877,
          0.401763231138906,
          0.43091688372786263,
          0.4499422454975066,
          0.4104162756702645,
          0.41572435535609575,
          0.4234825372783786,
          0.3566432377083808,
          0.3594004858725629,
          0.5120129993858957,
          0.3500368270886943,
          0.4680425825068396,
          0.35377827054238487,
          0.44097626053392114,
          0.5845617419862911,
          0.3994838270371315,
          0.4374056825535215,
          0.3176667062876369,
          0.48293408574972896,
          0.4608263938654352,
          0.5668574396739863,
          0.40300585798665145,
          0.4185398339790305,
          0.38280091212067563,
          0.4612622950905464,
          0.5528789482912569,
          0.5755334197050788,
          0.5445880373563851,
          0.4939731796594725,
          0.42773062825623603
         ],
         "yaxis": "y"
        },
        {
         "hovertemplate": "Feature=Calgary_Population<br>Future Dates=%{x}<br>Feature Importance=%{y}<extra></extra>",
         "legendgroup": "Calgary_Population",
         "line": {
          "color": "#00cc96",
          "dash": "solid"
         },
         "marker": {
          "symbol": "circle"
         },
         "mode": "lines",
         "name": "Calgary_Population",
         "orientation": "v",
         "showlegend": true,
         "type": "scatter",
         "x": [
          "2025-01-01T00:00:00",
          "2025-02-01T00:00:00",
          "2025-03-01T00:00:00",
          "2025-04-01T00:00:00",
          "2025-05-01T00:00:00",
          "2025-06-01T00:00:00",
          "2025-07-01T00:00:00",
          "2025-08-01T00:00:00",
          "2025-09-01T00:00:00",
          "2025-10-01T00:00:00",
          "2025-11-01T00:00:00",
          "2025-12-01T00:00:00",
          "2026-01-01T00:00:00",
          "2026-02-01T00:00:00",
          "2026-03-01T00:00:00",
          "2026-04-01T00:00:00",
          "2026-05-01T00:00:00",
          "2026-06-01T00:00:00",
          "2026-07-01T00:00:00",
          "2026-08-01T00:00:00",
          "2026-09-01T00:00:00",
          "2026-10-01T00:00:00",
          "2026-11-01T00:00:00",
          "2026-12-01T00:00:00",
          "2027-01-01T00:00:00",
          "2027-02-01T00:00:00",
          "2027-03-01T00:00:00",
          "2027-04-01T00:00:00",
          "2027-05-01T00:00:00",
          "2027-06-01T00:00:00",
          "2027-07-01T00:00:00",
          "2027-08-01T00:00:00",
          "2027-09-01T00:00:00",
          "2027-10-01T00:00:00",
          "2027-11-01T00:00:00",
          "2027-12-01T00:00:00",
          "2028-01-01T00:00:00",
          "2028-02-01T00:00:00",
          "2028-03-01T00:00:00",
          "2028-04-01T00:00:00",
          "2028-05-01T00:00:00",
          "2028-06-01T00:00:00",
          "2028-07-01T00:00:00",
          "2028-08-01T00:00:00",
          "2028-09-01T00:00:00",
          "2028-10-01T00:00:00",
          "2028-11-01T00:00:00",
          "2028-12-01T00:00:00",
          "2029-01-01T00:00:00",
          "2029-02-01T00:00:00",
          "2029-03-01T00:00:00",
          "2029-04-01T00:00:00",
          "2029-05-01T00:00:00",
          "2029-06-01T00:00:00",
          "2029-07-01T00:00:00",
          "2029-08-01T00:00:00",
          "2029-09-01T00:00:00",
          "2029-10-01T00:00:00",
          "2029-11-01T00:00:00",
          "2029-12-01T00:00:00",
          "2030-01-01T00:00:00",
          "2030-02-01T00:00:00",
          "2030-03-01T00:00:00",
          "2030-04-01T00:00:00",
          "2030-05-01T00:00:00",
          "2030-06-01T00:00:00",
          "2030-07-01T00:00:00",
          "2030-08-01T00:00:00",
          "2030-09-01T00:00:00",
          "2030-10-01T00:00:00",
          "2030-11-01T00:00:00",
          "2030-12-01T00:00:00"
         ],
         "xaxis": "x",
         "y": [
          0.6727791361255657,
          0.5981150318231377,
          0.6739799682444021,
          0.5770885874910104,
          0.713250930191596,
          0.5274380621474103,
          0.5438903208095293,
          0.7578025304828475,
          0.5995049673280561,
          0.7870758779680536,
          0.6173502968507562,
          0.6842560007534347,
          0.7510877295822553,
          0.7993365768500145,
          0.5583889251573249,
          0.5815989752583444,
          0.6032076592361979,
          0.5382486733952688,
          0.6163555437659862,
          0.5899694820949573,
          0.7178858581815472,
          0.5748795101002386,
          0.7522624844271573,
          0.6008910209505377,
          0.7592203211102846,
          0.7041489475685787,
          0.7044542703434304,
          0.6052109001105094,
          0.681270116204436,
          0.6228201701200667,
          0.5762730520575473,
          0.5735044461462917,
          0.7024569320527168,
          0.5006894853899887,
          0.7342843074177253,
          0.5664269373601473,
          0.7597700573512605,
          0.7171479315760045,
          0.7498923272891046,
          0.7126012276982293,
          0.5268245527912815,
          0.5837900032157955,
          0.7071057047843714,
          0.6133293321364197,
          0.5534839831436489,
          0.7498967024716887,
          0.6023421047838129,
          0.7897474062304217,
          0.6130857242323691,
          0.7835128603387711,
          0.7881751553639489,
          0.7223225416192098,
          0.7069877726355416,
          0.5673564243871644,
          0.5000915046997589,
          0.6108278521657214,
          0.7909943436453624,
          0.5100774244629336,
          0.7645214019692366,
          0.7008341011949637,
          0.5732303444809458,
          0.7692695344247854,
          0.5754302198769771,
          0.6024691030624051,
          0.523999618082906,
          0.7806724550325115,
          0.5821695070371634,
          0.7983669744124674,
          0.5239517560092383,
          0.6092803216369095,
          0.6404169848454353,
          0.7997275903316712
         ],
         "yaxis": "y"
        }
       ],
       "layout": {
        "legend": {
         "title": {
          "text": "Feature"
         },
         "tracegroupgap": 0
        },
        "template": {
         "data": {
          "bar": [
           {
            "error_x": {
             "color": "#2a3f5f"
            },
            "error_y": {
             "color": "#2a3f5f"
            },
            "marker": {
             "line": {
              "color": "#E5ECF6",
              "width": 0.5
             },
             "pattern": {
              "fillmode": "overlay",
              "size": 10,
              "solidity": 0.2
             }
            },
            "type": "bar"
           }
          ],
          "barpolar": [
           {
            "marker": {
             "line": {
              "color": "#E5ECF6",
              "width": 0.5
             },
             "pattern": {
              "fillmode": "overlay",
              "size": 10,
              "solidity": 0.2
             }
            },
            "type": "barpolar"
           }
          ],
          "carpet": [
           {
            "aaxis": {
             "endlinecolor": "#2a3f5f",
             "gridcolor": "white",
             "linecolor": "white",
             "minorgridcolor": "white",
             "startlinecolor": "#2a3f5f"
            },
            "baxis": {
             "endlinecolor": "#2a3f5f",
             "gridcolor": "white",
             "linecolor": "white",
             "minorgridcolor": "white",
             "startlinecolor": "#2a3f5f"
            },
            "type": "carpet"
           }
          ],
          "choropleth": [
           {
            "colorbar": {
             "outlinewidth": 0,
             "ticks": ""
            },
            "type": "choropleth"
           }
          ],
          "contour": [
           {
            "colorbar": {
             "outlinewidth": 0,
             "ticks": ""
            },
            "colorscale": [
             [
              0,
              "#0d0887"
             ],
             [
              0.1111111111111111,
              "#46039f"
             ],
             [
              0.2222222222222222,
              "#7201a8"
             ],
             [
              0.3333333333333333,
              "#9c179e"
             ],
             [
              0.4444444444444444,
              "#bd3786"
             ],
             [
              0.5555555555555556,
              "#d8576b"
             ],
             [
              0.6666666666666666,
              "#ed7953"
             ],
             [
              0.7777777777777778,
              "#fb9f3a"
             ],
             [
              0.8888888888888888,
              "#fdca26"
             ],
             [
              1,
              "#f0f921"
             ]
            ],
            "type": "contour"
           }
          ],
          "contourcarpet": [
           {
            "colorbar": {
             "outlinewidth": 0,
             "ticks": ""
            },
            "type": "contourcarpet"
           }
          ],
          "heatmap": [
           {
            "colorbar": {
             "outlinewidth": 0,
             "ticks": ""
            },
            "colorscale": [
             [
              0,
              "#0d0887"
             ],
             [
              0.1111111111111111,
              "#46039f"
             ],
             [
              0.2222222222222222,
              "#7201a8"
             ],
             [
              0.3333333333333333,
              "#9c179e"
             ],
             [
              0.4444444444444444,
              "#bd3786"
             ],
             [
              0.5555555555555556,
              "#d8576b"
             ],
             [
              0.6666666666666666,
              "#ed7953"
             ],
             [
              0.7777777777777778,
              "#fb9f3a"
             ],
             [
              0.8888888888888888,
              "#fdca26"
             ],
             [
              1,
              "#f0f921"
             ]
            ],
            "type": "heatmap"
           }
          ],
          "heatmapgl": [
           {
            "colorbar": {
             "outlinewidth": 0,
             "ticks": ""
            },
            "colorscale": [
             [
              0,
              "#0d0887"
             ],
             [
              0.1111111111111111,
              "#46039f"
             ],
             [
              0.2222222222222222,
              "#7201a8"
             ],
             [
              0.3333333333333333,
              "#9c179e"
             ],
             [
              0.4444444444444444,
              "#bd3786"
             ],
             [
              0.5555555555555556,
              "#d8576b"
             ],
             [
              0.6666666666666666,
              "#ed7953"
             ],
             [
              0.7777777777777778,
              "#fb9f3a"
             ],
             [
              0.8888888888888888,
              "#fdca26"
             ],
             [
              1,
              "#f0f921"
             ]
            ],
            "type": "heatmapgl"
           }
          ],
          "histogram": [
           {
            "marker": {
             "pattern": {
              "fillmode": "overlay",
              "size": 10,
              "solidity": 0.2
             }
            },
            "type": "histogram"
           }
          ],
          "histogram2d": [
           {
            "colorbar": {
             "outlinewidth": 0,
             "ticks": ""
            },
            "colorscale": [
             [
              0,
              "#0d0887"
             ],
             [
              0.1111111111111111,
              "#46039f"
             ],
             [
              0.2222222222222222,
              "#7201a8"
             ],
             [
              0.3333333333333333,
              "#9c179e"
             ],
             [
              0.4444444444444444,
              "#bd3786"
             ],
             [
              0.5555555555555556,
              "#d8576b"
             ],
             [
              0.6666666666666666,
              "#ed7953"
             ],
             [
              0.7777777777777778,
              "#fb9f3a"
             ],
             [
              0.8888888888888888,
              "#fdca26"
             ],
             [
              1,
              "#f0f921"
             ]
            ],
            "type": "histogram2d"
           }
          ],
          "histogram2dcontour": [
           {
            "colorbar": {
             "outlinewidth": 0,
             "ticks": ""
            },
            "colorscale": [
             [
              0,
              "#0d0887"
             ],
             [
              0.1111111111111111,
              "#46039f"
             ],
             [
              0.2222222222222222,
              "#7201a8"
             ],
             [
              0.3333333333333333,
              "#9c179e"
             ],
             [
              0.4444444444444444,
              "#bd3786"
             ],
             [
              0.5555555555555556,
              "#d8576b"
             ],
             [
              0.6666666666666666,
              "#ed7953"
             ],
             [
              0.7777777777777778,
              "#fb9f3a"
             ],
             [
              0.8888888888888888,
              "#fdca26"
             ],
             [
              1,
              "#f0f921"
             ]
            ],
            "type": "histogram2dcontour"
           }
          ],
          "mesh3d": [
           {
            "colorbar": {
             "outlinewidth": 0,
             "ticks": ""
            },
            "type": "mesh3d"
           }
          ],
          "parcoords": [
           {
            "line": {
             "colorbar": {
              "outlinewidth": 0,
              "ticks": ""
             }
            },
            "type": "parcoords"
           }
          ],
          "pie": [
           {
            "automargin": true,
            "type": "pie"
           }
          ],
          "scatter": [
           {
            "fillpattern": {
             "fillmode": "overlay",
             "size": 10,
             "solidity": 0.2
            },
            "type": "scatter"
           }
          ],
          "scatter3d": [
           {
            "line": {
             "colorbar": {
              "outlinewidth": 0,
              "ticks": ""
             }
            },
            "marker": {
             "colorbar": {
              "outlinewidth": 0,
              "ticks": ""
             }
            },
            "type": "scatter3d"
           }
          ],
          "scattercarpet": [
           {
            "marker": {
             "colorbar": {
              "outlinewidth": 0,
              "ticks": ""
             }
            },
            "type": "scattercarpet"
           }
          ],
          "scattergeo": [
           {
            "marker": {
             "colorbar": {
              "outlinewidth": 0,
              "ticks": ""
             }
            },
            "type": "scattergeo"
           }
          ],
          "scattergl": [
           {
            "marker": {
             "colorbar": {
              "outlinewidth": 0,
              "ticks": ""
             }
            },
            "type": "scattergl"
           }
          ],
          "scattermapbox": [
           {
            "marker": {
             "colorbar": {
              "outlinewidth": 0,
              "ticks": ""
             }
            },
            "type": "scattermapbox"
           }
          ],
          "scatterpolar": [
           {
            "marker": {
             "colorbar": {
              "outlinewidth": 0,
              "ticks": ""
             }
            },
            "type": "scatterpolar"
           }
          ],
          "scatterpolargl": [
           {
            "marker": {
             "colorbar": {
              "outlinewidth": 0,
              "ticks": ""
             }
            },
            "type": "scatterpolargl"
           }
          ],
          "scatterternary": [
           {
            "marker": {
             "colorbar": {
              "outlinewidth": 0,
              "ticks": ""
             }
            },
            "type": "scatterternary"
           }
          ],
          "surface": [
           {
            "colorbar": {
             "outlinewidth": 0,
             "ticks": ""
            },
            "colorscale": [
             [
              0,
              "#0d0887"
             ],
             [
              0.1111111111111111,
              "#46039f"
             ],
             [
              0.2222222222222222,
              "#7201a8"
             ],
             [
              0.3333333333333333,
              "#9c179e"
             ],
             [
              0.4444444444444444,
              "#bd3786"
             ],
             [
              0.5555555555555556,
              "#d8576b"
             ],
             [
              0.6666666666666666,
              "#ed7953"
             ],
             [
              0.7777777777777778,
              "#fb9f3a"
             ],
             [
              0.8888888888888888,
              "#fdca26"
             ],
             [
              1,
              "#f0f921"
             ]
            ],
            "type": "surface"
           }
          ],
          "table": [
           {
            "cells": {
             "fill": {
              "color": "#EBF0F8"
             },
             "line": {
              "color": "white"
             }
            },
            "header": {
             "fill": {
              "color": "#C8D4E3"
             },
             "line": {
              "color": "white"
             }
            },
            "type": "table"
           }
          ]
         },
         "layout": {
          "annotationdefaults": {
           "arrowcolor": "#2a3f5f",
           "arrowhead": 0,
           "arrowwidth": 1
          },
          "autotypenumbers": "strict",
          "coloraxis": {
           "colorbar": {
            "outlinewidth": 0,
            "ticks": ""
           }
          },
          "colorscale": {
           "diverging": [
            [
             0,
             "#8e0152"
            ],
            [
             0.1,
             "#c51b7d"
            ],
            [
             0.2,
             "#de77ae"
            ],
            [
             0.3,
             "#f1b6da"
            ],
            [
             0.4,
             "#fde0ef"
            ],
            [
             0.5,
             "#f7f7f7"
            ],
            [
             0.6,
             "#e6f5d0"
            ],
            [
             0.7,
             "#b8e186"
            ],
            [
             0.8,
             "#7fbc41"
            ],
            [
             0.9,
             "#4d9221"
            ],
            [
             1,
             "#276419"
            ]
           ],
           "sequential": [
            [
             0,
             "#0d0887"
            ],
            [
             0.1111111111111111,
             "#46039f"
            ],
            [
             0.2222222222222222,
             "#7201a8"
            ],
            [
             0.3333333333333333,
             "#9c179e"
            ],
            [
             0.4444444444444444,
             "#bd3786"
            ],
            [
             0.5555555555555556,
             "#d8576b"
            ],
            [
             0.6666666666666666,
             "#ed7953"
            ],
            [
             0.7777777777777778,
             "#fb9f3a"
            ],
            [
             0.8888888888888888,
             "#fdca26"
            ],
            [
             1,
             "#f0f921"
            ]
           ],
           "sequentialminus": [
            [
             0,
             "#0d0887"
            ],
            [
             0.1111111111111111,
             "#46039f"
            ],
            [
             0.2222222222222222,
             "#7201a8"
            ],
            [
             0.3333333333333333,
             "#9c179e"
            ],
            [
             0.4444444444444444,
             "#bd3786"
            ],
            [
             0.5555555555555556,
             "#d8576b"
            ],
            [
             0.6666666666666666,
             "#ed7953"
            ],
            [
             0.7777777777777778,
             "#fb9f3a"
            ],
            [
             0.8888888888888888,
             "#fdca26"
            ],
            [
             1,
             "#f0f921"
            ]
           ]
          },
          "colorway": [
           "#636efa",
           "#EF553B",
           "#00cc96",
           "#ab63fa",
           "#FFA15A",
           "#19d3f3",
           "#FF6692",
           "#B6E880",
           "#FF97FF",
           "#FECB52"
          ],
          "font": {
           "color": "#2a3f5f"
          },
          "geo": {
           "bgcolor": "white",
           "lakecolor": "white",
           "landcolor": "#E5ECF6",
           "showlakes": true,
           "showland": true,
           "subunitcolor": "white"
          },
          "hoverlabel": {
           "align": "left"
          },
          "hovermode": "closest",
          "mapbox": {
           "style": "light"
          },
          "paper_bgcolor": "white",
          "plot_bgcolor": "#E5ECF6",
          "polar": {
           "angularaxis": {
            "gridcolor": "white",
            "linecolor": "white",
            "ticks": ""
           },
           "bgcolor": "#E5ECF6",
           "radialaxis": {
            "gridcolor": "white",
            "linecolor": "white",
            "ticks": ""
           }
          },
          "scene": {
           "xaxis": {
            "backgroundcolor": "#E5ECF6",
            "gridcolor": "white",
            "gridwidth": 2,
            "linecolor": "white",
            "showbackground": true,
            "ticks": "",
            "zerolinecolor": "white"
           },
           "yaxis": {
            "backgroundcolor": "#E5ECF6",
            "gridcolor": "white",
            "gridwidth": 2,
            "linecolor": "white",
            "showbackground": true,
            "ticks": "",
            "zerolinecolor": "white"
           },
           "zaxis": {
            "backgroundcolor": "#E5ECF6",
            "gridcolor": "white",
            "gridwidth": 2,
            "linecolor": "white",
            "showbackground": true,
            "ticks": "",
            "zerolinecolor": "white"
           }
          },
          "shapedefaults": {
           "line": {
            "color": "#2a3f5f"
           }
          },
          "ternary": {
           "aaxis": {
            "gridcolor": "white",
            "linecolor": "white",
            "ticks": ""
           },
           "baxis": {
            "gridcolor": "white",
            "linecolor": "white",
            "ticks": ""
           },
           "bgcolor": "#E5ECF6",
           "caxis": {
            "gridcolor": "white",
            "linecolor": "white",
            "ticks": ""
           }
          },
          "title": {
           "x": 0.05
          },
          "xaxis": {
           "automargin": true,
           "gridcolor": "white",
           "linecolor": "white",
           "ticks": "",
           "title": {
            "standoff": 15
           },
           "zerolinecolor": "white",
           "zerolinewidth": 2
          },
          "yaxis": {
           "automargin": true,
           "gridcolor": "white",
           "linecolor": "white",
           "ticks": "",
           "title": {
            "standoff": 15
           },
           "zerolinecolor": "white",
           "zerolinewidth": 2
          }
         }
        },
        "title": {
         "text": "Feature Importance Over Time"
        },
        "xaxis": {
         "anchor": "y",
         "domain": [
          0,
          1
         ],
         "title": {
          "text": "Future Dates"
         }
        },
        "yaxis": {
         "anchor": "x",
         "domain": [
          0,
          1
         ],
         "title": {
          "text": "Feature Importance"
         }
        }
       }
      }
     },
     "metadata": {},
     "output_type": "display_data"
    }
   ],
   "source": [
    "import plotly.express as px\n",
    "\n",
    "# Create a DataFrame showing feature importance over time (this is hypothetical for demo purposes)\n",
    "feature_importance_over_time = pd.DataFrame({\n",
    "    'Date': future_dates,\n",
    "    'Interest_Rate': np.random.uniform(0.2, 0.5, len(future_dates)),\n",
    "    'Median_Income': np.random.uniform(0.3, 0.6, len(future_dates)),\n",
    "    'Calgary_Population': np.random.uniform(0.5, 0.8, len(future_dates)),\n",
    "})\n",
    "\n",
    "# Melt the DataFrame to long format for plotting\n",
    "melted_importance = feature_importance_over_time.melt(id_vars=['Date'], var_name='Feature', value_name='Importance')\n",
    "\n",
    "# Create the line chart\n",
    "fig = px.line(melted_importance, x='Date', y='Importance', color='Feature',\n",
    "              title=\"Feature Importance Over Time\",\n",
    "              labels={'Importance': 'Feature Importance', 'Date': 'Future Dates'})\n",
    "\n",
    "fig.show()\n",
    "\n",
    "fig.write_html(\"feature_importance.html\")"
   ]
  },
  {
   "cell_type": "code",
   "execution_count": 750,
   "metadata": {},
   "outputs": [
    {
     "data": {
      "application/vnd.plotly.v1+json": {
       "config": {
        "plotlyServerURL": "https://plot.ly"
       },
       "data": [
        {
         "mode": "lines",
         "name": "Median House Price",
         "type": "scatter",
         "x": [
          "2005-01-01T00:00:00",
          "2005-02-01T00:00:00",
          "2005-03-01T00:00:00",
          "2005-04-01T00:00:00",
          "2005-05-01T00:00:00",
          "2005-06-01T00:00:00",
          "2005-07-01T00:00:00",
          "2005-08-01T00:00:00",
          "2005-09-01T00:00:00",
          "2005-10-01T00:00:00",
          "2005-11-01T00:00:00",
          "2005-12-01T00:00:00",
          "2006-01-01T00:00:00",
          "2006-02-01T00:00:00",
          "2006-03-01T00:00:00",
          "2006-04-01T00:00:00",
          "2006-05-01T00:00:00",
          "2006-06-01T00:00:00",
          "2006-07-01T00:00:00",
          "2006-08-01T00:00:00",
          "2006-09-01T00:00:00",
          "2006-10-01T00:00:00",
          "2006-11-01T00:00:00",
          "2006-12-01T00:00:00",
          "2007-01-01T00:00:00",
          "2007-02-01T00:00:00",
          "2007-03-01T00:00:00",
          "2007-04-01T00:00:00",
          "2007-05-01T00:00:00",
          "2007-06-01T00:00:00",
          "2007-07-01T00:00:00",
          "2007-08-01T00:00:00",
          "2007-09-01T00:00:00",
          "2007-10-01T00:00:00",
          "2007-11-01T00:00:00",
          "2007-12-01T00:00:00",
          "2008-01-01T00:00:00",
          "2008-02-01T00:00:00",
          "2008-03-01T00:00:00",
          "2008-04-01T00:00:00",
          "2008-05-01T00:00:00",
          "2008-06-01T00:00:00",
          "2008-07-01T00:00:00",
          "2008-08-01T00:00:00",
          "2008-09-01T00:00:00",
          "2008-10-01T00:00:00",
          "2008-11-01T00:00:00",
          "2008-12-01T00:00:00",
          "2009-01-01T00:00:00",
          "2009-02-01T00:00:00",
          "2009-03-01T00:00:00",
          "2009-04-01T00:00:00",
          "2009-05-01T00:00:00",
          "2009-06-01T00:00:00",
          "2009-07-01T00:00:00",
          "2009-08-01T00:00:00",
          "2009-09-01T00:00:00",
          "2009-10-01T00:00:00",
          "2009-11-01T00:00:00",
          "2009-12-01T00:00:00",
          "2010-01-01T00:00:00",
          "2010-02-01T00:00:00",
          "2010-03-01T00:00:00",
          "2010-04-01T00:00:00",
          "2010-05-01T00:00:00",
          "2010-06-01T00:00:00",
          "2010-07-01T00:00:00",
          "2010-08-01T00:00:00",
          "2010-09-01T00:00:00",
          "2010-10-01T00:00:00",
          "2010-11-01T00:00:00",
          "2010-12-01T00:00:00",
          "2011-01-01T00:00:00",
          "2011-02-01T00:00:00",
          "2011-03-01T00:00:00",
          "2011-04-01T00:00:00",
          "2011-05-01T00:00:00",
          "2011-06-01T00:00:00",
          "2011-07-01T00:00:00",
          "2011-08-01T00:00:00",
          "2011-09-01T00:00:00",
          "2011-10-01T00:00:00",
          "2011-11-01T00:00:00",
          "2011-12-01T00:00:00",
          "2012-01-01T00:00:00",
          "2012-02-01T00:00:00",
          "2012-03-01T00:00:00",
          "2012-04-01T00:00:00",
          "2012-05-01T00:00:00",
          "2012-06-01T00:00:00",
          "2012-07-01T00:00:00",
          "2012-08-01T00:00:00",
          "2012-09-01T00:00:00",
          "2012-10-01T00:00:00",
          "2012-11-01T00:00:00",
          "2012-12-01T00:00:00",
          "2013-01-01T00:00:00",
          "2013-02-01T00:00:00",
          "2013-03-01T00:00:00",
          "2013-04-01T00:00:00",
          "2013-05-01T00:00:00",
          "2013-06-01T00:00:00",
          "2013-07-01T00:00:00",
          "2013-08-01T00:00:00",
          "2013-09-01T00:00:00",
          "2013-10-01T00:00:00",
          "2013-11-01T00:00:00",
          "2013-12-01T00:00:00",
          "2014-01-01T00:00:00",
          "2014-02-01T00:00:00",
          "2014-03-01T00:00:00",
          "2014-04-01T00:00:00",
          "2014-05-01T00:00:00",
          "2014-06-01T00:00:00",
          "2014-07-01T00:00:00",
          "2014-08-01T00:00:00",
          "2014-09-01T00:00:00",
          "2014-10-01T00:00:00",
          "2014-11-01T00:00:00",
          "2014-12-01T00:00:00",
          "2015-01-01T00:00:00",
          "2015-02-01T00:00:00",
          "2015-03-01T00:00:00",
          "2015-04-01T00:00:00",
          "2015-05-01T00:00:00",
          "2015-06-01T00:00:00",
          "2015-07-01T00:00:00",
          "2015-08-01T00:00:00",
          "2015-09-01T00:00:00",
          "2015-10-01T00:00:00",
          "2015-11-01T00:00:00",
          "2015-12-01T00:00:00",
          "2016-01-01T00:00:00",
          "2016-02-01T00:00:00",
          "2016-03-01T00:00:00",
          "2016-04-01T00:00:00",
          "2016-05-01T00:00:00",
          "2016-06-01T00:00:00",
          "2016-07-01T00:00:00",
          "2016-08-01T00:00:00",
          "2016-09-01T00:00:00",
          "2016-10-01T00:00:00",
          "2016-11-01T00:00:00",
          "2016-12-01T00:00:00",
          "2017-01-01T00:00:00",
          "2017-02-01T00:00:00",
          "2017-03-01T00:00:00",
          "2017-04-01T00:00:00",
          "2017-05-01T00:00:00",
          "2017-06-01T00:00:00",
          "2017-07-01T00:00:00",
          "2017-08-01T00:00:00",
          "2017-09-01T00:00:00",
          "2017-10-01T00:00:00",
          "2017-11-01T00:00:00",
          "2017-12-01T00:00:00",
          "2018-01-01T00:00:00",
          "2018-02-01T00:00:00",
          "2018-03-01T00:00:00",
          "2018-04-01T00:00:00",
          "2018-05-01T00:00:00",
          "2018-06-01T00:00:00",
          "2018-07-01T00:00:00",
          "2018-08-01T00:00:00",
          "2018-09-01T00:00:00",
          "2018-10-01T00:00:00",
          "2018-11-01T00:00:00",
          "2018-12-01T00:00:00",
          "2019-01-01T00:00:00",
          "2019-02-01T00:00:00",
          "2019-03-01T00:00:00",
          "2019-04-01T00:00:00",
          "2019-05-01T00:00:00",
          "2019-06-01T00:00:00",
          "2019-07-01T00:00:00",
          "2019-08-01T00:00:00",
          "2019-09-01T00:00:00",
          "2019-10-01T00:00:00",
          "2019-11-01T00:00:00",
          "2019-12-01T00:00:00",
          "2020-01-01T00:00:00",
          "2020-02-01T00:00:00",
          "2020-03-01T00:00:00",
          "2020-04-01T00:00:00",
          "2020-05-01T00:00:00",
          "2020-06-01T00:00:00",
          "2020-07-01T00:00:00",
          "2020-08-01T00:00:00",
          "2020-09-01T00:00:00",
          "2020-10-01T00:00:00",
          "2020-11-01T00:00:00",
          "2020-12-01T00:00:00",
          "2021-01-01T00:00:00",
          "2021-02-01T00:00:00",
          "2021-03-01T00:00:00",
          "2021-04-01T00:00:00",
          "2021-05-01T00:00:00",
          "2021-06-01T00:00:00",
          "2021-07-01T00:00:00",
          "2021-08-01T00:00:00",
          "2021-09-01T00:00:00",
          "2021-10-01T00:00:00",
          "2021-11-01T00:00:00",
          "2021-12-01T00:00:00",
          "2022-01-01T00:00:00",
          "2022-02-01T00:00:00",
          "2022-03-01T00:00:00",
          "2022-04-01T00:00:00",
          "2022-05-01T00:00:00",
          "2022-06-01T00:00:00",
          "2022-07-01T00:00:00",
          "2022-08-01T00:00:00",
          "2022-09-01T00:00:00",
          "2022-10-01T00:00:00",
          "2022-11-01T00:00:00",
          "2022-12-01T00:00:00",
          "2023-01-01T00:00:00",
          "2023-02-01T00:00:00",
          "2023-03-01T00:00:00",
          "2023-04-01T00:00:00",
          "2023-05-01T00:00:00",
          "2023-06-01T00:00:00",
          "2023-07-01T00:00:00",
          "2023-08-01T00:00:00",
          "2023-09-01T00:00:00",
          "2023-10-01T00:00:00",
          "2023-11-01T00:00:00",
          "2023-12-01T00:00:00",
          "2024-01-01T00:00:00",
          "2024-02-01T00:00:00",
          "2024-03-01T00:00:00",
          "2024-04-01T00:00:00",
          "2024-05-01T00:00:00",
          "2024-06-01T00:00:00",
          "2024-07-01T00:00:00",
          "2024-08-01T00:00:00"
         ],
         "y": [
          206500,
          206500,
          206500,
          206500,
          206500,
          206500,
          206500,
          206500,
          206500,
          206500,
          206500,
          206500,
          221000,
          221000,
          221000,
          221000,
          221000,
          221000,
          221000,
          221000,
          221000,
          221000,
          221000,
          221000,
          318000,
          318000,
          318000,
          318000,
          318000,
          318000,
          318000,
          318000,
          318000,
          318000,
          318000,
          318000,
          399000,
          399000,
          399000,
          399000,
          399000,
          399000,
          399000,
          399000,
          399000,
          399000,
          399000,
          399000,
          376500,
          376500,
          376500,
          376500,
          376500,
          376500,
          376500,
          376500,
          376500,
          376500,
          376500,
          376500,
          325500,
          325500,
          325500,
          325500,
          325500,
          325500,
          325500,
          325500,
          325500,
          325500,
          325500,
          325500,
          357000,
          357000,
          357000,
          357000,
          357000,
          357000,
          357000,
          357000,
          357000,
          357000,
          357000,
          357000,
          343500,
          343500,
          343500,
          343500,
          343500,
          343500,
          343500,
          343500,
          343500,
          343500,
          343500,
          343500,
          349500,
          349500,
          349500,
          349500,
          349500,
          349500,
          349500,
          349500,
          349500,
          349500,
          349500,
          349500,
          375000,
          375000,
          375000,
          375000,
          375000,
          375000,
          375000,
          375000,
          375000,
          375000,
          375000,
          375000,
          412500,
          412500,
          412500,
          412500,
          412500,
          412500,
          412500,
          412500,
          412500,
          412500,
          412500,
          412500,
          404500,
          404500,
          404500,
          404500,
          404500,
          404500,
          404500,
          404500,
          404500,
          404500,
          404500,
          404500,
          388000,
          388000,
          388000,
          388000,
          388000,
          388000,
          388000,
          388000,
          388000,
          388000,
          388000,
          388000,
          396000,
          396000,
          396000,
          396000,
          396000,
          396000,
          396000,
          396000,
          396000,
          396000,
          396000,
          396000,
          388500,
          388500,
          388500,
          388500,
          388500,
          388500,
          388500,
          388500,
          388500,
          388500,
          388500,
          388500,
          368000,
          368000,
          368000,
          368000,
          368000,
          368000,
          368000,
          368000,
          368000,
          368000,
          368000,
          368000,
          358000,
          358000,
          358000,
          358000,
          358000,
          358000,
          358000,
          358000,
          358000,
          358000,
          358000,
          358000,
          396000,
          396000,
          396000,
          396000,
          396000,
          396000,
          396000,
          396000,
          396000,
          396000,
          396000,
          396000,
          450000,
          450000,
          450000,
          450000,
          450000,
          450000,
          450000,
          450000,
          450000,
          450000,
          450000,
          450000,
          450000,
          450000,
          450000,
          450000,
          450000,
          450000,
          450000,
          450000
         ]
        },
        {
         "mode": "lines",
         "name": "Interest Rate",
         "type": "scatter",
         "x": [
          "2005-01-01T00:00:00",
          "2005-02-01T00:00:00",
          "2005-03-01T00:00:00",
          "2005-04-01T00:00:00",
          "2005-05-01T00:00:00",
          "2005-06-01T00:00:00",
          "2005-07-01T00:00:00",
          "2005-08-01T00:00:00",
          "2005-09-01T00:00:00",
          "2005-10-01T00:00:00",
          "2005-11-01T00:00:00",
          "2005-12-01T00:00:00",
          "2006-01-01T00:00:00",
          "2006-02-01T00:00:00",
          "2006-03-01T00:00:00",
          "2006-04-01T00:00:00",
          "2006-05-01T00:00:00",
          "2006-06-01T00:00:00",
          "2006-07-01T00:00:00",
          "2006-08-01T00:00:00",
          "2006-09-01T00:00:00",
          "2006-10-01T00:00:00",
          "2006-11-01T00:00:00",
          "2006-12-01T00:00:00",
          "2007-01-01T00:00:00",
          "2007-02-01T00:00:00",
          "2007-03-01T00:00:00",
          "2007-04-01T00:00:00",
          "2007-05-01T00:00:00",
          "2007-06-01T00:00:00",
          "2007-07-01T00:00:00",
          "2007-08-01T00:00:00",
          "2007-09-01T00:00:00",
          "2007-10-01T00:00:00",
          "2007-11-01T00:00:00",
          "2007-12-01T00:00:00",
          "2008-01-01T00:00:00",
          "2008-02-01T00:00:00",
          "2008-03-01T00:00:00",
          "2008-04-01T00:00:00",
          "2008-05-01T00:00:00",
          "2008-06-01T00:00:00",
          "2008-07-01T00:00:00",
          "2008-08-01T00:00:00",
          "2008-09-01T00:00:00",
          "2008-10-01T00:00:00",
          "2008-11-01T00:00:00",
          "2008-12-01T00:00:00",
          "2009-01-01T00:00:00",
          "2009-02-01T00:00:00",
          "2009-03-01T00:00:00",
          "2009-04-01T00:00:00",
          "2009-05-01T00:00:00",
          "2009-06-01T00:00:00",
          "2009-07-01T00:00:00",
          "2009-08-01T00:00:00",
          "2009-09-01T00:00:00",
          "2009-10-01T00:00:00",
          "2009-11-01T00:00:00",
          "2009-12-01T00:00:00",
          "2010-01-01T00:00:00",
          "2010-02-01T00:00:00",
          "2010-03-01T00:00:00",
          "2010-04-01T00:00:00",
          "2010-05-01T00:00:00",
          "2010-06-01T00:00:00",
          "2010-07-01T00:00:00",
          "2010-08-01T00:00:00",
          "2010-09-01T00:00:00",
          "2010-10-01T00:00:00",
          "2010-11-01T00:00:00",
          "2010-12-01T00:00:00",
          "2011-01-01T00:00:00",
          "2011-02-01T00:00:00",
          "2011-03-01T00:00:00",
          "2011-04-01T00:00:00",
          "2011-05-01T00:00:00",
          "2011-06-01T00:00:00",
          "2011-07-01T00:00:00",
          "2011-08-01T00:00:00",
          "2011-09-01T00:00:00",
          "2011-10-01T00:00:00",
          "2011-11-01T00:00:00",
          "2011-12-01T00:00:00",
          "2012-01-01T00:00:00",
          "2012-02-01T00:00:00",
          "2012-03-01T00:00:00",
          "2012-04-01T00:00:00",
          "2012-05-01T00:00:00",
          "2012-06-01T00:00:00",
          "2012-07-01T00:00:00",
          "2012-08-01T00:00:00",
          "2012-09-01T00:00:00",
          "2012-10-01T00:00:00",
          "2012-11-01T00:00:00",
          "2012-12-01T00:00:00",
          "2013-01-01T00:00:00",
          "2013-02-01T00:00:00",
          "2013-03-01T00:00:00",
          "2013-04-01T00:00:00",
          "2013-05-01T00:00:00",
          "2013-06-01T00:00:00",
          "2013-07-01T00:00:00",
          "2013-08-01T00:00:00",
          "2013-09-01T00:00:00",
          "2013-10-01T00:00:00",
          "2013-11-01T00:00:00",
          "2013-12-01T00:00:00",
          "2014-01-01T00:00:00",
          "2014-02-01T00:00:00",
          "2014-03-01T00:00:00",
          "2014-04-01T00:00:00",
          "2014-05-01T00:00:00",
          "2014-06-01T00:00:00",
          "2014-07-01T00:00:00",
          "2014-08-01T00:00:00",
          "2014-09-01T00:00:00",
          "2014-10-01T00:00:00",
          "2014-11-01T00:00:00",
          "2014-12-01T00:00:00",
          "2015-01-01T00:00:00",
          "2015-02-01T00:00:00",
          "2015-03-01T00:00:00",
          "2015-04-01T00:00:00",
          "2015-05-01T00:00:00",
          "2015-06-01T00:00:00",
          "2015-07-01T00:00:00",
          "2015-08-01T00:00:00",
          "2015-09-01T00:00:00",
          "2015-10-01T00:00:00",
          "2015-11-01T00:00:00",
          "2015-12-01T00:00:00",
          "2016-01-01T00:00:00",
          "2016-02-01T00:00:00",
          "2016-03-01T00:00:00",
          "2016-04-01T00:00:00",
          "2016-05-01T00:00:00",
          "2016-06-01T00:00:00",
          "2016-07-01T00:00:00",
          "2016-08-01T00:00:00",
          "2016-09-01T00:00:00",
          "2016-10-01T00:00:00",
          "2016-11-01T00:00:00",
          "2016-12-01T00:00:00",
          "2017-01-01T00:00:00",
          "2017-02-01T00:00:00",
          "2017-03-01T00:00:00",
          "2017-04-01T00:00:00",
          "2017-05-01T00:00:00",
          "2017-06-01T00:00:00",
          "2017-07-01T00:00:00",
          "2017-08-01T00:00:00",
          "2017-09-01T00:00:00",
          "2017-10-01T00:00:00",
          "2017-11-01T00:00:00",
          "2017-12-01T00:00:00",
          "2018-01-01T00:00:00",
          "2018-02-01T00:00:00",
          "2018-03-01T00:00:00",
          "2018-04-01T00:00:00",
          "2018-05-01T00:00:00",
          "2018-06-01T00:00:00",
          "2018-07-01T00:00:00",
          "2018-08-01T00:00:00",
          "2018-09-01T00:00:00",
          "2018-10-01T00:00:00",
          "2018-11-01T00:00:00",
          "2018-12-01T00:00:00",
          "2019-01-01T00:00:00",
          "2019-02-01T00:00:00",
          "2019-03-01T00:00:00",
          "2019-04-01T00:00:00",
          "2019-05-01T00:00:00",
          "2019-06-01T00:00:00",
          "2019-07-01T00:00:00",
          "2019-08-01T00:00:00",
          "2019-09-01T00:00:00",
          "2019-10-01T00:00:00",
          "2019-11-01T00:00:00",
          "2019-12-01T00:00:00",
          "2020-01-01T00:00:00",
          "2020-02-01T00:00:00",
          "2020-03-01T00:00:00",
          "2020-04-01T00:00:00",
          "2020-05-01T00:00:00",
          "2020-06-01T00:00:00",
          "2020-07-01T00:00:00",
          "2020-08-01T00:00:00",
          "2020-09-01T00:00:00",
          "2020-10-01T00:00:00",
          "2020-11-01T00:00:00",
          "2020-12-01T00:00:00",
          "2021-01-01T00:00:00",
          "2021-02-01T00:00:00",
          "2021-03-01T00:00:00",
          "2021-04-01T00:00:00",
          "2021-05-01T00:00:00",
          "2021-06-01T00:00:00",
          "2021-07-01T00:00:00",
          "2021-08-01T00:00:00",
          "2021-09-01T00:00:00",
          "2021-10-01T00:00:00",
          "2021-11-01T00:00:00",
          "2021-12-01T00:00:00",
          "2022-01-01T00:00:00",
          "2022-02-01T00:00:00",
          "2022-03-01T00:00:00",
          "2022-04-01T00:00:00",
          "2022-05-01T00:00:00",
          "2022-06-01T00:00:00",
          "2022-07-01T00:00:00",
          "2022-08-01T00:00:00",
          "2022-09-01T00:00:00",
          "2022-10-01T00:00:00",
          "2022-11-01T00:00:00",
          "2022-12-01T00:00:00",
          "2023-01-01T00:00:00",
          "2023-02-01T00:00:00",
          "2023-03-01T00:00:00",
          "2023-04-01T00:00:00",
          "2023-05-01T00:00:00",
          "2023-06-01T00:00:00",
          "2023-07-01T00:00:00",
          "2023-08-01T00:00:00",
          "2023-09-01T00:00:00",
          "2023-10-01T00:00:00",
          "2023-11-01T00:00:00",
          "2023-12-01T00:00:00",
          "2024-01-01T00:00:00",
          "2024-02-01T00:00:00",
          "2024-03-01T00:00:00",
          "2024-04-01T00:00:00",
          "2024-05-01T00:00:00",
          "2024-06-01T00:00:00",
          "2024-07-01T00:00:00",
          "2024-08-01T00:00:00"
         ],
         "y": [
          2.75,
          2.75,
          2.75,
          2.75,
          2.75,
          2.75,
          2.75,
          2.75,
          3,
          3.125,
          3.25,
          3.5,
          3.5625,
          3.75,
          3.95,
          4.0625,
          4.35,
          4.5,
          4.5,
          4.5,
          4.5,
          4.5,
          4.5,
          4.5,
          4.5,
          4.5,
          4.5,
          4.5,
          4.5,
          4.5,
          4.6875,
          4.75,
          4.75,
          4.75,
          4.75,
          4.5,
          4.4,
          4.25,
          3.75,
          3.55,
          3.25,
          3.25,
          3.25,
          3.25,
          3.25,
          2.75,
          2.5,
          1.9,
          1.5,
          1.25,
          0.75,
          0.65,
          0.5,
          0.5,
          0.5,
          0.5,
          0.5,
          0.5,
          0.5,
          0.5,
          0.5,
          0.5,
          0.5,
          0.5,
          0.5,
          0.75,
          0.875,
          1,
          1.2,
          1.25,
          1.25,
          1.25,
          1.25,
          1.25,
          1.25,
          1.25,
          1.25,
          1.25,
          1.25,
          1.25,
          1.25,
          1.25,
          1.25,
          1.25,
          1.25,
          1.25,
          1.25,
          1.25,
          1.25,
          1.25,
          1.25,
          1.25,
          1.25,
          1.25,
          1.25,
          1.25,
          1.25,
          1.25,
          1.25,
          1.25,
          1.25,
          1.25,
          1.25,
          1.25,
          1.25,
          1.25,
          1.25,
          1.25,
          1.25,
          1.25,
          1.25,
          1.25,
          1.25,
          1.25,
          1.25,
          1.25,
          1.25,
          1.25,
          1.25,
          1.25,
          1.125,
          1,
          1,
          1,
          1,
          1,
          0.85,
          0.75,
          0.75,
          0.75,
          0.75,
          0.75,
          0.75,
          0.75,
          0.75,
          0.75,
          0.75,
          0.75,
          0.75,
          0.75,
          0.75,
          0.75,
          0.75,
          0.75,
          0.75,
          0.75,
          0.75,
          0.75,
          0.75,
          0.75,
          0.9375,
          1,
          1.25,
          1.25,
          1.25,
          1.25,
          1.4,
          1.5,
          1.5,
          1.5,
          1.5,
          1.5,
          1.6875,
          1.75,
          1.75,
          1.85,
          2,
          2,
          2,
          2,
          2,
          2,
          2,
          2,
          2,
          2,
          2,
          2,
          2,
          2,
          2,
          2,
          1.25,
          0.5,
          0.5,
          0.5,
          0.5,
          0.5,
          0.5,
          0.5,
          0.5,
          0.5,
          0.5,
          0.5,
          0.5,
          0.5,
          0.5,
          0.5,
          0.5,
          0.5,
          0.5,
          0.5,
          0.5,
          0.5,
          0.5,
          0.5,
          0.7,
          1,
          1.25,
          1.65,
          2.25,
          2.75,
          3.3125,
          3.5,
          4,
          4.375,
          4.5,
          4.75,
          4.75,
          4.75,
          4.75,
          4.9375,
          5.125,
          5.25,
          5.25,
          5.25,
          5.25,
          5.25,
          5.25,
          5.25,
          5.25,
          5.25,
          5.25,
          5.0625,
          4.95,
          4.75
         ]
        },
        {
         "mode": "lines",
         "name": "Calgary Population",
         "type": "scatter",
         "x": [
          "2005-01-01T00:00:00",
          "2005-02-01T00:00:00",
          "2005-03-01T00:00:00",
          "2005-04-01T00:00:00",
          "2005-05-01T00:00:00",
          "2005-06-01T00:00:00",
          "2005-07-01T00:00:00",
          "2005-08-01T00:00:00",
          "2005-09-01T00:00:00",
          "2005-10-01T00:00:00",
          "2005-11-01T00:00:00",
          "2005-12-01T00:00:00",
          "2006-01-01T00:00:00",
          "2006-02-01T00:00:00",
          "2006-03-01T00:00:00",
          "2006-04-01T00:00:00",
          "2006-05-01T00:00:00",
          "2006-06-01T00:00:00",
          "2006-07-01T00:00:00",
          "2006-08-01T00:00:00",
          "2006-09-01T00:00:00",
          "2006-10-01T00:00:00",
          "2006-11-01T00:00:00",
          "2006-12-01T00:00:00",
          "2007-01-01T00:00:00",
          "2007-02-01T00:00:00",
          "2007-03-01T00:00:00",
          "2007-04-01T00:00:00",
          "2007-05-01T00:00:00",
          "2007-06-01T00:00:00",
          "2007-07-01T00:00:00",
          "2007-08-01T00:00:00",
          "2007-09-01T00:00:00",
          "2007-10-01T00:00:00",
          "2007-11-01T00:00:00",
          "2007-12-01T00:00:00",
          "2008-01-01T00:00:00",
          "2008-02-01T00:00:00",
          "2008-03-01T00:00:00",
          "2008-04-01T00:00:00",
          "2008-05-01T00:00:00",
          "2008-06-01T00:00:00",
          "2008-07-01T00:00:00",
          "2008-08-01T00:00:00",
          "2008-09-01T00:00:00",
          "2008-10-01T00:00:00",
          "2008-11-01T00:00:00",
          "2008-12-01T00:00:00",
          "2009-01-01T00:00:00",
          "2009-02-01T00:00:00",
          "2009-03-01T00:00:00",
          "2009-04-01T00:00:00",
          "2009-05-01T00:00:00",
          "2009-06-01T00:00:00",
          "2009-07-01T00:00:00",
          "2009-08-01T00:00:00",
          "2009-09-01T00:00:00",
          "2009-10-01T00:00:00",
          "2009-11-01T00:00:00",
          "2009-12-01T00:00:00",
          "2010-01-01T00:00:00",
          "2010-02-01T00:00:00",
          "2010-03-01T00:00:00",
          "2010-04-01T00:00:00",
          "2010-05-01T00:00:00",
          "2010-06-01T00:00:00",
          "2010-07-01T00:00:00",
          "2010-08-01T00:00:00",
          "2010-09-01T00:00:00",
          "2010-10-01T00:00:00",
          "2010-11-01T00:00:00",
          "2010-12-01T00:00:00",
          "2011-01-01T00:00:00",
          "2011-02-01T00:00:00",
          "2011-03-01T00:00:00",
          "2011-04-01T00:00:00",
          "2011-05-01T00:00:00",
          "2011-06-01T00:00:00",
          "2011-07-01T00:00:00",
          "2011-08-01T00:00:00",
          "2011-09-01T00:00:00",
          "2011-10-01T00:00:00",
          "2011-11-01T00:00:00",
          "2011-12-01T00:00:00",
          "2012-01-01T00:00:00",
          "2012-02-01T00:00:00",
          "2012-03-01T00:00:00",
          "2012-04-01T00:00:00",
          "2012-05-01T00:00:00",
          "2012-06-01T00:00:00",
          "2012-07-01T00:00:00",
          "2012-08-01T00:00:00",
          "2012-09-01T00:00:00",
          "2012-10-01T00:00:00",
          "2012-11-01T00:00:00",
          "2012-12-01T00:00:00",
          "2013-01-01T00:00:00",
          "2013-02-01T00:00:00",
          "2013-03-01T00:00:00",
          "2013-04-01T00:00:00",
          "2013-05-01T00:00:00",
          "2013-06-01T00:00:00",
          "2013-07-01T00:00:00",
          "2013-08-01T00:00:00",
          "2013-09-01T00:00:00",
          "2013-10-01T00:00:00",
          "2013-11-01T00:00:00",
          "2013-12-01T00:00:00",
          "2014-01-01T00:00:00",
          "2014-02-01T00:00:00",
          "2014-03-01T00:00:00",
          "2014-04-01T00:00:00",
          "2014-05-01T00:00:00",
          "2014-06-01T00:00:00",
          "2014-07-01T00:00:00",
          "2014-08-01T00:00:00",
          "2014-09-01T00:00:00",
          "2014-10-01T00:00:00",
          "2014-11-01T00:00:00",
          "2014-12-01T00:00:00",
          "2015-01-01T00:00:00",
          "2015-02-01T00:00:00",
          "2015-03-01T00:00:00",
          "2015-04-01T00:00:00",
          "2015-05-01T00:00:00",
          "2015-06-01T00:00:00",
          "2015-07-01T00:00:00",
          "2015-08-01T00:00:00",
          "2015-09-01T00:00:00",
          "2015-10-01T00:00:00",
          "2015-11-01T00:00:00",
          "2015-12-01T00:00:00",
          "2016-01-01T00:00:00",
          "2016-02-01T00:00:00",
          "2016-03-01T00:00:00",
          "2016-04-01T00:00:00",
          "2016-05-01T00:00:00",
          "2016-06-01T00:00:00",
          "2016-07-01T00:00:00",
          "2016-08-01T00:00:00",
          "2016-09-01T00:00:00",
          "2016-10-01T00:00:00",
          "2016-11-01T00:00:00",
          "2016-12-01T00:00:00",
          "2017-01-01T00:00:00",
          "2017-02-01T00:00:00",
          "2017-03-01T00:00:00",
          "2017-04-01T00:00:00",
          "2017-05-01T00:00:00",
          "2017-06-01T00:00:00",
          "2017-07-01T00:00:00",
          "2017-08-01T00:00:00",
          "2017-09-01T00:00:00",
          "2017-10-01T00:00:00",
          "2017-11-01T00:00:00",
          "2017-12-01T00:00:00",
          "2018-01-01T00:00:00",
          "2018-02-01T00:00:00",
          "2018-03-01T00:00:00",
          "2018-04-01T00:00:00",
          "2018-05-01T00:00:00",
          "2018-06-01T00:00:00",
          "2018-07-01T00:00:00",
          "2018-08-01T00:00:00",
          "2018-09-01T00:00:00",
          "2018-10-01T00:00:00",
          "2018-11-01T00:00:00",
          "2018-12-01T00:00:00",
          "2019-01-01T00:00:00",
          "2019-02-01T00:00:00",
          "2019-03-01T00:00:00",
          "2019-04-01T00:00:00",
          "2019-05-01T00:00:00",
          "2019-06-01T00:00:00",
          "2019-07-01T00:00:00",
          "2019-08-01T00:00:00",
          "2019-09-01T00:00:00",
          "2019-10-01T00:00:00",
          "2019-11-01T00:00:00",
          "2019-12-01T00:00:00",
          "2020-01-01T00:00:00",
          "2020-02-01T00:00:00",
          "2020-03-01T00:00:00",
          "2020-04-01T00:00:00",
          "2020-05-01T00:00:00",
          "2020-06-01T00:00:00",
          "2020-07-01T00:00:00",
          "2020-08-01T00:00:00",
          "2020-09-01T00:00:00",
          "2020-10-01T00:00:00",
          "2020-11-01T00:00:00",
          "2020-12-01T00:00:00",
          "2021-01-01T00:00:00",
          "2021-02-01T00:00:00",
          "2021-03-01T00:00:00",
          "2021-04-01T00:00:00",
          "2021-05-01T00:00:00",
          "2021-06-01T00:00:00",
          "2021-07-01T00:00:00",
          "2021-08-01T00:00:00",
          "2021-09-01T00:00:00",
          "2021-10-01T00:00:00",
          "2021-11-01T00:00:00",
          "2021-12-01T00:00:00",
          "2022-01-01T00:00:00",
          "2022-02-01T00:00:00",
          "2022-03-01T00:00:00",
          "2022-04-01T00:00:00",
          "2022-05-01T00:00:00",
          "2022-06-01T00:00:00",
          "2022-07-01T00:00:00",
          "2022-08-01T00:00:00",
          "2022-09-01T00:00:00",
          "2022-10-01T00:00:00",
          "2022-11-01T00:00:00",
          "2022-12-01T00:00:00",
          "2023-01-01T00:00:00",
          "2023-02-01T00:00:00",
          "2023-03-01T00:00:00",
          "2023-04-01T00:00:00",
          "2023-05-01T00:00:00",
          "2023-06-01T00:00:00",
          "2023-07-01T00:00:00",
          "2023-08-01T00:00:00",
          "2023-09-01T00:00:00",
          "2023-10-01T00:00:00",
          "2023-11-01T00:00:00",
          "2023-12-01T00:00:00",
          "2024-01-01T00:00:00",
          "2024-02-01T00:00:00",
          "2024-03-01T00:00:00",
          "2024-04-01T00:00:00",
          "2024-05-01T00:00:00",
          "2024-06-01T00:00:00",
          "2024-07-01T00:00:00",
          "2024-08-01T00:00:00"
         ],
         "y": [
          1030000,
          1030000,
          1030000,
          1030000,
          1030000,
          1030000,
          1030000,
          1030000,
          1030000,
          1030000,
          1030000,
          1030000,
          1056000,
          1056000,
          1056000,
          1056000,
          1056000,
          1056000,
          1056000,
          1056000,
          1056000,
          1056000,
          1056000,
          1056000,
          1083000,
          1083000,
          1083000,
          1083000,
          1083000,
          1083000,
          1083000,
          1083000,
          1083000,
          1083000,
          1083000,
          1083000,
          1109000,
          1109000,
          1109000,
          1109000,
          1109000,
          1109000,
          1109000,
          1109000,
          1109000,
          1109000,
          1109000,
          1109000,
          1135000,
          1135000,
          1135000,
          1135000,
          1135000,
          1135000,
          1135000,
          1135000,
          1135000,
          1135000,
          1135000,
          1135000,
          1162000,
          1162000,
          1162000,
          1162000,
          1162000,
          1162000,
          1162000,
          1162000,
          1162000,
          1162000,
          1162000,
          1162000,
          1190000,
          1190000,
          1190000,
          1190000,
          1190000,
          1190000,
          1190000,
          1190000,
          1190000,
          1190000,
          1190000,
          1190000,
          1220000,
          1220000,
          1220000,
          1220000,
          1220000,
          1220000,
          1220000,
          1220000,
          1220000,
          1220000,
          1220000,
          1220000,
          1253000,
          1253000,
          1253000,
          1253000,
          1253000,
          1253000,
          1253000,
          1253000,
          1253000,
          1253000,
          1253000,
          1253000,
          1288000,
          1288000,
          1288000,
          1288000,
          1288000,
          1288000,
          1288000,
          1288000,
          1288000,
          1288000,
          1288000,
          1288000,
          1324000,
          1324000,
          1324000,
          1324000,
          1324000,
          1324000,
          1324000,
          1324000,
          1324000,
          1324000,
          1324000,
          1324000,
          1360000,
          1360000,
          1360000,
          1360000,
          1360000,
          1360000,
          1360000,
          1360000,
          1360000,
          1360000,
          1360000,
          1360000,
          1398000,
          1398000,
          1398000,
          1398000,
          1398000,
          1398000,
          1398000,
          1398000,
          1398000,
          1398000,
          1398000,
          1398000,
          1437000,
          1437000,
          1437000,
          1437000,
          1437000,
          1437000,
          1437000,
          1437000,
          1437000,
          1437000,
          1437000,
          1437000,
          1477000,
          1477000,
          1477000,
          1477000,
          1477000,
          1477000,
          1477000,
          1477000,
          1477000,
          1477000,
          1477000,
          1477000,
          1513000,
          1513000,
          1513000,
          1513000,
          1513000,
          1513000,
          1513000,
          1513000,
          1513000,
          1513000,
          1513000,
          1513000,
          1547000,
          1547000,
          1547000,
          1547000,
          1547000,
          1547000,
          1547000,
          1547000,
          1547000,
          1547000,
          1547000,
          1547000,
          1581000,
          1581000,
          1581000,
          1581000,
          1581000,
          1581000,
          1581000,
          1581000,
          1581000,
          1581000,
          1581000,
          1581000,
          1611000,
          1611000,
          1611000,
          1611000,
          1611000,
          1611000,
          1611000,
          1611000,
          1611000,
          1611000,
          1611000,
          1611000,
          1640000,
          1640000,
          1640000,
          1640000,
          1640000,
          1640000,
          1640000,
          1640000
         ]
        },
        {
         "line": {
          "dash": "dash"
         },
         "mode": "lines",
         "name": "Median Income (2005-2022) (Adjusted For Inflation)",
         "type": "scatter",
         "x": [
          "2005-01-01T00:00:00",
          "2005-02-01T00:00:00",
          "2005-03-01T00:00:00",
          "2005-04-01T00:00:00",
          "2005-05-01T00:00:00",
          "2005-06-01T00:00:00",
          "2005-07-01T00:00:00",
          "2005-08-01T00:00:00",
          "2005-09-01T00:00:00",
          "2005-10-01T00:00:00",
          "2005-11-01T00:00:00",
          "2005-12-01T00:00:00",
          "2006-01-01T00:00:00",
          "2006-02-01T00:00:00",
          "2006-03-01T00:00:00",
          "2006-04-01T00:00:00",
          "2006-05-01T00:00:00",
          "2006-06-01T00:00:00",
          "2006-07-01T00:00:00",
          "2006-08-01T00:00:00",
          "2006-09-01T00:00:00",
          "2006-10-01T00:00:00",
          "2006-11-01T00:00:00",
          "2006-12-01T00:00:00",
          "2007-01-01T00:00:00",
          "2007-02-01T00:00:00",
          "2007-03-01T00:00:00",
          "2007-04-01T00:00:00",
          "2007-05-01T00:00:00",
          "2007-06-01T00:00:00",
          "2007-07-01T00:00:00",
          "2007-08-01T00:00:00",
          "2007-09-01T00:00:00",
          "2007-10-01T00:00:00",
          "2007-11-01T00:00:00",
          "2007-12-01T00:00:00",
          "2008-01-01T00:00:00",
          "2008-02-01T00:00:00",
          "2008-03-01T00:00:00",
          "2008-04-01T00:00:00",
          "2008-05-01T00:00:00",
          "2008-06-01T00:00:00",
          "2008-07-01T00:00:00",
          "2008-08-01T00:00:00",
          "2008-09-01T00:00:00",
          "2008-10-01T00:00:00",
          "2008-11-01T00:00:00",
          "2008-12-01T00:00:00",
          "2009-01-01T00:00:00",
          "2009-02-01T00:00:00",
          "2009-03-01T00:00:00",
          "2009-04-01T00:00:00",
          "2009-05-01T00:00:00",
          "2009-06-01T00:00:00",
          "2009-07-01T00:00:00",
          "2009-08-01T00:00:00",
          "2009-09-01T00:00:00",
          "2009-10-01T00:00:00",
          "2009-11-01T00:00:00",
          "2009-12-01T00:00:00",
          "2010-01-01T00:00:00",
          "2010-02-01T00:00:00",
          "2010-03-01T00:00:00",
          "2010-04-01T00:00:00",
          "2010-05-01T00:00:00",
          "2010-06-01T00:00:00",
          "2010-07-01T00:00:00",
          "2010-08-01T00:00:00",
          "2010-09-01T00:00:00",
          "2010-10-01T00:00:00",
          "2010-11-01T00:00:00",
          "2010-12-01T00:00:00",
          "2011-01-01T00:00:00",
          "2011-02-01T00:00:00",
          "2011-03-01T00:00:00",
          "2011-04-01T00:00:00",
          "2011-05-01T00:00:00",
          "2011-06-01T00:00:00",
          "2011-07-01T00:00:00",
          "2011-08-01T00:00:00",
          "2011-09-01T00:00:00",
          "2011-10-01T00:00:00",
          "2011-11-01T00:00:00",
          "2011-12-01T00:00:00",
          "2012-01-01T00:00:00",
          "2012-02-01T00:00:00",
          "2012-03-01T00:00:00",
          "2012-04-01T00:00:00",
          "2012-05-01T00:00:00",
          "2012-06-01T00:00:00",
          "2012-07-01T00:00:00",
          "2012-08-01T00:00:00",
          "2012-09-01T00:00:00",
          "2012-10-01T00:00:00",
          "2012-11-01T00:00:00",
          "2012-12-01T00:00:00",
          "2013-01-01T00:00:00",
          "2013-02-01T00:00:00",
          "2013-03-01T00:00:00",
          "2013-04-01T00:00:00",
          "2013-05-01T00:00:00",
          "2013-06-01T00:00:00",
          "2013-07-01T00:00:00",
          "2013-08-01T00:00:00",
          "2013-09-01T00:00:00",
          "2013-10-01T00:00:00",
          "2013-11-01T00:00:00",
          "2013-12-01T00:00:00",
          "2014-01-01T00:00:00",
          "2014-02-01T00:00:00",
          "2014-03-01T00:00:00",
          "2014-04-01T00:00:00",
          "2014-05-01T00:00:00",
          "2014-06-01T00:00:00",
          "2014-07-01T00:00:00",
          "2014-08-01T00:00:00",
          "2014-09-01T00:00:00",
          "2014-10-01T00:00:00",
          "2014-11-01T00:00:00",
          "2014-12-01T00:00:00",
          "2015-01-01T00:00:00",
          "2015-02-01T00:00:00",
          "2015-03-01T00:00:00",
          "2015-04-01T00:00:00",
          "2015-05-01T00:00:00",
          "2015-06-01T00:00:00",
          "2015-07-01T00:00:00",
          "2015-08-01T00:00:00",
          "2015-09-01T00:00:00",
          "2015-10-01T00:00:00",
          "2015-11-01T00:00:00",
          "2015-12-01T00:00:00",
          "2016-01-01T00:00:00",
          "2016-02-01T00:00:00",
          "2016-03-01T00:00:00",
          "2016-04-01T00:00:00",
          "2016-05-01T00:00:00",
          "2016-06-01T00:00:00",
          "2016-07-01T00:00:00",
          "2016-08-01T00:00:00",
          "2016-09-01T00:00:00",
          "2016-10-01T00:00:00",
          "2016-11-01T00:00:00",
          "2016-12-01T00:00:00",
          "2017-01-01T00:00:00",
          "2017-02-01T00:00:00",
          "2017-03-01T00:00:00",
          "2017-04-01T00:00:00",
          "2017-05-01T00:00:00",
          "2017-06-01T00:00:00",
          "2017-07-01T00:00:00",
          "2017-08-01T00:00:00",
          "2017-09-01T00:00:00",
          "2017-10-01T00:00:00",
          "2017-11-01T00:00:00",
          "2017-12-01T00:00:00",
          "2018-01-01T00:00:00",
          "2018-02-01T00:00:00",
          "2018-03-01T00:00:00",
          "2018-04-01T00:00:00",
          "2018-05-01T00:00:00",
          "2018-06-01T00:00:00",
          "2018-07-01T00:00:00",
          "2018-08-01T00:00:00",
          "2018-09-01T00:00:00",
          "2018-10-01T00:00:00",
          "2018-11-01T00:00:00",
          "2018-12-01T00:00:00",
          "2019-01-01T00:00:00",
          "2019-02-01T00:00:00",
          "2019-03-01T00:00:00",
          "2019-04-01T00:00:00",
          "2019-05-01T00:00:00",
          "2019-06-01T00:00:00",
          "2019-07-01T00:00:00",
          "2019-08-01T00:00:00",
          "2019-09-01T00:00:00",
          "2019-10-01T00:00:00",
          "2019-11-01T00:00:00",
          "2019-12-01T00:00:00",
          "2020-01-01T00:00:00",
          "2020-02-01T00:00:00",
          "2020-03-01T00:00:00",
          "2020-04-01T00:00:00",
          "2020-05-01T00:00:00",
          "2020-06-01T00:00:00",
          "2020-07-01T00:00:00",
          "2020-08-01T00:00:00",
          "2020-09-01T00:00:00",
          "2020-10-01T00:00:00",
          "2020-11-01T00:00:00",
          "2020-12-01T00:00:00",
          "2021-01-01T00:00:00",
          "2021-02-01T00:00:00",
          "2021-03-01T00:00:00",
          "2021-04-01T00:00:00",
          "2021-05-01T00:00:00",
          "2021-06-01T00:00:00",
          "2021-07-01T00:00:00",
          "2021-08-01T00:00:00",
          "2021-09-01T00:00:00",
          "2021-10-01T00:00:00",
          "2021-11-01T00:00:00",
          "2021-12-01T00:00:00",
          "2022-01-01T00:00:00",
          "2022-02-01T00:00:00",
          "2022-03-01T00:00:00",
          "2022-04-01T00:00:00",
          "2022-05-01T00:00:00",
          "2022-06-01T00:00:00",
          "2022-07-01T00:00:00",
          "2022-08-01T00:00:00",
          "2022-09-01T00:00:00",
          "2022-10-01T00:00:00",
          "2022-11-01T00:00:00",
          "2022-12-01T00:00:00"
         ],
         "y": [
          43100,
          43100,
          43100,
          43100,
          43100,
          43100,
          43100,
          43100,
          43100,
          43100,
          43100,
          43100,
          43600,
          43600,
          43600,
          43600,
          43600,
          43600,
          43600,
          43600,
          43600,
          43600,
          43600,
          43600,
          46000,
          46000,
          46000,
          46000,
          46000,
          46000,
          46000,
          46000,
          46000,
          46000,
          46000,
          46000,
          47000,
          47000,
          47000,
          47000,
          47000,
          47000,
          47000,
          47000,
          47000,
          47000,
          47000,
          47000,
          46900,
          46900,
          46900,
          46900,
          46900,
          46900,
          46900,
          46900,
          46900,
          46900,
          46900,
          46900,
          46200,
          46200,
          46200,
          46200,
          46200,
          46200,
          46200,
          46200,
          46200,
          46200,
          46200,
          46200,
          48500,
          48500,
          48500,
          48500,
          48500,
          48500,
          48500,
          48500,
          48500,
          48500,
          48500,
          48500,
          49500,
          49500,
          49500,
          49500,
          49500,
          49500,
          49500,
          49500,
          49500,
          49500,
          49500,
          49500,
          50800,
          50800,
          50800,
          50800,
          50800,
          50800,
          50800,
          50800,
          50800,
          50800,
          50800,
          50800,
          54300,
          54300,
          54300,
          54300,
          54300,
          54300,
          54300,
          54300,
          54300,
          54300,
          54300,
          54300,
          46800,
          46800,
          46800,
          46800,
          46800,
          46800,
          46800,
          46800,
          46800,
          46800,
          46800,
          46800,
          46800,
          46800,
          46800,
          46800,
          46800,
          46800,
          46800,
          46800,
          46800,
          46800,
          46800,
          46800,
          49200,
          49200,
          49200,
          49200,
          49200,
          49200,
          49200,
          49200,
          49200,
          49200,
          49200,
          49200,
          47400,
          47400,
          47400,
          47400,
          47400,
          47400,
          47400,
          47400,
          47400,
          47400,
          47400,
          47400,
          48600,
          48600,
          48600,
          48600,
          48600,
          48600,
          48600,
          48600,
          48600,
          48600,
          48600,
          48600,
          47300,
          47300,
          47300,
          47300,
          47300,
          47300,
          47300,
          47300,
          47300,
          47300,
          47300,
          47300,
          43400,
          43400,
          43400,
          43400,
          43400,
          43400,
          43400,
          43400,
          43400,
          43400,
          43400,
          43400,
          48000,
          null,
          null,
          null,
          null,
          null,
          null,
          null,
          null,
          null,
          null,
          null
         ]
        }
       ],
       "layout": {
        "hovermode": "x unified",
        "template": {
         "data": {
          "bar": [
           {
            "error_x": {
             "color": "#2a3f5f"
            },
            "error_y": {
             "color": "#2a3f5f"
            },
            "marker": {
             "line": {
              "color": "#E5ECF6",
              "width": 0.5
             },
             "pattern": {
              "fillmode": "overlay",
              "size": 10,
              "solidity": 0.2
             }
            },
            "type": "bar"
           }
          ],
          "barpolar": [
           {
            "marker": {
             "line": {
              "color": "#E5ECF6",
              "width": 0.5
             },
             "pattern": {
              "fillmode": "overlay",
              "size": 10,
              "solidity": 0.2
             }
            },
            "type": "barpolar"
           }
          ],
          "carpet": [
           {
            "aaxis": {
             "endlinecolor": "#2a3f5f",
             "gridcolor": "white",
             "linecolor": "white",
             "minorgridcolor": "white",
             "startlinecolor": "#2a3f5f"
            },
            "baxis": {
             "endlinecolor": "#2a3f5f",
             "gridcolor": "white",
             "linecolor": "white",
             "minorgridcolor": "white",
             "startlinecolor": "#2a3f5f"
            },
            "type": "carpet"
           }
          ],
          "choropleth": [
           {
            "colorbar": {
             "outlinewidth": 0,
             "ticks": ""
            },
            "type": "choropleth"
           }
          ],
          "contour": [
           {
            "colorbar": {
             "outlinewidth": 0,
             "ticks": ""
            },
            "colorscale": [
             [
              0,
              "#0d0887"
             ],
             [
              0.1111111111111111,
              "#46039f"
             ],
             [
              0.2222222222222222,
              "#7201a8"
             ],
             [
              0.3333333333333333,
              "#9c179e"
             ],
             [
              0.4444444444444444,
              "#bd3786"
             ],
             [
              0.5555555555555556,
              "#d8576b"
             ],
             [
              0.6666666666666666,
              "#ed7953"
             ],
             [
              0.7777777777777778,
              "#fb9f3a"
             ],
             [
              0.8888888888888888,
              "#fdca26"
             ],
             [
              1,
              "#f0f921"
             ]
            ],
            "type": "contour"
           }
          ],
          "contourcarpet": [
           {
            "colorbar": {
             "outlinewidth": 0,
             "ticks": ""
            },
            "type": "contourcarpet"
           }
          ],
          "heatmap": [
           {
            "colorbar": {
             "outlinewidth": 0,
             "ticks": ""
            },
            "colorscale": [
             [
              0,
              "#0d0887"
             ],
             [
              0.1111111111111111,
              "#46039f"
             ],
             [
              0.2222222222222222,
              "#7201a8"
             ],
             [
              0.3333333333333333,
              "#9c179e"
             ],
             [
              0.4444444444444444,
              "#bd3786"
             ],
             [
              0.5555555555555556,
              "#d8576b"
             ],
             [
              0.6666666666666666,
              "#ed7953"
             ],
             [
              0.7777777777777778,
              "#fb9f3a"
             ],
             [
              0.8888888888888888,
              "#fdca26"
             ],
             [
              1,
              "#f0f921"
             ]
            ],
            "type": "heatmap"
           }
          ],
          "heatmapgl": [
           {
            "colorbar": {
             "outlinewidth": 0,
             "ticks": ""
            },
            "colorscale": [
             [
              0,
              "#0d0887"
             ],
             [
              0.1111111111111111,
              "#46039f"
             ],
             [
              0.2222222222222222,
              "#7201a8"
             ],
             [
              0.3333333333333333,
              "#9c179e"
             ],
             [
              0.4444444444444444,
              "#bd3786"
             ],
             [
              0.5555555555555556,
              "#d8576b"
             ],
             [
              0.6666666666666666,
              "#ed7953"
             ],
             [
              0.7777777777777778,
              "#fb9f3a"
             ],
             [
              0.8888888888888888,
              "#fdca26"
             ],
             [
              1,
              "#f0f921"
             ]
            ],
            "type": "heatmapgl"
           }
          ],
          "histogram": [
           {
            "marker": {
             "pattern": {
              "fillmode": "overlay",
              "size": 10,
              "solidity": 0.2
             }
            },
            "type": "histogram"
           }
          ],
          "histogram2d": [
           {
            "colorbar": {
             "outlinewidth": 0,
             "ticks": ""
            },
            "colorscale": [
             [
              0,
              "#0d0887"
             ],
             [
              0.1111111111111111,
              "#46039f"
             ],
             [
              0.2222222222222222,
              "#7201a8"
             ],
             [
              0.3333333333333333,
              "#9c179e"
             ],
             [
              0.4444444444444444,
              "#bd3786"
             ],
             [
              0.5555555555555556,
              "#d8576b"
             ],
             [
              0.6666666666666666,
              "#ed7953"
             ],
             [
              0.7777777777777778,
              "#fb9f3a"
             ],
             [
              0.8888888888888888,
              "#fdca26"
             ],
             [
              1,
              "#f0f921"
             ]
            ],
            "type": "histogram2d"
           }
          ],
          "histogram2dcontour": [
           {
            "colorbar": {
             "outlinewidth": 0,
             "ticks": ""
            },
            "colorscale": [
             [
              0,
              "#0d0887"
             ],
             [
              0.1111111111111111,
              "#46039f"
             ],
             [
              0.2222222222222222,
              "#7201a8"
             ],
             [
              0.3333333333333333,
              "#9c179e"
             ],
             [
              0.4444444444444444,
              "#bd3786"
             ],
             [
              0.5555555555555556,
              "#d8576b"
             ],
             [
              0.6666666666666666,
              "#ed7953"
             ],
             [
              0.7777777777777778,
              "#fb9f3a"
             ],
             [
              0.8888888888888888,
              "#fdca26"
             ],
             [
              1,
              "#f0f921"
             ]
            ],
            "type": "histogram2dcontour"
           }
          ],
          "mesh3d": [
           {
            "colorbar": {
             "outlinewidth": 0,
             "ticks": ""
            },
            "type": "mesh3d"
           }
          ],
          "parcoords": [
           {
            "line": {
             "colorbar": {
              "outlinewidth": 0,
              "ticks": ""
             }
            },
            "type": "parcoords"
           }
          ],
          "pie": [
           {
            "automargin": true,
            "type": "pie"
           }
          ],
          "scatter": [
           {
            "fillpattern": {
             "fillmode": "overlay",
             "size": 10,
             "solidity": 0.2
            },
            "type": "scatter"
           }
          ],
          "scatter3d": [
           {
            "line": {
             "colorbar": {
              "outlinewidth": 0,
              "ticks": ""
             }
            },
            "marker": {
             "colorbar": {
              "outlinewidth": 0,
              "ticks": ""
             }
            },
            "type": "scatter3d"
           }
          ],
          "scattercarpet": [
           {
            "marker": {
             "colorbar": {
              "outlinewidth": 0,
              "ticks": ""
             }
            },
            "type": "scattercarpet"
           }
          ],
          "scattergeo": [
           {
            "marker": {
             "colorbar": {
              "outlinewidth": 0,
              "ticks": ""
             }
            },
            "type": "scattergeo"
           }
          ],
          "scattergl": [
           {
            "marker": {
             "colorbar": {
              "outlinewidth": 0,
              "ticks": ""
             }
            },
            "type": "scattergl"
           }
          ],
          "scattermapbox": [
           {
            "marker": {
             "colorbar": {
              "outlinewidth": 0,
              "ticks": ""
             }
            },
            "type": "scattermapbox"
           }
          ],
          "scatterpolar": [
           {
            "marker": {
             "colorbar": {
              "outlinewidth": 0,
              "ticks": ""
             }
            },
            "type": "scatterpolar"
           }
          ],
          "scatterpolargl": [
           {
            "marker": {
             "colorbar": {
              "outlinewidth": 0,
              "ticks": ""
             }
            },
            "type": "scatterpolargl"
           }
          ],
          "scatterternary": [
           {
            "marker": {
             "colorbar": {
              "outlinewidth": 0,
              "ticks": ""
             }
            },
            "type": "scatterternary"
           }
          ],
          "surface": [
           {
            "colorbar": {
             "outlinewidth": 0,
             "ticks": ""
            },
            "colorscale": [
             [
              0,
              "#0d0887"
             ],
             [
              0.1111111111111111,
              "#46039f"
             ],
             [
              0.2222222222222222,
              "#7201a8"
             ],
             [
              0.3333333333333333,
              "#9c179e"
             ],
             [
              0.4444444444444444,
              "#bd3786"
             ],
             [
              0.5555555555555556,
              "#d8576b"
             ],
             [
              0.6666666666666666,
              "#ed7953"
             ],
             [
              0.7777777777777778,
              "#fb9f3a"
             ],
             [
              0.8888888888888888,
              "#fdca26"
             ],
             [
              1,
              "#f0f921"
             ]
            ],
            "type": "surface"
           }
          ],
          "table": [
           {
            "cells": {
             "fill": {
              "color": "#EBF0F8"
             },
             "line": {
              "color": "white"
             }
            },
            "header": {
             "fill": {
              "color": "#C8D4E3"
             },
             "line": {
              "color": "white"
             }
            },
            "type": "table"
           }
          ]
         },
         "layout": {
          "annotationdefaults": {
           "arrowcolor": "#2a3f5f",
           "arrowhead": 0,
           "arrowwidth": 1
          },
          "autotypenumbers": "strict",
          "coloraxis": {
           "colorbar": {
            "outlinewidth": 0,
            "ticks": ""
           }
          },
          "colorscale": {
           "diverging": [
            [
             0,
             "#8e0152"
            ],
            [
             0.1,
             "#c51b7d"
            ],
            [
             0.2,
             "#de77ae"
            ],
            [
             0.3,
             "#f1b6da"
            ],
            [
             0.4,
             "#fde0ef"
            ],
            [
             0.5,
             "#f7f7f7"
            ],
            [
             0.6,
             "#e6f5d0"
            ],
            [
             0.7,
             "#b8e186"
            ],
            [
             0.8,
             "#7fbc41"
            ],
            [
             0.9,
             "#4d9221"
            ],
            [
             1,
             "#276419"
            ]
           ],
           "sequential": [
            [
             0,
             "#0d0887"
            ],
            [
             0.1111111111111111,
             "#46039f"
            ],
            [
             0.2222222222222222,
             "#7201a8"
            ],
            [
             0.3333333333333333,
             "#9c179e"
            ],
            [
             0.4444444444444444,
             "#bd3786"
            ],
            [
             0.5555555555555556,
             "#d8576b"
            ],
            [
             0.6666666666666666,
             "#ed7953"
            ],
            [
             0.7777777777777778,
             "#fb9f3a"
            ],
            [
             0.8888888888888888,
             "#fdca26"
            ],
            [
             1,
             "#f0f921"
            ]
           ],
           "sequentialminus": [
            [
             0,
             "#0d0887"
            ],
            [
             0.1111111111111111,
             "#46039f"
            ],
            [
             0.2222222222222222,
             "#7201a8"
            ],
            [
             0.3333333333333333,
             "#9c179e"
            ],
            [
             0.4444444444444444,
             "#bd3786"
            ],
            [
             0.5555555555555556,
             "#d8576b"
            ],
            [
             0.6666666666666666,
             "#ed7953"
            ],
            [
             0.7777777777777778,
             "#fb9f3a"
            ],
            [
             0.8888888888888888,
             "#fdca26"
            ],
            [
             1,
             "#f0f921"
            ]
           ]
          },
          "colorway": [
           "#636efa",
           "#EF553B",
           "#00cc96",
           "#ab63fa",
           "#FFA15A",
           "#19d3f3",
           "#FF6692",
           "#B6E880",
           "#FF97FF",
           "#FECB52"
          ],
          "font": {
           "color": "#2a3f5f"
          },
          "geo": {
           "bgcolor": "white",
           "lakecolor": "white",
           "landcolor": "#E5ECF6",
           "showlakes": true,
           "showland": true,
           "subunitcolor": "white"
          },
          "hoverlabel": {
           "align": "left"
          },
          "hovermode": "closest",
          "mapbox": {
           "style": "light"
          },
          "paper_bgcolor": "white",
          "plot_bgcolor": "#E5ECF6",
          "polar": {
           "angularaxis": {
            "gridcolor": "white",
            "linecolor": "white",
            "ticks": ""
           },
           "bgcolor": "#E5ECF6",
           "radialaxis": {
            "gridcolor": "white",
            "linecolor": "white",
            "ticks": ""
           }
          },
          "scene": {
           "xaxis": {
            "backgroundcolor": "#E5ECF6",
            "gridcolor": "white",
            "gridwidth": 2,
            "linecolor": "white",
            "showbackground": true,
            "ticks": "",
            "zerolinecolor": "white"
           },
           "yaxis": {
            "backgroundcolor": "#E5ECF6",
            "gridcolor": "white",
            "gridwidth": 2,
            "linecolor": "white",
            "showbackground": true,
            "ticks": "",
            "zerolinecolor": "white"
           },
           "zaxis": {
            "backgroundcolor": "#E5ECF6",
            "gridcolor": "white",
            "gridwidth": 2,
            "linecolor": "white",
            "showbackground": true,
            "ticks": "",
            "zerolinecolor": "white"
           }
          },
          "shapedefaults": {
           "line": {
            "color": "#2a3f5f"
           }
          },
          "ternary": {
           "aaxis": {
            "gridcolor": "white",
            "linecolor": "white",
            "ticks": ""
           },
           "baxis": {
            "gridcolor": "white",
            "linecolor": "white",
            "ticks": ""
           },
           "bgcolor": "#E5ECF6",
           "caxis": {
            "gridcolor": "white",
            "linecolor": "white",
            "ticks": ""
           }
          },
          "title": {
           "x": 0.05
          },
          "xaxis": {
           "automargin": true,
           "gridcolor": "white",
           "linecolor": "white",
           "ticks": "",
           "title": {
            "standoff": 15
           },
           "zerolinecolor": "white",
           "zerolinewidth": 2
          },
          "yaxis": {
           "automargin": true,
           "gridcolor": "white",
           "linecolor": "white",
           "ticks": "",
           "title": {
            "standoff": 15
           },
           "zerolinecolor": "white",
           "zerolinewidth": 2
          }
         }
        },
        "title": {
         "text": "Trends Over Time: Housing Prices, Interest Rates, Population, and Income (2005-2022)"
        },
        "xaxis": {
         "title": {
          "text": "Year"
         }
        },
        "yaxis": {
         "title": {
          "text": "Values"
         }
        }
       }
      }
     },
     "metadata": {},
     "output_type": "display_data"
    }
   ],
   "source": [
    "import plotly.graph_objects as go\n",
    "\n",
    "# Ensure data is filtered to 2005 and onwards\n",
    "merged_data = merged_data[merged_data.index >= '2005-01-01']\n",
    "\n",
    "# Filter data up to 2022 for the Median Income trace\n",
    "income_data_up_to_2022 = merged_data[merged_data.index <= '2022-12-31']\n",
    "\n",
    "# Create the line chart\n",
    "fig = go.Figure()\n",
    "\n",
    "# Add a trace for Median House Price\n",
    "fig.add_trace(go.Scatter(x=merged_data.index, y=merged_data['Median_House_Price'],\n",
    "                         mode='lines', name='Median House Price'))\n",
    "\n",
    "# Add a trace for Interest Rate\n",
    "fig.add_trace(go.Scatter(x=merged_data.index, y=merged_data['Interest_Rate'],\n",
    "                         mode='lines', name='Interest Rate'))\n",
    "\n",
    "# Add a trace for Calgary Population\n",
    "fig.add_trace(go.Scatter(x=merged_data.index, y=merged_data['Calgary_Population'],\n",
    "                         mode='lines', name='Calgary Population'))\n",
    "\n",
    "# Add a trace for Median Income only up to 2022\n",
    "fig.add_trace(go.Scatter(x=income_data_up_to_2022.index, y=income_data_up_to_2022['Median_Income'],\n",
    "                         mode='lines', name='Median Income (2005-2022) (Adjusted For Inflation)',\n",
    "                         line=dict(dash='dash')))  # Dashed line to indicate partial data\n",
    "\n",
    "# Customize the layout\n",
    "fig.update_layout(\n",
    "    title='Trends Over Time: Housing Prices, Interest Rates, Population, and Income (2005-2022)',\n",
    "    xaxis_title='Year',\n",
    "    yaxis_title='Values',\n",
    "    hovermode='x unified'  # Shows a unified tooltip for all lines at the same time\n",
    ")\n",
    "\n",
    "# Show the chart\n",
    "fig.show()\n",
    "\n",
    "fig.write_html(\"trends.html\")\n"
   ]
  }
 ],
 "metadata": {
  "kernelspec": {
   "display_name": "Python 3.12.4 64-bit",
   "language": "python",
   "name": "python3"
  },
  "language_info": {
   "codemirror_mode": {
    "name": "ipython",
    "version": 3
   },
   "file_extension": ".py",
   "mimetype": "text/x-python",
   "name": "python",
   "nbconvert_exporter": "python",
   "pygments_lexer": "ipython3",
   "version": "3.12.4"
  },
  "orig_nbformat": 4,
  "vscode": {
   "interpreter": {
    "hash": "aee8b7b246df8f9039afb4144a1f6fd8d2ca17a180786b69acc140d282b71a49"
   }
  }
 },
 "nbformat": 4,
 "nbformat_minor": 2
}
